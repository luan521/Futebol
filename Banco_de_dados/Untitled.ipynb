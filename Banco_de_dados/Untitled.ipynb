{
 "cells": [
  {
   "cell_type": "markdown",
   "metadata": {},
   "source": [
    "**inicializar_campeonato**"
   ]
  },
  {
   "cell_type": "code",
   "execution_count": 1,
   "metadata": {},
   "outputs": [],
   "source": [
    "from BancoDeDados import inicializar_campeonato"
   ]
  },
  {
   "cell_type": "code",
   "execution_count": 2,
   "metadata": {},
   "outputs": [
    {
     "name": "stdout",
     "output_type": "stream",
     "text": [
      "Os jogos_ids do campeonato, são crescentes ou decrescentes? decrescente\n"
     ]
    }
   ],
   "source": [
    "caminho =  'campeonatos/'\n",
    "nome_campeonato = 'premier_league_2018_19'\n",
    "jogo_id_inicial = '513839'\n",
    "rodada_inicial = 1\n",
    "quantidade_jogos_rodada = 10\n",
    "\n",
    "inicializar_campeonato(caminho, nome_campeonato, jogo_id_inicial, rodada_inicial, quantidade_jogos_rodada)"
   ]
  },
  {
   "cell_type": "markdown",
   "metadata": {},
   "source": [
    "Na célula acima, inicializamos o campeonato da Premier League temporada 2018/19 (nome_campeonato = 'premier_league_2018_19'), com o jogo inicial no link: https://www.espn.com.br/futebol/partida?jogoId=513839 (jogo_id_inicial = '513839'). O campeonato foi salvo na pasta campeonatos (caminho =  'campeonatos/'). O campeonato possui 20 times, e portanto ocorrem 10 jogos por rodada (quantidade_jogos_rodada = 20), e foi inicializado na primeira rodada (rodada_inicial = 1)."
   ]
  },
  {
   "cell_type": "markdown",
   "metadata": {},
   "source": [
    "**atualizar_campeonato**"
   ]
  },
  {
   "cell_type": "code",
   "execution_count": 3,
   "metadata": {},
   "outputs": [],
   "source": [
    "from BancoDeDados import atualizar_campeonato"
   ]
  },
  {
   "cell_type": "code",
   "execution_count": 4,
   "metadata": {},
   "outputs": [
    {
     "name": "stdout",
     "output_type": "stream",
     "text": [
      "Digite a quantidade de rodadas que deseja lançar: 2\n",
      "\n",
      "Data do próximo jogo, a ser atualizado:  [18, 8, 2018] \n",
      "\n",
      "RODADA LANÇADA\n",
      " [{'rodada': 1, 'jogos': [{'times': ('Liverpool', 'West Ham United'), 'jogo_id': '513839', 'data': [12, 8, 2018]}, {'times': ('Newcastle United', 'Tottenham Hotspur'), 'jogo_id': '513838', 'data': [11, 8, 2018]}, {'times': ('Arsenal', 'Manchester City'), 'jogo_id': '513837', 'data': [12, 8, 2018]}, {'times': ('Manchester United', 'Leicester City'), 'jogo_id': '513836', 'data': [10, 8, 2018]}, {'times': ('Wolverhampton Wanderers', 'Everton'), 'jogo_id': '513835', 'data': [11, 8, 2018]}, {'times': ('Fulham', 'Crystal Palace'), 'jogo_id': '513834', 'data': [11, 8, 2018]}, {'times': ('Huddersfield Town', 'Chelsea'), 'jogo_id': '513833', 'data': [11, 8, 2018]}, {'times': ('AFC Bournemouth', 'Cardiff City'), 'jogo_id': '513832', 'data': [11, 8, 2018]}, {'times': ('Southampton', 'Burnley'), 'jogo_id': '513831', 'data': [12, 8, 2018]}, {'times': ('Watford', 'Brighton &amp; Hove Albion'), 'jogo_id': '513830', 'data': [11, 8, 2018]}]}]\n",
      "\n",
      "Data do próximo jogo, a ser atualizado:  [25, 8, 2018] \n",
      "\n",
      "RODADA LANÇADA\n",
      " [{'rodada': 2, 'jogos': [{'times': ('Leicester City', 'Wolverhampton Wanderers'), 'jogo_id': '513829', 'data': [18, 8, 2018]}, {'times': ('Burnley', 'Watford'), 'jogo_id': '513828', 'data': [19, 8, 2018]}, {'times': ('Everton', 'Southampton'), 'jogo_id': '513827', 'data': [18, 8, 2018]}, {'times': ('Cardiff City', 'Newcastle United'), 'jogo_id': '513826', 'data': [18, 8, 2018]}, {'times': ('Brighton &amp; Hove Albion', 'Manchester United'), 'jogo_id': '513825', 'data': [19, 8, 2018]}, {'times': ('Crystal Palace', 'Liverpool'), 'jogo_id': '513824', 'data': [20, 8, 2018]}, {'times': ('Manchester City', 'Huddersfield Town'), 'jogo_id': '513823', 'data': [19, 8, 2018]}, {'times': ('Tottenham Hotspur', 'Fulham'), 'jogo_id': '513822', 'data': [18, 8, 2018]}, {'times': ('West Ham United', 'AFC Bournemouth'), 'jogo_id': '513821', 'data': [18, 8, 2018]}, {'times': ('Chelsea', 'Arsenal'), 'jogo_id': '513820', 'data': [18, 8, 2018]}]}]\n"
     ]
    }
   ],
   "source": [
    "caminho =  'campeonatos/'\n",
    "nome_campeonato = 'premier_league_2018_19'\n",
    "\n",
    "atualizar_campeonato(caminho, nome_campeonato) "
   ]
  },
  {
   "cell_type": "markdown",
   "metadata": {},
   "source": [
    "Na célula acima, atualizamos o campeonato da o campeonato da Premier League temporada 2018/19 (nome_campeonato = 'premier_league_2018_19'), salvo na pasta campeonatos (caminho = 'campeonatos/'). duas rodadas foram lançadas, rodada 1 e rodada 2."
   ]
  },
  {
   "cell_type": "markdown",
   "metadata": {},
   "source": [
    "**decodificar_campeonato / times_rodadas / times_datas**"
   ]
  },
  {
   "cell_type": "code",
   "execution_count": 5,
   "metadata": {},
   "outputs": [],
   "source": [
    "from BancoDeDados import decodificar_campeonato\n",
    "from BancoDeDados import times_rodadas\n",
    "from BancoDeDados import times_datas"
   ]
  },
  {
   "cell_type": "code",
   "execution_count": 6,
   "metadata": {},
   "outputs": [],
   "source": [
    "caminho =  'campeonatos/' \n",
    "nome_campeonato = 'premier_league_2018_19'\n",
    "\n",
    "e1 = decodificar_campeonato(nome_campeonato, caminho) \n",
    "e2 = times_rodadas(e1[0]) \n",
    "e3 = times_datas(e2) "
   ]
  },
  {
   "cell_type": "code",
   "execution_count": 7,
   "metadata": {},
   "outputs": [
    {
     "data": {
      "text/html": [
       "<div>\n",
       "<style scoped>\n",
       "    .dataframe tbody tr th:only-of-type {\n",
       "        vertical-align: middle;\n",
       "    }\n",
       "\n",
       "    .dataframe tbody tr th {\n",
       "        vertical-align: top;\n",
       "    }\n",
       "\n",
       "    .dataframe thead th {\n",
       "        text-align: right;\n",
       "    }\n",
       "</style>\n",
       "<table border=\"1\" class=\"dataframe\">\n",
       "  <thead>\n",
       "    <tr style=\"text-align: right;\">\n",
       "      <th></th>\n",
       "      <th>rodada1</th>\n",
       "      <th>rodada2</th>\n",
       "      <th>rodada3</th>\n",
       "    </tr>\n",
       "  </thead>\n",
       "  <tbody>\n",
       "    <tr>\n",
       "      <th>0</th>\n",
       "      <td>&lt;RequisiçãoESPN.RequisiçãoFutbeol object at 0x...</td>\n",
       "      <td>&lt;RequisiçãoESPN.RequisiçãoFutbeol object at 0x...</td>\n",
       "      <td>None</td>\n",
       "    </tr>\n",
       "    <tr>\n",
       "      <th>1</th>\n",
       "      <td>&lt;RequisiçãoESPN.RequisiçãoFutbeol object at 0x...</td>\n",
       "      <td>&lt;RequisiçãoESPN.RequisiçãoFutbeol object at 0x...</td>\n",
       "      <td>None</td>\n",
       "    </tr>\n",
       "    <tr>\n",
       "      <th>2</th>\n",
       "      <td>&lt;RequisiçãoESPN.RequisiçãoFutbeol object at 0x...</td>\n",
       "      <td>&lt;RequisiçãoESPN.RequisiçãoFutbeol object at 0x...</td>\n",
       "      <td>None</td>\n",
       "    </tr>\n",
       "    <tr>\n",
       "      <th>3</th>\n",
       "      <td>&lt;RequisiçãoESPN.RequisiçãoFutbeol object at 0x...</td>\n",
       "      <td>&lt;RequisiçãoESPN.RequisiçãoFutbeol object at 0x...</td>\n",
       "      <td>None</td>\n",
       "    </tr>\n",
       "    <tr>\n",
       "      <th>4</th>\n",
       "      <td>&lt;RequisiçãoESPN.RequisiçãoFutbeol object at 0x...</td>\n",
       "      <td>&lt;RequisiçãoESPN.RequisiçãoFutbeol object at 0x...</td>\n",
       "      <td>None</td>\n",
       "    </tr>\n",
       "    <tr>\n",
       "      <th>5</th>\n",
       "      <td>&lt;RequisiçãoESPN.RequisiçãoFutbeol object at 0x...</td>\n",
       "      <td>&lt;RequisiçãoESPN.RequisiçãoFutbeol object at 0x...</td>\n",
       "      <td>None</td>\n",
       "    </tr>\n",
       "    <tr>\n",
       "      <th>6</th>\n",
       "      <td>&lt;RequisiçãoESPN.RequisiçãoFutbeol object at 0x...</td>\n",
       "      <td>&lt;RequisiçãoESPN.RequisiçãoFutbeol object at 0x...</td>\n",
       "      <td>None</td>\n",
       "    </tr>\n",
       "    <tr>\n",
       "      <th>7</th>\n",
       "      <td>&lt;RequisiçãoESPN.RequisiçãoFutbeol object at 0x...</td>\n",
       "      <td>&lt;RequisiçãoESPN.RequisiçãoFutbeol object at 0x...</td>\n",
       "      <td>None</td>\n",
       "    </tr>\n",
       "    <tr>\n",
       "      <th>8</th>\n",
       "      <td>&lt;RequisiçãoESPN.RequisiçãoFutbeol object at 0x...</td>\n",
       "      <td>&lt;RequisiçãoESPN.RequisiçãoFutbeol object at 0x...</td>\n",
       "      <td>None</td>\n",
       "    </tr>\n",
       "    <tr>\n",
       "      <th>9</th>\n",
       "      <td>&lt;RequisiçãoESPN.RequisiçãoFutbeol object at 0x...</td>\n",
       "      <td>&lt;RequisiçãoESPN.RequisiçãoFutbeol object at 0x...</td>\n",
       "      <td>None</td>\n",
       "    </tr>\n",
       "  </tbody>\n",
       "</table>\n",
       "</div>"
      ],
      "text/plain": [
       "                                             rodada1  \\\n",
       "0  <RequisiçãoESPN.RequisiçãoFutbeol object at 0x...   \n",
       "1  <RequisiçãoESPN.RequisiçãoFutbeol object at 0x...   \n",
       "2  <RequisiçãoESPN.RequisiçãoFutbeol object at 0x...   \n",
       "3  <RequisiçãoESPN.RequisiçãoFutbeol object at 0x...   \n",
       "4  <RequisiçãoESPN.RequisiçãoFutbeol object at 0x...   \n",
       "5  <RequisiçãoESPN.RequisiçãoFutbeol object at 0x...   \n",
       "6  <RequisiçãoESPN.RequisiçãoFutbeol object at 0x...   \n",
       "7  <RequisiçãoESPN.RequisiçãoFutbeol object at 0x...   \n",
       "8  <RequisiçãoESPN.RequisiçãoFutbeol object at 0x...   \n",
       "9  <RequisiçãoESPN.RequisiçãoFutbeol object at 0x...   \n",
       "\n",
       "                                             rodada2 rodada3  \n",
       "0  <RequisiçãoESPN.RequisiçãoFutbeol object at 0x...    None  \n",
       "1  <RequisiçãoESPN.RequisiçãoFutbeol object at 0x...    None  \n",
       "2  <RequisiçãoESPN.RequisiçãoFutbeol object at 0x...    None  \n",
       "3  <RequisiçãoESPN.RequisiçãoFutbeol object at 0x...    None  \n",
       "4  <RequisiçãoESPN.RequisiçãoFutbeol object at 0x...    None  \n",
       "5  <RequisiçãoESPN.RequisiçãoFutbeol object at 0x...    None  \n",
       "6  <RequisiçãoESPN.RequisiçãoFutbeol object at 0x...    None  \n",
       "7  <RequisiçãoESPN.RequisiçãoFutbeol object at 0x...    None  \n",
       "8  <RequisiçãoESPN.RequisiçãoFutbeol object at 0x...    None  \n",
       "9  <RequisiçãoESPN.RequisiçãoFutbeol object at 0x...    None  "
      ]
     },
     "execution_count": 7,
     "metadata": {},
     "output_type": "execute_result"
    }
   ],
   "source": [
    "e1[0] # Rodadas lançadas."
   ]
  },
  {
   "cell_type": "code",
   "execution_count": 8,
   "metadata": {},
   "outputs": [
    {
     "data": {
      "text/plain": [
       "[{'quantidade_partidas_rodada': 10,\n",
       "  'jogos_ids_cresc_dec': 'decrescente',\n",
       "  'rodada': 1,\n",
       "  'rodada_lançada': True,\n",
       "  'data_próximo_jogo': None,\n",
       "  'jogos': []},\n",
       " {'rodada': 2, 'rodada_lançada': True, 'data_próximo_jogo': None, 'jogos': []},\n",
       " {'rodada': 3,\n",
       "  'rodada_lançada': False,\n",
       "  'data_próximo_jogo': [25, 8, 2018],\n",
       "  'jogos': [{'times': ('Arsenal', 'West Ham United'),\n",
       "    'jogo_id': '513819',\n",
       "    'data': [25, 8, 2018]},\n",
       "   {'times': ('Manchester United', 'Tottenham Hotspur'),\n",
       "    'jogo_id': '513818',\n",
       "    'data': [27, 8, 2018]},\n",
       "   {'times': ('Wolverhampton Wanderers', 'Manchester City'),\n",
       "    'jogo_id': '513817',\n",
       "    'data': [25, 8, 2018]},\n",
       "   {'times': ('Southampton', 'Leicester City'),\n",
       "    'jogo_id': '513816',\n",
       "    'data': [25, 8, 2018]},\n",
       "   {'times': ('AFC Bournemouth', 'Everton'),\n",
       "    'jogo_id': '513815',\n",
       "    'data': [25, 8, 2018]},\n",
       "   {'times': ('Watford', 'Crystal Palace'),\n",
       "    'jogo_id': '513814',\n",
       "    'data': [26, 8, 2018]},\n",
       "   {'times': ('Newcastle United', 'Chelsea'),\n",
       "    'jogo_id': '513813',\n",
       "    'data': [26, 8, 2018]},\n",
       "   {'times': ('Huddersfield Town', 'Cardiff City'),\n",
       "    'jogo_id': '513812',\n",
       "    'data': [25, 8, 2018]},\n",
       "   {'times': ('Fulham', 'Burnley'),\n",
       "    'jogo_id': '513811',\n",
       "    'data': [26, 8, 2018]},\n",
       "   {'times': ('Liverpool', 'Brighton &amp; Hove Albion'),\n",
       "    'jogo_id': '513810',\n",
       "    'data': [25, 8, 2018]}]}]"
      ]
     },
     "execution_count": 8,
     "metadata": {},
     "output_type": "execute_result"
    }
   ],
   "source": [
    "e1[1] # Informações do campeonato: Partidas que ja foram lançadas, data do próximo jogo à ser lançado, próximos jogos à serem lançados."
   ]
  },
  {
   "cell_type": "code",
   "execution_count": 9,
   "metadata": {},
   "outputs": [
    {
     "data": {
      "text/plain": [
       "{'Liverpool': {'casa': [<RequisiçãoESPN.RequisiçãoFutbeol at 0x2624bf287c8>],\n",
       "  'visitante': [<RequisiçãoESPN.RequisiçãoFutbeol at 0x2624cfaf4c8>]},\n",
       " 'West Ham United': {'casa': [<RequisiçãoESPN.RequisiçãoFutbeol at 0x2624ac72208>],\n",
       "  'visitante': [<RequisiçãoESPN.RequisiçãoFutbeol at 0x2624bf287c8>]},\n",
       " 'Newcastle United': {'casa': [<RequisiçãoESPN.RequisiçãoFutbeol at 0x2624bf28548>],\n",
       "  'visitante': [<RequisiçãoESPN.RequisiçãoFutbeol at 0x2624b94aa88>]},\n",
       " 'Tottenham Hotspur': {'casa': [<RequisiçãoESPN.RequisiçãoFutbeol at 0x2624b5a9f08>],\n",
       "  'visitante': [<RequisiçãoESPN.RequisiçãoFutbeol at 0x2624bf28548>]},\n",
       " 'Arsenal': {'casa': [<RequisiçãoESPN.RequisiçãoFutbeol at 0x2624ae94088>],\n",
       "  'visitante': [<RequisiçãoESPN.RequisiçãoFutbeol at 0x2624cfaf508>]},\n",
       " 'Manchester City': {'casa': [<RequisiçãoESPN.RequisiçãoFutbeol at 0x2624b39ad48>],\n",
       "  'visitante': [<RequisiçãoESPN.RequisiçãoFutbeol at 0x2624ae94088>]},\n",
       " 'Manchester United': {'casa': [<RequisiçãoESPN.RequisiçãoFutbeol at 0x2624ae946c8>],\n",
       "  'visitante': [<RequisiçãoESPN.RequisiçãoFutbeol at 0x2624bafb808>]},\n",
       " 'Leicester City': {'casa': [<RequisiçãoESPN.RequisiçãoFutbeol at 0x2624ae94588>],\n",
       "  'visitante': [<RequisiçãoESPN.RequisiçãoFutbeol at 0x2624ae946c8>]},\n",
       " 'Wolverhampton Wanderers': {'casa': [<RequisiçãoESPN.RequisiçãoFutbeol at 0x2624aee0a48>],\n",
       "  'visitante': [<RequisiçãoESPN.RequisiçãoFutbeol at 0x2624ae94588>]},\n",
       " 'Everton': {'casa': [<RequisiçãoESPN.RequisiçãoFutbeol at 0x2624b69a7c8>],\n",
       "  'visitante': [<RequisiçãoESPN.RequisiçãoFutbeol at 0x2624aee0a48>]},\n",
       " 'Fulham': {'casa': [<RequisiçãoESPN.RequisiçãoFutbeol at 0x26248494408>],\n",
       "  'visitante': [<RequisiçãoESPN.RequisiçãoFutbeol at 0x2624b5a9f08>]},\n",
       " 'Crystal Palace': {'casa': [<RequisiçãoESPN.RequisiçãoFutbeol at 0x2624cfaf4c8>],\n",
       "  'visitante': [<RequisiçãoESPN.RequisiçãoFutbeol at 0x26248494408>]},\n",
       " 'Huddersfield Town': {'casa': [<RequisiçãoESPN.RequisiçãoFutbeol at 0x2624bf32e48>],\n",
       "  'visitante': [<RequisiçãoESPN.RequisiçãoFutbeol at 0x2624b39ad48>]},\n",
       " 'Chelsea': {'casa': [<RequisiçãoESPN.RequisiçãoFutbeol at 0x2624cfaf508>],\n",
       "  'visitante': [<RequisiçãoESPN.RequisiçãoFutbeol at 0x2624bf32e48>]},\n",
       " 'AFC Bournemouth': {'casa': [<RequisiçãoESPN.RequisiçãoFutbeol at 0x2624bf32f48>],\n",
       "  'visitante': [<RequisiçãoESPN.RequisiçãoFutbeol at 0x2624ac72208>]},\n",
       " 'Cardiff City': {'casa': [<RequisiçãoESPN.RequisiçãoFutbeol at 0x2624b94aa88>],\n",
       "  'visitante': [<RequisiçãoESPN.RequisiçãoFutbeol at 0x2624bf32f48>]},\n",
       " 'Southampton': {'casa': [<RequisiçãoESPN.RequisiçãoFutbeol at 0x2624ba5b708>],\n",
       "  'visitante': [<RequisiçãoESPN.RequisiçãoFutbeol at 0x2624b69a7c8>]},\n",
       " 'Burnley': {'casa': [<RequisiçãoESPN.RequisiçãoFutbeol at 0x2624ac2c608>],\n",
       "  'visitante': [<RequisiçãoESPN.RequisiçãoFutbeol at 0x2624ba5b708>]},\n",
       " 'Watford': {'casa': [<RequisiçãoESPN.RequisiçãoFutbeol at 0x2624bef9488>],\n",
       "  'visitante': [<RequisiçãoESPN.RequisiçãoFutbeol at 0x2624ac2c608>]},\n",
       " 'Brighton &amp; Hove Albion': {'casa': [<RequisiçãoESPN.RequisiçãoFutbeol at 0x2624bafb808>],\n",
       "  'visitante': [<RequisiçãoESPN.RequisiçãoFutbeol at 0x2624bef9488>]}}"
      ]
     },
     "execution_count": 9,
     "metadata": {},
     "output_type": "execute_result"
    }
   ],
   "source": [
    "e2 # Jogos de cada time, ordenados por rodada."
   ]
  },
  {
   "cell_type": "code",
   "execution_count": 10,
   "metadata": {},
   "outputs": [
    {
     "data": {
      "text/plain": [
       "{'Liverpool': {'casa': [<RequisiçãoESPN.RequisiçãoFutbeol at 0x2624bf287c8>],\n",
       "  'visitante': [<RequisiçãoESPN.RequisiçãoFutbeol at 0x2624cfaf4c8>]},\n",
       " 'West Ham United': {'casa': [<RequisiçãoESPN.RequisiçãoFutbeol at 0x2624ac72208>],\n",
       "  'visitante': [<RequisiçãoESPN.RequisiçãoFutbeol at 0x2624bf287c8>]},\n",
       " 'Newcastle United': {'casa': [<RequisiçãoESPN.RequisiçãoFutbeol at 0x2624bf28548>],\n",
       "  'visitante': [<RequisiçãoESPN.RequisiçãoFutbeol at 0x2624b94aa88>]},\n",
       " 'Tottenham Hotspur': {'casa': [<RequisiçãoESPN.RequisiçãoFutbeol at 0x2624b5a9f08>],\n",
       "  'visitante': [<RequisiçãoESPN.RequisiçãoFutbeol at 0x2624bf28548>]},\n",
       " 'Arsenal': {'casa': [<RequisiçãoESPN.RequisiçãoFutbeol at 0x2624ae94088>],\n",
       "  'visitante': [<RequisiçãoESPN.RequisiçãoFutbeol at 0x2624cfaf508>]},\n",
       " 'Manchester City': {'casa': [<RequisiçãoESPN.RequisiçãoFutbeol at 0x2624b39ad48>],\n",
       "  'visitante': [<RequisiçãoESPN.RequisiçãoFutbeol at 0x2624ae94088>]},\n",
       " 'Manchester United': {'casa': [<RequisiçãoESPN.RequisiçãoFutbeol at 0x2624ae946c8>],\n",
       "  'visitante': [<RequisiçãoESPN.RequisiçãoFutbeol at 0x2624bafb808>]},\n",
       " 'Leicester City': {'casa': [<RequisiçãoESPN.RequisiçãoFutbeol at 0x2624ae94588>],\n",
       "  'visitante': [<RequisiçãoESPN.RequisiçãoFutbeol at 0x2624ae946c8>]},\n",
       " 'Wolverhampton Wanderers': {'casa': [<RequisiçãoESPN.RequisiçãoFutbeol at 0x2624aee0a48>],\n",
       "  'visitante': [<RequisiçãoESPN.RequisiçãoFutbeol at 0x2624ae94588>]},\n",
       " 'Everton': {'casa': [<RequisiçãoESPN.RequisiçãoFutbeol at 0x2624b69a7c8>],\n",
       "  'visitante': [<RequisiçãoESPN.RequisiçãoFutbeol at 0x2624aee0a48>]},\n",
       " 'Fulham': {'casa': [<RequisiçãoESPN.RequisiçãoFutbeol at 0x26248494408>],\n",
       "  'visitante': [<RequisiçãoESPN.RequisiçãoFutbeol at 0x2624b5a9f08>]},\n",
       " 'Crystal Palace': {'casa': [<RequisiçãoESPN.RequisiçãoFutbeol at 0x2624cfaf4c8>],\n",
       "  'visitante': [<RequisiçãoESPN.RequisiçãoFutbeol at 0x26248494408>]},\n",
       " 'Huddersfield Town': {'casa': [<RequisiçãoESPN.RequisiçãoFutbeol at 0x2624bf32e48>],\n",
       "  'visitante': [<RequisiçãoESPN.RequisiçãoFutbeol at 0x2624b39ad48>]},\n",
       " 'Chelsea': {'casa': [<RequisiçãoESPN.RequisiçãoFutbeol at 0x2624cfaf508>],\n",
       "  'visitante': [<RequisiçãoESPN.RequisiçãoFutbeol at 0x2624bf32e48>]},\n",
       " 'AFC Bournemouth': {'casa': [<RequisiçãoESPN.RequisiçãoFutbeol at 0x2624bf32f48>],\n",
       "  'visitante': [<RequisiçãoESPN.RequisiçãoFutbeol at 0x2624ac72208>]},\n",
       " 'Cardiff City': {'casa': [<RequisiçãoESPN.RequisiçãoFutbeol at 0x2624b94aa88>],\n",
       "  'visitante': [<RequisiçãoESPN.RequisiçãoFutbeol at 0x2624bf32f48>]},\n",
       " 'Southampton': {'casa': [<RequisiçãoESPN.RequisiçãoFutbeol at 0x2624ba5b708>],\n",
       "  'visitante': [<RequisiçãoESPN.RequisiçãoFutbeol at 0x2624b69a7c8>]},\n",
       " 'Burnley': {'casa': [<RequisiçãoESPN.RequisiçãoFutbeol at 0x2624ac2c608>],\n",
       "  'visitante': [<RequisiçãoESPN.RequisiçãoFutbeol at 0x2624ba5b708>]},\n",
       " 'Watford': {'casa': [<RequisiçãoESPN.RequisiçãoFutbeol at 0x2624bef9488>],\n",
       "  'visitante': [<RequisiçãoESPN.RequisiçãoFutbeol at 0x2624ac2c608>]},\n",
       " 'Brighton &amp; Hove Albion': {'casa': [<RequisiçãoESPN.RequisiçãoFutbeol at 0x2624bafb808>],\n",
       "  'visitante': [<RequisiçãoESPN.RequisiçãoFutbeol at 0x2624bef9488>]}}"
      ]
     },
     "execution_count": 10,
     "metadata": {},
     "output_type": "execute_result"
    }
   ],
   "source": [
    "e3 # Jogos de cada time, ordenados por data."
   ]
  }
 ],
 "metadata": {
  "kernelspec": {
   "display_name": "Python [conda env:py3-TF2.0]",
   "language": "python",
   "name": "conda-env-py3-TF2.0-py"
  },
  "language_info": {
   "codemirror_mode": {
    "name": "ipython",
    "version": 3
   },
   "file_extension": ".py",
   "mimetype": "text/x-python",
   "name": "python",
   "nbconvert_exporter": "python",
   "pygments_lexer": "ipython3",
   "version": "3.7.7"
  }
 },
 "nbformat": 4,
 "nbformat_minor": 4
}
