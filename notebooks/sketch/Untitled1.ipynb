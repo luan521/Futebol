{
 "cells": [
  {
   "cell_type": "code",
   "execution_count": 1,
   "id": "3166e9f7-cf2f-42e3-ae11-b30077afa842",
   "metadata": {},
   "outputs": [],
   "source": [
    "import sys\n",
    "sys.path.append('/home/luan/futebol/Futebol')"
   ]
  },
  {
   "cell_type": "code",
   "execution_count": 27,
   "id": "6c761cab-6994-433f-86cd-9d765056ff84",
   "metadata": {},
   "outputs": [],
   "source": [
    "import logging\n",
    "from cafu import WebdriverChrome\n",
    "class AtuacoesJogador(WebdriverChrome):\n",
    "    \"\"\"\n",
    "    Extrai informações das cinco últimas partidas do jogador\n",
    "    \n",
    "    Args:\n",
    "        id_jogador: (str) completa o link https://www.espn.com.br/futebol/jogador/_/id/<id_jogador>. \n",
    "                          Ex <id_jogador>='199017/everton-ribeiro'\n",
    "        headless: (bool) se o navegador será mostrado ou não\n",
    "    \"\"\"\n",
    "    \n",
    "    def __init__(self, id_jogador, headless=True):\n",
    "        super().__init__(headless=headless)\n",
    "        self.get_atuacoes_jogador(id_jogador)\n",
    "\n",
    "    def _x_path(self, pos_v, pos_h, section=2):\n",
    "        \"\"\"\n",
    "        Método interno da classe.\n",
    "        Define o xpath do método find_element_by_xpath da biblioteca selenium, para a busca de uma informação em um jogo\n",
    "        \n",
    "        .. figure:: ../../../imagens_doc/ult_5_jogos.png\n",
    "        \n",
    "        Args:\n",
    "            pos_v: (int) posição horizontal da informação na tabela, referente a coluna (1-time, 2-data, ....)\n",
    "            pos_h: (int) posição vertical da informação na tabela, referente ao jogo (1-último, 2-penultimo, ...)\n",
    "        Returns:\n",
    "            str: xpath \n",
    "        \"\"\"\n",
    "        \n",
    "        response = (f'//*[@id=\"fittPageContainer\"]/div[2]/div[5]/div/div/div[1]/div/div[2]/'\n",
    "                    f'div[2]/div/div/div/div/div[2]/table/tbody/tr[{pos_h}]/td[{pos_v}]')\n",
    "        return response \n",
    "    \n",
    "    def campeonato(self):\n",
    "        \"\"\"\n",
    "        Returns:\n",
    "            str: campeonato em que o jogador atua\n",
    "        \"\"\"\n",
    "        \n",
    "        xpath = '//*[@id=\"fittPageContainer\"]/div[2]/div[5]/div/div/div[1]/div/div[2]/div[1]'\n",
    "        try:\n",
    "            response = self.web.find_element_by_xpath(xpath).text\n",
    "        except Exception as err:\n",
    "            logging.error(f\"ERROR queries.jogador.AtuacoesJogador.campeonato: Unexpected error: \"\n",
    "                          f\"Could not execute function. <jogo>={jogo}\")\n",
    "            logging.error(err)\n",
    "\n",
    "            return\n",
    "            \n",
    "        logging.info(f\"SUCCESS queries.jogador.AtuacoesJogador.campeonato: Function executed successfully. <jogo>={jogo}\")\n",
    "        \n",
    "        return response\n",
    "    \n",
    "    def date(self, jogo):\n",
    "        \"\"\"\n",
    "        Args:\n",
    "            jogo: (int) jogo (1-último, 2-penultimo, ...)\n",
    "        Returns:\n",
    "            str: data da partida \n",
    "        \"\"\"\n",
    "        \n",
    "        try:\n",
    "            response = self.web.find_element_by_xpath(self._x_path(1,jogo)).text\n",
    "        except Exception as err:\n",
    "            logging.error(f\"ERROR queries.jogador.AtuacoesJogador.date: Unexpected error: \"\n",
    "                          f\"Could not execute function. <jogo>={jogo}\")\n",
    "            logging.error(err)\n",
    "\n",
    "            return\n",
    "            \n",
    "        logging.info(f\"SUCCESS queries.jogador.AtuacoesJogador.date: Function executed successfully. <jogo>={jogo}\")\n",
    "        \n",
    "        return response\n",
    "    \n",
    "    def casa_fora(self, jogo):\n",
    "        \"\"\"\n",
    "        Args:\n",
    "            jogo: (int) jogo (1-último, 2-penultimo, ...)\n",
    "        Returns:\n",
    "            str: se o jogo foi em casa ou fora\n",
    "        \"\"\"\n",
    "        \n",
    "        try:\n",
    "            identificador = self.web.find_element_by_xpath(self._x_path(2,jogo)).text.split('\\n')[0]\n",
    "        except Exception as err:\n",
    "            logging.error(f\"ERROR queries.jogador.AtuacoesJogador.casa_fora: Unexpected error: \"\n",
    "                          f\"Could not execute function. <jogo>={jogo}\")\n",
    "            logging.error(err)    \n",
    "            return\n",
    "        \n",
    "        if identificador == 'x':\n",
    "            response = 'casa'\n",
    "        elif identificador == 'em':\n",
    "            response = 'fora'\n",
    "        else:\n",
    "            logging.error(f\"ERROR queries.jogador.AtuacoesJogador.casa_fora: Unexpected error: \"\n",
    "                          f\"identificador not in (x, em). <jogo>={jogo}\")  \n",
    "            return\n",
    "        \n",
    "        logging.info(f\"SUCCESS queries.jogador.AtuacoesJogador.casa_fora: Function executed successfully. <jogo>={jogo}\")\n",
    "        \n",
    "        return response\n",
    "    \n",
    "    def adversario(self, jogo):\n",
    "        \"\"\"\n",
    "        Args:\n",
    "            jogo: (int) jogo (1-último, 2-penultimo, ...)\n",
    "        Returns:\n",
    "            str: time adversário\n",
    "        \"\"\"\n",
    "        \n",
    "        try:\n",
    "            response = self.web.find_element_by_xpath(self._x_path(2,jogo)).text.split('\\n')[1]\n",
    "        except Exception as err:\n",
    "            logging.error(f\"ERROR queries.jogador.AtuacoesJogador.adversario: Unexpected error: \"\n",
    "                          f\"Could not execute function. <jogo>={jogo}\")\n",
    "            logging.error(err)\n",
    "\n",
    "            return\n",
    "            \n",
    "        logging.info(f\"SUCCESS queries.jogador.AtuacoesJogador.adversario: Function executed successfully. <jogo>={jogo}\")\n",
    "        \n",
    "        return response\n",
    "    \n",
    "    def resultado(self, jogo):\n",
    "        \"\"\"\n",
    "        Args:\n",
    "            jogo: (int) jogo (1-último, 2-penultimo, ...)\n",
    "        Returns:\n",
    "            dict: resultado (V, E, D), placar\n",
    "        \"\"\"\n",
    "        \n",
    "        try:\n",
    "            info = self.web.find_element_by_xpath(self._x_path(3,jogo)).text.split('\\n')\n",
    "        except Exception as err:\n",
    "            logging.error(f\"ERROR queries.jogador.AtuacoesJogador.resultado: Unexpected error: \"\n",
    "                          f\"Could not execute function. <jogo>={jogo}\")\n",
    "            logging.error(err)\n",
    "\n",
    "            return\n",
    "        \n",
    "        try:\n",
    "            response = {'resultado': info[0], 'placar':info[1]}\n",
    "            logging.info(f\"SUCCESS queries.jogador.AtuacoesJogador.resultado: Function executed successfully. <jogo>={jogo}\")\n",
    "            \n",
    "            return response\n",
    "        except:\n",
    "            logging.error(f\"ERROR queries.jogador.AtuacoesJogador.resultado: Unexpected error: split method. <jogo>={jogo}\")\n",
    "            \n",
    "            return\n",
    "    \n",
    "    def gols(self, jogo):\n",
    "        \"\"\"\n",
    "        Args:\n",
    "            jogo: (int) jogo (1-último, 2-penultimo, ...)\n",
    "        Returns:\n",
    "            int: quantidade de gols marcados pelo jogador\n",
    "        \"\"\"\n",
    "        \n",
    "        try:\n",
    "            response = int(self.web.find_element_by_xpath(self._x_path(4,jogo)).text)\n",
    "        except Exception as err:\n",
    "            logging.error(f\"ERROR queries.jogador.AtuacoesJogador.gols: Unexpected error: \"\n",
    "                          f\"Could not execute function. <jogo>={jogo}\")\n",
    "            logging.error(err)\n",
    "\n",
    "            return\n",
    "            \n",
    "        logging.info(f\"SUCCESS queries.jogador.AtuacoesJogador.gols: Function executed successfully. <jogo>={jogo}\")\n",
    "        \n",
    "        return response\n",
    "    \n",
    "    def assistencias(self, jogo):\n",
    "        \"\"\"\n",
    "        Args:\n",
    "            jogo: (int) jogo (1-último, 2-penultimo, ...)\n",
    "        Returns:\n",
    "            int: quantidade de assistências feitas pelo jogador\n",
    "        \"\"\"\n",
    "        \n",
    "        try:\n",
    "            response = int(self.web.find_element_by_xpath(self._x_path(5,jogo)).text)\n",
    "        except Exception as err:\n",
    "            logging.error(f\"ERROR queries.jogador.AtuacoesJogador.assistencias: Unexpected error: \"\n",
    "                          f\"Could not execute function. <jogo>={jogo}\")\n",
    "            logging.error(err)\n",
    "\n",
    "            return\n",
    "            \n",
    "        logging.info(f\"SUCCESS queries.jogador.AtuacoesJogador.assistencias: Function executed successfully. <jogo>={jogo}\")\n",
    "        \n",
    "        return response\n",
    "    \n",
    "    def finalizacoes(self, jogo):\n",
    "        \"\"\"\n",
    "        Args:\n",
    "            jogo: (int) jogo (1-último, 2-penultimo, ...)\n",
    "        Returns:\n",
    "            int: quantidade de finalizações feitas pelo jogador\n",
    "        \"\"\"\n",
    "        \n",
    "        try:\n",
    "            response = int(self.web.find_element_by_xpath(self._x_path(6,jogo)).text)\n",
    "        except Exception as err:\n",
    "            logging.error(f\"ERROR queries.jogador.AtuacoesJogador.finalizacoes: Unexpected error: \"\n",
    "                          f\"Could not execute function. <jogo>={jogo}\")\n",
    "            logging.error(err)\n",
    "\n",
    "            return\n",
    "            \n",
    "        logging.info(f\"SUCCESS queries.jogador.AtuacoesJogador.finalizacoes: Function executed successfully. <jogo>={jogo}\")\n",
    "        \n",
    "        return response\n",
    "        \n",
    "    def finalizacoes_no_gol(self, jogo):\n",
    "        \"\"\"\n",
    "        Args:\n",
    "            jogo: (int) jogo (1-último, 2-penultimo, ...)\n",
    "        Returns:\n",
    "            int: quantidade de finalizações no gol, feitas pelo jogador\n",
    "        \"\"\"\n",
    "        \n",
    "        try:\n",
    "            response = int(self.web.find_element_by_xpath(self._x_path(7,jogo)).text)\n",
    "        except Exception as err:\n",
    "            logging.error(f\"ERROR queries.jogador.AtuacoesJogador.finalizacoes_no_gol: \"\n",
    "                          f\"Unexpected error: Could not execute function. <jogo>={jogo}\")\n",
    "            logging.error(err)\n",
    "\n",
    "            return\n",
    "            \n",
    "        logging.info(f\"SUCCESS queries.jogador.AtuacoesJogador.finalizacoes_no_gol: Function executed successfully. <jogo>={jogo}\")\n",
    "        \n",
    "        return response\n",
    "    \n",
    "    def faltas_cometidas(self, jogo):\n",
    "        \"\"\"\n",
    "        Args:\n",
    "            jogo: (int) jogo (1-último, 2-penultimo, ...)\n",
    "        Returns:\n",
    "            int: quantidade de faltas cometidas pelo jogador\n",
    "        \"\"\"\n",
    "        \n",
    "        try:\n",
    "            response = int(self.web.find_element_by_xpath(self._x_path(8,jogo)).text)\n",
    "        except Exception as err:\n",
    "            logging.error(f\"ERROR queries.jogador.AtuacoesJogador.faltas_cometidas: \"\n",
    "                          f\"Unexpected error: Could not execute function. <jogo>={jogo}\")\n",
    "            logging.error(err)\n",
    "\n",
    "            return\n",
    "            \n",
    "        logging.info(f\"SUCCESS queries.jogador.AtuacoesJogador.faltas_cometidas: Function executed successfully. <jogo>={jogo}\")\n",
    "        \n",
    "        return response\n",
    "    \n",
    "    def faltas_sofridas(self, jogo):\n",
    "        \"\"\"\n",
    "        Args:\n",
    "            jogo: (int) jogo (1-último, 2-penultimo, ...)\n",
    "        Returns:\n",
    "            int: quantidade de faltas sofridas pelo jogador\n",
    "        \"\"\"\n",
    "        \n",
    "        try:\n",
    "            response = int(self.web.find_element_by_xpath(self._x_path(9,jogo)).text)\n",
    "        except Exception as err:\n",
    "            logging.error(f\"ERROR queries.jogador.AtuacoesJogador.faltas_sofridas: \"\n",
    "                          f\"Unexpected error: Could not execute function. <jogo>={jogo}\")\n",
    "            logging.error(err)\n",
    "\n",
    "            return\n",
    "            \n",
    "        logging.info(f\"SUCCESS queries.jogador.AtuacoesJogador.faltas_sofridas: Function executed successfully. <jogo>={jogo}\")\n",
    "        \n",
    "        return response\n",
    "    \n",
    "    def impedimentos(self, jogo):\n",
    "        \"\"\"\n",
    "        Args:\n",
    "            jogo: (int) jogo (1-último, 2-penultimo, ...)\n",
    "        Returns:\n",
    "            int: quantidade de impedimentos do jogador\n",
    "        \"\"\"\n",
    "        \n",
    "        try:\n",
    "            response = int(self.web.find_element_by_xpath(self._x_path(10,jogo)).text)\n",
    "        except Exception as err:\n",
    "            logging.error(f\"ERROR queries.jogador.AtuacoesJogador.impedimentos: \"\n",
    "                          f\"Unexpected error: Could not execute function. <jogo>={jogo}\")\n",
    "            logging.error(err)\n",
    "\n",
    "            return\n",
    "            \n",
    "        logging.info(f\"SUCCESS queries.jogador.AtuacoesJogador.impedimentos: \"\n",
    "                     f\"Function executed successfully. <jogo>={jogo}\")\n",
    "        \n",
    "        return response\n",
    "    \n",
    "    def cartoes_amarelos(self, jogo):\n",
    "        \"\"\"\n",
    "        Args:\n",
    "            jogo: (int) jogo (1-último, 2-penultimo, ...)\n",
    "        Returns:\n",
    "            int: quantidade de cartões amarelos levados pelo jogador\n",
    "        \"\"\"\n",
    "        \n",
    "        try:\n",
    "            response = int(self.web.find_element_by_xpath(self._x_path(11,jogo)).text)\n",
    "        except Exception as err:\n",
    "            logging.error(f\"ERROR queries.jogador.AtuacoesJogador.cartoes_amarelos: \"\n",
    "                          f\"Unexpected error: Could not execute function. <jogo>={jogo}\")\n",
    "            logging.error(err)\n",
    "\n",
    "            return\n",
    "            \n",
    "        logging.info(f\"SUCCESS queries.jogador.AtuacoesJogador.cartoes_amarelos: \"\n",
    "                     f\"Function executed successfully. <jogo>={jogo}\")\n",
    "        \n",
    "        return response\n",
    "    \n",
    "    def cartoes_vermelhos(self, jogo):\n",
    "        \"\"\"\n",
    "        Args:\n",
    "            jogo: (int) jogo (1-último, 2-penultimo, ...)\n",
    "        Returns:\n",
    "            int: quantidade de cartões vermelhos levados pelo jogador\n",
    "        \"\"\"\n",
    "        \n",
    "        try:\n",
    "            response = int(self.web.find_element_by_xpath(self._x_path(12,jogo)).text)\n",
    "        except Exception as err:\n",
    "            logging.error(f\"ERROR queries.jogador.AtuacoesJogador.cartoes_vermelhos: \"\n",
    "                          f\"Unexpected error: Could not execute function. <jogo>={jogo}\")\n",
    "            logging.error(err)\n",
    "\n",
    "            return\n",
    "            \n",
    "        logging.info(f\"SUCCESS queries.jogador.AtuacoesJogador.cartoes_vermelhos: \"\n",
    "                     f\"Function executed successfully. <jogo>={jogo}\")\n",
    "        \n",
    "        return response"
   ]
  },
  {
   "cell_type": "code",
   "execution_count": 28,
   "id": "deae703a-eac4-40f0-bd87-9f9d20ee78ab",
   "metadata": {},
   "outputs": [],
   "source": [
    "id_jogador = '202717/dani-ceballos'\n",
    "id_jogador = '252107/vinicius-junior'\n",
    "#id_jogador = '199017/everton-ribeiro'\n",
    "id_jogador = '30901/dani-alves'\n",
    "query = AtuacoesJogador(id_jogador, headless=False)"
   ]
  },
  {
   "cell_type": "code",
   "execution_count": 29,
   "id": "36110010-1bbc-4f21-8922-32e0b8d3d5fc",
   "metadata": {},
   "outputs": [],
   "source": [
    "jogo = 3\n",
    "\n",
    "campeonato = query.campeonato()\n",
    "date = query.date(jogo)\n",
    "casa_fora = query.casa_fora(jogo)\n",
    "adversario = query.adversario(jogo)\n",
    "resultado = query.resultado(jogo)\n",
    "gols = query.gols(jogo)\n",
    "assistencias = query.assistencias(jogo)\n",
    "finalizacoes = query.finalizacoes(jogo)\n",
    "finalizacoes_no_gol = query.finalizacoes_no_gol(jogo)\n",
    "faltas_cometidas = query.faltas_cometidas(jogo)\n",
    "faltas_sofridas = query.faltas_sofridas(jogo)\n",
    "impedimentos = query.impedimentos(jogo)\n",
    "cartoes_amarelos = query.cartoes_amarelos(jogo)\n",
    "cartoes_vermelhos = query.cartoes_vermelhos(jogo)"
   ]
  },
  {
   "cell_type": "code",
   "execution_count": 26,
   "id": "a618b052-6ba9-49d4-8f79-cfc6a182a8ae",
   "metadata": {},
   "outputs": [],
   "source": [
    "query.web.close()"
   ]
  },
  {
   "cell_type": "code",
   "execution_count": 30,
   "id": "66f0bee8-64d6-4bf8-97a5-a6293d75662d",
   "metadata": {},
   "outputs": [
    {
     "data": {
      "text/plain": [
       "'2021-22 LaLiga'"
      ]
     },
     "execution_count": 30,
     "metadata": {},
     "output_type": "execute_result"
    }
   ],
   "source": [
    "campeonato"
   ]
  },
  {
   "cell_type": "code",
   "execution_count": 31,
   "id": "072dcd5d-b6a6-40f4-94be-bff8d3f4fb0b",
   "metadata": {},
   "outputs": [
    {
     "data": {
      "text/plain": [
       "'Sáb 8/1'"
      ]
     },
     "execution_count": 31,
     "metadata": {},
     "output_type": "execute_result"
    }
   ],
   "source": [
    "date"
   ]
  },
  {
   "cell_type": "code",
   "execution_count": 32,
   "id": "cf96c9b5-2e40-4d41-9559-af4b837334a1",
   "metadata": {},
   "outputs": [
    {
     "data": {
      "text/plain": [
       "'fora'"
      ]
     },
     "execution_count": 32,
     "metadata": {},
     "output_type": "execute_result"
    }
   ],
   "source": [
    "casa_fora"
   ]
  },
  {
   "cell_type": "code",
   "execution_count": 33,
   "id": "c5c968f1-c497-4cc1-a330-015021fdb6e4",
   "metadata": {},
   "outputs": [
    {
     "data": {
      "text/plain": [
       "'GRN'"
      ]
     },
     "execution_count": 33,
     "metadata": {},
     "output_type": "execute_result"
    }
   ],
   "source": [
    "adversario"
   ]
  },
  {
   "cell_type": "code",
   "execution_count": 34,
   "id": "88c7a4b3-bd96-4eb2-b21f-46e9a27ef5a1",
   "metadata": {},
   "outputs": [
    {
     "data": {
      "text/plain": [
       "{'resultado': 'E', 'placar': '1-1'}"
      ]
     },
     "execution_count": 34,
     "metadata": {},
     "output_type": "execute_result"
    }
   ],
   "source": [
    "resultado"
   ]
  },
  {
   "cell_type": "code",
   "execution_count": 35,
   "id": "1ebd5bc0-73b1-4139-96a4-bca33f9a7004",
   "metadata": {},
   "outputs": [
    {
     "data": {
      "text/plain": [
       "0"
      ]
     },
     "execution_count": 35,
     "metadata": {},
     "output_type": "execute_result"
    }
   ],
   "source": [
    "gols"
   ]
  },
  {
   "cell_type": "code",
   "execution_count": 36,
   "id": "cd10ae9d-8600-4c39-b320-1f8f4db5afcf",
   "metadata": {},
   "outputs": [
    {
     "data": {
      "text/plain": [
       "1"
      ]
     },
     "execution_count": 36,
     "metadata": {},
     "output_type": "execute_result"
    }
   ],
   "source": [
    "assistencias"
   ]
  },
  {
   "cell_type": "code",
   "execution_count": 37,
   "id": "bb0f7410-f129-4162-9d2f-cb8291657cd3",
   "metadata": {},
   "outputs": [
    {
     "data": {
      "text/plain": [
       "0"
      ]
     },
     "execution_count": 37,
     "metadata": {},
     "output_type": "execute_result"
    }
   ],
   "source": [
    "finalizacoes"
   ]
  },
  {
   "cell_type": "code",
   "execution_count": 38,
   "id": "7f132c92-2a07-4a68-9294-072d81f1f1db",
   "metadata": {},
   "outputs": [
    {
     "data": {
      "text/plain": [
       "0"
      ]
     },
     "execution_count": 38,
     "metadata": {},
     "output_type": "execute_result"
    }
   ],
   "source": [
    "finalizacoes_no_gol"
   ]
  },
  {
   "cell_type": "code",
   "execution_count": 39,
   "id": "47f8b28b-0547-48df-b1ae-ef944561c45b",
   "metadata": {},
   "outputs": [
    {
     "data": {
      "text/plain": [
       "4"
      ]
     },
     "execution_count": 39,
     "metadata": {},
     "output_type": "execute_result"
    }
   ],
   "source": [
    "faltas_cometidas"
   ]
  },
  {
   "cell_type": "code",
   "execution_count": 40,
   "id": "e0da6634-6f73-4d86-aa74-29eff0c27b9f",
   "metadata": {},
   "outputs": [
    {
     "data": {
      "text/plain": [
       "1"
      ]
     },
     "execution_count": 40,
     "metadata": {},
     "output_type": "execute_result"
    }
   ],
   "source": [
    "faltas_sofridas"
   ]
  },
  {
   "cell_type": "code",
   "execution_count": 41,
   "id": "c04d7886-9652-46c3-ba58-1926035911b1",
   "metadata": {},
   "outputs": [
    {
     "data": {
      "text/plain": [
       "0"
      ]
     },
     "execution_count": 41,
     "metadata": {},
     "output_type": "execute_result"
    }
   ],
   "source": [
    "impedimentos"
   ]
  },
  {
   "cell_type": "code",
   "execution_count": 42,
   "id": "3383e9a3-bdec-4518-80ba-3e2a4808cc86",
   "metadata": {},
   "outputs": [
    {
     "data": {
      "text/plain": [
       "0"
      ]
     },
     "execution_count": 42,
     "metadata": {},
     "output_type": "execute_result"
    }
   ],
   "source": [
    "cartoes_amarelos"
   ]
  },
  {
   "cell_type": "code",
   "execution_count": 43,
   "id": "f368c458-c82d-445a-9caa-61c2ba08f2bc",
   "metadata": {},
   "outputs": [
    {
     "data": {
      "text/plain": [
       "0"
      ]
     },
     "execution_count": 43,
     "metadata": {},
     "output_type": "execute_result"
    }
   ],
   "source": [
    "cartoes_vermelhos"
   ]
  }
 ],
 "metadata": {
  "kernelspec": {
   "display_name": "futebol",
   "language": "python",
   "name": "futebol"
  },
  "language_info": {
   "codemirror_mode": {
    "name": "ipython",
    "version": 3
   },
   "file_extension": ".py",
   "mimetype": "text/x-python",
   "name": "python",
   "nbconvert_exporter": "python",
   "pygments_lexer": "ipython3",
   "version": "3.8.12"
  }
 },
 "nbformat": 4,
 "nbformat_minor": 5
}
