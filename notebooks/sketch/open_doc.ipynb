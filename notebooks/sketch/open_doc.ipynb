{
 "cells": [
  {
   "cell_type": "code",
   "execution_count": 1,
   "id": "cb6e1c82-be5c-4370-a623-084f66cec4fa",
   "metadata": {},
   "outputs": [],
   "source": [
    "from cafu import OpenDoc"
   ]
  },
  {
   "cell_type": "code",
   "execution_count": 2,
   "id": "7fd09203-fa40-4f2c-a67c-3662dd29cc01",
   "metadata": {},
   "outputs": [
    {
     "data": {
      "text/plain": [
       "<cafu.utils.open_doc.OpenDoc at 0x7f3174558730>"
      ]
     },
     "execution_count": 2,
     "metadata": {},
     "output_type": "execute_result"
    }
   ],
   "source": [
    "OpenDoc()"
   ]
  }
 ],
 "metadata": {
  "kernelspec": {
   "display_name": "futebol",
   "language": "python",
   "name": "futebol"
  },
  "language_info": {
   "codemirror_mode": {
    "name": "ipython",
    "version": 3
   },
   "file_extension": ".py",
   "mimetype": "text/x-python",
   "name": "python",
   "nbconvert_exporter": "python",
   "pygments_lexer": "ipython3",
   "version": "3.8.12"
  }
 },
 "nbformat": 4,
 "nbformat_minor": 5
}
