{
 "cells": [
  {
   "cell_type": "code",
   "execution_count": 2,
   "id": "7fe0e7ea-55ba-4ddf-bb55-47f9f0e00266",
   "metadata": {},
   "outputs": [],
   "source": [
    "from cafu.metadata import path\n",
    "import pandas as pd"
   ]
  },
  {
   "cell_type": "code",
   "execution_count": 3,
   "id": "debf1bdf-d396-43c0-9003-eb13398ddb6a",
   "metadata": {},
   "outputs": [],
   "source": [
    "path_camp = path('datalake')+'/jogos_ids/espanha/2012-2013.csv'\n",
    "df = pd.read_csv(path_camp)"
   ]
  },
  {
   "cell_type": "code",
   "execution_count": 9,
   "id": "99c597df-7adc-4afd-a724-f4ebdea7b300",
   "metadata": {},
   "outputs": [
    {
     "data": {
      "text/plain": [
       "True"
      ]
     },
     "execution_count": 9,
     "metadata": {},
     "output_type": "execute_result"
    }
   ],
   "source": [
    "list(df['time_casa'].drop_duplicates().sort_values())==list(df['time_visitante'].drop_duplicates().sort_values())"
   ]
  },
  {
   "cell_type": "code",
   "execution_count": 54,
   "id": "d5f4316b-b7b4-4857-922f-79e82390cd14",
   "metadata": {},
   "outputs": [
    {
     "name": "stderr",
     "output_type": "stream",
     "text": [
      "/tmp/ipykernel_6437/3303466267.py:1: FutureWarning: The series.append method is deprecated and will be removed from pandas in a future version. Use pandas.concat instead.\n",
      "  times = list(df['time_casa'].append(df['time_visitante']).drop_duplicates().sort_values())\n"
     ]
    }
   ],
   "source": [
    "times = list(df['time_casa'].append(df['time_visitante']).drop_duplicates().sort_values())"
   ]
  },
  {
   "cell_type": "code",
   "execution_count": 47,
   "id": "08e4e71e-621d-47ca-9269-eba5f62c550b",
   "metadata": {},
   "outputs": [
    {
     "data": {
      "text/plain": [
       "0           Rayo Vallecano\n",
       "1            Real Zaragoza\n",
       "2            Celta de Vigo\n",
       "3                  Granada\n",
       "4                Barcelona\n",
       "              ...         \n",
       "335             Sevilla FC\n",
       "336         Rayo Vallecano\n",
       "337          Celta de Vigo\n",
       "338    Deportivo La Coruña\n",
       "339          Athletic Club\n",
       "Name: time_casa, Length: 340, dtype: object"
      ]
     },
     "execution_count": 47,
     "metadata": {},
     "output_type": "execute_result"
    }
   ],
   "source": [
    "df['time_casa']"
   ]
  },
  {
   "cell_type": "code",
   "execution_count": 63,
   "id": "f2f87657-8ce6-48f7-a29e-2d802e2d1e18",
   "metadata": {},
   "outputs": [],
   "source": [
    "def _teste_partidas_campeonato(df, qt_jogos_rodada, qt_partidas_campeonato, campeonato, temporada, runtime_str):\n",
    "    \"\"\"\n",
    "    Método interno da biblioteca cafu.\n",
    "    Testa as condições de sucesso da função partidas_campeonato\n",
    "    \"\"\"\n",
    "    \n",
    "    times = list(df['time_casa'].append(df['time_visitante']).drop_duplicates().sort_values())\n",
    "    jogos_faltantes = {}\n",
    "    for i, t in enumerate(times):\n",
    "        index_filter = df['time_casa']==t\n",
    "        times_enfrentados = list(df[index_filter]['time_visitante'].drop_duplicates().sort_values())\n",
    "        times_copy = times[:i]+times[(i+1):]\n",
    "        f = list(set(times_copy).difference(times_enfrentados))\n",
    "        if len(f) > 0:\n",
    "            jogos_faltantes[t] = f\n",
    "    \n",
    "    success = True\n",
    "    if df.shape[0] != qt_partidas_campeonato:\n",
    "        success = False\n",
    "        logging.error(f\"ERROR etl.data_lake.partidas_campeonato.partidas_campeonato: \"\n",
    "                      f\"Unexpected number of lines in returned dataframe (expected amount of league matches): \"\n",
    "                      f\"<returned>={df.shape[0]}, <expected>={qt_partidas_campeonato}. \"\n",
    "                      f\"Return <min_id_campeonato>={min(ids)}, <max_id_campeonato>={max(ids)}, <excedentes>={excedentes}. \"\n",
    "                      f\"<campeonato>={campeonato}, <temporada>={temporada}, <qt_jogos_rodada>={qt_jogos_rodada}. \"\n",
    "                      f\"runtime = {runtime_str}\")\n",
    "    if len(times)!=2*qt_jogos_rodada:\n",
    "        success = False\n",
    "        logging.error(f\"ERROR etl.data_lake.partidas_campeonato.partidas_campeonato: \"\n",
    "                      f\"Unexpected number of teams: \"\n",
    "                      f\"<returned>={len(times)} <expected>={2*qt_jogos_rodada}. \"\n",
    "                      f\"Return <min_id_campeonato>={min(ids)}, <max_id_campeonato>={max(ids)}, <excedentes>={excedentes}. \"\n",
    "                      f\"<campeonato>={campeonato}, <temporada>={temporada}, <qt_jogos_rodada>={qt_jogos_rodada}. \"\n",
    "                      f\"runtime = {runtime_str}\")\n",
    "    if len(jogos_faltantes)>0:\n",
    "        success = False\n",
    "        logging.error(f\"ERROR etl.data_lake.partidas_campeonato.partidas_campeonato: \"\n",
    "                      f\"Not all returned teams faced each other: \"\n",
    "                      f\"<jogos_faltantes>={jogos_faltantes}. \"\n",
    "                      f\"Return <min_id_campeonato>={min(ids)}, <max_id_campeonato>={max(ids)}, <excedentes>={excedentes}. \"\n",
    "                      f\"<campeonato>={campeonato}, <temporada>={temporada}, <qt_jogos_rodada>={qt_jogos_rodada}. \"\n",
    "                      f\"runtime = {runtime_str}\")\n",
    "    if success:\n",
    "        logging.info(f\"SUCCESS etl.data_lake.partidas_campeonato.partidas_campeonato: Function executed successfully. \"\n",
    "                 f\"Return <min_id_campeonato>={min(ids)}, <max_id_campeonato>={max(ids)}. \"\n",
    "                 f\"<campeonato>={campeonato}, <temporada>={temporada}, <qt_jogos_rodada>={qt_jogos_rodada}. \"\n",
    "                 f\"runtime = {runtime_str}\")"
   ]
  },
  {
   "cell_type": "code",
   "execution_count": null,
   "id": "cfb6fbc0-b93f-4061-a829-3a17b158969a",
   "metadata": {},
   "outputs": [],
   "source": [
    "if df.shape[0] == qt_partidas_campeonato:\n",
    "    logging.info(f\"SUCCESS etl.data_lake.partidas_campeonato.partidas_campeonato: Function executed successfully. \"\n",
    "                 f\"Return <min_id_campeonato>={min(ids)}, <max_id_campeonato>={max(ids)}. \"\n",
    "                 f\"<campeonato>={campeonato}, <temporada>={temporada}, <qt_jogos_rodada>={qt_jogos_rodada}. \"\n",
    "                 f\"runtime = {runtime_str}\")\n",
    "else:\n",
    "    logging.error(f\"ERROR etl.data_lake.partidas_campeonato.partidas_campeonato: \"\n",
    "                  f\"Unexpected number of lines in returned dataframe (expected amount of league matches): \"\n",
    "                  f\"<returned>={df.shape[0]}, <expected>={qt_partidas_campeonato}. \"\n",
    "                  f\"Return <min_id_campeonato>={min(ids)}, <max_id_campeonato>={max(ids)}, <excedentes>={excedentes}. \"\n",
    "                  f\"<campeonato>={campeonato}, <temporada>={temporada}, <qt_jogos_rodada>={qt_jogos_rodada}. \"\n",
    "                  f\"runtime = {runtime_str}\")"
   ]
  },
  {
   "cell_type": "code",
   "execution_count": 66,
   "id": "7768b92d-b924-4d52-9413-95239fdea07b",
   "metadata": {},
   "outputs": [
    {
     "name": "stderr",
     "output_type": "stream",
     "text": [
      "/tmp/ipykernel_6437/436250022.py:3: FutureWarning: The series.append method is deprecated and will be removed from pandas in a future version. Use pandas.concat instead.\n",
      "  times = list(df['time_casa'].append(df['time_visitante']).drop_duplicates().sort_values())\n"
     ]
    },
    {
     "data": {
      "text/plain": [
       "2"
      ]
     },
     "execution_count": 66,
     "metadata": {},
     "output_type": "execute_result"
    }
   ],
   "source": [
    "len(_teste_partidas_campeonato(df, 10))"
   ]
  },
  {
   "cell_type": "code",
   "execution_count": 28,
   "id": "f46cd67e-5d65-4045-95cf-f15bf92f1985",
   "metadata": {},
   "outputs": [
    {
     "data": {
      "text/plain": [
       "['Athletic Club',\n",
       " 'Atlético de Madrid',\n",
       " 'Barcelona',\n",
       " 'Celta de Vigo',\n",
       " 'Deportivo La Coruña',\n",
       " 'Espanyol',\n",
       " 'Getafe',\n",
       " 'Granada',\n",
       " 'Levante',\n",
       " 'Mallorca',\n",
       " 'Málaga',\n",
       " 'Osasuna',\n",
       " 'Rayo Vallecano',\n",
       " 'Real Betis',\n",
       " 'Real Madrid',\n",
       " 'Real Sociedad',\n",
       " 'Real Zaragoza',\n",
       " 'Sevilla FC',\n",
       " 'Valencia']"
      ]
     },
     "execution_count": 28,
     "metadata": {},
     "output_type": "execute_result"
    }
   ],
   "source": [
    "times = list(df['time_casa'].drop_duplicates().sort_values())\n",
    "times"
   ]
  },
  {
   "cell_type": "code",
   "execution_count": 62,
   "id": "be20d1e6-d2da-4a8c-acd7-dfe6b3cb1202",
   "metadata": {
    "tags": []
   },
   "outputs": [
    {
     "data": {
      "text/plain": [
       "[]"
      ]
     },
     "execution_count": 62,
     "metadata": {},
     "output_type": "execute_result"
    }
   ],
   "source": [
    "#for t in times:\n",
    "t = 'Athletic Club'\n",
    "i = 0\n",
    "\n",
    "index_filter = df['time_casa']==t\n",
    "times_enfrentados = list(df[index_filter]['time_visitante'].drop_duplicates().sort_values())\n",
    "times_copy = times[:i]+times[(i+1):]\n",
    "list(set(times_copy).difference(times_enfrentados))"
   ]
  },
  {
   "cell_type": "code",
   "execution_count": 57,
   "id": "2522ad6d-4159-40e5-b9b9-247bbfbf77b7",
   "metadata": {},
   "outputs": [
    {
     "name": "stdout",
     "output_type": "stream",
     "text": [
      "0 Athletic Club\n",
      "1 Atlético de Madrid\n",
      "2 Barcelona\n",
      "3 Celta de Vigo\n",
      "4 Deportivo La Coruña\n",
      "5 Espanyol\n",
      "6 Getafe\n",
      "7 Granada\n",
      "8 Levante\n",
      "9 Mallorca\n",
      "10 Málaga\n",
      "11 Osasuna\n",
      "12 Rayo Vallecano\n",
      "13 Real Betis\n",
      "14 Real Madrid\n",
      "15 Real Sociedad\n",
      "16 Real Zaragoza\n",
      "17 Sevilla FC\n",
      "18 Valencia\n"
     ]
    }
   ],
   "source": [
    "for i, t in enumerate(times):\n",
    "    print(i,t)"
   ]
  },
  {
   "cell_type": "code",
   "execution_count": 39,
   "id": "15a7b92e-6b9b-49dc-9c58-d545868f0826",
   "metadata": {},
   "outputs": [
    {
     "data": {
      "text/plain": [
       "['Athletic Club',\n",
       " 'Atlético de Madrid',\n",
       " 'Celta de Vigo',\n",
       " 'Deportivo La Coruña',\n",
       " 'Espanyol',\n",
       " 'Getafe',\n",
       " 'Granada',\n",
       " 'Levante',\n",
       " 'Mallorca',\n",
       " 'Málaga',\n",
       " 'Osasuna',\n",
       " 'Rayo Vallecano',\n",
       " 'Real Betis',\n",
       " 'Real Madrid',\n",
       " 'Real Sociedad',\n",
       " 'Real Zaragoza',\n",
       " 'Sevilla FC',\n",
       " 'Valencia']"
      ]
     },
     "execution_count": 39,
     "metadata": {},
     "output_type": "execute_result"
    }
   ],
   "source": [
    "times_copy"
   ]
  },
  {
   "cell_type": "code",
   "execution_count": 40,
   "id": "f06662dd-6862-4a6e-a19b-009b87ffae53",
   "metadata": {},
   "outputs": [
    {
     "data": {
      "text/plain": [
       "['Athletic Club',\n",
       " 'Atlético de Madrid',\n",
       " 'Celta de Vigo',\n",
       " 'Deportivo La Coruña',\n",
       " 'Espanyol',\n",
       " 'Getafe',\n",
       " 'Granada',\n",
       " 'Levante',\n",
       " 'Mallorca',\n",
       " 'Málaga',\n",
       " 'Osasuna',\n",
       " 'Rayo Vallecano',\n",
       " 'Real Betis',\n",
       " 'Real Madrid',\n",
       " 'Real Zaragoza',\n",
       " 'Sevilla FC',\n",
       " 'Valencia']"
      ]
     },
     "execution_count": 40,
     "metadata": {},
     "output_type": "execute_result"
    }
   ],
   "source": [
    "times_enfrentados"
   ]
  }
 ],
 "metadata": {
  "kernelspec": {
   "display_name": "futebol",
   "language": "python",
   "name": "futebol"
  },
  "language_info": {
   "codemirror_mode": {
    "name": "ipython",
    "version": 3
   },
   "file_extension": ".py",
   "mimetype": "text/x-python",
   "name": "python",
   "nbconvert_exporter": "python",
   "pygments_lexer": "ipython3",
   "version": "3.8.12"
  }
 },
 "nbformat": 4,
 "nbformat_minor": 5
}
