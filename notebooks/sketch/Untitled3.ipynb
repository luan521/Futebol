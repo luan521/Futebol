{
 "cells": [
  {
   "cell_type": "code",
   "execution_count": 2,
   "id": "82c051ec-7b2d-46ff-ae0c-28fb98cea173",
   "metadata": {},
   "outputs": [],
   "source": [
    "import pandas as pd\n",
    "from cafu.queries.partida import Partida\n",
    "from cafu.metadata import path\n",
    "path_datalake = path('datalake')"
   ]
  },
  {
   "cell_type": "code",
   "execution_count": 3,
   "id": "7762fa3b-86fe-4180-8598-bf12c5b3a519",
   "metadata": {},
   "outputs": [],
   "source": [
    "path_camp = path_datalake+'/jogos_ids/franca/2019-2020.csv'\n",
    "df = pd.read_csv(path_camp)"
   ]
  },
  {
   "cell_type": "code",
   "execution_count": 4,
   "id": "de084259-90cf-4f2a-81f3-66d8aafcbf59",
   "metadata": {},
   "outputs": [
    {
     "data": {
      "text/html": [
       "<div>\n",
       "<style scoped>\n",
       "    .dataframe tbody tr th:only-of-type {\n",
       "        vertical-align: middle;\n",
       "    }\n",
       "\n",
       "    .dataframe tbody tr th {\n",
       "        vertical-align: top;\n",
       "    }\n",
       "\n",
       "    .dataframe thead th {\n",
       "        text-align: right;\n",
       "    }\n",
       "</style>\n",
       "<table border=\"1\" class=\"dataframe\">\n",
       "  <thead>\n",
       "    <tr style=\"text-align: right;\">\n",
       "      <th></th>\n",
       "      <th>jogo_id</th>\n",
       "      <th>dates</th>\n",
       "      <th>rodada</th>\n",
       "      <th>time_casa</th>\n",
       "      <th>time_visitante</th>\n",
       "    </tr>\n",
       "  </thead>\n",
       "  <tbody>\n",
       "    <tr>\n",
       "      <th>0</th>\n",
       "      <td>541855</td>\n",
       "      <td>2020-05-23</td>\n",
       "      <td>38</td>\n",
       "      <td>Stade Rennais</td>\n",
       "      <td>AS Mônaco</td>\n",
       "    </tr>\n",
       "    <tr>\n",
       "      <th>1</th>\n",
       "      <td>541856</td>\n",
       "      <td>2020-05-23</td>\n",
       "      <td>38</td>\n",
       "      <td>Metz</td>\n",
       "      <td>Angers</td>\n",
       "    </tr>\n",
       "    <tr>\n",
       "      <th>2</th>\n",
       "      <td>541857</td>\n",
       "      <td>2020-05-23</td>\n",
       "      <td>38</td>\n",
       "      <td>Lyon</td>\n",
       "      <td>Brest</td>\n",
       "    </tr>\n",
       "    <tr>\n",
       "      <th>3</th>\n",
       "      <td>541858</td>\n",
       "      <td>2020-05-23</td>\n",
       "      <td>38</td>\n",
       "      <td>Saint-Etienne</td>\n",
       "      <td>Dijon FCO</td>\n",
       "    </tr>\n",
       "    <tr>\n",
       "      <th>4</th>\n",
       "      <td>541859</td>\n",
       "      <td>2020-05-23</td>\n",
       "      <td>38</td>\n",
       "      <td>Bordeaux</td>\n",
       "      <td>Lille</td>\n",
       "    </tr>\n",
       "    <tr>\n",
       "      <th>...</th>\n",
       "      <td>...</td>\n",
       "      <td>...</td>\n",
       "      <td>...</td>\n",
       "      <td>...</td>\n",
       "      <td>...</td>\n",
       "    </tr>\n",
       "    <tr>\n",
       "      <th>375</th>\n",
       "      <td>542230</td>\n",
       "      <td>2019-08-10</td>\n",
       "      <td>1</td>\n",
       "      <td>Nice</td>\n",
       "      <td>SC Amiens</td>\n",
       "    </tr>\n",
       "    <tr>\n",
       "      <th>376</th>\n",
       "      <td>542231</td>\n",
       "      <td>2019-08-10</td>\n",
       "      <td>1</td>\n",
       "      <td>Dijon FCO</td>\n",
       "      <td>Saint-Etienne</td>\n",
       "    </tr>\n",
       "    <tr>\n",
       "      <th>377</th>\n",
       "      <td>542232</td>\n",
       "      <td>2019-08-10</td>\n",
       "      <td>1</td>\n",
       "      <td>Montpellier</td>\n",
       "      <td>Stade Rennais</td>\n",
       "    </tr>\n",
       "    <tr>\n",
       "      <th>378</th>\n",
       "      <td>542233</td>\n",
       "      <td>2019-08-10</td>\n",
       "      <td>1</td>\n",
       "      <td>Marseille</td>\n",
       "      <td>Stade de Reims</td>\n",
       "    </tr>\n",
       "    <tr>\n",
       "      <th>379</th>\n",
       "      <td>542234</td>\n",
       "      <td>2019-08-10</td>\n",
       "      <td>1</td>\n",
       "      <td>Brest</td>\n",
       "      <td>Toulouse</td>\n",
       "    </tr>\n",
       "  </tbody>\n",
       "</table>\n",
       "<p>380 rows × 5 columns</p>\n",
       "</div>"
      ],
      "text/plain": [
       "     jogo_id       dates  rodada      time_casa  time_visitante\n",
       "0     541855  2020-05-23      38  Stade Rennais       AS Mônaco\n",
       "1     541856  2020-05-23      38           Metz          Angers\n",
       "2     541857  2020-05-23      38           Lyon           Brest\n",
       "3     541858  2020-05-23      38  Saint-Etienne       Dijon FCO\n",
       "4     541859  2020-05-23      38       Bordeaux           Lille\n",
       "..       ...         ...     ...            ...             ...\n",
       "375   542230  2019-08-10       1           Nice       SC Amiens\n",
       "376   542231  2019-08-10       1      Dijon FCO   Saint-Etienne\n",
       "377   542232  2019-08-10       1    Montpellier   Stade Rennais\n",
       "378   542233  2019-08-10       1      Marseille  Stade de Reims\n",
       "379   542234  2019-08-10       1          Brest        Toulouse\n",
       "\n",
       "[380 rows x 5 columns]"
      ]
     },
     "execution_count": 4,
     "metadata": {},
     "output_type": "execute_result"
    }
   ],
   "source": [
    "df"
   ]
  },
  {
   "cell_type": "code",
   "execution_count": 7,
   "id": "78078d6d-fb96-40dc-ae4f-145214c49f45",
   "metadata": {},
   "outputs": [],
   "source": [
    "import findspark\n",
    "findspark.init('/usr/local/spark/spark-3.0.3-bin-hadoop2.7') "
   ]
  },
  {
   "cell_type": "code",
   "execution_count": 4,
   "id": "ae0283f1-3276-4436-b54b-eed7b2dacab8",
   "metadata": {},
   "outputs": [],
   "source": [
    "#import findspark\n",
    "from pyspark.conf import SparkConf\n",
    "from pyspark.context import SparkContext\n",
    "\n",
    "# Find Spark Locally\n",
    "#location = findspark.find()\n",
    "#findspark.init(location, edit_rc=True)\n",
    "\n",
    "from cafu.utils import get_spark"
   ]
  },
  {
   "cell_type": "code",
   "execution_count": 5,
   "id": "a6efc547-24e3-42fd-92c9-507f18795979",
   "metadata": {},
   "outputs": [],
   "source": [
    "from cafu.utils import get_spark"
   ]
  },
  {
   "cell_type": "code",
   "execution_count": 6,
   "id": "af5c075f-64bf-41bf-ab44-a5aa97aba5e7",
   "metadata": {
    "tags": []
   },
   "outputs": [
    {
     "name": "stderr",
     "output_type": "stream",
     "text": [
      "22/03/14 18:56:08 WARN Utils: Your hostname, luan-VirtualBox resolves to a loopback address: 127.0.1.1; using 10.0.2.15 instead (on interface enp0s3)\n",
      "22/03/14 18:56:08 WARN Utils: Set SPARK_LOCAL_IP if you need to bind to another address\n",
      "WARNING: An illegal reflective access operation has occurred\n",
      "WARNING: Illegal reflective access by org.apache.spark.unsafe.Platform (file:/usr/local/spark/spark-3.0.3-bin-hadoop2.7/jars/spark-unsafe_2.12-3.0.3.jar) to constructor java.nio.DirectByteBuffer(long,int)\n",
      "WARNING: Please consider reporting this to the maintainers of org.apache.spark.unsafe.Platform\n",
      "WARNING: Use --illegal-access=warn to enable warnings of further illegal reflective access operations\n",
      "WARNING: All illegal access operations will be denied in a future release\n",
      "Ivy Default Cache set to: /home/luan/.ivy2/cache\n",
      "The jars for the packages stored in: /home/luan/.ivy2/jars\n",
      ":: loading settings :: url = jar:file:/usr/local/spark/spark-3.0.3-bin-hadoop2.7/jars/ivy-2.4.0.jar!/org/apache/ivy/core/settings/ivysettings.xml\n",
      "io.delta#delta-core_2.12 added as a dependency\n",
      ":: resolving dependencies :: org.apache.spark#spark-submit-parent-7b0cf624-c003-442e-8d5e-e52cef7da7b5;1.0\n",
      "\tconfs: [default]\n",
      "\tfound io.delta#delta-core_2.12;1.0.0 in central\n",
      "\tfound org.antlr#antlr4;4.7 in central\n",
      "\tfound org.antlr#antlr4-runtime;4.7 in central\n",
      "\tfound org.antlr#antlr-runtime;3.5.2 in central\n",
      "\tfound org.antlr#ST4;4.0.8 in central\n",
      "\tfound org.abego.treelayout#org.abego.treelayout.core;1.0.3 in central\n",
      "\tfound org.glassfish#javax.json;1.0.4 in central\n",
      "\tfound com.ibm.icu#icu4j;58.2 in central\n",
      ":: resolution report :: resolve 1203ms :: artifacts dl 50ms\n",
      "\t:: modules in use:\n",
      "\tcom.ibm.icu#icu4j;58.2 from central in [default]\n",
      "\tio.delta#delta-core_2.12;1.0.0 from central in [default]\n",
      "\torg.abego.treelayout#org.abego.treelayout.core;1.0.3 from central in [default]\n",
      "\torg.antlr#ST4;4.0.8 from central in [default]\n",
      "\torg.antlr#antlr-runtime;3.5.2 from central in [default]\n",
      "\torg.antlr#antlr4;4.7 from central in [default]\n",
      "\torg.antlr#antlr4-runtime;4.7 from central in [default]\n",
      "\torg.glassfish#javax.json;1.0.4 from central in [default]\n",
      "\t---------------------------------------------------------------------\n",
      "\t|                  |            modules            ||   artifacts   |\n",
      "\t|       conf       | number| search|dwnlded|evicted|| number|dwnlded|\n",
      "\t---------------------------------------------------------------------\n",
      "\t|      default     |   8   |   0   |   0   |   0   ||   8   |   0   |\n",
      "\t---------------------------------------------------------------------\n",
      ":: retrieving :: org.apache.spark#spark-submit-parent-7b0cf624-c003-442e-8d5e-e52cef7da7b5\n",
      "\tconfs: [default]\n",
      "\t0 artifacts copied, 8 already retrieved (0kB/26ms)\n",
      "22/03/14 18:56:11 WARN NativeCodeLoader: Unable to load native-hadoop library for your platform... using builtin-java classes where applicable\n",
      "Using Spark's default log4j profile: org/apache/spark/log4j-defaults.properties\n",
      "Setting default log level to \"WARN\".\n",
      "To adjust logging level use sc.setLogLevel(newLevel). For SparkR, use setLogLevel(newLevel).\n",
      "22/03/14 18:56:14 WARN Utils: Service 'SparkUI' could not bind on port 4040. Attempting port 4041.\n",
      "22/03/14 18:56:14 WARN Utils: Service 'SparkUI' could not bind on port 4041. Attempting port 4042.\n",
      "22/03/14 18:56:16 WARN SparkSession: Cannot use io.delta.sql.DeltaSparkSessionExtension to configure session extensions.\n",
      "java.lang.NoClassDefFoundError: org/apache/spark/sql/catalyst/SQLConfHelper\n",
      "\tat java.base/java.lang.ClassLoader.defineClass1(Native Method)\n",
      "\tat java.base/java.lang.ClassLoader.defineClass(ClassLoader.java:1017)\n",
      "\tat java.base/java.security.SecureClassLoader.defineClass(SecureClassLoader.java:174)\n",
      "\tat java.base/java.net.URLClassLoader.defineClass(URLClassLoader.java:555)\n",
      "\tat java.base/java.net.URLClassLoader$1.run(URLClassLoader.java:458)\n",
      "\tat java.base/java.net.URLClassLoader$1.run(URLClassLoader.java:452)\n",
      "\tat java.base/java.security.AccessController.doPrivileged(Native Method)\n",
      "\tat java.base/java.net.URLClassLoader.findClass(URLClassLoader.java:451)\n",
      "\tat java.base/java.lang.ClassLoader.loadClass(ClassLoader.java:589)\n",
      "\tat java.base/java.lang.ClassLoader.loadClass(ClassLoader.java:522)\n",
      "\tat java.base/java.lang.ClassLoader.defineClass1(Native Method)\n",
      "\tat java.base/java.lang.ClassLoader.defineClass(ClassLoader.java:1017)\n",
      "\tat java.base/java.security.SecureClassLoader.defineClass(SecureClassLoader.java:174)\n",
      "\tat java.base/java.net.URLClassLoader.defineClass(URLClassLoader.java:555)\n",
      "\tat java.base/java.net.URLClassLoader$1.run(URLClassLoader.java:458)\n",
      "\tat java.base/java.net.URLClassLoader$1.run(URLClassLoader.java:452)\n",
      "\tat java.base/java.security.AccessController.doPrivileged(Native Method)\n",
      "\tat java.base/java.net.URLClassLoader.findClass(URLClassLoader.java:451)\n",
      "\tat java.base/java.lang.ClassLoader.loadClass(ClassLoader.java:589)\n",
      "\tat java.base/java.lang.ClassLoader.loadClass(ClassLoader.java:522)\n",
      "\tat io.delta.sql.DeltaSparkSessionExtension.apply(DeltaSparkSessionExtension.scala:84)\n",
      "\tat io.delta.sql.DeltaSparkSessionExtension.apply(DeltaSparkSessionExtension.scala:73)\n",
      "\tat org.apache.spark.sql.SparkSession$.$anonfun$applyExtensions$1(SparkSession.scala:1163)\n",
      "\tat org.apache.spark.sql.SparkSession$.$anonfun$applyExtensions$1$adapted(SparkSession.scala:1158)\n",
      "\tat scala.collection.mutable.ResizableArray.foreach(ResizableArray.scala:62)\n",
      "\tat scala.collection.mutable.ResizableArray.foreach$(ResizableArray.scala:55)\n",
      "\tat scala.collection.mutable.ArrayBuffer.foreach(ArrayBuffer.scala:49)\n",
      "\tat org.apache.spark.sql.SparkSession$.org$apache$spark$sql$SparkSession$$applyExtensions(SparkSession.scala:1158)\n",
      "\tat org.apache.spark.sql.SparkSession.<init>(SparkSession.scala:101)\n",
      "\tat java.base/jdk.internal.reflect.NativeConstructorAccessorImpl.newInstance0(Native Method)\n",
      "\tat java.base/jdk.internal.reflect.NativeConstructorAccessorImpl.newInstance(NativeConstructorAccessorImpl.java:62)\n",
      "\tat java.base/jdk.internal.reflect.DelegatingConstructorAccessorImpl.newInstance(DelegatingConstructorAccessorImpl.java:45)\n",
      "\tat java.base/java.lang.reflect.Constructor.newInstance(Constructor.java:490)\n",
      "\tat py4j.reflection.MethodInvoker.invoke(MethodInvoker.java:247)\n",
      "\tat py4j.reflection.ReflectionEngine.invoke(ReflectionEngine.java:357)\n",
      "\tat py4j.Gateway.invoke(Gateway.java:238)\n",
      "\tat py4j.commands.ConstructorCommand.invokeConstructor(ConstructorCommand.java:80)\n",
      "\tat py4j.commands.ConstructorCommand.execute(ConstructorCommand.java:69)\n",
      "\tat py4j.GatewayConnection.run(GatewayConnection.java:238)\n",
      "\tat java.base/java.lang.Thread.run(Thread.java:829)\n",
      "Caused by: java.lang.ClassNotFoundException: org.apache.spark.sql.catalyst.SQLConfHelper\n",
      "\tat java.base/java.net.URLClassLoader.findClass(URLClassLoader.java:476)\n",
      "\tat java.base/java.lang.ClassLoader.loadClass(ClassLoader.java:589)\n",
      "\tat java.base/java.lang.ClassLoader.loadClass(ClassLoader.java:522)\n",
      "\t... 40 more\n"
     ]
    }
   ],
   "source": [
    "spark = get_spark(1)"
   ]
  },
  {
   "cell_type": "code",
   "execution_count": 7,
   "id": "d75e6507-615c-457e-8771-8845faee9d19",
   "metadata": {},
   "outputs": [
    {
     "data": {
      "text/html": [
       "\n",
       "            <div>\n",
       "                <p><b>SparkSession - in-memory</b></p>\n",
       "                \n",
       "        <div>\n",
       "            <p><b>SparkContext</b></p>\n",
       "\n",
       "            <p><a href=\"http://10.0.2.15:4042\">Spark UI</a></p>\n",
       "\n",
       "            <dl>\n",
       "              <dt>Version</dt>\n",
       "                <dd><code>v3.0.3</code></dd>\n",
       "              <dt>Master</dt>\n",
       "                <dd><code>local[*]</code></dd>\n",
       "              <dt>AppName</dt>\n",
       "                <dd><code>pyspark-shell</code></dd>\n",
       "            </dl>\n",
       "        </div>\n",
       "        \n",
       "            </div>\n",
       "        "
      ],
      "text/plain": [
       "<pyspark.sql.session.SparkSession at 0x7f0cc22fe340>"
      ]
     },
     "execution_count": 7,
     "metadata": {},
     "output_type": "execute_result"
    }
   ],
   "source": [
    "spark"
   ]
  },
  {
   "cell_type": "code",
   "execution_count": 9,
   "id": "6f235ef7-1ab8-4345-af4c-e45c4d124657",
   "metadata": {},
   "outputs": [
    {
     "name": "stdout",
     "output_type": "stream",
     "text": [
      "+-------+----------+------+-------------+--------------+\n",
      "|jogo_id|     dates|rodada|    time_casa|time_visitante|\n",
      "+-------+----------+------+-------------+--------------+\n",
      "| 541855|2020-05-23|    38|Stade Rennais|     AS Mônaco|\n",
      "+-------+----------+------+-------------+--------------+\n",
      "\n"
     ]
    }
   ],
   "source": [
    "spark.createDataFrame(df).limit(1).show()"
   ]
  },
  {
   "cell_type": "code",
   "execution_count": 7,
   "id": "2bec06b0-05e1-48ec-a77c-d1729045e856",
   "metadata": {},
   "outputs": [],
   "source": [
    "id_ = 57299"
   ]
  },
  {
   "cell_type": "code",
   "execution_count": 8,
   "id": "3c9468f0-1109-4ae4-a3d4-8e87963c493d",
   "metadata": {},
   "outputs": [],
   "source": [
    "req = Partida(id_, check_status=False)\n",
    "campeonato = req.campeonato()\n",
    "times = req.nomes_times()\n",
    "date = req.day()"
   ]
  },
  {
   "cell_type": "code",
   "execution_count": 9,
   "id": "e2f092c9-1e52-4f01-be8d-3d4e2780f2d9",
   "metadata": {},
   "outputs": [],
   "source": [
    "date"
   ]
  },
  {
   "cell_type": "code",
   "execution_count": 10,
   "id": "3bb2bbba-feab-45d1-bdce-25bd2276e27d",
   "metadata": {},
   "outputs": [],
   "source": [
    "times"
   ]
  },
  {
   "cell_type": "code",
   "execution_count": 11,
   "id": "ed43a42b-6711-4fde-9347-df8790743746",
   "metadata": {},
   "outputs": [],
   "source": [
    "campeonato"
   ]
  },
  {
   "cell_type": "code",
   "execution_count": null,
   "id": "c47f7e71-53e7-40d5-8d8b-3a994c54c400",
   "metadata": {},
   "outputs": [],
   "source": []
  }
 ],
 "metadata": {
  "kernelspec": {
   "display_name": "futebol",
   "language": "python",
   "name": "futebol"
  },
  "language_info": {
   "codemirror_mode": {
    "name": "ipython",
    "version": 3
   },
   "file_extension": ".py",
   "mimetype": "text/x-python",
   "name": "python",
   "nbconvert_exporter": "python",
   "pygments_lexer": "ipython3",
   "version": "3.8.12"
  }
 },
 "nbformat": 4,
 "nbformat_minor": 5
}
