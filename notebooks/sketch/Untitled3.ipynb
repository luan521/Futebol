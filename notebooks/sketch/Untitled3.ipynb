{
 "cells": [
  {
   "cell_type": "code",
   "execution_count": 15,
   "id": "8da97d3f-8020-41ac-b048-c73ba766c69d",
   "metadata": {},
   "outputs": [],
   "source": [
    "import json\n",
    "import pandas as pd\n",
    "from datetime import date\n",
    "from cafu.metadata import path"
   ]
  },
  {
   "cell_type": "code",
   "execution_count": 16,
   "id": "0f44fac0-9571-44c8-91e7-6a8c1a65ddb3",
   "metadata": {},
   "outputs": [],
   "source": [
    "path_datalake = path('datalake')"
   ]
  },
  {
   "cell_type": "code",
   "execution_count": 17,
   "id": "21b73d3e-5ebf-410a-984f-00830fb8d866",
   "metadata": {},
   "outputs": [],
   "source": [
    "r = open(path_datalake+'/metadata.json', 'r')\n",
    "metadata_datalake = json.load(r)"
   ]
  },
  {
   "cell_type": "code",
   "execution_count": 18,
   "id": "e4c53b23-de37-4a1a-ad49-d451d97e89ae",
   "metadata": {},
   "outputs": [],
   "source": [
    "campeonatos = [\n",
    "               [k1, k2] for k1 in list(metadata_datalake['jogos_ids'].keys()) \n",
    "                        for k2 in list(metadata_datalake['jogos_ids'][k1].keys())\n",
    "                        if metadata_datalake['jogos_ids'][k1][k2] != 'failed'\n",
    "              ]"
   ]
  },
  {
   "cell_type": "code",
   "execution_count": null,
   "id": "27938234-b1a8-4aa7-b51a-d658d0a24337",
   "metadata": {},
   "outputs": [],
   "source": [
    "today = date.today()"
   ]
  },
  {
   "cell_type": "code",
   "execution_count": 49,
   "id": "adcf8b17-dc2d-4932-a9da-b67b930167f4",
   "metadata": {},
   "outputs": [],
   "source": [
    "prox_partidas = {c:{} for c in metadata_datalake['jogos_ids']}\n",
    "for c in campeonatos:\n",
    "    df = pd.read_csv(path_datalake+f'/jogos_ids/{c[0]}/{c[1]}.csv')\n",
    "    if len(df[df['dates']>=str(today)]['dates'])==0:\n",
    "        prox_partidas[c[0]][c[1]] = 'finalizado'\n",
    "    else:\n",
    "        prox_partidas[c[0]][c[1]] = min(df[df['dates']>=str(today)]['dates'])"
   ]
  },
  {
   "cell_type": "code",
   "execution_count": 50,
   "id": "2bcd3746-f5e0-40d3-8317-250996660a43",
   "metadata": {},
   "outputs": [
    {
     "data": {
      "text/plain": [
       "{'brasil': {'2021-2021': 'finalizado',\n",
       "  '2020-2020': 'finalizado',\n",
       "  '2019-2019': 'finalizado',\n",
       "  '2018-2018': 'finalizado',\n",
       "  '2017-2017': 'finalizado',\n",
       "  '2016-2016': 'finalizado',\n",
       "  '2015-2015': 'finalizado',\n",
       "  '2014-2014': 'finalizado'},\n",
       " 'espanha': {'2021-2022': '2022-03-11',\n",
       "  '2020-2021': 'finalizado',\n",
       "  '2019-2020': 'finalizado',\n",
       "  '2018-2019': 'finalizado',\n",
       "  '2017-2018': 'finalizado',\n",
       "  '2016-2017': 'finalizado',\n",
       "  '2015-2016': 'finalizado',\n",
       "  '2014-2015': 'finalizado',\n",
       "  '2013-2014': 'finalizado'}}"
      ]
     },
     "execution_count": 50,
     "metadata": {},
     "output_type": "execute_result"
    }
   ],
   "source": [
    "prox_partidas"
   ]
  },
  {
   "cell_type": "code",
   "execution_count": 38,
   "id": "5f3aca85-5947-4918-87d5-dc9ae9e60d34",
   "metadata": {},
   "outputs": [
    {
     "ename": "ValueError",
     "evalue": "min() arg is an empty sequence",
     "output_type": "error",
     "traceback": [
      "\u001b[0;31m---------------------------------------------------------------------------\u001b[0m",
      "\u001b[0;31mValueError\u001b[0m                                Traceback (most recent call last)",
      "Input \u001b[0;32mIn [38]\u001b[0m, in \u001b[0;36m<module>\u001b[0;34m\u001b[0m\n\u001b[1;32m      1\u001b[0m c \u001b[38;5;241m=\u001b[39m [\u001b[38;5;124m'\u001b[39m\u001b[38;5;124mbrasil\u001b[39m\u001b[38;5;124m'\u001b[39m, \u001b[38;5;124m'\u001b[39m\u001b[38;5;124m2014-2014\u001b[39m\u001b[38;5;124m'\u001b[39m]\n\u001b[1;32m      2\u001b[0m df \u001b[38;5;241m=\u001b[39m pd\u001b[38;5;241m.\u001b[39mread_csv(path_datalake\u001b[38;5;241m+\u001b[39m\u001b[38;5;124mf\u001b[39m\u001b[38;5;124m'\u001b[39m\u001b[38;5;124m/jogos_ids/\u001b[39m\u001b[38;5;132;01m{\u001b[39;00mc[\u001b[38;5;241m0\u001b[39m]\u001b[38;5;132;01m}\u001b[39;00m\u001b[38;5;124m/\u001b[39m\u001b[38;5;132;01m{\u001b[39;00mc[\u001b[38;5;241m1\u001b[39m]\u001b[38;5;132;01m}\u001b[39;00m\u001b[38;5;124m.csv\u001b[39m\u001b[38;5;124m'\u001b[39m)\n\u001b[0;32m----> 3\u001b[0m \u001b[38;5;28;43mmin\u001b[39;49m\u001b[43m(\u001b[49m\u001b[43mdf\u001b[49m\u001b[43m[\u001b[49m\u001b[43mdf\u001b[49m\u001b[43m[\u001b[49m\u001b[38;5;124;43m'\u001b[39;49m\u001b[38;5;124;43mdates\u001b[39;49m\u001b[38;5;124;43m'\u001b[39;49m\u001b[43m]\u001b[49m\u001b[38;5;241;43m>\u001b[39;49m\u001b[38;5;241;43m=\u001b[39;49m\u001b[38;5;28;43mstr\u001b[39;49m\u001b[43m(\u001b[49m\u001b[43mtoday\u001b[49m\u001b[43m)\u001b[49m\u001b[43m]\u001b[49m\u001b[43m[\u001b[49m\u001b[38;5;124;43m'\u001b[39;49m\u001b[38;5;124;43mdates\u001b[39;49m\u001b[38;5;124;43m'\u001b[39;49m\u001b[43m]\u001b[49m\u001b[43m)\u001b[49m\n",
      "\u001b[0;31mValueError\u001b[0m: min() arg is an empty sequence"
     ]
    }
   ],
   "source": [
    "c = ['brasil', '2014-2014']\n",
    "df = pd.read_csv(path_datalake+f'/jogos_ids/{c[0]}/{c[1]}.csv')\n",
    "min(df[df['dates']>=str(today)]['dates'])"
   ]
  },
  {
   "cell_type": "code",
   "execution_count": 1,
   "id": "93a7aa7f-4811-464c-ac11-ae841b47f52d",
   "metadata": {},
   "outputs": [],
   "source": [
    "from cafu import path"
   ]
  },
  {
   "cell_type": "code",
   "execution_count": 2,
   "id": "c8a34cd3-afa7-42dc-a23c-cfa63627dea7",
   "metadata": {},
   "outputs": [
    {
     "data": {
      "text/plain": [
       "'/home/luan/futebol/logs_cafu/2022-03-10'"
      ]
     },
     "execution_count": 2,
     "metadata": {},
     "output_type": "execute_result"
    }
   ],
   "source": [
    "path('logs_cafu')"
   ]
  },
  {
   "cell_type": "code",
   "execution_count": null,
   "id": "2811c40b-2825-4e55-aa19-5c93a627a637",
   "metadata": {},
   "outputs": [],
   "source": []
  }
 ],
 "metadata": {
  "kernelspec": {
   "display_name": "futebol",
   "language": "python",
   "name": "futebol"
  },
  "language_info": {
   "codemirror_mode": {
    "name": "ipython",
    "version": 3
   },
   "file_extension": ".py",
   "mimetype": "text/x-python",
   "name": "python",
   "nbconvert_exporter": "python",
   "pygments_lexer": "ipython3",
   "version": "3.8.12"
  }
 },
 "nbformat": 4,
 "nbformat_minor": 5
}
