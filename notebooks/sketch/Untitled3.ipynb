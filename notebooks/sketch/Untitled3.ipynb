{
 "cells": [
  {
   "cell_type": "code",
   "execution_count": 15,
   "id": "8da97d3f-8020-41ac-b048-c73ba766c69d",
   "metadata": {},
   "outputs": [],
   "source": [
    "import json\n",
    "import pandas as pd\n",
    "from datetime import date\n",
    "from cafu.metadata import path"
   ]
  },
  {
   "cell_type": "code",
   "execution_count": 16,
   "id": "0f44fac0-9571-44c8-91e7-6a8c1a65ddb3",
   "metadata": {},
   "outputs": [],
   "source": [
    "path_datalake = path('datalake')"
   ]
  },
  {
   "cell_type": "code",
   "execution_count": 17,
   "id": "21b73d3e-5ebf-410a-984f-00830fb8d866",
   "metadata": {},
   "outputs": [],
   "source": [
    "r = open(path_datalake+'/metadata.json', 'r')\n",
    "metadata_datalake = json.load(r)"
   ]
  },
  {
   "cell_type": "code",
   "execution_count": 18,
   "id": "e4c53b23-de37-4a1a-ad49-d451d97e89ae",
   "metadata": {},
   "outputs": [],
   "source": [
    "campeonatos = [\n",
    "               [k1, k2] for k1 in list(metadata_datalake['jogos_ids'].keys()) \n",
    "                        for k2 in list(metadata_datalake['jogos_ids'][k1].keys())\n",
    "                        if metadata_datalake['jogos_ids'][k1][k2] != 'failed'\n",
    "              ]"
   ]
  },
  {
   "cell_type": "code",
   "execution_count": null,
   "id": "27938234-b1a8-4aa7-b51a-d658d0a24337",
   "metadata": {},
   "outputs": [],
   "source": [
    "today = date.today()"
   ]
  },
  {
   "cell_type": "code",
   "execution_count": 49,
   "id": "adcf8b17-dc2d-4932-a9da-b67b930167f4",
   "metadata": {},
   "outputs": [],
   "source": [
    "prox_partidas = {c:{} for c in metadata_datalake['jogos_ids']}\n",
    "for c in campeonatos:\n",
    "    df = pd.read_csv(path_datalake+f'/jogos_ids/{c[0]}/{c[1]}.csv')\n",
    "    if len(df[df['dates']>=str(today)]['dates'])==0:\n",
    "        prox_partidas[c[0]][c[1]] = 'finalizado'\n",
    "    else:\n",
    "        prox_partidas[c[0]][c[1]] = min(df[df['dates']>=str(today)]['dates'])"
   ]
  },
  {
   "cell_type": "code",
   "execution_count": 50,
   "id": "2bcd3746-f5e0-40d3-8317-250996660a43",
   "metadata": {},
   "outputs": [
    {
     "data": {
      "text/plain": [
       "{'brasil': {'2021-2021': 'finalizado',\n",
       "  '2020-2020': 'finalizado',\n",
       "  '2019-2019': 'finalizado',\n",
       "  '2018-2018': 'finalizado',\n",
       "  '2017-2017': 'finalizado',\n",
       "  '2016-2016': 'finalizado',\n",
       "  '2015-2015': 'finalizado',\n",
       "  '2014-2014': 'finalizado'},\n",
       " 'espanha': {'2021-2022': '2022-03-11',\n",
       "  '2020-2021': 'finalizado',\n",
       "  '2019-2020': 'finalizado',\n",
       "  '2018-2019': 'finalizado',\n",
       "  '2017-2018': 'finalizado',\n",
       "  '2016-2017': 'finalizado',\n",
       "  '2015-2016': 'finalizado',\n",
       "  '2014-2015': 'finalizado',\n",
       "  '2013-2014': 'finalizado'}}"
      ]
     },
     "execution_count": 50,
     "metadata": {},
     "output_type": "execute_result"
    }
   ],
   "source": [
    "prox_partidas"
   ]
  },
  {
   "cell_type": "code",
   "execution_count": 38,
   "id": "5f3aca85-5947-4918-87d5-dc9ae9e60d34",
   "metadata": {},
   "outputs": [
    {
     "ename": "ValueError",
     "evalue": "min() arg is an empty sequence",
     "output_type": "error",
     "traceback": [
      "\u001b[0;31m---------------------------------------------------------------------------\u001b[0m",
      "\u001b[0;31mValueError\u001b[0m                                Traceback (most recent call last)",
      "Input \u001b[0;32mIn [38]\u001b[0m, in \u001b[0;36m<module>\u001b[0;34m\u001b[0m\n\u001b[1;32m      1\u001b[0m c \u001b[38;5;241m=\u001b[39m [\u001b[38;5;124m'\u001b[39m\u001b[38;5;124mbrasil\u001b[39m\u001b[38;5;124m'\u001b[39m, \u001b[38;5;124m'\u001b[39m\u001b[38;5;124m2014-2014\u001b[39m\u001b[38;5;124m'\u001b[39m]\n\u001b[1;32m      2\u001b[0m df \u001b[38;5;241m=\u001b[39m pd\u001b[38;5;241m.\u001b[39mread_csv(path_datalake\u001b[38;5;241m+\u001b[39m\u001b[38;5;124mf\u001b[39m\u001b[38;5;124m'\u001b[39m\u001b[38;5;124m/jogos_ids/\u001b[39m\u001b[38;5;132;01m{\u001b[39;00mc[\u001b[38;5;241m0\u001b[39m]\u001b[38;5;132;01m}\u001b[39;00m\u001b[38;5;124m/\u001b[39m\u001b[38;5;132;01m{\u001b[39;00mc[\u001b[38;5;241m1\u001b[39m]\u001b[38;5;132;01m}\u001b[39;00m\u001b[38;5;124m.csv\u001b[39m\u001b[38;5;124m'\u001b[39m)\n\u001b[0;32m----> 3\u001b[0m \u001b[38;5;28;43mmin\u001b[39;49m\u001b[43m(\u001b[49m\u001b[43mdf\u001b[49m\u001b[43m[\u001b[49m\u001b[43mdf\u001b[49m\u001b[43m[\u001b[49m\u001b[38;5;124;43m'\u001b[39;49m\u001b[38;5;124;43mdates\u001b[39;49m\u001b[38;5;124;43m'\u001b[39;49m\u001b[43m]\u001b[49m\u001b[38;5;241;43m>\u001b[39;49m\u001b[38;5;241;43m=\u001b[39;49m\u001b[38;5;28;43mstr\u001b[39;49m\u001b[43m(\u001b[49m\u001b[43mtoday\u001b[49m\u001b[43m)\u001b[49m\u001b[43m]\u001b[49m\u001b[43m[\u001b[49m\u001b[38;5;124;43m'\u001b[39;49m\u001b[38;5;124;43mdates\u001b[39;49m\u001b[38;5;124;43m'\u001b[39;49m\u001b[43m]\u001b[49m\u001b[43m)\u001b[49m\n",
      "\u001b[0;31mValueError\u001b[0m: min() arg is an empty sequence"
     ]
    }
   ],
   "source": [
    "c = ['brasil', '2014-2014']\n",
    "df = pd.read_csv(path_datalake+f'/jogos_ids/{c[0]}/{c[1]}.csv')\n",
    "min(df[df['dates']>=str(today)]['dates'])"
   ]
  },
  {
   "cell_type": "code",
   "execution_count": 1,
   "id": "93a7aa7f-4811-464c-ac11-ae841b47f52d",
   "metadata": {},
   "outputs": [],
   "source": [
    "from cafu import path"
   ]
  },
  {
   "cell_type": "code",
   "execution_count": 2,
   "id": "c8a34cd3-afa7-42dc-a23c-cfa63627dea7",
   "metadata": {},
   "outputs": [
    {
     "data": {
      "text/plain": [
       "'/home/luan/futebol/logs_cafu/2022-03-10'"
      ]
     },
     "execution_count": 2,
     "metadata": {},
     "output_type": "execute_result"
    }
   ],
   "source": [
    "path('logs_cafu')"
   ]
  },
  {
   "cell_type": "code",
   "execution_count": 1,
   "id": "2811c40b-2825-4e55-aa19-5c93a627a637",
   "metadata": {},
   "outputs": [],
   "source": [
    "import pandas as pd\n",
    "import json\n",
    "import time\n",
    "from cafu.utils.etl.partidas_campeonato import id_left_right\n",
    "from cafu.utils.string import convert_str_var_time\n",
    "from cafu.metadata.campeonatos_espn import campeonato_espn\n",
    "from cafu.metadata.paths import path"
   ]
  },
  {
   "cell_type": "code",
   "execution_count": 2,
   "id": "325097d9-1d72-442a-803b-ad78527295dd",
   "metadata": {},
   "outputs": [],
   "source": [
    "campeonato, temporada = 'espanha', '2012-2013'"
   ]
  },
  {
   "cell_type": "code",
   "execution_count": 3,
   "id": "1a238e6a-0f12-40fe-bc78-18ec70db510e",
   "metadata": {},
   "outputs": [
    {
     "name": "stderr",
     "output_type": "stream",
     "text": [
      " 14%|█▎        | 42/306 [03:13<20:14,  4.60s/it]\n"
     ]
    }
   ],
   "source": [
    "dados_campeonato = campeonato_espn(campeonato, temporada)\n",
    "campeonato = dados_campeonato['nome']\n",
    "id_inicial =dados_campeonato['id']\n",
    "qt_jogos_rodada = dados_campeonato['qt_jogos_rodada']\n",
    "qt_partidas_campeonato = 2*qt_jogos_rodada*(2*qt_jogos_rodada-1)\n",
    "ids, partidas, dates = id_left_right(id_inicial, campeonato, qt_partidas_campeonato)"
   ]
  },
  {
   "cell_type": "code",
   "execution_count": 4,
   "id": "22976a26-cd67-4187-a717-17be22656045",
   "metadata": {},
   "outputs": [
    {
     "name": "stderr",
     "output_type": "stream",
     "text": [
      "300it [22:53,  4.58s/it]                         \n"
     ]
    }
   ],
   "source": [
    "ids, partidas, dates = id_left_right(id_inicial+1, campeonato, qt_partidas_campeonato,\n",
    "                                     left=False, partidas=partidas, dates=dates, ids=ids)"
   ]
  },
  {
   "cell_type": "code",
   "execution_count": 5,
   "id": "dcc72373-c65b-46cd-80b7-d833bb149695",
   "metadata": {},
   "outputs": [],
   "source": [
    "data = []\n",
    "excedentes = len(partidas)%qt_jogos_rodada\n",
    "for i in range(len(partidas)-excedentes):\n",
    "    data.append([ids[i], dates[i], partidas[i]])\n",
    "df = pd.DataFrame(data, columns=['jogo_id', 'dates', 'partida']).sort_values('jogo_id')\n",
    "df.index = range(df.shape[0])"
   ]
  },
  {
   "cell_type": "code",
   "execution_count": 7,
   "id": "7e9217d2-aaa1-48bb-9ce6-07fc99ef9c20",
   "metadata": {},
   "outputs": [],
   "source": [
    "# criando coluna \"rodada\"\n",
    "dates = []\n",
    "for i in range(0,df.shape[0], qt_jogos_rodada):\n",
    "    median_date = df.iloc[i:i+qt_jogos_rodada]['dates'].median()\n",
    "    dates_0 = [median_date for i in range(qt_jogos_rodada)]\n",
    "    dates = dates+dates_0"
   ]
  },
  {
   "cell_type": "code",
   "execution_count": 10,
   "id": "563698fd-8578-489b-a474-9b172ede1a59",
   "metadata": {
    "tags": []
   },
   "outputs": [
    {
     "data": {
      "text/plain": [
       "306"
      ]
     },
     "execution_count": 10,
     "metadata": {},
     "output_type": "execute_result"
    }
   ],
   "source": [
    "rodadas = [i for i in range(1,(qt_jogos_rodada*2-1)*2+1) for j in range(qt_jogos_rodada)]\n",
    "len(rodadas)"
   ]
  },
  {
   "cell_type": "code",
   "execution_count": 11,
   "id": "b56f21f5-7182-4560-9579-f1ebed8dff0b",
   "metadata": {},
   "outputs": [
    {
     "data": {
      "text/plain": [
       "(342, 4)"
      ]
     },
     "execution_count": 11,
     "metadata": {},
     "output_type": "execute_result"
    }
   ],
   "source": [
    "df.shape"
   ]
  },
  {
   "cell_type": "code",
   "execution_count": 8,
   "id": "059ddbf3-62af-41de-8436-db72c7813496",
   "metadata": {},
   "outputs": [
    {
     "ename": "ValueError",
     "evalue": "Length of values (306) does not match length of index (342)",
     "output_type": "error",
     "traceback": [
      "\u001b[0;31m---------------------------------------------------------------------------\u001b[0m",
      "\u001b[0;31mValueError\u001b[0m                                Traceback (most recent call last)",
      "Input \u001b[0;32mIn [8]\u001b[0m, in \u001b[0;36m<module>\u001b[0;34m\u001b[0m\n\u001b[1;32m      2\u001b[0m df \u001b[38;5;241m=\u001b[39m df\u001b[38;5;241m.\u001b[39msort_values([\u001b[38;5;124m'\u001b[39m\u001b[38;5;124mmedian_dates\u001b[39m\u001b[38;5;124m'\u001b[39m])\n\u001b[1;32m      3\u001b[0m rodadas \u001b[38;5;241m=\u001b[39m [i \u001b[38;5;28;01mfor\u001b[39;00m i \u001b[38;5;129;01min\u001b[39;00m \u001b[38;5;28mrange\u001b[39m(\u001b[38;5;241m1\u001b[39m,(qt_jogos_rodada\u001b[38;5;241m*\u001b[39m\u001b[38;5;241m2\u001b[39m\u001b[38;5;241m-\u001b[39m\u001b[38;5;241m1\u001b[39m)\u001b[38;5;241m*\u001b[39m\u001b[38;5;241m2\u001b[39m\u001b[38;5;241m+\u001b[39m\u001b[38;5;241m1\u001b[39m) \u001b[38;5;28;01mfor\u001b[39;00m j \u001b[38;5;129;01min\u001b[39;00m \u001b[38;5;28mrange\u001b[39m(qt_jogos_rodada)]\n\u001b[0;32m----> 4\u001b[0m df[\u001b[38;5;124m'\u001b[39m\u001b[38;5;124mrodada\u001b[39m\u001b[38;5;124m'\u001b[39m] \u001b[38;5;241m=\u001b[39m rodadas[:df\u001b[38;5;241m.\u001b[39mshape[\u001b[38;5;241m0\u001b[39m]]\n\u001b[1;32m      5\u001b[0m df \u001b[38;5;241m=\u001b[39m df\u001b[38;5;241m.\u001b[39mdrop(\u001b[38;5;124m'\u001b[39m\u001b[38;5;124mmedian_dates\u001b[39m\u001b[38;5;124m'\u001b[39m,axis\u001b[38;5;241m=\u001b[39m\u001b[38;5;241m1\u001b[39m)\n\u001b[1;32m      6\u001b[0m df \u001b[38;5;241m=\u001b[39m df\u001b[38;5;241m.\u001b[39msort_values([\u001b[38;5;124m'\u001b[39m\u001b[38;5;124mjogo_id\u001b[39m\u001b[38;5;124m'\u001b[39m])\n",
      "File \u001b[0;32m~/anaconda3/envs/futebol/lib/python3.8/site-packages/pandas/core/frame.py:3612\u001b[0m, in \u001b[0;36mDataFrame.__setitem__\u001b[0;34m(self, key, value)\u001b[0m\n\u001b[1;32m   3609\u001b[0m     \u001b[38;5;28mself\u001b[39m\u001b[38;5;241m.\u001b[39m_setitem_array([key], value)\n\u001b[1;32m   3610\u001b[0m \u001b[38;5;28;01melse\u001b[39;00m:\n\u001b[1;32m   3611\u001b[0m     \u001b[38;5;66;03m# set column\u001b[39;00m\n\u001b[0;32m-> 3612\u001b[0m     \u001b[38;5;28;43mself\u001b[39;49m\u001b[38;5;241;43m.\u001b[39;49m\u001b[43m_set_item\u001b[49m\u001b[43m(\u001b[49m\u001b[43mkey\u001b[49m\u001b[43m,\u001b[49m\u001b[43m \u001b[49m\u001b[43mvalue\u001b[49m\u001b[43m)\u001b[49m\n",
      "File \u001b[0;32m~/anaconda3/envs/futebol/lib/python3.8/site-packages/pandas/core/frame.py:3784\u001b[0m, in \u001b[0;36mDataFrame._set_item\u001b[0;34m(self, key, value)\u001b[0m\n\u001b[1;32m   3774\u001b[0m \u001b[38;5;28;01mdef\u001b[39;00m \u001b[38;5;21m_set_item\u001b[39m(\u001b[38;5;28mself\u001b[39m, key, value) \u001b[38;5;241m-\u001b[39m\u001b[38;5;241m>\u001b[39m \u001b[38;5;28;01mNone\u001b[39;00m:\n\u001b[1;32m   3775\u001b[0m     \u001b[38;5;124;03m\"\"\"\u001b[39;00m\n\u001b[1;32m   3776\u001b[0m \u001b[38;5;124;03m    Add series to DataFrame in specified column.\u001b[39;00m\n\u001b[1;32m   3777\u001b[0m \n\u001b[0;32m   (...)\u001b[0m\n\u001b[1;32m   3782\u001b[0m \u001b[38;5;124;03m    ensure homogeneity.\u001b[39;00m\n\u001b[1;32m   3783\u001b[0m \u001b[38;5;124;03m    \"\"\"\u001b[39;00m\n\u001b[0;32m-> 3784\u001b[0m     value \u001b[38;5;241m=\u001b[39m \u001b[38;5;28;43mself\u001b[39;49m\u001b[38;5;241;43m.\u001b[39;49m\u001b[43m_sanitize_column\u001b[49m\u001b[43m(\u001b[49m\u001b[43mvalue\u001b[49m\u001b[43m)\u001b[49m\n\u001b[1;32m   3786\u001b[0m     \u001b[38;5;28;01mif\u001b[39;00m (\n\u001b[1;32m   3787\u001b[0m         key \u001b[38;5;129;01min\u001b[39;00m \u001b[38;5;28mself\u001b[39m\u001b[38;5;241m.\u001b[39mcolumns\n\u001b[1;32m   3788\u001b[0m         \u001b[38;5;129;01mand\u001b[39;00m value\u001b[38;5;241m.\u001b[39mndim \u001b[38;5;241m==\u001b[39m \u001b[38;5;241m1\u001b[39m\n\u001b[1;32m   3789\u001b[0m         \u001b[38;5;129;01mand\u001b[39;00m \u001b[38;5;129;01mnot\u001b[39;00m is_extension_array_dtype(value)\n\u001b[1;32m   3790\u001b[0m     ):\n\u001b[1;32m   3791\u001b[0m         \u001b[38;5;66;03m# broadcast across multiple columns if necessary\u001b[39;00m\n\u001b[1;32m   3792\u001b[0m         \u001b[38;5;28;01mif\u001b[39;00m \u001b[38;5;129;01mnot\u001b[39;00m \u001b[38;5;28mself\u001b[39m\u001b[38;5;241m.\u001b[39mcolumns\u001b[38;5;241m.\u001b[39mis_unique \u001b[38;5;129;01mor\u001b[39;00m \u001b[38;5;28misinstance\u001b[39m(\u001b[38;5;28mself\u001b[39m\u001b[38;5;241m.\u001b[39mcolumns, MultiIndex):\n",
      "File \u001b[0;32m~/anaconda3/envs/futebol/lib/python3.8/site-packages/pandas/core/frame.py:4509\u001b[0m, in \u001b[0;36mDataFrame._sanitize_column\u001b[0;34m(self, value)\u001b[0m\n\u001b[1;32m   4506\u001b[0m     \u001b[38;5;28;01mreturn\u001b[39;00m _reindex_for_setitem(value, \u001b[38;5;28mself\u001b[39m\u001b[38;5;241m.\u001b[39mindex)\n\u001b[1;32m   4508\u001b[0m \u001b[38;5;28;01mif\u001b[39;00m is_list_like(value):\n\u001b[0;32m-> 4509\u001b[0m     \u001b[43mcom\u001b[49m\u001b[38;5;241;43m.\u001b[39;49m\u001b[43mrequire_length_match\u001b[49m\u001b[43m(\u001b[49m\u001b[43mvalue\u001b[49m\u001b[43m,\u001b[49m\u001b[43m \u001b[49m\u001b[38;5;28;43mself\u001b[39;49m\u001b[38;5;241;43m.\u001b[39;49m\u001b[43mindex\u001b[49m\u001b[43m)\u001b[49m\n\u001b[1;32m   4510\u001b[0m \u001b[38;5;28;01mreturn\u001b[39;00m sanitize_array(value, \u001b[38;5;28mself\u001b[39m\u001b[38;5;241m.\u001b[39mindex, copy\u001b[38;5;241m=\u001b[39m\u001b[38;5;28;01mTrue\u001b[39;00m, allow_2d\u001b[38;5;241m=\u001b[39m\u001b[38;5;28;01mTrue\u001b[39;00m)\n",
      "File \u001b[0;32m~/anaconda3/envs/futebol/lib/python3.8/site-packages/pandas/core/common.py:531\u001b[0m, in \u001b[0;36mrequire_length_match\u001b[0;34m(data, index)\u001b[0m\n\u001b[1;32m    527\u001b[0m \u001b[38;5;124;03m\"\"\"\u001b[39;00m\n\u001b[1;32m    528\u001b[0m \u001b[38;5;124;03mCheck the length of data matches the length of the index.\u001b[39;00m\n\u001b[1;32m    529\u001b[0m \u001b[38;5;124;03m\"\"\"\u001b[39;00m\n\u001b[1;32m    530\u001b[0m \u001b[38;5;28;01mif\u001b[39;00m \u001b[38;5;28mlen\u001b[39m(data) \u001b[38;5;241m!=\u001b[39m \u001b[38;5;28mlen\u001b[39m(index):\n\u001b[0;32m--> 531\u001b[0m     \u001b[38;5;28;01mraise\u001b[39;00m \u001b[38;5;167;01mValueError\u001b[39;00m(\n\u001b[1;32m    532\u001b[0m         \u001b[38;5;124m\"\u001b[39m\u001b[38;5;124mLength of values \u001b[39m\u001b[38;5;124m\"\u001b[39m\n\u001b[1;32m    533\u001b[0m         \u001b[38;5;124mf\u001b[39m\u001b[38;5;124m\"\u001b[39m\u001b[38;5;124m(\u001b[39m\u001b[38;5;132;01m{\u001b[39;00m\u001b[38;5;28mlen\u001b[39m(data)\u001b[38;5;132;01m}\u001b[39;00m\u001b[38;5;124m) \u001b[39m\u001b[38;5;124m\"\u001b[39m\n\u001b[1;32m    534\u001b[0m         \u001b[38;5;124m\"\u001b[39m\u001b[38;5;124mdoes not match length of index \u001b[39m\u001b[38;5;124m\"\u001b[39m\n\u001b[1;32m    535\u001b[0m         \u001b[38;5;124mf\u001b[39m\u001b[38;5;124m\"\u001b[39m\u001b[38;5;124m(\u001b[39m\u001b[38;5;132;01m{\u001b[39;00m\u001b[38;5;28mlen\u001b[39m(index)\u001b[38;5;132;01m}\u001b[39;00m\u001b[38;5;124m)\u001b[39m\u001b[38;5;124m\"\u001b[39m\n\u001b[1;32m    536\u001b[0m     )\n",
      "\u001b[0;31mValueError\u001b[0m: Length of values (306) does not match length of index (342)"
     ]
    }
   ],
   "source": [
    "df['median_dates'] = dates[:df.shape[0]]\n",
    "df = df.sort_values(['median_dates'])\n",
    "rodadas = [i for i in range(1,(qt_jogos_rodada*2-1)*2+1) for j in range(qt_jogos_rodada)]\n",
    "df['rodada'] = rodadas[:df.shape[0]]\n",
    "df = df.drop('median_dates',axis=1)\n",
    "df = df.sort_values(['jogo_id'])\n",
    "\n",
    "df[['time_casa','time_visitante']] = pd.DataFrame(df['partida'].values.tolist(), index= df.index)\n",
    "df = df.drop('partida', axis=1)"
   ]
  },
  {
   "cell_type": "code",
   "execution_count": null,
   "id": "e8caeaf8-db36-40eb-8f5f-cf73d3e9c706",
   "metadata": {},
   "outputs": [],
   "source": []
  }
 ],
 "metadata": {
  "kernelspec": {
   "display_name": "futebol",
   "language": "python",
   "name": "futebol"
  },
  "language_info": {
   "codemirror_mode": {
    "name": "ipython",
    "version": 3
   },
   "file_extension": ".py",
   "mimetype": "text/x-python",
   "name": "python",
   "nbconvert_exporter": "python",
   "pygments_lexer": "ipython3",
   "version": "3.8.12"
  }
 },
 "nbformat": 4,
 "nbformat_minor": 5
}
