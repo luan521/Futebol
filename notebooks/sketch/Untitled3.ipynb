{
 "cells": [
  {
   "cell_type": "code",
   "execution_count": 2,
   "id": "82c051ec-7b2d-46ff-ae0c-28fb98cea173",
   "metadata": {},
   "outputs": [],
   "source": [
    "import pandas as pd\n",
    "from cafu.queries.partida import Partida\n",
    "from cafu.metadata import path\n",
    "path_datalake = path('datalake')"
   ]
  },
  {
   "cell_type": "code",
   "execution_count": 3,
   "id": "7762fa3b-86fe-4180-8598-bf12c5b3a519",
   "metadata": {},
   "outputs": [],
   "source": [
    "path_camp = path_datalake+'/jogos_ids/franca/2019-2020.csv'\n",
    "df = pd.read_csv(path_camp)"
   ]
  },
  {
   "cell_type": "code",
   "execution_count": 4,
   "id": "de084259-90cf-4f2a-81f3-66d8aafcbf59",
   "metadata": {},
   "outputs": [
    {
     "data": {
      "text/html": [
       "<div>\n",
       "<style scoped>\n",
       "    .dataframe tbody tr th:only-of-type {\n",
       "        vertical-align: middle;\n",
       "    }\n",
       "\n",
       "    .dataframe tbody tr th {\n",
       "        vertical-align: top;\n",
       "    }\n",
       "\n",
       "    .dataframe thead th {\n",
       "        text-align: right;\n",
       "    }\n",
       "</style>\n",
       "<table border=\"1\" class=\"dataframe\">\n",
       "  <thead>\n",
       "    <tr style=\"text-align: right;\">\n",
       "      <th></th>\n",
       "      <th>jogo_id</th>\n",
       "      <th>dates</th>\n",
       "      <th>rodada</th>\n",
       "      <th>time_casa</th>\n",
       "      <th>time_visitante</th>\n",
       "    </tr>\n",
       "  </thead>\n",
       "  <tbody>\n",
       "    <tr>\n",
       "      <th>0</th>\n",
       "      <td>541855</td>\n",
       "      <td>2020-05-23</td>\n",
       "      <td>38</td>\n",
       "      <td>Stade Rennais</td>\n",
       "      <td>AS Mônaco</td>\n",
       "    </tr>\n",
       "    <tr>\n",
       "      <th>1</th>\n",
       "      <td>541856</td>\n",
       "      <td>2020-05-23</td>\n",
       "      <td>38</td>\n",
       "      <td>Metz</td>\n",
       "      <td>Angers</td>\n",
       "    </tr>\n",
       "    <tr>\n",
       "      <th>2</th>\n",
       "      <td>541857</td>\n",
       "      <td>2020-05-23</td>\n",
       "      <td>38</td>\n",
       "      <td>Lyon</td>\n",
       "      <td>Brest</td>\n",
       "    </tr>\n",
       "    <tr>\n",
       "      <th>3</th>\n",
       "      <td>541858</td>\n",
       "      <td>2020-05-23</td>\n",
       "      <td>38</td>\n",
       "      <td>Saint-Etienne</td>\n",
       "      <td>Dijon FCO</td>\n",
       "    </tr>\n",
       "    <tr>\n",
       "      <th>4</th>\n",
       "      <td>541859</td>\n",
       "      <td>2020-05-23</td>\n",
       "      <td>38</td>\n",
       "      <td>Bordeaux</td>\n",
       "      <td>Lille</td>\n",
       "    </tr>\n",
       "    <tr>\n",
       "      <th>...</th>\n",
       "      <td>...</td>\n",
       "      <td>...</td>\n",
       "      <td>...</td>\n",
       "      <td>...</td>\n",
       "      <td>...</td>\n",
       "    </tr>\n",
       "    <tr>\n",
       "      <th>375</th>\n",
       "      <td>542230</td>\n",
       "      <td>2019-08-10</td>\n",
       "      <td>1</td>\n",
       "      <td>Nice</td>\n",
       "      <td>SC Amiens</td>\n",
       "    </tr>\n",
       "    <tr>\n",
       "      <th>376</th>\n",
       "      <td>542231</td>\n",
       "      <td>2019-08-10</td>\n",
       "      <td>1</td>\n",
       "      <td>Dijon FCO</td>\n",
       "      <td>Saint-Etienne</td>\n",
       "    </tr>\n",
       "    <tr>\n",
       "      <th>377</th>\n",
       "      <td>542232</td>\n",
       "      <td>2019-08-10</td>\n",
       "      <td>1</td>\n",
       "      <td>Montpellier</td>\n",
       "      <td>Stade Rennais</td>\n",
       "    </tr>\n",
       "    <tr>\n",
       "      <th>378</th>\n",
       "      <td>542233</td>\n",
       "      <td>2019-08-10</td>\n",
       "      <td>1</td>\n",
       "      <td>Marseille</td>\n",
       "      <td>Stade de Reims</td>\n",
       "    </tr>\n",
       "    <tr>\n",
       "      <th>379</th>\n",
       "      <td>542234</td>\n",
       "      <td>2019-08-10</td>\n",
       "      <td>1</td>\n",
       "      <td>Brest</td>\n",
       "      <td>Toulouse</td>\n",
       "    </tr>\n",
       "  </tbody>\n",
       "</table>\n",
       "<p>380 rows × 5 columns</p>\n",
       "</div>"
      ],
      "text/plain": [
       "     jogo_id       dates  rodada      time_casa  time_visitante\n",
       "0     541855  2020-05-23      38  Stade Rennais       AS Mônaco\n",
       "1     541856  2020-05-23      38           Metz          Angers\n",
       "2     541857  2020-05-23      38           Lyon           Brest\n",
       "3     541858  2020-05-23      38  Saint-Etienne       Dijon FCO\n",
       "4     541859  2020-05-23      38       Bordeaux           Lille\n",
       "..       ...         ...     ...            ...             ...\n",
       "375   542230  2019-08-10       1           Nice       SC Amiens\n",
       "376   542231  2019-08-10       1      Dijon FCO   Saint-Etienne\n",
       "377   542232  2019-08-10       1    Montpellier   Stade Rennais\n",
       "378   542233  2019-08-10       1      Marseille  Stade de Reims\n",
       "379   542234  2019-08-10       1          Brest        Toulouse\n",
       "\n",
       "[380 rows x 5 columns]"
      ]
     },
     "execution_count": 4,
     "metadata": {},
     "output_type": "execute_result"
    }
   ],
   "source": [
    "df"
   ]
  },
  {
   "cell_type": "code",
   "execution_count": 7,
   "id": "2bec06b0-05e1-48ec-a77c-d1729045e856",
   "metadata": {},
   "outputs": [],
   "source": [
    "id_ = 57299"
   ]
  },
  {
   "cell_type": "code",
   "execution_count": 8,
   "id": "3c9468f0-1109-4ae4-a3d4-8e87963c493d",
   "metadata": {},
   "outputs": [],
   "source": [
    "req = Partida(id_, check_status=False)\n",
    "campeonato = req.campeonato()\n",
    "times = req.nomes_times()\n",
    "date = req.day()"
   ]
  },
  {
   "cell_type": "code",
   "execution_count": 9,
   "id": "e2f092c9-1e52-4f01-be8d-3d4e2780f2d9",
   "metadata": {},
   "outputs": [],
   "source": [
    "date"
   ]
  },
  {
   "cell_type": "code",
   "execution_count": 10,
   "id": "3bb2bbba-feab-45d1-bdce-25bd2276e27d",
   "metadata": {},
   "outputs": [],
   "source": [
    "times"
   ]
  },
  {
   "cell_type": "code",
   "execution_count": 11,
   "id": "ed43a42b-6711-4fde-9347-df8790743746",
   "metadata": {},
   "outputs": [],
   "source": [
    "campeonato"
   ]
  },
  {
   "cell_type": "code",
   "execution_count": null,
   "id": "c47f7e71-53e7-40d5-8d8b-3a994c54c400",
   "metadata": {},
   "outputs": [],
   "source": []
  }
 ],
 "metadata": {
  "kernelspec": {
   "display_name": "futebol",
   "language": "python",
   "name": "futebol"
  },
  "language_info": {
   "codemirror_mode": {
    "name": "ipython",
    "version": 3
   },
   "file_extension": ".py",
   "mimetype": "text/x-python",
   "name": "python",
   "nbconvert_exporter": "python",
   "pygments_lexer": "ipython3",
   "version": "3.8.12"
  }
 },
 "nbformat": 4,
 "nbformat_minor": 5
}
