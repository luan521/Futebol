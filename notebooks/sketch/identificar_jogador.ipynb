{
 "cells": [
  {
   "cell_type": "code",
   "execution_count": 1,
   "metadata": {},
   "outputs": [],
   "source": [
    "import sys\n",
    "sys.path.append('/home/luan/futebol/Futebol')"
   ]
  },
  {
   "cell_type": "code",
   "execution_count": 2,
   "metadata": {},
   "outputs": [],
   "source": [
    "from cafu.utils.queries.temp import (sem_espaco, padrao, padrao_inicio_fim, mes,\n",
    "                                     jogadores_inscritos, teste_gols, gols_casa_visitante)"
   ]
  },
  {
   "cell_type": "markdown",
   "metadata": {},
   "source": [
    "link do jogo: https://www.espn.com.br/futebol/partida-estatisticas?jogoId=614698"
   ]
  },
  {
   "cell_type": "code",
   "execution_count": 3,
   "metadata": {},
   "outputs": [],
   "source": [
    "jogo_id='614698'"
   ]
  },
  {
   "cell_type": "code",
   "execution_count": 4,
   "metadata": {},
   "outputs": [],
   "source": [
    "jogadores_casa_0, jogadores_visitante_0 = jogadores_inscritos(jogo_id)\n",
    "\n",
    "jogadores_casa_1=[]\n",
    "jogadores_visitante_1=[]\n",
    "s=1\n",
    "i=0\n",
    "while s<=12:\n",
    "    if s<12 or jogadores_casa_0[i][2]!=0:\n",
    "        jogadores_casa_1.append(jogadores_casa_0[i])\n",
    "    i+=1\n",
    "    if jogadores_casa_0[i][2]==0:\n",
    "        s+=1\n",
    "\n",
    "s=1\n",
    "i=0\n",
    "while s<=12:\n",
    "    if s<12 or jogadores_visitante_0[i][2]!=0:\n",
    "        jogadores_visitante_1.append(jogadores_visitante_0[i])\n",
    "    i+=1\n",
    "    if jogadores_visitante_0[i][2]==0:\n",
    "        s+=1\n",
    "\n",
    "jogadores_casa=[]\n",
    "jogadores_visitante=[]\n",
    "for i in range(len(jogadores_casa_1)):\n",
    "    jogadores_casa.append({'nome': jogadores_casa_1[i][0], 'camisa': jogadores_casa_1[i][1], 'inicio_jogando': jogadores_casa_1[i][2], 'final_jogando': 90})\n",
    "    if i<len(jogadores_casa_1)-1 and jogadores_casa_1[i+1][2]!=0:\n",
    "        jogadores_casa[i]['final_jogando']=jogadores_casa_1[i+1][2]\n",
    "\n",
    "for i in range(len(jogadores_visitante_1)):\n",
    "    jogadores_visitante.append({'nome': jogadores_visitante_1[i][0], 'camisa': jogadores_visitante_1[i][1], 'inicio_jogando': jogadores_visitante_1[i][2], 'final_jogando': 90})\n",
    "    if i<len(jogadores_visitante_1)-1 and jogadores_visitante_1[i+1][2]!=0:\n",
    "        jogadores_visitante[i]['final_jogando']=jogadores_visitante_1[i+1][2]"
   ]
  },
  {
   "cell_type": "code",
   "execution_count": 7,
   "metadata": {},
   "outputs": [
    {
     "data": {
      "text/plain": [
       "[['Boris Radunovic', 31, 0],\n",
       " ['Edoardo Goldaniga', 3, 0],\n",
       " ['Luca Ceppitelli', 23, 86],\n",
       " ['Adam Obert', 33, 0],\n",
       " ['Giorgio Altare', 15, 0],\n",
       " ['Matteo Lovato', 66, 45],\n",
       " ['Dalbert', 29, 0],\n",
       " ['Luca Gagliano', 19, 81],\n",
       " ['Razvan Marin', 8, 0],\n",
       " ['Alberto Grassi', 27, 0],\n",
       " ['Christos Kourfalidis', 39, 74],\n",
       " ['Raoul Bellanova', 12, 0],\n",
       " ['Gabriele Zappa', 25, 0],\n",
       " ['Gastón Pereiro', 20, 0],\n",
       " ['João Pedro', 10, 0],\n",
       " ['Simone Aresti', 1, 0],\n",
       " ['Eldin Lolic', 43, 0],\n",
       " ['Luigi Palomba', 41, 0],\n",
       " ['Iurie Iovu', 42, 0],\n",
       " ['Lisandru Tramoni', 45, 0],\n",
       " ['Riccardo Ladinetti', 35, 0]]"
      ]
     },
     "execution_count": 7,
     "metadata": {},
     "output_type": "execute_result"
    }
   ],
   "source": [
    "jogadores_casa_0"
   ]
  },
  {
   "cell_type": "code",
   "execution_count": 9,
   "metadata": {},
   "outputs": [],
   "source": [
    "import requests as r\n",
    "from html2json import collect\n",
    "import json\n",
    "from bs4 import BeautifulSoup\n",
    "import datetime"
   ]
  },
  {
   "cell_type": "code",
   "execution_count": 10,
   "metadata": {},
   "outputs": [],
   "source": [
    "req = r.get(\"https://www.espn.com.br/futebol/escalacoes?jogoId=\"+jogo_id)\n",
    "soup=BeautifulSoup(req.content, 'html.parser')\n",
    "st=soup.prettify()\n",
    "abt=sem_espaco(st)\n",
    "\n",
    "s=padrao_inicio_fim(['<span','class=\"name\">\\n','<a'],['</a>\\n'],abt)\n",
    "\n",
    "# Buscar em qual índice ocorre a mudança, dos jogadores do time da casa, para os jogadores do time visitante.\n",
    "abt0=abt[s[0][0]:s[len(s)-1][1]] \n",
    "ind_change=padrao(['class=\"name\">\\n\\t\\t\\t\\n\\t\\t\\t<span'],abt0)[0][0]+s[0][0]\n",
    "\n",
    "player=[]\n",
    "for q in range(len(s)):\n",
    "    abt1=abt[s[q][0]+5:s[q][1]-1]\n",
    "    abt1\n",
    "    jogador = ''\n",
    "    for x in abt1:\n",
    "        jogador = jogador + ' ' + x\n",
    "\n",
    "    jogador=jogador[1:-1]\n",
    "\n",
    "    i=0\n",
    "    stop=False\n",
    "    while not stop:\n",
    "        try:\n",
    "            camisa=int(abt[s[q][0]-i][:-1])\n",
    "        except:\n",
    "            camisa=None\n",
    "        if i==8 or camisa != None:\n",
    "            stop = True\n",
    "        i+=1\n",
    "\n",
    "    abt1=abt[s[q][0]-8:s[q][0]]\n",
    "    v=padrao_inicio_fim(['class=\"detail\">\\n'],['</span>\\n'],abt1)\n",
    "    try:\n",
    "        tempo_substituicao=int(abt1[v[0][0]+1][:-2])\n",
    "    except:\n",
    "        try:\n",
    "            tempo_substituicao=int(abt1[v[0][0]+1][:-5])\n",
    "        except:\n",
    "            tempo_substituicao=0\n",
    "\n",
    "    if s[q][0] < ind_change:\n",
    "        time = 'casa'\n",
    "    else:\n",
    "        time = 'visitante'\n",
    "\n",
    "    player.append([jogador, camisa, tempo_substituicao, time])\n",
    "\n",
    "jogadores_casa_0=[x[:-1] for x in player if x[-1] == 'casa']\n",
    "jogadores_visitante_0=[x[:-1] for x in player if x[-1] == 'visitante']"
   ]
  },
  {
   "cell_type": "code",
   "execution_count": 12,
   "metadata": {},
   "outputs": [],
   "source": [
    "from cafu.utils import WebdriverChrome"
   ]
  },
  {
   "cell_type": "code",
   "execution_count": 15,
   "metadata": {},
   "outputs": [],
   "source": [
    "web = WebdriverChrome(headless=False)"
   ]
  },
  {
   "cell_type": "code",
   "execution_count": 18,
   "metadata": {},
   "outputs": [],
   "source": [
    "web.web.get('https://www.espn.com.br/futebol/escalacoes?jogoId=614698')"
   ]
  },
  {
   "cell_type": "code",
   "execution_count": 21,
   "metadata": {},
   "outputs": [],
   "source": [
    "links = [e.get_attribute('href') for e in web.web.find_elements_by_tag_name('a')]"
   ]
  },
  {
   "cell_type": "code",
   "execution_count": 40,
   "metadata": {},
   "outputs": [
    {
     "data": {
      "text/plain": [
       "['jogador/_/id/76017']"
      ]
     },
     "execution_count": 40,
     "metadata": {},
     "output_type": "execute_result"
    }
   ],
   "source": [
    "import re\n",
    "padrao = 'jogador/.+/id/[0-9]+'\n",
    "a =  'https://www.espn.com.br/futebol/jogador/_/id/76017/nicolas-gonzalez'\n",
    "re.findall(padrao, a)"
   ]
  },
  {
   "cell_type": "code",
   "execution_count": 5,
   "metadata": {},
   "outputs": [],
   "source": [
    "from cafu.utils import WebdriverChrome\n",
    "import re\n",
    "\n",
    "def find_id_jogadores(jogo_id):\n",
    "    \"\"\"\n",
    "    Args:\n",
    "        jogo_id: (int) completa o link https://www.espn.com.br/futebol/escalacoes?jogoId=<jogo_id>. \n",
    "    Returns:\n",
    "        list: códigos dos jogadores que foram inscritos para a partida, referente ao <jogo_id>\n",
    "    \"\"\"\n",
    "    \n",
    "    web = WebdriverChrome()\n",
    "    link_partida = f'https://www.espn.com.br/futebol/escalacoes?jogoId={jogo_id}'\n",
    "    web.web.get(link_partida)\n",
    "    \n",
    "    padrao = 'jogador/.+/id/[0-9]+/.+'\n",
    "    links_0 = web.web.find_elements_by_tag_name('a')\n",
    "    links = [l.get_attribute('href') for l in links_0]\n",
    "    \n",
    "    web.web.close()\n",
    "    \n",
    "    ids_jogadores = []\n",
    "    for l in links:\n",
    "        try:\n",
    "            id_ = re.findall(padrao, l)[0][13:]\n",
    "            id_part1 = id_.split('/')[0]\n",
    "            id_part2 = id_.split('/')[1]\n",
    "            ids_jogadores.append({'part1': id_part1, 'id_part2': id_part2})\n",
    "        except:\n",
    "            pass\n",
    "    return ids_jogadores"
   ]
  },
  {
   "cell_type": "code",
   "execution_count": 6,
   "metadata": {},
   "outputs": [],
   "source": [
    "ids = find_id_jogadores(jogo_id='614698')"
   ]
  },
  {
   "cell_type": "code",
   "execution_count": 105,
   "metadata": {
    "tags": []
   },
   "outputs": [],
   "source": [
    "from Levenshtein import distance\n",
    "from unidecode import unidecode\n",
    "def identify_string_in_list(string, list_strings):\n",
    "    \"\"\"\n",
    "    Args:\n",
    "        string: (str) \n",
    "        list_strings: (list) strings \n",
    "    Returns:\n",
    "        str: string na lista <list_strings> mais parecida com <string>\n",
    "    \"\"\"\n",
    "\n",
    "    # lower: todas as letras minúsculas\n",
    "    # unidecode: sem acento\n",
    "    # replace('-',' '): substitui - por espaço\n",
    "    string = unidecode(string.lower())\n",
    "    list_strings = [unidecode(s.lower()).replace('-',' ') for s in list_strings] \n",
    "\n",
    "    index_string_in_list = 0\n",
    "    min_dist = distance(string, list_strings[index_string_in_list])\n",
    "    for i, s in enumerate(list_strings):\n",
    "        dist = distance(string, list_strings[i])\n",
    "        if dist < min_dist:\n",
    "            index_string_in_list = i\n",
    "            min_dist = dist\n",
    "    \n",
    "    #if dist > 0:\n",
    "    #    logging.warning(f\"WARNING : distance(string_input={string}, \"\n",
    "    #                    f\"string_found={list_strings[index_string_in_list]}) = {dist}\")\n",
    "    \n",
    "    return list_strings[index_string_in_list]"
   ]
  },
  {
   "cell_type": "code",
   "execution_count": 4,
   "metadata": {},
   "outputs": [],
   "source": [
    "from cafu import identify_string_in_list"
   ]
  },
  {
   "cell_type": "code",
   "execution_count": 7,
   "metadata": {},
   "outputs": [
    {
     "data": {
      "text/plain": [
       "'riccardo sottil'"
      ]
     },
     "execution_count": 7,
     "metadata": {},
     "output_type": "execute_result"
    }
   ],
   "source": [
    "nomes_ids = [c['id_part2'] for c in ids]\n",
    "nome = 'Riccardo Sottil'\n",
    "#nome = 'Boris Radunovic'\n",
    "identify_string_in_list(nome, nomes_ids)"
   ]
  },
  {
   "cell_type": "code",
   "execution_count": null,
   "metadata": {},
   "outputs": [],
   "source": [
    "nomes_ids[]"
   ]
  }
 ],
 "metadata": {
  "kernelspec": {
   "display_name": "futebol",
   "language": "python",
   "name": "futebol"
  },
  "language_info": {
   "codemirror_mode": {
    "name": "ipython",
    "version": 3
   },
   "file_extension": ".py",
   "mimetype": "text/x-python",
   "name": "python",
   "nbconvert_exporter": "python",
   "pygments_lexer": "ipython3",
   "version": "3.8.12"
  }
 },
 "nbformat": 4,
 "nbformat_minor": 4
}
