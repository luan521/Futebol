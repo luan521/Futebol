{
 "cells": [
  {
   "cell_type": "code",
   "execution_count": 1,
   "id": "f8b7824c-f469-4f6a-9e78-c628c4796278",
   "metadata": {},
   "outputs": [],
   "source": [
    "from pyspark.sql import SparkSession\n",
    "\n",
    "def get_spark(memory, delta = False):\n",
    "    \"\"\"\n",
    "    Cria uma sessão do spark e uma sessão do delta lake\n",
    "    \n",
    "    Args:\n",
    "        memory: (int) valor da memória do driver e executor\n",
    "        delta: (bool) flag para definir o uso do delta lake\n",
    "    Returns:\n",
    "        (spark session), (delta lake session, optional)\n",
    "    \"\"\"\n",
    "    spark = (\n",
    "        SparkSession\n",
    "        .builder\n",
    "        .config('spark.sql.broadcastTimeout', '360000')\n",
    "        .config('spark.serializer', 'org.apache.spark.serializer.KryoSerializer')\n",
    "        .config('spark.driver.memory', f'{memory}G')\n",
    "        .config('spark.executor.memory', f'{memory}G')\n",
    "        .config('spark.driver.maxResultSize', '4G')\n",
    "        .config('spark.sql.debug.maxToStringFields', 100)\n",
    "        .config('spark.ui.showConsoleProgress', 'true')\n",
    "        .config(\"spark.databricks.delta.schema.autoMerge.enabled\", \"true\")\n",
    "        .config(\"spark.jars.packages\", \"io.delta:delta-core_2.12:1.0.0\")\n",
    "        .config(\"spark.sql.extensions\", \"io.delta.sql.DeltaSparkSessionExtension\")\n",
    "        .config(\"spark.sql.catalog.spark_catalog\", \"org.apache.spark.sql.delta.catalog.DeltaCatalog\")\n",
    "        .config(\"spark.databricks.delta.retentionDurationCheck.enabled\", \"false\")\n",
    "        .config(\"spark.databricks.delta.vacuum.parallelDelete.enabled\", \"true\")\n",
    "        \n",
    "        .getOrCreate()\n",
    "    )\n",
    "\n",
    "    if delta:\n",
    "        from delta.tables import DeltaTable\n",
    "        return spark, DeltaTable\n",
    "\n",
    "    return spark"
   ]
  },
  {
   "cell_type": "code",
   "execution_count": 4,
   "id": "517a7476-971c-450b-82c5-f79950546198",
   "metadata": {},
   "outputs": [],
   "source": [
    "spark, delta = get_spark(1, delta = True)"
   ]
  },
  {
   "cell_type": "code",
   "execution_count": 5,
   "id": "3b540574-8bb7-4ec8-8b1e-1137f9245ed0",
   "metadata": {},
   "outputs": [
    {
     "data": {
      "text/plain": [
       "delta.tables.DeltaTable"
      ]
     },
     "execution_count": 5,
     "metadata": {},
     "output_type": "execute_result"
    }
   ],
   "source": [
    "delta"
   ]
  }
 ],
 "metadata": {
  "kernelspec": {
   "display_name": "futebol",
   "language": "python",
   "name": "futebol"
  },
  "language_info": {
   "codemirror_mode": {
    "name": "ipython",
    "version": 3
   },
   "file_extension": ".py",
   "mimetype": "text/x-python",
   "name": "python",
   "nbconvert_exporter": "python",
   "pygments_lexer": "ipython3",
   "version": "3.8.12"
  }
 },
 "nbformat": 4,
 "nbformat_minor": 5
}
