{
 "cells": [
  {
   "cell_type": "code",
   "execution_count": null,
   "id": "766e1548-8040-4ba1-ace2-810c0199aeb0",
   "metadata": {
    "tags": []
   },
   "outputs": [],
   "source": [
    "from modulos.utils import read_delta, save_delta\n",
    "from delta.tables import DeltaTable"
   ]
  },
  {
   "cell_type": "markdown",
   "id": "43d17e94-ba87-41a8-9f3b-9ea8d5f198b3",
   "metadata": {},
   "source": [
    "## Visualizando o mesmo Delta Lake"
   ]
  },
  {
   "cell_type": "code",
   "execution_count": null,
   "id": "bfc7b4d4-905d-45ea-8262-a22f7de6f0ce",
   "metadata": {},
   "outputs": [],
   "source": [
    "path_delta_example = 'gs://cinnecta-teste/temp/delta_example'"
   ]
  },
  {
   "cell_type": "code",
   "execution_count": null,
   "id": "3f6ab706-384c-45d4-a370-714349e4d22c",
   "metadata": {},
   "outputs": [],
   "source": [
    "df_table = DeltaTable.forPath(spark, path_delta_example)\n",
    "df = read_delta(spark, datapath=path_delta_example)"
   ]
  },
  {
   "cell_type": "code",
   "execution_count": null,
   "id": "56b3aca4-06ba-46df-8635-4894e13c7d71",
   "metadata": {},
   "outputs": [],
   "source": [
    "df_table.history().toPandas()"
   ]
  },
  {
   "cell_type": "code",
   "execution_count": null,
   "id": "f329aad4-f37f-4c6c-aebe-210e6987a89b",
   "metadata": {},
   "outputs": [],
   "source": [
    "df.show()"
   ]
  },
  {
   "cell_type": "markdown",
   "id": "a7342159-47d2-4554-ab49-4f0132e0ba41",
   "metadata": {},
   "source": [
    "## Atualizando o Delta Lake"
   ]
  },
  {
   "cell_type": "markdown",
   "id": "2fa9d3f7-5aee-4181-841c-e3d564ab28fb",
   "metadata": {},
   "source": [
    "- **atualização 1**"
   ]
  },
  {
   "cell_type": "code",
   "execution_count": null,
   "id": "dd289ef7-ac64-43a6-94f4-bda69bc9684a",
   "metadata": {},
   "outputs": [],
   "source": [
    "df_table.update(\"col1 = 'a'\", { \"col3\": \"col2+col3\"})"
   ]
  },
  {
   "cell_type": "code",
   "execution_count": null,
   "id": "56e27606-2267-4a90-b5cc-5c80b591c034",
   "metadata": {},
   "outputs": [],
   "source": [
    "df_table.history().toPandas()"
   ]
  },
  {
   "cell_type": "code",
   "execution_count": null,
   "id": "f1557510-d1d2-4940-9d8e-e09b81d78ea2",
   "metadata": {},
   "outputs": [],
   "source": [
    "df.show()"
   ]
  },
  {
   "cell_type": "markdown",
   "id": "f97a2728-a842-444d-8e9a-622ed033c0ea",
   "metadata": {},
   "source": [
    "- **atualização 2**"
   ]
  },
  {
   "cell_type": "code",
   "execution_count": null,
   "id": "b18c768a-0f25-4f5f-8c27-6b0b3c330126",
   "metadata": {},
   "outputs": [],
   "source": [
    "from modulos.utils import update_historical_delta"
   ]
  },
  {
   "cell_type": "code",
   "execution_count": null,
   "id": "b969f9e2-5e90-4803-b7d3-baf17b92e820",
   "metadata": {},
   "outputs": [],
   "source": [
    "data = [{'col1': 'b', 'col2': 5, 'col3': 50, 'data': '2021-10-03'},\n",
    "        {'col1': 'e', 'col2': 6, 'col3': 60, 'data': '2021-10-03'},\n",
    "       ]\n",
    "df_new = spark.createDataFrame(data)\n",
    "df_new.show()"
   ]
  },
  {
   "cell_type": "code",
   "execution_count": null,
   "id": "2d2a0419-9dd2-4ece-91ee-f3bddf8bf5fe",
   "metadata": {},
   "outputs": [],
   "source": [
    "update_historical_delta(path_delta_example, df_new, ['col1'], spark, DeltaTable)"
   ]
  },
  {
   "cell_type": "code",
   "execution_count": null,
   "id": "d7a4c8a6-b15b-47ab-a274-18c157bde0b0",
   "metadata": {},
   "outputs": [],
   "source": [
    "df_table.history().toPandas()"
   ]
  },
  {
   "cell_type": "code",
   "execution_count": null,
   "id": "bf16eef3-a773-4cf7-84cf-75ab82b80259",
   "metadata": {},
   "outputs": [],
   "source": [
    "df.show()"
   ]
  },
  {
   "cell_type": "markdown",
   "id": "76ea9b55-2b3e-4961-85df-4d1391d7230b",
   "metadata": {},
   "source": [
    "- **atualização 3**"
   ]
  },
  {
   "cell_type": "code",
   "execution_count": null,
   "id": "bcca4b3a-94bc-45ab-879a-95b4b6213add",
   "metadata": {},
   "outputs": [],
   "source": [
    "data = [{'col1': 'c', 'col2': 7, 'col3': 70, 'data': '2021-10-01'},\n",
    "        {'col1': 'd', 'col2': 8, 'col3': 80, 'data': '2021-10-03'},\n",
    "       ]\n",
    "df_new = spark.createDataFrame(data)\n",
    "df_new.show()"
   ]
  },
  {
   "cell_type": "code",
   "execution_count": null,
   "id": "98c237c1-f30c-44dd-b8df-a574771c54f4",
   "metadata": {},
   "outputs": [],
   "source": [
    "filter_update = \"oldData.data < newData.data\"\n",
    "\n",
    "update_historical_delta(path_delta_example, df_new, ['col1'], spark, DeltaTable, filter_update)"
   ]
  },
  {
   "cell_type": "code",
   "execution_count": null,
   "id": "7ef1e775-d91d-4881-876a-353bf13a7edd",
   "metadata": {},
   "outputs": [],
   "source": [
    "df_table.history().toPandas()"
   ]
  },
  {
   "cell_type": "code",
   "execution_count": null,
   "id": "50078718-21f7-4082-b143-c5171d9497c5",
   "metadata": {},
   "outputs": [],
   "source": [
    "df.show()"
   ]
  }
 ],
 "metadata": {
  "kernelspec": {
   "display_name": "PySpark",
   "language": "python",
   "name": "pyspark"
  },
  "language_info": {
   "codemirror_mode": {
    "name": "ipython",
    "version": 3
   },
   "file_extension": ".py",
   "mimetype": "text/x-python",
   "name": "python",
   "nbconvert_exporter": "python",
   "pygments_lexer": "ipython3",
   "version": "3.8.12"
  }
 },
 "nbformat": 4,
 "nbformat_minor": 5
}
