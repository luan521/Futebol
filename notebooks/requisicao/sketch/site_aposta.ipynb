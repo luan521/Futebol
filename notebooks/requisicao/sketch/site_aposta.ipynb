{
 "cells": [
  {
   "cell_type": "code",
   "execution_count": 1,
   "metadata": {},
   "outputs": [],
   "source": [
    "import sys\n",
    "sys.path.append('C:\\\\Users\\\\Luan\\\\futebol\\\\Futebol')"
   ]
  },
  {
   "cell_type": "code",
   "execution_count": 4,
   "metadata": {},
   "outputs": [],
   "source": [
    "from cafu.utils import WebdriverChrome"
   ]
  },
  {
   "cell_type": "code",
   "execution_count": 2,
   "metadata": {},
   "outputs": [],
   "source": [
    "path_driver = 'C:\\\\Users\\\\Luan\\\\futebol\\\\Futebol\\\\chromedriver.exe'\n",
    "#web_init = WebdriverChrome(path_driver)\n",
    "#web = web_init.web"
   ]
  },
  {
   "cell_type": "markdown",
   "metadata": {},
   "source": [
    "- login automático\n",
    "- dado uma página em um campeonato, conseguir entrar dentro de todos os jogos\n",
    "- dado uma página dentro de um jogo, conseguir puxar todas as odds. **Desenvolver uma estrutura aproveitável para a aposta automática**"
   ]
  },
  {
   "cell_type": "markdown",
   "metadata": {},
   "source": [
    "## dafabet\n",
    "\n",
    "- https://www.dafabet.com/pt/dfgoal/sports/240-football/22977-brazil"
   ]
  },
  {
   "cell_type": "code",
   "execution_count": null,
   "metadata": {},
   "outputs": [],
   "source": [
    "https://www.dafabet.com/pt/dfgoal/sports/240-football/23332-argentina"
   ]
  },
  {
   "cell_type": "code",
   "execution_count": 4,
   "metadata": {},
   "outputs": [],
   "source": [
    "class_name = 'formatted_price.price'\n",
    "# class_name = 'outcome.outcome-button.outcome_24638773397.ordpos_1'\n",
    "# class_name = 'outcome.outcome-button.outcome_24658710367.ordpos_1'\n",
    "\n",
    "l = web.find_elements_by_class_name(class_name)"
   ]
  },
  {
   "cell_type": "code",
   "execution_count": 22,
   "metadata": {},
   "outputs": [],
   "source": [
    "class_name = 'event_path-title.ellipsis.rollup-title.x.collapsed'\n",
    "u = web.find_elements_by_class_name(class_name)"
   ]
  },
  {
   "cell_type": "code",
   "execution_count": 20,
   "metadata": {},
   "outputs": [
    {
     "data": {
      "text/plain": [
       "'Mais de / Menos de - Tempo Regular'"
      ]
     },
     "execution_count": 20,
     "metadata": {},
     "output_type": "execute_result"
    }
   ],
   "source": [
    "u[2].text"
   ]
  },
  {
   "cell_type": "code",
   "execution_count": 5,
   "metadata": {},
   "outputs": [
    {
     "name": "stdout",
     "output_type": "stream",
     "text": [
      "\n",
      "\n",
      "\n",
      "\n"
     ]
    }
   ],
   "source": [
    "list_index_0 = [0,1,2]\n",
    "list_index_1 = [9,10,11,12]\n",
    "list_index_2 = [13,14,15,16]\n",
    "\n",
    "for i in list_index_2:\n",
    "    print(l[i].text)"
   ]
  },
  {
   "cell_type": "code",
   "execution_count": 10,
   "metadata": {},
   "outputs": [
    {
     "name": "stdout",
     "output_type": "stream",
     "text": [
      "31: 2.00\n",
      "32: 1.75\n"
     ]
    }
   ],
   "source": [
    "for i in range(len(l)):\n",
    "    if l[i].text != '':\n",
    "        print(f'{i}: {l[i].text}')"
   ]
  },
  {
   "cell_type": "code",
   "execution_count": 24,
   "metadata": {},
   "outputs": [
    {
     "name": "stdout",
     "output_type": "stream",
     "text": [
      "0: Mais de / Menos de - Juventude RS - Tempo Regular\n",
      "1: Mais de / Menos de - CA Mineiro MG - Tempo Regular\n",
      "2: Mais de / Menos de - Tempo Regular\n",
      "5: Mais de / Menos de - Juventude RS - Primeiro Tempo\n",
      "6: Mais de / Menos de - CA Mineiro MG - Primeiro Tempo\n",
      "7: Mais de / Menos de - Primeiro Tempo\n",
      "8: Mais de / Menos de - Juventude RS - Segundo Tempo\n",
      "9: Mais de / Menos de - Segundo Tempo\n",
      "10: Mais de / Menos de - CA Mineiro MG - Segundo Tempo\n",
      "13: Qual time a marcar (sem receber gol) - Tempo Regular\n",
      "14: Handicap Europeu - Tempo Regular\n",
      "29: Match-bet and Totals - Tempo Regular\n",
      "35: Ímpar/Par Total de Gols - Tempo Regular\n",
      "36: Ímpar/Par Total de Gols - Primeiro Tempo\n",
      "37: Última equipe a marcar - Tempo Regular\n",
      "47: Sem sofrer gols - CA Mineiro MG - Tempo Regular\n",
      "48: Sem sofrer gols - Juventude RS - Tempo Regular\n"
     ]
    }
   ],
   "source": [
    "for i in range(len(u)):\n",
    "    if u[i].text != '':\n",
    "        print(f'{i}: {u[i].text}')"
   ]
  },
  {
   "cell_type": "code",
   "execution_count": 9,
   "metadata": {},
   "outputs": [
    {
     "name": "stdout",
     "output_type": "stream",
     "text": [
      "0: 2.85\n",
      "1: 3.15\n",
      "2: 2.65\n",
      "9: 2.00\n",
      "10: 1.90\n",
      "11: 1.98\n",
      "12: 1.90\n",
      "27: 1.80\n",
      "28: 2.08\n"
     ]
    }
   ],
   "source": [
    "for i in range(len(l)):\n",
    "    if l[i].text != '':\n",
    "        print(f'{i}: {l[i].text}')"
   ]
  },
  {
   "cell_type": "code",
   "execution_count": null,
   "metadata": {},
   "outputs": [],
   "source": [
    "<span class=\"formatted_price price\" data-description=\"Atletico Mineiro MG\">\n",
    "                  1.28\n",
    "                </span>"
   ]
  },
  {
   "cell_type": "code",
   "execution_count": 5,
   "metadata": {},
   "outputs": [
    {
     "data": {
      "text/plain": [
       "0"
      ]
     },
     "execution_count": 5,
     "metadata": {},
     "output_type": "execute_result"
    }
   ],
   "source": [
    "3084614290\n",
    "//*[@id=\"market_3084614290\"]/table/tbody/tr/td[1]/span[2]/span/span"
   ]
  },
  {
   "cell_type": "code",
   "execution_count": 35,
   "metadata": {},
   "outputs": [],
   "source": [
    "from time import sleep"
   ]
  },
  {
   "cell_type": "code",
   "execution_count": 40,
   "metadata": {},
   "outputs": [],
   "source": [
    "def join_link_odds_partida(web, index, max_iterate=5):\n",
    "    \"\"\"\n",
    "    Entra dentro do link de uma partida, site dafabet, dado a conexão com um campeonato na api <web>\n",
    "    \n",
    "    Args:\n",
    "        web: (str) chromedriver conectado em um campeonato\n",
    "        index: (int) índice da partida do campeonato\n",
    "        max_iterate: número máximo de tentativas\n",
    "    Returns:\n",
    "        str: descrição da partida, quando o método é bem sucedido\n",
    "    \"\"\"\n",
    "    \n",
    "    i = 1\n",
    "    success = False \n",
    "    while (i<=max_iterate) and not success:\n",
    "        try:\n",
    "            partidas = web.find_elements_by_class_name('more_markets')\n",
    "            qt_odds = partidas[index].text\n",
    "            if qt_odds == '0':\n",
    "                break\n",
    "            partidas[index].click()\n",
    "            sleep(2)\n",
    "            descricao_partida = {}\n",
    "            try:\n",
    "                descricao_partida_texto = web.find_elements_by_class_name('event-header-description')[0].text\n",
    "                descricao_partida['horario'] = descricao_partida_texto.split('\\n')[1][9:]\n",
    "                descricao_partida['time_casa'] = descricao_partida_texto.split('\\n')[0].split(' vs ')[0]\n",
    "                descricao_partida['time_visitante'] = descricao_partida_texto.split('\\n')[0].split(' vs ')[1]\n",
    "            except:\n",
    "                descricao_partida_texto = web.find_elements_by_class_name('live-event')[0].text\n",
    "                descricao_partida['horario'] = 'ao vivo'\n",
    "                descricao_partida['time_casa'] = descricao_partida_texto.split(' vs ')[0]\n",
    "                descricao_partida['time_visitante'] = descricao_partida_texto.split(' vs ')[1]\n",
    "            success = True\n",
    "        except:\n",
    "            pass\n",
    "        i+=1\n",
    "        \n",
    "    if success:\n",
    "        return descricao_partida\n",
    "    else:\n",
    "        return 'failure'"
   ]
  },
  {
   "cell_type": "code",
   "execution_count": 43,
   "metadata": {},
   "outputs": [
    {
     "data": {
      "text/plain": [
       "{'horario': 'Amanhã - 20:00',\n",
       " 'time_casa': 'Santos SP',\n",
       " 'time_visitante': 'Fortaleza CE'}"
      ]
     },
     "execution_count": 43,
     "metadata": {},
     "output_type": "execute_result"
    }
   ],
   "source": [
    "join_link_odds_partida(tr.web, 2)"
   ]
  },
  {
   "cell_type": "code",
   "execution_count": 153,
   "metadata": {},
   "outputs": [
    {
     "name": "stdout",
     "output_type": "stream",
     "text": [
      "Printed immediately.\n",
      "Printed after 2.4 seconds.\n"
     ]
    }
   ],
   "source": [
    "print(\"Printed immediately.\")\n",
    "sleep(2.4)\n",
    "print(\"Printed after 2.4 seconds.\")"
   ]
  },
  {
   "cell_type": "code",
   "execution_count": 25,
   "metadata": {},
   "outputs": [],
   "source": [
    "u = tr.web.find_elements_by_class_name('live-event')"
   ]
  },
  {
   "cell_type": "code",
   "execution_count": 28,
   "metadata": {},
   "outputs": [
    {
     "data": {
      "text/plain": [
       "'Fluminense RJ'"
      ]
     },
     "execution_count": 28,
     "metadata": {},
     "output_type": "execute_result"
    }
   ],
   "source": [
    "u[0].text.split(' vs ')[0]"
   ]
  },
  {
   "cell_type": "code",
   "execution_count": 148,
   "metadata": {},
   "outputs": [],
   "source": [
    "descricao_partida_texto = tr.web.find_elements_by_class_name('event-header-description')[0].text\n",
    "descricao_partida = {}\n",
    "descricao_partida['horario'] = descricao_partida_texto.split('\\n')[1][9:]\n",
    "descricao_partida['time_casa'] = descricao_partida_texto.split('\\n')[0].split(' vs ')[0]\n",
    "descricao_partida['time_visitante'] = descricao_partida_texto.split('\\n')[0].split(' vs ')[1]"
   ]
  },
  {
   "cell_type": "code",
   "execution_count": 149,
   "metadata": {},
   "outputs": [
    {
     "data": {
      "text/plain": [
       "{'horario': 'Sexta-feira - 20:00',\n",
       " 'time_casa': 'Ponte Preta SP',\n",
       " 'time_visitante': 'Coritiba PR'}"
      ]
     },
     "execution_count": 149,
     "metadata": {},
     "output_type": "execute_result"
    }
   ],
   "source": [
    "descricao_partida"
   ]
  },
  {
   "cell_type": "code",
   "execution_count": 44,
   "metadata": {},
   "outputs": [],
   "source": [
    "l = login.web.find_elements_by_class_name('event-header-description')"
   ]
  },
  {
   "cell_type": "code",
   "execution_count": 48,
   "metadata": {},
   "outputs": [
    {
     "data": {
      "text/plain": [
       "'Ceara CE vs Corinthians SP\\nStarts - Amanhã - 21:00'"
      ]
     },
     "execution_count": 48,
     "metadata": {},
     "output_type": "execute_result"
    }
   ],
   "source": [
    "l[0].text"
   ]
  },
  {
   "cell_type": "markdown",
   "metadata": {},
   "source": [
    "## Login"
   ]
  },
  {
   "cell_type": "code",
   "execution_count": 2,
   "metadata": {},
   "outputs": [],
   "source": [
    "from cafu.utils import Login"
   ]
  },
  {
   "cell_type": "code",
   "execution_count": 5,
   "metadata": {},
   "outputs": [],
   "source": [
    "login = Login(path_driver)"
   ]
  },
  {
   "cell_type": "code",
   "execution_count": 6,
   "metadata": {},
   "outputs": [],
   "source": [
    "login.get_odds_dafabet('brasil-a')"
   ]
  },
  {
   "cell_type": "code",
   "execution_count": 7,
   "metadata": {},
   "outputs": [],
   "source": [
    "login.login()"
   ]
  },
  {
   "cell_type": "markdown",
   "metadata": {},
   "source": [
    "## TrafficOddsPartida"
   ]
  },
  {
   "cell_type": "code",
   "execution_count": 3,
   "metadata": {},
   "outputs": [],
   "source": [
    "from cafu.utils import TrafficOddsPartida"
   ]
  },
  {
   "cell_type": "code",
   "execution_count": 13,
   "metadata": {},
   "outputs": [],
   "source": [
    "tr = TrafficOddsPartida(path_driver) # pode passar o path_driver, ou utilizar a api ja em aberta da classe login\n",
    "#tr.web = login.web"
   ]
  },
  {
   "cell_type": "code",
   "execution_count": 15,
   "metadata": {},
   "outputs": [],
   "source": [
    "tr.get_campeonato_dafabet('brasil-a')"
   ]
  },
  {
   "cell_type": "code",
   "execution_count": 11,
   "metadata": {},
   "outputs": [
    {
     "data": {
      "text/plain": [
       "10"
      ]
     },
     "execution_count": 11,
     "metadata": {},
     "output_type": "execute_result"
    }
   ],
   "source": [
    "tr.get_quantidade_partidas() # Quantidade de partidas"
   ]
  },
  {
   "cell_type": "code",
   "execution_count": 12,
   "metadata": {},
   "outputs": [
    {
     "data": {
      "text/plain": [
       "{'horario': 'Hoje - 21:00',\n",
       " 'time_casa': 'Ceara CE',\n",
       " 'time_visitante': 'Corinthians SP'}"
      ]
     },
     "execution_count": 12,
     "metadata": {},
     "output_type": "execute_result"
    }
   ],
   "source": [
    "tr.join_link_odds_partida(1)"
   ]
  },
  {
   "cell_type": "markdown",
   "metadata": {},
   "source": [
    "## GetOdds"
   ]
  },
  {
   "cell_type": "code",
   "execution_count": 3,
   "metadata": {},
   "outputs": [],
   "source": [
    "from cafu.queries import GetOdds"
   ]
  },
  {
   "cell_type": "code",
   "execution_count": 4,
   "metadata": {},
   "outputs": [],
   "source": [
    "query = GetOdds(path_driver)"
   ]
  },
  {
   "cell_type": "code",
   "execution_count": 7,
   "metadata": {},
   "outputs": [],
   "source": [
    "query.get_campeonato_dafabet('brasil-a')"
   ]
  },
  {
   "cell_type": "code",
   "execution_count": 8,
   "metadata": {},
   "outputs": [
    {
     "data": {
      "text/plain": [
       "6"
      ]
     },
     "execution_count": 8,
     "metadata": {},
     "output_type": "execute_result"
    }
   ],
   "source": [
    "query.get_quantidade_partidas()"
   ]
  },
  {
   "cell_type": "code",
   "execution_count": 9,
   "metadata": {},
   "outputs": [
    {
     "data": {
      "text/plain": [
       "{'horario': 'Amanhã - 17:00',\n",
       " 'time_casa': 'Corinthians SP',\n",
       " 'time_visitante': 'Athletico-PR'}"
      ]
     },
     "execution_count": 9,
     "metadata": {},
     "output_type": "execute_result"
    }
   ],
   "source": [
    "query.join_link_odds_partida(3)"
   ]
  },
  {
   "cell_type": "code",
   "execution_count": 11,
   "metadata": {},
   "outputs": [
    {
     "data": {
      "text/plain": [
       "True"
      ]
     },
     "execution_count": 11,
     "metadata": {},
     "output_type": "execute_result"
    }
   ],
   "source": [
    "query.open_odds()"
   ]
  },
  {
   "cell_type": "code",
   "execution_count": null,
   "metadata": {},
   "outputs": [],
   "source": [
    "odds = query.get_odds()"
   ]
  }
 ],
 "metadata": {
  "kernelspec": {
   "display_name": "Python [conda env:futebol]",
   "language": "python",
   "name": "conda-env-futebol-py"
  },
  "language_info": {
   "codemirror_mode": {
    "name": "ipython",
    "version": 3
   },
   "file_extension": ".py",
   "mimetype": "text/x-python",
   "name": "python",
   "nbconvert_exporter": "python",
   "pygments_lexer": "ipython3",
   "version": "3.9.4"
  }
 },
 "nbformat": 4,
 "nbformat_minor": 4
}
