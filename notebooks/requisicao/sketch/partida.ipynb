{
 "cells": [
  {
   "cell_type": "code",
   "execution_count": 1,
   "metadata": {},
   "outputs": [],
   "source": [
    "import sys\n",
    "sys.path.append('/home/luan/futebol/Futebol')"
   ]
  },
  {
   "cell_type": "code",
   "execution_count": 1,
   "metadata": {},
   "outputs": [],
   "source": [
    "from cafu.queries import Partida"
   ]
  },
  {
   "cell_type": "markdown",
   "metadata": {},
   "source": [
    "link do jogo: https://www.espn.com.br/futebol/partida-estatisticas?jogoId=614698"
   ]
  },
  {
   "cell_type": "code",
   "execution_count": 2,
   "metadata": {},
   "outputs": [],
   "source": [
    "req = Partida('541893')\n",
    "\n",
    "teste_jogo_finalizado = req.teste_jogo_finalizado() # Retorna se o jogo ja foi finalizado.\n",
    "campeonato = req.campeonato() # Retorna o campeonato.\n",
    "data = req.data() # Retorna a data.\n",
    "nomes_times = req.nomes_times() # Retorna o nome dos times.\n",
    "formacao = req.formacao() # Retorna as formações dos times.\n",
    "jogadores = req.jogadores() # Retorna as escalações, e substituições.\n",
    "gols = req.gols() # Retorna os gols que ocorreram, autor do gol e tempo. \n",
    "placar = req.placar() # Retorna o placar. \n",
    "posse = req.posse() # Retorna a posse de bola.\n",
    "chutes_fora_nogol = req.chutes_fora_nogol() # Retorna a quantidade de chutes, no gol e fora do gol.\n",
    "faltas = req.faltas() # Retorna a quantidade de faltas cometidas.\n",
    "cartoes_amarelos = req.cartoes_amarelos() # Retorna a quantidade de cartões amarelos.\n",
    "cartoes_vermelhos = req.cartoes_vermelhos() # Retorna a quantidade de cartões vermelhos.\n",
    "impedimentos = req.impedimentos() # Retorna a quantidade de impedimentos.\n",
    "escanteios = req.escanteios() # Retorna a quantidade de escanteios.\n",
    "defesas = req.defesas() \n",
    "minuto_a_minuto = req.minuto_a_minuto() # Retorna a descrição do jogo, minuto a minuto."
   ]
  },
  {
   "cell_type": "markdown",
   "metadata": {},
   "source": [
    "## Visualizando informações"
   ]
  },
  {
   "cell_type": "code",
   "execution_count": 3,
   "metadata": {},
   "outputs": [
    {
     "data": {
      "text/plain": [
       "True"
      ]
     },
     "execution_count": 3,
     "metadata": {},
     "output_type": "execute_result"
    }
   ],
   "source": [
    "teste_jogo_finalizado"
   ]
  },
  {
   "cell_type": "code",
   "execution_count": 4,
   "metadata": {},
   "outputs": [
    {
     "data": {
      "text/plain": [
       "'Temporada regular'"
      ]
     },
     "execution_count": 4,
     "metadata": {},
     "output_type": "execute_result"
    }
   ],
   "source": [
    "campeonato"
   ]
  },
  {
   "cell_type": "code",
   "execution_count": 5,
   "metadata": {},
   "outputs": [
    {
     "data": {
      "text/plain": [
       "datetime.datetime(2020, 5, 2, 0, 0)"
      ]
     },
     "execution_count": 5,
     "metadata": {},
     "output_type": "execute_result"
    }
   ],
   "source": [
    "data"
   ]
  },
  {
   "cell_type": "code",
   "execution_count": 6,
   "metadata": {},
   "outputs": [
    {
     "data": {
      "text/plain": [
       "('Angers', 'Stade Rennais')"
      ]
     },
     "execution_count": 6,
     "metadata": {},
     "output_type": "execute_result"
    }
   ],
   "source": [
    "nomes_times"
   ]
  },
  {
   "cell_type": "code",
   "execution_count": 7,
   "metadata": {},
   "outputs": [],
   "source": [
    "formacao"
   ]
  },
  {
   "cell_type": "code",
   "execution_count": 8,
   "metadata": {},
   "outputs": [],
   "source": [
    "jogadores"
   ]
  },
  {
   "cell_type": "code",
   "execution_count": 9,
   "metadata": {},
   "outputs": [
    {
     "data": {
      "text/plain": [
       "(None, None)"
      ]
     },
     "execution_count": 9,
     "metadata": {},
     "output_type": "execute_result"
    }
   ],
   "source": [
    "gols"
   ]
  },
  {
   "cell_type": "code",
   "execution_count": 10,
   "metadata": {},
   "outputs": [],
   "source": [
    "placar"
   ]
  },
  {
   "cell_type": "code",
   "execution_count": 11,
   "metadata": {},
   "outputs": [],
   "source": [
    "posse"
   ]
  },
  {
   "cell_type": "code",
   "execution_count": 12,
   "metadata": {},
   "outputs": [],
   "source": [
    "chutes_fora_nogol"
   ]
  },
  {
   "cell_type": "code",
   "execution_count": 13,
   "metadata": {},
   "outputs": [],
   "source": [
    "faltas"
   ]
  },
  {
   "cell_type": "code",
   "execution_count": 14,
   "metadata": {},
   "outputs": [],
   "source": [
    "cartoes_amarelos"
   ]
  },
  {
   "cell_type": "code",
   "execution_count": 15,
   "metadata": {},
   "outputs": [],
   "source": [
    "cartoes_vermelhos"
   ]
  },
  {
   "cell_type": "code",
   "execution_count": 16,
   "metadata": {},
   "outputs": [],
   "source": [
    "impedimentos"
   ]
  },
  {
   "cell_type": "code",
   "execution_count": 17,
   "metadata": {},
   "outputs": [],
   "source": [
    "escanteios"
   ]
  },
  {
   "cell_type": "code",
   "execution_count": 18,
   "metadata": {},
   "outputs": [],
   "source": [
    "defesas"
   ]
  },
  {
   "cell_type": "code",
   "execution_count": 19,
   "metadata": {},
   "outputs": [
    {
     "data": {
      "text/plain": [
       "[]"
      ]
     },
     "execution_count": 19,
     "metadata": {},
     "output_type": "execute_result"
    }
   ],
   "source": [
    "minuto_a_minuto"
   ]
  },
  {
   "cell_type": "code",
   "execution_count": 1,
   "metadata": {},
   "outputs": [],
   "source": [
    "from cafu.utils.queries.partida import mes\n",
    "from cafu.utils.queries.webdriver_chrome import WebdriverChrome\n",
    "import datetime\n",
    "class Partida0(WebdriverChrome):\n",
    "    \"\"\"\n",
    "    Retorna informações sobre uma partida de futebol, buscando no site da ESPN\n",
    "    \n",
    "    Args:\n",
    "        jogo_id: (int or str) completa o link https://www.espn.com.br/futebol/escalacoes?jogoId=<jogo_id>. \n",
    "    \"\"\"\n",
    "\n",
    "    def __init__(self, jogo_id):\n",
    "        super().__init__(headless=False)\n",
    "        self.jogo_id = str(jogo_id)\n",
    "        \n",
    "        # retornando status da partida\n",
    "        self.get_partida_espn(self.jogo_id)\n",
    "        xpath = '//*[@id=\"gamepackage-matchup-wrap--soccer\"]/div[2]/div[2]/span[1]'\n",
    "        status = self.web.find_element_by_xpath(xpath).text\n",
    "        #self.web.close()\n",
    "        if status == 'Finalizado':\n",
    "            print(f'status da partida: {status}')\n",
    "        elif status == 'Cancelado':\n",
    "            print(f'status da partida: {status}')\n",
    "        else:\n",
    "            try:\n",
    "                date = status.split('\\n')\n",
    "                print(f'partida ocorrerá na data: {date}')\n",
    "            except:\n",
    "                pass"
   ]
  },
  {
   "cell_type": "code",
   "execution_count": 9,
   "metadata": {
    "tags": []
   },
   "outputs": [
    {
     "name": "stderr",
     "output_type": "stream",
     "text": [
      "/tmp/ipykernel_21632/1190524157.py:19: DeprecationWarning: find_element_by_* commands are deprecated. Please use find_element() instead\n",
      "  status = self.web.find_element_by_xpath(xpath).text\n"
     ]
    },
    {
     "name": "stdout",
     "output_type": "stream",
     "text": [
      "status da partida: Finalizado\n"
     ]
    }
   ],
   "source": [
    "jogo_id = 609265\n",
    "jogo_id = 541893\n",
    "jogo_id = 541963\n",
    "partida = Partida0(jogo_id)"
   ]
  },
  {
   "cell_type": "code",
   "execution_count": 10,
   "metadata": {},
   "outputs": [
    {
     "name": "stderr",
     "output_type": "stream",
     "text": [
      "/tmp/ipykernel_21632/4005178139.py:2: DeprecationWarning: find_element_by_* commands are deprecated. Please use find_element() instead\n",
      "  text = partida.web.find_element_by_xpath(xpath).text\n",
      "/tmp/ipykernel_21632/4005178139.py:8: DeprecationWarning: find_element_by_* commands are deprecated. Please use find_element() instead\n",
      "  hour_minute = partida.web.find_element_by_xpath(xpath).text\n"
     ]
    }
   ],
   "source": [
    "xpath = '//*[@id=\"gamepackage-game-information\"]/article/div/ul[2]/li/div/span/span[2]'\n",
    "text = partida.web.find_element_by_xpath(xpath).text\n",
    "year = int(text.split(', ')[1])\n",
    "day_month = text.split(', ')[0]\n",
    "day = int(day_month.split(' de ')[0])\n",
    "month = mes(day_month.split(' de ')[1])\n",
    "xpath = '//*[@id=\"gamepackage-game-information\"]/article/div/ul[2]/li/div/span/span[1]'\n",
    "hour_minute = partida.web.find_element_by_xpath(xpath).text\n",
    "hour = int(hour_minute.split(':')[0])\n",
    "minute = int(hour_minute.split(':')[1])\n",
    "date = datetime.datetime(year, month, day, hour, minute)"
   ]
  },
  {
   "cell_type": "code",
   "execution_count": 11,
   "metadata": {},
   "outputs": [
    {
     "data": {
      "text/plain": [
       "datetime.datetime(2020, 3, 6, 17, 0)"
      ]
     },
     "execution_count": 11,
     "metadata": {},
     "output_type": "execute_result"
    }
   ],
   "source": [
    "date"
   ]
  },
  {
   "cell_type": "code",
   "execution_count": 29,
   "metadata": {},
   "outputs": [],
   "source": [
    "date0 = '4 de Março, 2022'\n",
    "year = int(date0.split(', ')[1])\n",
    "day_month = date0.split(', ')[0]\n",
    "day = int(day_month.split(' de ')[0])\n",
    "month = mes(day_month.split(' de ')[1])"
   ]
  },
  {
   "cell_type": "code",
   "execution_count": 32,
   "metadata": {},
   "outputs": [
    {
     "data": {
      "text/plain": [
       "2022"
      ]
     },
     "execution_count": 32,
     "metadata": {},
     "output_type": "execute_result"
    }
   ],
   "source": [
    "year"
   ]
  },
  {
   "cell_type": "code",
   "execution_count": 37,
   "metadata": {},
   "outputs": [
    {
     "name": "stderr",
     "output_type": "stream",
     "text": [
      "/tmp/ipykernel_17088/1169469897.py:2: DeprecationWarning: find_element_by_* commands are deprecated. Please use find_element() instead\n",
      "  hour_minute = partida.web.find_element_by_xpath(class_).text\n"
     ]
    }
   ],
   "source": [
    "class_ = '//*[@id=\"gamepackage-game-information\"]/article/div/ul[2]/li/div/span/span[1]'\n",
    "hour_minute = partida.web.find_element_by_xpath(class_).text\n",
    "hour = int(hour_minute.split(':')[0])\n",
    "minute = int(hour_minute.split(':')[1])"
   ]
  },
  {
   "cell_type": "code",
   "execution_count": 38,
   "metadata": {},
   "outputs": [
    {
     "data": {
      "text/plain": [
       "(17, 0)"
      ]
     },
     "execution_count": 38,
     "metadata": {},
     "output_type": "execute_result"
    }
   ],
   "source": [
    "hour, minute"
   ]
  },
  {
   "cell_type": "code",
   "execution_count": 42,
   "metadata": {},
   "outputs": [
    {
     "name": "stdout",
     "output_type": "stream",
     "text": [
      "year = 2022\n",
      "month = 3\n",
      "hour = 17\n",
      "minute = 0\n"
     ]
    }
   ],
   "source": [
    "date = datetime.datetime(year, month, day, hour, minute)\n",
    "print(\"year =\", date.year)\n",
    "print(\"month =\", date.month)\n",
    "print(\"hour =\", date.hour)\n",
    "print(\"minute =\", date.minute)"
   ]
  },
  {
   "cell_type": "code",
   "execution_count": null,
   "metadata": {},
   "outputs": [],
   "source": [
    "web = WebdriverChrome(headless=False)"
   ]
  },
  {
   "cell_type": "code",
   "execution_count": 12,
   "metadata": {},
   "outputs": [],
   "source": [
    "jogo_id = 609265\n",
    "web.web.get(f'https://www.espn.com.br/futebol/partida/_/jogoId/{jogo_id}')"
   ]
  },
  {
   "cell_type": "code",
   "execution_count": 13,
   "metadata": {},
   "outputs": [
    {
     "name": "stderr",
     "output_type": "stream",
     "text": [
      "/tmp/ipykernel_15422/771902565.py:2: DeprecationWarning: find_element_by_* commands are deprecated. Please use find_element() instead\n",
      "  status = web.web.find_element_by_xpath(xpath).text\n"
     ]
    }
   ],
   "source": [
    "xpath = '//*[@id=\"gamepackage-matchup-wrap--soccer\"]/div[2]/div[2]/span[1]'\n",
    "status = web.web.find_element_by_xpath(xpath).text"
   ]
  },
  {
   "cell_type": "code",
   "execution_count": 2,
   "metadata": {},
   "outputs": [],
   "source": [
    "status = '4/3\\n17:00'\n",
    "date = status.split('\\n')"
   ]
  },
  {
   "cell_type": "code",
   "execution_count": 14,
   "metadata": {},
   "outputs": [
    {
     "data": {
      "text/plain": [
       "'4/3\\n17:00'"
      ]
     },
     "execution_count": 14,
     "metadata": {},
     "output_type": "execute_result"
    }
   ],
   "source": [
    "status"
   ]
  },
  {
   "cell_type": "code",
   "execution_count": 3,
   "metadata": {},
   "outputs": [
    {
     "ename": "NameError",
     "evalue": "name 'datetime' is not defined",
     "output_type": "error",
     "traceback": [
      "\u001b[0;31m---------------------------------------------------------------------------\u001b[0m",
      "\u001b[0;31mNameError\u001b[0m                                 Traceback (most recent call last)",
      "Input \u001b[0;32mIn [3]\u001b[0m, in \u001b[0;36m<module>\u001b[0;34m\u001b[0m\n\u001b[0;32m----> 1\u001b[0m \u001b[43mdatetime\u001b[49m\u001b[38;5;241m.\u001b[39mdatetime(month\u001b[38;5;241m=\u001b[39m\u001b[38;5;241m11\u001b[39m, day\u001b[38;5;241m=\u001b[39m\u001b[38;5;241m10\u001b[39m)\n",
      "\u001b[0;31mNameError\u001b[0m: name 'datetime' is not defined"
     ]
    }
   ],
   "source": [
    "datetime.datetime(month=11, day=10)"
   ]
  }
 ],
 "metadata": {
  "kernelspec": {
   "display_name": "futebol",
   "language": "python",
   "name": "futebol"
  },
  "language_info": {
   "codemirror_mode": {
    "name": "ipython",
    "version": 3
   },
   "file_extension": ".py",
   "mimetype": "text/x-python",
   "name": "python",
   "nbconvert_exporter": "python",
   "pygments_lexer": "ipython3",
   "version": "3.8.12"
  }
 },
 "nbformat": 4,
 "nbformat_minor": 4
}
