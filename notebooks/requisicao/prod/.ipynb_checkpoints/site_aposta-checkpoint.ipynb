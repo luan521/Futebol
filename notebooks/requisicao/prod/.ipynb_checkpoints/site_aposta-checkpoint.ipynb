{
 "cells": [
  {
   "cell_type": "code",
   "execution_count": 1,
   "metadata": {},
   "outputs": [],
   "source": [
    "import sys\n",
    "sys.path.append('C:\\\\Users\\\\Luan\\\\futebol\\\\Futebol')"
   ]
  },
  {
   "cell_type": "code",
   "execution_count": 4,
   "metadata": {},
   "outputs": [],
   "source": [
    "from cafu.utils import WebdriverChrome"
   ]
  },
  {
   "cell_type": "code",
   "execution_count": 4,
   "metadata": {},
   "outputs": [],
   "source": [
    "path_driver = 'C:\\\\Users\\\\Luan\\\\futebol\\\\Futebol\\\\chromedriver.exe'\n",
    "#web_init = WebdriverChrome(path_driver)\n",
    "#web = web_init.web"
   ]
  },
  {
   "cell_type": "markdown",
   "metadata": {},
   "source": [
    "- login automático\n",
    "- dado uma página em um campeonato, conseguir entrar dentro de todos os jogos\n",
    "- dado uma página dentro de um jogo, conseguir puxar todas as odds. **Desenvolver uma estrutura aproveitável para a aposta automática**"
   ]
  },
  {
   "cell_type": "markdown",
   "metadata": {},
   "source": [
    "## dafabet\n",
    "\n",
    "- https://www.dafabet.com/pt/dfgoal/sports/240-football/22977-brazil"
   ]
  },
  {
   "cell_type": "code",
   "execution_count": null,
   "metadata": {},
   "outputs": [],
   "source": [
    "https://www.dafabet.com/pt/dfgoal/sports/240-football/23332-argentina"
   ]
  },
  {
   "cell_type": "code",
   "execution_count": 4,
   "metadata": {},
   "outputs": [],
   "source": [
    "class_name = 'formatted_price.price'\n",
    "# class_name = 'outcome.outcome-button.outcome_24638773397.ordpos_1'\n",
    "# class_name = 'outcome.outcome-button.outcome_24658710367.ordpos_1'\n",
    "\n",
    "l = web.find_elements_by_class_name(class_name)"
   ]
  },
  {
   "cell_type": "code",
   "execution_count": 22,
   "metadata": {},
   "outputs": [],
   "source": [
    "class_name = 'event_path-title.ellipsis.rollup-title.x.collapsed'\n",
    "u = web.find_elements_by_class_name(class_name)"
   ]
  },
  {
   "cell_type": "code",
   "execution_count": 20,
   "metadata": {},
   "outputs": [
    {
     "data": {
      "text/plain": [
       "'Mais de / Menos de - Tempo Regular'"
      ]
     },
     "execution_count": 20,
     "metadata": {},
     "output_type": "execute_result"
    }
   ],
   "source": [
    "u[2].text"
   ]
  },
  {
   "cell_type": "code",
   "execution_count": 5,
   "metadata": {},
   "outputs": [
    {
     "name": "stdout",
     "output_type": "stream",
     "text": [
      "\n",
      "\n",
      "\n",
      "\n"
     ]
    }
   ],
   "source": [
    "list_index_0 = [0,1,2]\n",
    "list_index_1 = [9,10,11,12]\n",
    "list_index_2 = [13,14,15,16]\n",
    "\n",
    "for i in list_index_2:\n",
    "    print(l[i].text)"
   ]
  },
  {
   "cell_type": "code",
   "execution_count": 10,
   "metadata": {},
   "outputs": [
    {
     "name": "stdout",
     "output_type": "stream",
     "text": [
      "31: 2.00\n",
      "32: 1.75\n"
     ]
    }
   ],
   "source": [
    "for i in range(len(l)):\n",
    "    if l[i].text != '':\n",
    "        print(f'{i}: {l[i].text}')"
   ]
  },
  {
   "cell_type": "code",
   "execution_count": 24,
   "metadata": {},
   "outputs": [
    {
     "name": "stdout",
     "output_type": "stream",
     "text": [
      "0: Mais de / Menos de - Juventude RS - Tempo Regular\n",
      "1: Mais de / Menos de - CA Mineiro MG - Tempo Regular\n",
      "2: Mais de / Menos de - Tempo Regular\n",
      "5: Mais de / Menos de - Juventude RS - Primeiro Tempo\n",
      "6: Mais de / Menos de - CA Mineiro MG - Primeiro Tempo\n",
      "7: Mais de / Menos de - Primeiro Tempo\n",
      "8: Mais de / Menos de - Juventude RS - Segundo Tempo\n",
      "9: Mais de / Menos de - Segundo Tempo\n",
      "10: Mais de / Menos de - CA Mineiro MG - Segundo Tempo\n",
      "13: Qual time a marcar (sem receber gol) - Tempo Regular\n",
      "14: Handicap Europeu - Tempo Regular\n",
      "29: Match-bet and Totals - Tempo Regular\n",
      "35: Ímpar/Par Total de Gols - Tempo Regular\n",
      "36: Ímpar/Par Total de Gols - Primeiro Tempo\n",
      "37: Última equipe a marcar - Tempo Regular\n",
      "47: Sem sofrer gols - CA Mineiro MG - Tempo Regular\n",
      "48: Sem sofrer gols - Juventude RS - Tempo Regular\n"
     ]
    }
   ],
   "source": [
    "for i in range(len(u)):\n",
    "    if u[i].text != '':\n",
    "        print(f'{i}: {u[i].text}')"
   ]
  },
  {
   "cell_type": "code",
   "execution_count": 9,
   "metadata": {},
   "outputs": [
    {
     "name": "stdout",
     "output_type": "stream",
     "text": [
      "0: 2.85\n",
      "1: 3.15\n",
      "2: 2.65\n",
      "9: 2.00\n",
      "10: 1.90\n",
      "11: 1.98\n",
      "12: 1.90\n",
      "27: 1.80\n",
      "28: 2.08\n"
     ]
    }
   ],
   "source": [
    "for i in range(len(l)):\n",
    "    if l[i].text != '':\n",
    "        print(f'{i}: {l[i].text}')"
   ]
  },
  {
   "cell_type": "code",
   "execution_count": null,
   "metadata": {},
   "outputs": [],
   "source": [
    "<span class=\"formatted_price price\" data-description=\"Atletico Mineiro MG\">\n",
    "                  1.28\n",
    "                </span>"
   ]
  },
  {
   "cell_type": "code",
   "execution_count": 5,
   "metadata": {},
   "outputs": [
    {
     "data": {
      "text/plain": [
       "0"
      ]
     },
     "execution_count": 5,
     "metadata": {},
     "output_type": "execute_result"
    }
   ],
   "source": [
    "3084614290\n",
    "//*[@id=\"market_3084614290\"]/table/tbody/tr/td[1]/span[2]/span/span"
   ]
  },
  {
   "cell_type": "code",
   "execution_count": 35,
   "metadata": {},
   "outputs": [],
   "source": [
    "from time import sleep"
   ]
  },
  {
   "cell_type": "code",
   "execution_count": 40,
   "metadata": {},
   "outputs": [],
   "source": [
    "def join_link_odds_partida(web, index, max_iterate=5):\n",
    "    \"\"\"\n",
    "    Entra dentro do link de uma partida, site dafabet, dado a conexão com um campeonato na api <web>\n",
    "    \n",
    "    Args:\n",
    "        web: (str) chromedriver conectado em um campeonato\n",
    "        index: (int) índice da partida do campeonato\n",
    "        max_iterate: número máximo de tentativas\n",
    "    Returns:\n",
    "        str: descrição da partida, quando o método é bem sucedido\n",
    "    \"\"\"\n",
    "    \n",
    "    i = 1\n",
    "    success = False \n",
    "    while (i<=max_iterate) and not success:\n",
    "        try:\n",
    "            partidas = web.find_elements_by_class_name('more_markets')\n",
    "            qt_odds = partidas[index].text\n",
    "            if qt_odds == '0':\n",
    "                break\n",
    "            partidas[index].click()\n",
    "            sleep(2)\n",
    "            descricao_partida = {}\n",
    "            try:\n",
    "                descricao_partida_texto = web.find_elements_by_class_name('event-header-description')[0].text\n",
    "                descricao_partida['horario'] = descricao_partida_texto.split('\\n')[1][9:]\n",
    "                descricao_partida['time_casa'] = descricao_partida_texto.split('\\n')[0].split(' vs ')[0]\n",
    "                descricao_partida['time_visitante'] = descricao_partida_texto.split('\\n')[0].split(' vs ')[1]\n",
    "            except:\n",
    "                descricao_partida_texto = web.find_elements_by_class_name('live-event')[0].text\n",
    "                descricao_partida['horario'] = 'ao vivo'\n",
    "                descricao_partida['time_casa'] = descricao_partida_texto.split(' vs ')[0]\n",
    "                descricao_partida['time_visitante'] = descricao_partida_texto.split(' vs ')[1]\n",
    "            success = True\n",
    "        except:\n",
    "            pass\n",
    "        i+=1\n",
    "        \n",
    "    if success:\n",
    "        return descricao_partida\n",
    "    else:\n",
    "        return 'failure'"
   ]
  },
  {
   "cell_type": "code",
   "execution_count": 43,
   "metadata": {},
   "outputs": [
    {
     "data": {
      "text/plain": [
       "{'horario': 'Amanhã - 20:00',\n",
       " 'time_casa': 'Santos SP',\n",
       " 'time_visitante': 'Fortaleza CE'}"
      ]
     },
     "execution_count": 43,
     "metadata": {},
     "output_type": "execute_result"
    }
   ],
   "source": [
    "join_link_odds_partida(tr.web, 2)"
   ]
  },
  {
   "cell_type": "code",
   "execution_count": 153,
   "metadata": {},
   "outputs": [
    {
     "name": "stdout",
     "output_type": "stream",
     "text": [
      "Printed immediately.\n",
      "Printed after 2.4 seconds.\n"
     ]
    }
   ],
   "source": [
    "print(\"Printed immediately.\")\n",
    "sleep(2.4)\n",
    "print(\"Printed after 2.4 seconds.\")"
   ]
  },
  {
   "cell_type": "code",
   "execution_count": 25,
   "metadata": {},
   "outputs": [],
   "source": [
    "u = tr.web.find_elements_by_class_name('live-event')"
   ]
  },
  {
   "cell_type": "code",
   "execution_count": 28,
   "metadata": {},
   "outputs": [
    {
     "data": {
      "text/plain": [
       "'Fluminense RJ'"
      ]
     },
     "execution_count": 28,
     "metadata": {},
     "output_type": "execute_result"
    }
   ],
   "source": [
    "u[0].text.split(' vs ')[0]"
   ]
  },
  {
   "cell_type": "code",
   "execution_count": 148,
   "metadata": {},
   "outputs": [],
   "source": [
    "descricao_partida_texto = tr.web.find_elements_by_class_name('event-header-description')[0].text\n",
    "descricao_partida = {}\n",
    "descricao_partida['horario'] = descricao_partida_texto.split('\\n')[1][9:]\n",
    "descricao_partida['time_casa'] = descricao_partida_texto.split('\\n')[0].split(' vs ')[0]\n",
    "descricao_partida['time_visitante'] = descricao_partida_texto.split('\\n')[0].split(' vs ')[1]"
   ]
  },
  {
   "cell_type": "code",
   "execution_count": 149,
   "metadata": {},
   "outputs": [
    {
     "data": {
      "text/plain": [
       "{'horario': 'Sexta-feira - 20:00',\n",
       " 'time_casa': 'Ponte Preta SP',\n",
       " 'time_visitante': 'Coritiba PR'}"
      ]
     },
     "execution_count": 149,
     "metadata": {},
     "output_type": "execute_result"
    }
   ],
   "source": [
    "descricao_partida"
   ]
  },
  {
   "cell_type": "code",
   "execution_count": 44,
   "metadata": {},
   "outputs": [],
   "source": [
    "l = login.web.find_elements_by_class_name('event-header-description')"
   ]
  },
  {
   "cell_type": "code",
   "execution_count": 48,
   "metadata": {},
   "outputs": [
    {
     "data": {
      "text/plain": [
       "'Ceara CE vs Corinthians SP\\nStarts - Amanhã - 21:00'"
      ]
     },
     "execution_count": 48,
     "metadata": {},
     "output_type": "execute_result"
    }
   ],
   "source": [
    "l[0].text"
   ]
  },
  {
   "cell_type": "markdown",
   "metadata": {},
   "source": [
    "## Login"
   ]
  },
  {
   "cell_type": "code",
   "execution_count": 4,
   "metadata": {},
   "outputs": [
    {
     "ename": "NameError",
     "evalue": "name 'web' is not defined",
     "output_type": "error",
     "traceback": [
      "\u001b[1;31m---------------------------------------------------------------------------\u001b[0m",
      "\u001b[1;31mNameError\u001b[0m                                 Traceback (most recent call last)",
      "\u001b[1;32m<ipython-input-4-ee2b85b328b3>\u001b[0m in \u001b[0;36m<module>\u001b[1;34m\u001b[0m\n\u001b[0;32m      4\u001b[0m \u001b[0menter_button_path\u001b[0m \u001b[1;33m=\u001b[0m \u001b[1;34m'#LoginForm_submit'\u001b[0m\u001b[1;33m\u001b[0m\u001b[1;33m\u001b[0m\u001b[0m\n\u001b[0;32m      5\u001b[0m \u001b[1;33m\u001b[0m\u001b[0m\n\u001b[1;32m----> 6\u001b[1;33m \u001b[0muser_element\u001b[0m \u001b[1;33m=\u001b[0m \u001b[0mweb\u001b[0m\u001b[1;33m.\u001b[0m\u001b[0mfind_element_by_css_selector\u001b[0m\u001b[1;33m(\u001b[0m\u001b[0muser_path\u001b[0m\u001b[1;33m)\u001b[0m\u001b[1;33m\u001b[0m\u001b[1;33m\u001b[0m\u001b[0m\n\u001b[0m\u001b[0;32m      7\u001b[0m \u001b[0mpassword_element\u001b[0m \u001b[1;33m=\u001b[0m \u001b[0mweb\u001b[0m\u001b[1;33m.\u001b[0m\u001b[0mfind_element_by_css_selector\u001b[0m\u001b[1;33m(\u001b[0m\u001b[0mpassword_path\u001b[0m\u001b[1;33m)\u001b[0m\u001b[1;33m\u001b[0m\u001b[1;33m\u001b[0m\u001b[0m\n\u001b[0;32m      8\u001b[0m \u001b[0menter_button_element\u001b[0m \u001b[1;33m=\u001b[0m \u001b[0mweb\u001b[0m\u001b[1;33m.\u001b[0m\u001b[0mfind_element_by_css_selector\u001b[0m\u001b[1;33m(\u001b[0m\u001b[0menter_button_path\u001b[0m\u001b[1;33m)\u001b[0m\u001b[1;33m\u001b[0m\u001b[1;33m\u001b[0m\u001b[0m\n",
      "\u001b[1;31mNameError\u001b[0m: name 'web' is not defined"
     ]
    }
   ],
   "source": [
    "# css selector\n",
    "user_path = '#LoginForm_username'\n",
    "password_path = '#LoginForm_password'\n",
    "enter_button_path = '#LoginForm_submit'\n",
    "\n",
    "user_element = web.find_element_by_css_selector(user_path)\n",
    "password_element = web.find_element_by_css_selector(password_path)\n",
    "enter_button_element = web.find_element_by_css_selector(enter_button_path)"
   ]
  },
  {
   "cell_type": "code",
   "execution_count": 7,
   "metadata": {},
   "outputs": [],
   "source": [
    "user_element.send_keys('luan61')"
   ]
  },
  {
   "cell_type": "code",
   "execution_count": 8,
   "metadata": {},
   "outputs": [],
   "source": [
    "password_element.send_keys('Lh5970')"
   ]
  },
  {
   "cell_type": "code",
   "execution_count": 9,
   "metadata": {},
   "outputs": [],
   "source": [
    "enter_button_element.click()"
   ]
  },
  {
   "cell_type": "code",
   "execution_count": 6,
   "metadata": {},
   "outputs": [],
   "source": [
    "from cafu.utils import Login"
   ]
  },
  {
   "cell_type": "code",
   "execution_count": 7,
   "metadata": {},
   "outputs": [],
   "source": [
    "login = Login(path_driver, 'brazil-a')"
   ]
  },
  {
   "cell_type": "code",
   "execution_count": 8,
   "metadata": {},
   "outputs": [],
   "source": [
    "login.login()"
   ]
  },
  {
   "cell_type": "code",
   "execution_count": 12,
   "metadata": {},
   "outputs": [],
   "source": [
    "z=login.web.find_elements_by_class_name('event-header-description')"
   ]
  },
  {
   "cell_type": "code",
   "execution_count": 25,
   "metadata": {},
   "outputs": [],
   "source": [
    "texto = z[0].text\n",
    "horario = texto.split('\\n')[1][9:]\n",
    "time_casa = texto.split('\\n')[0].split(' vs ')[0]\n",
    "time_visitante = texto.split('\\n')[0].split(' vs ')[0]"
   ]
  },
  {
   "cell_type": "code",
   "execution_count": 27,
   "metadata": {},
   "outputs": [
    {
     "data": {
      "text/plain": [
       "('Amanhã - 21:00', 'Ceara CE', 'Ceara CE')"
      ]
     },
     "execution_count": 27,
     "metadata": {},
     "output_type": "execute_result"
    }
   ],
   "source": [
    "horario, time_casa, time_visitante"
   ]
  },
  {
   "cell_type": "code",
   "execution_count": 2,
   "metadata": {},
   "outputs": [],
   "source": [
    "from cafu.utils import TrafficOddsPartida"
   ]
  },
  {
   "cell_type": "code",
   "execution_count": 5,
   "metadata": {},
   "outputs": [],
   "source": [
    "tr = TrafficOddsPartida(path_driver, 'brasil-a')"
   ]
  },
  {
   "cell_type": "code",
   "execution_count": 15,
   "metadata": {},
   "outputs": [],
   "source": [
    "tr.get_odds_dafabet('brasil-a')"
   ]
  },
  {
   "cell_type": "code",
   "execution_count": 16,
   "metadata": {},
   "outputs": [
    {
     "data": {
      "text/plain": [
       "{'horario': 'ao vivo',\n",
       " 'time_casa': 'São Paulo SP',\n",
       " 'time_visitante': 'Athletico-PR'}"
      ]
     },
     "execution_count": 16,
     "metadata": {},
     "output_type": "execute_result"
    }
   ],
   "source": [
    "tr.join_link_odds_partida(1)\n"
   ]
  },
  {
   "cell_type": "code",
   "execution_count": 12,
   "metadata": {},
   "outputs": [
    {
     "name": "stdout",
     "output_type": "stream",
     "text": [
      "1\n",
      "2\n",
      "3\n",
      "4\n",
      "5\n",
      "6\n"
     ]
    },
    {
     "data": {
      "text/plain": [
       "'failure'"
      ]
     },
     "execution_count": 12,
     "metadata": {},
     "output_type": "execute_result"
    }
   ],
   "source": [
    "tr.join_link_odds_partida(6)"
   ]
  }
 ],
 "metadata": {
  "kernelspec": {
   "display_name": "Python [conda env:futebol]",
   "language": "python",
   "name": "conda-env-futebol-py"
  },
  "language_info": {
   "codemirror_mode": {
    "name": "ipython",
    "version": 3
   },
   "file_extension": ".py",
   "mimetype": "text/x-python",
   "name": "python",
   "nbconvert_exporter": "python",
   "pygments_lexer": "ipython3",
   "version": "3.9.4"
  }
 },
 "nbformat": 4,
 "nbformat_minor": 4
}
