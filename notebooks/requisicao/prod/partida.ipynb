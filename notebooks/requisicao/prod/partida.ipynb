{
 "cells": [
  {
   "cell_type": "code",
   "execution_count": 1,
   "metadata": {},
   "outputs": [],
   "source": [
    "import sys\n",
    "sys.path.append('/home/luan/futebol/Futebol')"
   ]
  },
  {
   "cell_type": "code",
   "execution_count": 2,
   "metadata": {},
   "outputs": [],
   "source": [
    "from cafu.queries import Partida"
   ]
  },
  {
   "cell_type": "markdown",
   "metadata": {},
   "source": [
    "link do jogo: https://www.espn.com.br/futebol/partida-estatisticas?jogoId=614698"
   ]
  },
  {
   "cell_type": "code",
   "execution_count": 3,
   "metadata": {},
   "outputs": [],
   "source": [
    "req = Partida('614698')\n",
    "\n",
    "teste_jogo_finalizado = req.teste_jogo_finalizado() # Retorna se o jogo ja foi finalizado.\n",
    "campeonato = req.campeonato() # Retorna o campeonato.\n",
    "data = req.data() # Retorna a data.\n",
    "nomes_times = req.nomes_times() # Retorna o nome dos times.\n",
    "formacao = req.formacao() # Retorna as formações dos times.\n",
    "jogadores = req.jogadores() # Retorna as escalações, e substituições.\n",
    "gols = req.gols() # Retorna os gols que ocorreram, autor do gol e tempo. \n",
    "placar = req.placar() # Retorna o placar. \n",
    "posse = req.posse() # Retorna a posse de bola.\n",
    "chutes_fora_nogol = req.chutes_fora_nogol() # Retorna a quantidade de chutes, no gol e fora do gol.\n",
    "faltas = req.faltas() # Retorna a quantidade de faltas cometidas.\n",
    "cartoes_amarelos = req.cartoes_amarelos() # Retorna a quantidade de cartões amarelos.\n",
    "cartoes_vermelhos = req.cartoes_vermelhos() # Retorna a quantidade de cartões vermelhos.\n",
    "impedimentos = req.impedimentos() # Retorna a quantidade de impedimentos.\n",
    "escanteios = req.escanteios() # Retorna a quantidade de escanteios.\n",
    "defesas = req.defesas() \n",
    "minuto_a_minuto = req.minuto_a_minuto() # Retorna a descrição do jogo, minuto a minuto."
   ]
  },
  {
   "cell_type": "markdown",
   "metadata": {},
   "source": [
    "## Visualizando informações"
   ]
  },
  {
   "cell_type": "code",
   "execution_count": 4,
   "metadata": {},
   "outputs": [
    {
     "data": {
      "text/plain": [
       "True"
      ]
     },
     "execution_count": 4,
     "metadata": {},
     "output_type": "execute_result"
    }
   ],
   "source": [
    "teste_jogo_finalizado"
   ]
  },
  {
   "cell_type": "code",
   "execution_count": 5,
   "metadata": {},
   "outputs": [
    {
     "data": {
      "text/plain": [
       "'2021-22 Italian Serie A'"
      ]
     },
     "execution_count": 5,
     "metadata": {},
     "output_type": "execute_result"
    }
   ],
   "source": [
    "campeonato"
   ]
  },
  {
   "cell_type": "code",
   "execution_count": 6,
   "metadata": {},
   "outputs": [
    {
     "data": {
      "text/plain": [
       "datetime.datetime(2022, 1, 23, 0, 0)"
      ]
     },
     "execution_count": 6,
     "metadata": {},
     "output_type": "execute_result"
    }
   ],
   "source": [
    "data"
   ]
  },
  {
   "cell_type": "code",
   "execution_count": 7,
   "metadata": {},
   "outputs": [
    {
     "data": {
      "text/plain": [
       "('Cagliari', 'Fiorentina')"
      ]
     },
     "execution_count": 7,
     "metadata": {},
     "output_type": "execute_result"
    }
   ],
   "source": [
    "nomes_times"
   ]
  },
  {
   "cell_type": "code",
   "execution_count": 8,
   "metadata": {},
   "outputs": [
    {
     "data": {
      "text/plain": [
       "('3-5-2', '4-3-3')"
      ]
     },
     "execution_count": 8,
     "metadata": {},
     "output_type": "execute_result"
    }
   ],
   "source": [
    "formacao"
   ]
  },
  {
   "cell_type": "code",
   "execution_count": 9,
   "metadata": {},
   "outputs": [
    {
     "data": {
      "text/plain": [
       "([{'nome': 'Boris Radunovic',\n",
       "   'camisa': 31,\n",
       "   'inicio_jogando': 0,\n",
       "   'final_jogando': 90},\n",
       "  {'nome': 'Edoardo Goldaniga',\n",
       "   'camisa': 3,\n",
       "   'inicio_jogando': 0,\n",
       "   'final_jogando': 86},\n",
       "  {'nome': 'Luca Ceppitelli',\n",
       "   'camisa': 23,\n",
       "   'inicio_jogando': 86,\n",
       "   'final_jogando': 90},\n",
       "  {'nome': 'Adam Obert',\n",
       "   'camisa': 33,\n",
       "   'inicio_jogando': 0,\n",
       "   'final_jogando': 90},\n",
       "  {'nome': 'Giorgio Altare',\n",
       "   'camisa': 15,\n",
       "   'inicio_jogando': 0,\n",
       "   'final_jogando': 45},\n",
       "  {'nome': 'Matteo Lovato',\n",
       "   'camisa': 66,\n",
       "   'inicio_jogando': 45,\n",
       "   'final_jogando': 90},\n",
       "  {'nome': 'Dalbert', 'camisa': 29, 'inicio_jogando': 0, 'final_jogando': 81},\n",
       "  {'nome': 'Luca Gagliano',\n",
       "   'camisa': 19,\n",
       "   'inicio_jogando': 81,\n",
       "   'final_jogando': 90},\n",
       "  {'nome': 'Razvan Marin',\n",
       "   'camisa': 8,\n",
       "   'inicio_jogando': 0,\n",
       "   'final_jogando': 90},\n",
       "  {'nome': 'Alberto Grassi',\n",
       "   'camisa': 27,\n",
       "   'inicio_jogando': 0,\n",
       "   'final_jogando': 74},\n",
       "  {'nome': 'Christos Kourfalidis',\n",
       "   'camisa': 39,\n",
       "   'inicio_jogando': 74,\n",
       "   'final_jogando': 90},\n",
       "  {'nome': 'Raoul Bellanova',\n",
       "   'camisa': 12,\n",
       "   'inicio_jogando': 0,\n",
       "   'final_jogando': 90},\n",
       "  {'nome': 'Gabriele Zappa',\n",
       "   'camisa': 25,\n",
       "   'inicio_jogando': 0,\n",
       "   'final_jogando': 90},\n",
       "  {'nome': 'Gastón Pereiro',\n",
       "   'camisa': 20,\n",
       "   'inicio_jogando': 0,\n",
       "   'final_jogando': 90},\n",
       "  {'nome': 'João Pedro',\n",
       "   'camisa': 10,\n",
       "   'inicio_jogando': 0,\n",
       "   'final_jogando': 90}],\n",
       " [{'nome': 'Pietro Terracciano',\n",
       "   'camisa': 1,\n",
       "   'inicio_jogando': 0,\n",
       "   'final_jogando': 90},\n",
       "  {'nome': 'Igor Julio',\n",
       "   'camisa': 98,\n",
       "   'inicio_jogando': 0,\n",
       "   'final_jogando': 90},\n",
       "  {'nome': 'Nikola Milenkovic',\n",
       "   'camisa': 4,\n",
       "   'inicio_jogando': 0,\n",
       "   'final_jogando': 90},\n",
       "  {'nome': 'Cristiano Biraghi',\n",
       "   'camisa': 3,\n",
       "   'inicio_jogando': 0,\n",
       "   'final_jogando': 90},\n",
       "  {'nome': 'Álvaro Odriozola',\n",
       "   'camisa': 29,\n",
       "   'inicio_jogando': 0,\n",
       "   'final_jogando': 90},\n",
       "  {'nome': 'Lucas Torreira',\n",
       "   'camisa': 18,\n",
       "   'inicio_jogando': 0,\n",
       "   'final_jogando': 90},\n",
       "  {'nome': 'Gaetano Castrovilli',\n",
       "   'camisa': 10,\n",
       "   'inicio_jogando': 0,\n",
       "   'final_jogando': 45},\n",
       "  {'nome': 'Youssef Maleh',\n",
       "   'camisa': 14,\n",
       "   'inicio_jogando': 45,\n",
       "   'final_jogando': 90},\n",
       "  {'nome': 'Giacomo Bonaventura',\n",
       "   'camisa': 5,\n",
       "   'inicio_jogando': 0,\n",
       "   'final_jogando': 90},\n",
       "  {'nome': 'Krzysztof Piatek',\n",
       "   'camisa': 19,\n",
       "   'inicio_jogando': 0,\n",
       "   'final_jogando': 68},\n",
       "  {'nome': 'Lorenzo Venuti',\n",
       "   'camisa': 23,\n",
       "   'inicio_jogando': 68,\n",
       "   'final_jogando': 90},\n",
       "  {'nome': 'Nicolás González',\n",
       "   'camisa': 22,\n",
       "   'inicio_jogando': 0,\n",
       "   'final_jogando': 90},\n",
       "  {'nome': 'Jonathan Ikoné',\n",
       "   'camisa': 11,\n",
       "   'inicio_jogando': 0,\n",
       "   'final_jogando': 60},\n",
       "  {'nome': 'Riccardo Sottil',\n",
       "   'camisa': 33,\n",
       "   'inicio_jogando': 60,\n",
       "   'final_jogando': 90},\n",
       "  {'nome': 'Matija Nastasic',\n",
       "   'camisa': 55,\n",
       "   'inicio_jogando': 90,\n",
       "   'final_jogando': 90}])"
      ]
     },
     "execution_count": 9,
     "metadata": {},
     "output_type": "execute_result"
    }
   ],
   "source": [
    "jogadores"
   ]
  },
  {
   "cell_type": "code",
   "execution_count": 10,
   "metadata": {},
   "outputs": [
    {
     "data": {
      "text/plain": [
       "([{'jogador': 'João Pedro', 'minutos_gols': [47]}],\n",
       " [{'jogador': 'Riccardo Sottil', 'minutos_gols': [75]}])"
      ]
     },
     "execution_count": 10,
     "metadata": {},
     "output_type": "execute_result"
    }
   ],
   "source": [
    "gols"
   ]
  },
  {
   "cell_type": "code",
   "execution_count": 11,
   "metadata": {},
   "outputs": [
    {
     "data": {
      "text/plain": [
       "(1, 1)"
      ]
     },
     "execution_count": 11,
     "metadata": {},
     "output_type": "execute_result"
    }
   ],
   "source": [
    "placar"
   ]
  },
  {
   "cell_type": "code",
   "execution_count": 12,
   "metadata": {},
   "outputs": [
    {
     "data": {
      "text/plain": [
       "(0.4, 0.6)"
      ]
     },
     "execution_count": 12,
     "metadata": {},
     "output_type": "execute_result"
    }
   ],
   "source": [
    "posse"
   ]
  },
  {
   "cell_type": "code",
   "execution_count": 13,
   "metadata": {},
   "outputs": [
    {
     "data": {
      "text/plain": [
       "([9, 3], [10, 6])"
      ]
     },
     "execution_count": 13,
     "metadata": {},
     "output_type": "execute_result"
    }
   ],
   "source": [
    "chutes_fora_nogol"
   ]
  },
  {
   "cell_type": "code",
   "execution_count": 14,
   "metadata": {},
   "outputs": [
    {
     "data": {
      "text/plain": [
       "(21, 16)"
      ]
     },
     "execution_count": 14,
     "metadata": {},
     "output_type": "execute_result"
    }
   ],
   "source": [
    "faltas"
   ]
  },
  {
   "cell_type": "code",
   "execution_count": 15,
   "metadata": {},
   "outputs": [
    {
     "data": {
      "text/plain": [
       "(3, 3)"
      ]
     },
     "execution_count": 15,
     "metadata": {},
     "output_type": "execute_result"
    }
   ],
   "source": [
    "cartoes_amarelos"
   ]
  },
  {
   "cell_type": "code",
   "execution_count": 16,
   "metadata": {},
   "outputs": [
    {
     "data": {
      "text/plain": [
       "(0, 1)"
      ]
     },
     "execution_count": 16,
     "metadata": {},
     "output_type": "execute_result"
    }
   ],
   "source": [
    "cartoes_vermelhos"
   ]
  },
  {
   "cell_type": "code",
   "execution_count": 17,
   "metadata": {},
   "outputs": [
    {
     "data": {
      "text/plain": [
       "(4, 1)"
      ]
     },
     "execution_count": 17,
     "metadata": {},
     "output_type": "execute_result"
    }
   ],
   "source": [
    "impedimentos"
   ]
  },
  {
   "cell_type": "code",
   "execution_count": 18,
   "metadata": {},
   "outputs": [
    {
     "data": {
      "text/plain": [
       "(6, 4)"
      ]
     },
     "execution_count": 18,
     "metadata": {},
     "output_type": "execute_result"
    }
   ],
   "source": [
    "escanteios"
   ]
  },
  {
   "cell_type": "code",
   "execution_count": 19,
   "metadata": {},
   "outputs": [
    {
     "data": {
      "text/plain": [
       "(5, 1)"
      ]
     },
     "execution_count": 19,
     "metadata": {},
     "output_type": "execute_result"
    }
   ],
   "source": [
    "defesas"
   ]
  },
  {
   "cell_type": "code",
   "execution_count": 20,
   "metadata": {},
   "outputs": [
    {
     "data": {
      "text/plain": [
       "[{'tempo': 90, 'descrição': 'Fim do Jogo, Cagliari 1, Fiorentina 1.'},\n",
       " {'tempo': 90, 'descrição': 'Fim do segundo tempo, Cagliari 1, Fiorentina 1.'},\n",
       " {'tempo': 90,\n",
       "  'descrição': 'Substituição Cagliari, entra em campo Luca Ceppitelli substituindo Edoardo Goldaniga.'},\n",
       " {'tempo': 90,\n",
       "  'descrição': 'Impedimento, Cagliari. Edoardo Goldaniga tentou um passe em profundidade que encontrou Gastón Pereiro em posição irregular.'},\n",
       " {'tempo': 90,\n",
       "  'descrição': 'Nicolás González (Fiorentina) sofre uma falta no campo defensivo.'},\n",
       " {'tempo': 90,\n",
       "  'descrição': 'Falta cometida por Edoardo Goldaniga (Cagliari).'},\n",
       " {'tempo': 90, 'descrição': 'Mão de Youssef Maleh (Fiorentina).'},\n",
       " {'tempo': 90,\n",
       "  'descrição': 'Nicolás González (Fiorentina) sofre uma falta na lateral esquerda.'},\n",
       " {'tempo': 90, 'descrição': 'Falta cometida por Matteo Lovato (Cagliari).'},\n",
       " {'tempo': 90,\n",
       "  'descrição': 'Substituição Fiorentina, entra em campo Matija Nastasic substituindo Riccardo Sottil.'},\n",
       " {'tempo': 89,\n",
       "  'descrição': 'Youssef Maleh (Fiorentina) recebe cartão amarelo por uma entrada perigosa.'},\n",
       " {'tempo': 89,\n",
       "  'descrição': 'Matteo Lovato (Cagliari) sofre uma falta na lateral direita.'},\n",
       " {'tempo': 89, 'descrição': 'Falta cometida por Youssef Maleh (Fiorentina).'},\n",
       " {'tempo': 88,\n",
       "  'descrição': 'Falta cometida por Nicolás González (Fiorentina).'},\n",
       " {'tempo': 88,\n",
       "  'descrição': 'Edoardo Goldaniga (Cagliari) sofre uma falta no campo defensivo.'},\n",
       " {'tempo': 88,\n",
       "  'descrição': 'Nicolás González (Fiorentina) sofre uma falta no campo defensivo.'},\n",
       " {'tempo': 88, 'descrição': 'Falta cometida por Adam Obert (Cagliari).'},\n",
       " {'tempo': 86,\n",
       "  'descrição': 'Luca Ceppitelli (Cagliari) recebe cartão amarelo.'},\n",
       " {'tempo': 85,\n",
       "  'descrição': 'Finalização bloqueada, Edoardo Goldaniga (Cagliari) de cabeça do meio da área. Assistência de Gastón Pereiro com um cruzamento.'},\n",
       " {'tempo': 85,\n",
       "  'descrição': 'Raoul Bellanova (Cagliari) sofre uma falta na lateral esquerda.'},\n",
       " {'tempo': 85,\n",
       "  'descrição': 'Falta cometida por Giacomo Bonaventura (Fiorentina).'},\n",
       " {'tempo': 84,\n",
       "  'descrição': 'Youssef Maleh (Fiorentina) sofre uma falta no campo defensivo.'},\n",
       " {'tempo': 84, 'descrição': 'Falta cometida por Gabriele Zappa (Cagliari).'},\n",
       " {'tempo': 83,\n",
       "  'descrição': 'Oportunidade perdida Nikola Milenkovic (Fiorentina), de cabeça do meio da área. Assistência de Cristiano Biraghi com um cruzamento de bola parada.'},\n",
       " {'tempo': 82,\n",
       "  'descrição': 'Giacomo Bonaventura (Fiorentina) sofre uma falta no campo adversário.'},\n",
       " {'tempo': 82, 'descrição': 'Falta cometida por Razvan Marin (Cagliari).'},\n",
       " {'tempo': 82,\n",
       "  'descrição': 'Gabriele Zappa (Cagliari) sofre uma falta no campo defensivo.'},\n",
       " {'tempo': 82, 'descrição': 'Falta cometida por Youssef Maleh (Fiorentina).'},\n",
       " {'tempo': 81,\n",
       "  'descrição': 'Substituição Cagliari, entra em campo Luca Gagliano substituindo Dalbert.'},\n",
       " {'tempo': 81,\n",
       "  'descrição': 'João Pedro (Cagliari) recebe cartão amarelo por uma entrada perigosa.'},\n",
       " {'tempo': 80,\n",
       "  'descrição': 'Pietro Terracciano (Fiorentina) sofre uma falta no campo defensivo.'},\n",
       " {'tempo': 80, 'descrição': 'João Pedro (Cagliari).'},\n",
       " {'tempo': 80,\n",
       "  'descrição': 'Finalização bloqueada, João Pedro (Cagliari) de cabeça do meio da área. Assistência de Razvan Marin com um cruzamento.'},\n",
       " {'tempo': 79,\n",
       "  'descrição': 'Escanteio, Cagliari. Cedido por Cristiano Biraghi.'},\n",
       " {'tempo': 78,\n",
       "  'descrição': 'João Pedro (Cagliari) sofre uma falta no campo defensivo.'},\n",
       " {'tempo': 78,\n",
       "  'descrição': 'Falta cometida por Nikola Milenkovic (Fiorentina).'},\n",
       " {'tempo': 76,\n",
       "  'descrição': 'Youssef Maleh (Fiorentina) sofre uma falta no campo adversário.'},\n",
       " {'tempo': 76, 'descrição': 'Falta cometida por Razvan Marin (Cagliari).'},\n",
       " {'tempo': 76,\n",
       "  'descrição': 'Lorenzo Venuti (Fiorentina) sofre uma falta no campo defensivo.'},\n",
       " {'tempo': 76, 'descrição': 'Falta cometida por Raoul Bellanova (Cagliari).'},\n",
       " {'tempo': 75,\n",
       "  'descrição': 'Riccardo Sottil (Fiorentina) recebe cartão amarelo por celebração excessiva.'},\n",
       " {'tempo': 75,\n",
       "  'descrição': 'Gol! Cagliari 1, Fiorentina 1. Riccardo Sottil (Fiorentina) finalização com o pé esquerdo do lado esquerdo da área no lado direito do gol. Assistência de Youssef Maleh depois de um contra-ataque.'},\n",
       " {'tempo': 74,\n",
       "  'descrição': 'Substituição Cagliari, entra em campo Christos Kourfalidis substituindo Alberto Grassi uma lesão.'},\n",
       " {'tempo': 73, 'descrição': 'Falta cometida por Gastón Pereiro (Cagliari).'},\n",
       " {'tempo': 73,\n",
       "  'descrição': 'Cristiano Biraghi (Fiorentina) sofre uma falta na lateral esquerda.'},\n",
       " {'tempo': 71,\n",
       "  'descrição': 'Escanteio, Fiorentina. Cedido por Raoul Bellanova.'},\n",
       " {'tempo': 70,\n",
       "  'descrição': 'Finalização defendida junto ao lado inferior direito do gol. Riccardo Sottil (Fiorentina) finalização com o pé esquerdo de fora da área. Assistência de Lucas Torreira.'},\n",
       " {'tempo': 69,\n",
       "  'descrição': 'Oportunidade perdida João Pedro (Cagliari), de cabeça do meio da área. Assistência de Gastón Pereiro com um cruzamento.'},\n",
       " {'tempo': 68,\n",
       "  'descrição': 'Substituição Fiorentina, entra em campo Lorenzo Venuti substituindo Krzysztof Piatek.'},\n",
       " {'tempo': 68,\n",
       "  'descrição': 'Pênalti defendido! João Pedro (Cagliari) perdeu uma oportunidade única, finalização com o pé direito defendido junto ao lado inferior direito do gol.'},\n",
       " {'tempo': 64,\n",
       "  'descrição': 'Álvaro Odriozola (Fiorentina) recebe cartão vermelho.'},\n",
       " {'tempo': 63,\n",
       "  'descrição': 'Pênalti cometido por Álvaro Odriozola (Fiorentina) mão na área.'},\n",
       " {'tempo': 63,\n",
       "  'descrição': 'Finalização bloqueada, João Pedro (Cagliari) de cabeça do lado esquerdo da pequena área. Assistência de Gastón Pereiro.'},\n",
       " {'tempo': 63,\n",
       "  'descrição': 'Finalização bloqueada, Dalbert (Cagliari) finalização com o pé esquerdo do meio da área. Assistência de João Pedro.'},\n",
       " {'tempo': 62, 'descrição': 'Falta cometida por Youssef Maleh (Fiorentina).'},\n",
       " {'tempo': 62,\n",
       "  'descrição': 'Edoardo Goldaniga (Cagliari) sofre uma falta no campo adversário.'},\n",
       " {'tempo': 60,\n",
       "  'descrição': 'Substituição Fiorentina, entra em campo Riccardo Sottil substituindo Jonathan Ikoné.'},\n",
       " {'tempo': 59,\n",
       "  'descrição': 'Nicolás González (Fiorentina) sofre uma falta no campo adversário.'},\n",
       " {'tempo': 59, 'descrição': 'Falta cometida por Matteo Lovato (Cagliari).'},\n",
       " {'tempo': 58, 'descrição': 'Escanteio, Fiorentina. Cedido por Adam Obert.'},\n",
       " {'tempo': 58,\n",
       "  'descrição': 'Finalização bloqueada, Krzysztof Piatek (Fiorentina) finalização com o pé direito do lado direito da área. Assistência de Jonathan Ikoné.'},\n",
       " {'tempo': 56,\n",
       "  'descrição': 'Gastón Pereiro (Cagliari) sofre uma falta no campo adversário.'},\n",
       " {'tempo': 56, 'descrição': 'Falta cometida por Youssef Maleh (Fiorentina).'},\n",
       " {'tempo': 56,\n",
       "  'descrição': 'Nikola Milenkovic (Fiorentina) sofre uma falta no campo defensivo.'},\n",
       " {'tempo': 56, 'descrição': 'Falta cometida por João Pedro (Cagliari).'},\n",
       " {'tempo': 55,\n",
       "  'descrição': 'Impedimento, Fiorentina. Giacomo Bonaventura tentou um passe em profundidade que encontrou Krzysztof Piatek em posição irregular.'},\n",
       " {'tempo': 55,\n",
       "  'descrição': 'Finalização bloqueada, Giacomo Bonaventura (Fiorentina) finalização com o pé direito do meio da área. Assistência de Jonathan Ikoné.'},\n",
       " {'tempo': 54,\n",
       "  'descrição': 'Lucas Torreira (Fiorentina) sofre uma falta no campo defensivo.'},\n",
       " {'tempo': 54, 'descrição': 'Falta cometida por Dalbert (Cagliari).'},\n",
       " {'tempo': 53,\n",
       "  'descrição': 'João Pedro (Cagliari) sofre uma falta no campo defensivo.'},\n",
       " {'tempo': 53,\n",
       "  'descrição': 'Falta cometida por Álvaro Odriozola (Fiorentina).'},\n",
       " {'tempo': 53,\n",
       "  'descrição': 'Oportunidade perdida Youssef Maleh (Fiorentina), finalização com o pé esquerdo de fora da área após escanteio.'},\n",
       " {'tempo': 52, 'descrição': 'Escanteio, Fiorentina. Cedido por Adam Obert.'},\n",
       " {'tempo': 50,\n",
       "  'descrição': 'Impedimento, Cagliari. Gastón Pereiro tentou um passe em profundidade que encontrou Dalbert em posição irregular.'},\n",
       " {'tempo': 50,\n",
       "  'descrição': 'Finalização bloqueada, Gastón Pereiro (Cagliari) finalização com o pé esquerdo de fora da área. Assistência de Dalbert.'},\n",
       " {'tempo': 47,\n",
       "  'descrição': 'Gol! Cagliari 1, Fiorentina 0. João Pedro (Cagliari) de cabeça do meio da área no ângulo superior direito. Assistência de Gastón Pereiro com um cruzamento após escanteio.'},\n",
       " {'tempo': 47,\n",
       "  'descrição': 'Escanteio, Cagliari. Cedido por Nikola Milenkovic.'},\n",
       " {'tempo': 46,\n",
       "  'descrição': 'Nicolás González (Fiorentina) sofre uma falta no campo defensivo.'},\n",
       " {'tempo': 46, 'descrição': 'Falta cometida por Dalbert (Cagliari).'},\n",
       " {'tempo': 45,\n",
       "  'descrição': 'Substituição Fiorentina, entra em campo Youssef Maleh substituindo Gaetano Castrovilli.'},\n",
       " {'tempo': 45,\n",
       "  'descrição': 'Substituição Cagliari, entra em campo Matteo Lovato substituindo Giorgio Altare.'},\n",
       " {'tempo': 45,\n",
       "  'descrição': 'Início do segundo tempo Cagliari 0, Fiorentina 0.'},\n",
       " {'tempo': 0, 'descrição': 'Fim do primeiro tempo, Cagliari 0, Fiorentina 0.'},\n",
       " {'tempo': 0,\n",
       "  'descrição': 'Razvan Marin (Cagliari) sofre uma falta na lateral esquerda.'},\n",
       " {'tempo': 0,\n",
       "  'descrição': 'Falta cometida por Álvaro Odriozola (Fiorentina).'},\n",
       " {'tempo': 45, 'descrição': 'Falta cometida por Lucas Torreira (Fiorentina).'},\n",
       " {'tempo': 45,\n",
       "  'descrição': 'Dalbert (Cagliari) sofre uma falta na lateral esquerda.'},\n",
       " {'tempo': 44,\n",
       "  'descrição': 'Oportunidade perdida Giacomo Bonaventura (Fiorentina), de cabeça de muito perto. Assistência de Krzysztof Piatek com um cruzamento.'},\n",
       " {'tempo': 43,\n",
       "  'descrição': 'Oportunidade perdida Nicolás González (Fiorentina), de cabeça do meio da área. Assistência de Cristiano Biraghi com um cruzamento.'},\n",
       " {'tempo': 41,\n",
       "  'descrição': 'Oportunidade perdida Alberto Grassi (Cagliari), de cabeça do meio da área. Assistência de Gastón Pereiro com um cruzamento de bola parada.'},\n",
       " {'tempo': 41,\n",
       "  'descrição': 'Raoul Bellanova (Cagliari) sofre uma falta na lateral esquerda.'},\n",
       " {'tempo': 41,\n",
       "  'descrição': 'Falta cometida por Gaetano Castrovilli (Fiorentina).'},\n",
       " {'tempo': 40,\n",
       "  'descrição': 'Escanteio, Cagliari. Cedido por Nikola Milenkovic.'},\n",
       " {'tempo': 38,\n",
       "  'descrição': 'Krzysztof Piatek (Fiorentina) sofre uma falta na lateral esquerda.'},\n",
       " {'tempo': 38,\n",
       "  'descrição': 'Falta cometida por Edoardo Goldaniga (Cagliari).'},\n",
       " {'tempo': 35,\n",
       "  'descrição': 'Impedimento, Cagliari. Gabriele Zappa tentou um passe em profundidade que encontrou Giorgio Altare em posição irregular.'},\n",
       " {'tempo': 34,\n",
       "  'descrição': 'Escanteio, Cagliari. Cedido por Nikola Milenkovic.'},\n",
       " {'tempo': 34,\n",
       "  'descrição': 'Finalização bloqueada, Gabriele Zappa (Cagliari) finalização com o pé direito de fora da área. Assistência de Gastón Pereiro.'},\n",
       " {'tempo': 33,\n",
       "  'descrição': 'Finalização defendida junto ao lado inferior direito do gol. Jonathan Ikoné (Fiorentina) finalização com o pé esquerdo de fora da área. Assistência de Lucas Torreira.'},\n",
       " {'tempo': 32,\n",
       "  'descrição': 'Escanteio, Fiorentina. Cedido por Raoul Bellanova.'},\n",
       " {'tempo': 32,\n",
       "  'descrição': 'Krzysztof Piatek (Fiorentina) sofre uma falta no campo defensivo.'},\n",
       " {'tempo': 32,\n",
       "  'descrição': 'Falta cometida por Edoardo Goldaniga (Cagliari).'},\n",
       " {'tempo': 31,\n",
       "  'descrição': 'Falta cometida por Gaetano Castrovilli (Fiorentina).'},\n",
       " {'tempo': 31,\n",
       "  'descrição': 'Dalbert (Cagliari) sofre uma falta no campo defensivo.'},\n",
       " {'tempo': 29,\n",
       "  'descrição': 'Cristiano Biraghi (Fiorentina) recebe cartão amarelo por uma entrada perigosa.'},\n",
       " {'tempo': 29,\n",
       "  'descrição': 'Gabriele Zappa (Cagliari) sofre uma falta no campo defensivo.'},\n",
       " {'tempo': 29,\n",
       "  'descrição': 'Falta cometida por Cristiano Biraghi (Fiorentina).'},\n",
       " {'tempo': 29,\n",
       "  'descrição': 'Finalização bloqueada, Gaetano Castrovilli (Fiorentina) finalização com o pé direito do meio da área. Assistência de Giacomo Bonaventura.'},\n",
       " {'tempo': 28,\n",
       "  'descrição': 'Impedimento, Cagliari. Adam Obert tentou um passe em profundidade que encontrou João Pedro em posição irregular.'},\n",
       " {'tempo': 27,\n",
       "  'descrição': 'Krzysztof Piatek (Fiorentina) sofre uma falta no campo adversário.'},\n",
       " {'tempo': 27,\n",
       "  'descrição': 'Falta cometida por Edoardo Goldaniga (Cagliari).'},\n",
       " {'tempo': 25,\n",
       "  'descrição': 'Finalização defendida em direção ao centro do gol. Nicolás González (Fiorentina) finalização com o pé esquerdo de fora da área. Assistência de Krzysztof Piatek.'},\n",
       " {'tempo': 25,\n",
       "  'descrição': 'João Pedro (Cagliari) bate no poste esquerdo com finalização com o pé direito de um ângulo dificil da direita.'},\n",
       " {'tempo': 24,\n",
       "  'descrição': 'Oportunidade perdida Nicolás González (Fiorentina), finalização com o pé esquerdo do lado esquerdo da área. Assistência de Lucas Torreira depois de um contra-ataque.'},\n",
       " {'tempo': 20,\n",
       "  'descrição': 'Krzysztof Piatek (Fiorentina) sofre uma falta no campo defensivo.'},\n",
       " {'tempo': 20, 'descrição': 'Falta cometida por Dalbert (Cagliari).'},\n",
       " {'tempo': 19, 'descrição': 'Escanteio, Cagliari. Cedido por Igor Julio.'},\n",
       " {'tempo': 16,\n",
       "  'descrição': 'Razvan Marin (Cagliari) sofre uma falta no campo adversário.'},\n",
       " {'tempo': 16, 'descrição': 'Falta cometida por Lucas Torreira (Fiorentina).'},\n",
       " {'tempo': 15,\n",
       "  'descrição': 'Oportunidade perdida Krzysztof Piatek (Fiorentina), de cabeça do meio da área. Assistência de Gaetano Castrovilli.'},\n",
       " {'tempo': 12,\n",
       "  'descrição': 'Escanteio, Cagliari. Cedido por Cristiano Biraghi.'},\n",
       " {'tempo': 10,\n",
       "  'descrição': 'Giorgio Altare (Cagliari) recebe cartão amarelo por uma entrada perigosa.'},\n",
       " {'tempo': 10,\n",
       "  'descrição': 'Nicolás González (Fiorentina) sofre uma falta no campo adversário.'},\n",
       " {'tempo': 10, 'descrição': 'Falta cometida por Giorgio Altare (Cagliari).'},\n",
       " {'tempo': 9,\n",
       "  'descrição': 'Nikola Milenkovic (Fiorentina) sofre uma falta no campo defensivo.'},\n",
       " {'tempo': 9, 'descrição': 'Falta cometida por João Pedro (Cagliari).'},\n",
       " {'tempo': 8,\n",
       "  'descrição': 'Oportunidade perdida Lucas Torreira (Fiorentina), finalização com o pé direito do meio da área de bola parada.'},\n",
       " {'tempo': 8,\n",
       "  'descrição': 'Pênalti defendido! Cristiano Biraghi (Fiorentina) perdeu uma oportunidade única, finalização com o pé esquerdo defendido em direção ao centro do gol.'},\n",
       " {'tempo': 7,\n",
       "  'descrição': 'Pênalti cometido por Raoul Bellanova (Cagliari) após uma falta na grande área.'},\n",
       " {'tempo': 7,\n",
       "  'descrição': 'Pênalti Fiorentina. Álvaro Odriozola sofreu falta dentro da área.'},\n",
       " {'tempo': 5,\n",
       "  'descrição': 'Lucas Torreira (Fiorentina) sofre uma falta no campo defensivo.'},\n",
       " {'tempo': 5, 'descrição': 'Falta cometida por João Pedro (Cagliari).'},\n",
       " {'tempo': 4,\n",
       "  'descrição': 'Oportunidade perdida João Pedro (Cagliari), finalização com o pé direito do lado direito da área.'},\n",
       " {'tempo': 1,\n",
       "  'descrição': 'Finalização defendida em direção ao centro do gol. Giacomo Bonaventura (Fiorentina) finalização com o pé direito do meio da área. Assistência de Krzysztof Piatek.'},\n",
       " {'tempo': 0, 'descrição': 'Início do primeiro tempo.'},\n",
       " {'tempo': 0,\n",
       "  'descrição': 'Escalações são anunciadas e os jogadores já estão se aquecendo'}]"
      ]
     },
     "execution_count": 20,
     "metadata": {},
     "output_type": "execute_result"
    }
   ],
   "source": [
    "minuto_a_minuto"
   ]
  }
 ],
 "metadata": {
  "kernelspec": {
   "display_name": "futebol",
   "language": "python",
   "name": "futebol"
  },
  "language_info": {
   "codemirror_mode": {
    "name": "ipython",
    "version": 3
   },
   "file_extension": ".py",
   "mimetype": "text/x-python",
   "name": "python",
   "nbconvert_exporter": "python",
   "pygments_lexer": "ipython3",
   "version": "3.8.12"
  }
 },
 "nbformat": 4,
 "nbformat_minor": 4
}
