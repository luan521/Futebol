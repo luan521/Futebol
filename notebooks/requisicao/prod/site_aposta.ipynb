{
 "cells": [
  {
   "cell_type": "code",
   "execution_count": 1,
   "metadata": {},
   "outputs": [],
   "source": [
    "import sys\n",
    "sys.path.append('/home/luan/futebol/Futebol')"
   ]
  },
  {
   "cell_type": "markdown",
   "metadata": {},
   "source": [
    "## dafabet\n",
    "\n",
    "- https://www.dafabet.com/pt/dfgoal/sports/240-football/22977-brazil"
   ]
  },
  {
   "cell_type": "markdown",
   "metadata": {},
   "source": [
    "## GetOdds"
   ]
  },
  {
   "cell_type": "code",
   "execution_count": 2,
   "metadata": {},
   "outputs": [],
   "source": [
    "from cafu.queries import GetOdds"
   ]
  },
  {
   "cell_type": "code",
   "execution_count": 3,
   "metadata": {},
   "outputs": [],
   "source": [
    "#query = GetOdds()\n",
    "query = GetOdds(headless=False)"
   ]
  },
  {
   "cell_type": "code",
   "execution_count": 4,
   "metadata": {},
   "outputs": [],
   "source": [
    "query.get_campeonato_dafabet('franca')"
   ]
  },
  {
   "cell_type": "code",
   "execution_count": 5,
   "metadata": {},
   "outputs": [],
   "source": [
    "query.login()"
   ]
  },
  {
   "cell_type": "code",
   "execution_count": 5,
   "metadata": {},
   "outputs": [
    {
     "data": {
      "text/plain": [
       "10"
      ]
     },
     "execution_count": 5,
     "metadata": {},
     "output_type": "execute_result"
    }
   ],
   "source": [
    "query.get_quantidade_partidas()"
   ]
  },
  {
   "cell_type": "code",
   "execution_count": 6,
   "metadata": {},
   "outputs": [
    {
     "name": "stderr",
     "output_type": "stream",
     "text": [
      " 10%|█         | 1/10 [00:04<00:44,  4.95s/it]\n"
     ]
    }
   ],
   "source": [
    "query.join_link_odds_partida(0)"
   ]
  },
  {
   "cell_type": "code",
   "execution_count": 20,
   "metadata": {},
   "outputs": [
    {
     "name": "stderr",
     "output_type": "stream",
     "text": [
      "100%|██████████| 56/56 [00:18<00:00,  3.05it/s]\n",
      "100%|██████████| 12/12 [00:03<00:00,  3.52it/s]\n",
      "100%|██████████| 3/3 [00:01<00:00,  2.15it/s]\n",
      "0it [00:00, ?it/s]\n"
     ]
    },
    {
     "data": {
      "text/plain": [
       "'69'"
      ]
     },
     "execution_count": 20,
     "metadata": {},
     "output_type": "execute_result"
    }
   ],
   "source": [
    "query.open_odds()"
   ]
  },
  {
   "cell_type": "code",
   "execution_count": 21,
   "metadata": {
    "tags": []
   },
   "outputs": [
    {
     "name": "stderr",
     "output_type": "stream",
     "text": [
      "100%|██████████| 280/280 [12:14<00:00,  2.62s/it]\n"
     ]
    }
   ],
   "source": [
    "odds = query.get_odds()"
   ]
  },
  {
   "cell_type": "code",
   "execution_count": 22,
   "metadata": {},
   "outputs": [],
   "source": [
    "query.web.close() # encerra a sessão"
   ]
  },
  {
   "cell_type": "code",
   "execution_count": 23,
   "metadata": {},
   "outputs": [
    {
     "data": {
      "text/plain": [
       "{'Vitória / Empate / Vitória, Tempo Regular': {'RC Estrasburgo': '2.16',\n",
       "  'Empate': '3.40',\n",
       "  'Nice': '3.40'},\n",
       " 'Vitória / Empate / Vitória, Primeiro Tempo': {'RC Estrasburgo': '2.80',\n",
       "  'Empate': '2.12',\n",
       "  'Nice': '4.00'},\n",
       " 'Vitória / Empate / Vitória, Segundo Tempo': {'RC Estrasburgo': '2.47',\n",
       "  'Empate': '2.55',\n",
       "  'Nice': '3.55'},\n",
       " 'Handicap Asiático, Primeiro Tempo': {'RC Estrasburgo -0.5': '2.80',\n",
       "  'Nice +0.5': '1.43',\n",
       "  'RC Estrasburgo 0,-0.5': '2.21',\n",
       "  'Nice 0,+0.5': '1.65',\n",
       "  'RC Estrasburgo 0': '1.61',\n",
       "  'Nice 0': '2.27'},\n",
       " 'Mais de / Menos de - Nice, Tempo Regular': {'Mais de 0.5': '1.42',\n",
       "  'Menos de 0.5': '2.75'},\n",
       " 'Mais de / Menos de - Racing Strasbourg, Tempo Regular': {'Mais de 1.5': '2.16',\n",
       "  'Menos de 1.5': '1.65'},\n",
       " 'Mais de / Menos de, Tempo Regular': {'Mais de 2.5': '2.06',\n",
       "  'Menos de 2.5': '1.80'},\n",
       " 'Ambos os tempos acima de 1.5 gols?, Tempo Regular': {'Sim': '5.60',\n",
       "  'Não': '1.11'},\n",
       " 'Ambos os tempos abaixo de 1.5 gols?, Tempo Regular': {'Sim': '2.28',\n",
       "  'Não': '1.56'},\n",
       " 'Mais de / Menos de - Nice, Primeiro Tempo': {'Mais de 0.5': '2.42',\n",
       "  'Menos de 0.5': '1.52'},\n",
       " 'Mais de / Menos de - Racing Strasbourg, Primeiro Tempo': {'Mais de 0.5': '1.99',\n",
       "  'Menos de 0.5': '1.76'},\n",
       " 'Mais de / Menos de, Primeiro Tempo': {'Mais de 0.5,1': '1.61',\n",
       "  'Menos de 0.5,1': '2.28',\n",
       "  'Mais de 1': '1.97',\n",
       "  'Menos de 1': '1.81',\n",
       "  'Mais de 1,1.5': '2.48',\n",
       "  'Menos de 1,1.5': '1.52'},\n",
       " 'Mais de / Menos de - Nice, Segundo Tempo': {'Mais de 0.5': '1.99',\n",
       "  'Menos de 0.5': '1.76'},\n",
       " 'Mais de / Menos de - Racing Strasbourg, Segundo Tempo': {'Mais de 0.5': '1.67',\n",
       "  'Menos de 0.5': '2.12'},\n",
       " 'Mais de / Menos de, Segundo Tempo': {'Mais de 1': '1.46',\n",
       "  'Menos de 1': '2.65',\n",
       "  'Mais de 1,1.5': '1.82',\n",
       "  'Menos de 1,1.5': '1.95',\n",
       "  'Mais de 1.5': '2.18',\n",
       "  'Menos de 1.5': '1.67'},\n",
       " 'Time que marca o 1º Gol, Tempo Regular': {'RC Estrasburgo': '1.79',\n",
       "  'Sem Gols': '11.00',\n",
       "  'Nice': '2.33'},\n",
       " 'Time que marca o 1º Gol, Primeiro Tempo': {'RC Estrasburgo': '2.45',\n",
       "  'Sem Gols': '2.75',\n",
       "  'Nice': '3.20'},\n",
       " 'Qual time a marcar (sem receber gol), Tempo Regular': {'RC Estrasburgo': '3.55',\n",
       "  'Nice': '5.80',\n",
       "  'Ambos': '1.78',\n",
       "  'Nenhum': '11.00'},\n",
       " 'Handicap Europeu, Tempo Regular': {'RC Estrasburgo -1': '4.10',\n",
       "  'Empate / Nice +1': '4.00',\n",
       "  'Nice +1': '1.70'},\n",
       " '1X2 Handicap Fixo, Primeiro Tempo': {'RC Estrasburgo -1': '9.60',\n",
       "  'Empate / Nice +1': '3.70',\n",
       "  'Nice +1': '1.42'},\n",
       " 'Dupla Chance, Tempo Regular': {'Racing Strasbourg / Empate': '1.32',\n",
       "  'Racing Strasbourg / Nice': '1.32',\n",
       "  'Nice / Empate': '1.66'},\n",
       " 'Dupla Chance, Primeiro Tempo': {'Racing Strasbourg / Empate': '1.23',\n",
       "  'Racing Strasbourg / Nice': '1.61',\n",
       "  'Nice / Empate': '1.38'},\n",
       " 'Empate Anula, Tempo Regular': {'RC Estrasburgo': '1.58', 'Nice': '2.47'},\n",
       " 'Empate Anula, Primeiro Tempo': {'RC Estrasburgo': '1.61', 'Nice': '2.27'},\n",
       " 'Quem marca mais gols nos intervalos de 10 minutos 1-10, Tempo Regular': {'RC Estrasburgo': '8.00',\n",
       "  'Empate': '1.16',\n",
       "  'Nice': '11.00'},\n",
       " 'Pontuação Correta, Tempo Regular': {'1-0': '7.20',\n",
       "  '0-0': '9.60',\n",
       "  '0-1': '9.40',\n",
       "  '2-0': '9.60',\n",
       "  '1-1': '6.00',\n",
       "  '0-2': '17.00',\n",
       "  '3-0': '19.00',\n",
       "  '2-2': '14.00',\n",
       "  '1-2': '11.00',\n",
       "  '4-0': '50.00',\n",
       "  '3-3': '80.00',\n",
       "  '0-3': '45.00',\n",
       "  '2-1': '8.80',\n",
       "  '4-4': '101.00',\n",
       "  '1-3': '30.00',\n",
       "  '3-1': '18.00',\n",
       "  '2-3': '40.00',\n",
       "  '4-1': '45.00',\n",
       "  '0-4': '101.00',\n",
       "  '3-2': '30.00',\n",
       "  '1-4': '101.00',\n",
       "  '4-2': '90.00',\n",
       "  '2-4': '101.00',\n",
       "  '4-3': '101.00',\n",
       "  '3-4': '101.00',\n",
       "  'Outro': '35.00'},\n",
       " 'Exato número de Gols, Tempo Regular': {'0': '10.00',\n",
       "  '1': '4.40',\n",
       "  '2': '3.30',\n",
       "  '3': '3.95',\n",
       "  '4': '5.80',\n",
       "  '5': '12.00',\n",
       "  '6': '26.00',\n",
       "  '7': '70.00',\n",
       "  '8': '101.00',\n",
       "  '9+': '101.00'},\n",
       " 'Exato número de Gols - Racing Strasbourg, Tempo Regular': {'0': '3.85',\n",
       "  '1': '2.65',\n",
       "  '2': '3.60',\n",
       "  '3+': '4.90'},\n",
       " 'Exato número de Gols - Nice, Tempo Regular': {'0': '2.75',\n",
       "  '1': '2.45',\n",
       "  '2': '4.30',\n",
       "  '3+': '8.60'},\n",
       " 'Exato número de Gols, Primeiro Tempo': {'0': '2.70',\n",
       "  '1': '2.55',\n",
       "  '2': '4.40',\n",
       "  '3+': '8.40'},\n",
       " 'Exato número de Gols, Segundo Tempo': {'0': '4.00',\n",
       "  '1': '2.70',\n",
       "  '2+': '2.18'},\n",
       " 'Intervalo / Final, Tempo Regular': {'Racing Strasbourg - Racing Strasbourg': '3.35',\n",
       "  'Empate - Racing Strasbourg': '5.20',\n",
       "  'Nice - Racing Strasbourg': '30.00',\n",
       "  'Racing Strasbourg - Empate': '15.00',\n",
       "  'Empate - Empate': '4.90',\n",
       "  'Nice - Empate': '15.00',\n",
       "  'Racing Strasbourg - Nice': '40.00',\n",
       "  'Empate - Nice': '7.40',\n",
       "  'Nice - Nice': '5.60'},\n",
       " 'Margem de Lucro, Tempo Regular': {'Racing Strasbourg by 1': '3.90',\n",
       "  'OGC Nice by 1': '5.20',\n",
       "  'Racing Strasbourg by 2': '6.40',\n",
       "  'OGC Nice by 2': '11.00',\n",
       "  'Racing Strasbourg by 3+': '10.00',\n",
       "  'OGC Nice by 3+': '26.00',\n",
       "  'Empate': '3.20'},\n",
       " 'Matchbet e Totais, Tempo Regular': {'RC Estrasburgo and Over 2.5': '3.55',\n",
       "  'Nice and Over 2.5': '6.00',\n",
       "  'Nice and Over 3.5': '13.00',\n",
       "  'Nice and Over 4.5': '23.00',\n",
       "  'Nice and Under 3.5': '4.30'},\n",
       " 'Match-bet and Totals, Tempo Regular': {'RC Estrasburgo and Over 3.5': '7.00',\n",
       "  'RC Estrasburgo and Over 4.5': '13.00',\n",
       "  'RC Estrasburgo and Under 2.5': '4.80',\n",
       "  'RC Estrasburgo and Under 3.5': '2.90',\n",
       "  'RC Estrasburgo and Under 4.5': '2.44',\n",
       "  'Empate e Acima 2.5': '14.00',\n",
       "  'Empate e Acima 3.5': '14.00',\n",
       "  'Empate e Acima 4.5': '80.00',\n",
       "  'Empate e Abaixo 2.5': '4.20',\n",
       "  'Empate e Abaixo 3.5': '4.20',\n",
       "  'Empate e Abaixo 4.5': '3.40',\n",
       "  'Nice and Under 2.5': '7.00',\n",
       "  'Nice and Under 4.5': '3.70'},\n",
       " 'Matchbet e Totais, Primeiro Tempo': {'RC Estrasburgo and Over 1.5': '7.00',\n",
       "  'RC Estrasburgo and Under 1.5': '4.40',\n",
       "  'Empate e Acima 1.5': '8.20',\n",
       "  'Empate e Abaixo 1.5': '2.70',\n",
       "  'Nice and Over 1.5': '12.00'},\n",
       " 'Match-bet and Totals, Primeiro Tempo': {'Nice and Under 1.5': '5.80'},\n",
       " 'Ambos os times marcam, Tempo Regular': {'Sim': '1.83', 'Não': '1.98'},\n",
       " 'Ambos os times marcam, Primeiro Tempo': {'Sim': '4.60', 'Não': '1.17'},\n",
       " 'Racing Strasbourg No Bet, Tempo Regular': {'Empate': '1.87',\n",
       "  'Visitante': '1.86'},\n",
       " 'OGC Nice No Bet, Tempo Regular': {'Casa': '1.54', 'Empate': '2.38'},\n",
       " 'Ímpar/Par Total de Gols, Tempo Regular': {'Par': '1.87', 'Ímpar': '1.98'},\n",
       " 'Ímpar/Par Total de Gols, Primeiro Tempo': {'Par': '1.70', 'Ímpar': '2.13'},\n",
       " 'Última equipe a marcar, Tempo Regular': {'RC Estrasburgo': '1.79',\n",
       "  'Sem Gols': '11.00',\n",
       "  'Nice': '2.33'},\n",
       " 'Intervalo/Final Resultado Exato, Tempo Regular': {'0-0 0-0': '9.00'},\n",
       " 'Para marcar em ambos os 1º / 2º tempos? - Racing Strasbourg, Tempo Regular': {'Sim': '3.35',\n",
       "  'Não': '1.30'},\n",
       " 'Para marcar em ambos os 1º / 2º tempos? - Nice, Tempo Regular': {'Sim': '4.70',\n",
       "  'Não': '1.17'},\n",
       " 'Para ganhar nos dois tempos? - Racing Strasbourg, Tempo Regular': {'Sim': '6.20',\n",
       "  'Não': '1.10'},\n",
       " 'Para ganhar nos dois tempos? - Nice, Tempo Regular': {'Sim': '9.80',\n",
       "  'Não': '1.03'},\n",
       " 'Para ganhar em um dos tempos? - Racing Strasbourg, Tempo Regular': {'Sim': '1.62',\n",
       "  'Não': '2.22'},\n",
       " 'Para ganhar em um dos tempos? - Nice, Tempo Regular': {'Sim': '2.14',\n",
       "  'Não': '1.66'},\n",
       " 'Tempo com mais Gols ou Pontos , Tempo Regular': {'Primeiro Tempo': '3.30',\n",
       "  'Segundo Tempo': '2.07',\n",
       "  'Both Halves The Same': '3.40'},\n",
       " 'Tempo com mais Gols ou Pontos - Racing Strasbourg, Tempo Regular': {'Primeiro Tempo': '3.50',\n",
       "  'Segundo Tempo': '2.47',\n",
       "  'Both Halves The Same': '2.50'},\n",
       " 'Tempo com mais Gols ou Pontos - Nice, Tempo Regular': {'Primeiro Tempo': '3.90',\n",
       "  'Segundo Tempo': '2.75',\n",
       "  'Both Halves The Same': '2.13'},\n",
       " 'Sem sofrer gols - Racing Strasbourg, Tempo Regular': {'Sim': '2.80',\n",
       "  'Não': '1.43'},\n",
       " 'Sem sofrer gols - Nice, Tempo Regular': {'Sim': '3.80', 'Não': '1.25'},\n",
       " 'Sem sofrer gols - Racing Strasbourg, Primeiro Tempo': {'Sim': '1.52',\n",
       "  'Não': '2.42'},\n",
       " 'Sem sofrer gols - Nice, Primeiro Tempo': {'Sim': '1.76', 'Não': '1.99'},\n",
       " 'Sem sofrer gols - Racing Strasbourg, Segundo Tempo': {'Sim': '1.76',\n",
       "  'Não': '1.99'},\n",
       " 'Sem sofrer gols - Nice, Segundo Tempo': {'Sim': '2.12', 'Não': '1.67'},\n",
       " 'Quando será marcado o 1º gol?, Tempo Regular': {'1-15': '3.25',\n",
       "  '16-30': '3.95',\n",
       "  '31-45': '5.00',\n",
       "  '46-60': '7.60',\n",
       "  '61-75': '11.00',\n",
       "  'Nada': '11.00',\n",
       "  '76-90': '14.00'},\n",
       " 'Quando será marcado o 1º gol? (Intervalo de 10 min), Tempo Regular': {'1-10': '4.60',\n",
       "  '11-20': '4.90',\n",
       "  '21-30': '6.00',\n",
       "  '31-40': '7.40',\n",
       "  '41-50': '8.40',\n",
       "  'Nada': '10.00',\n",
       "  '51-60': '11.00',\n",
       "  '61-70': '15.00',\n",
       "  '81-90': '19.00',\n",
       "  '71-80': '20.00'},\n",
       " 'Série de Gols, Tempo Regular': {'0-1': '3.25',\n",
       "  '2-3': '1.96',\n",
       "  '4-6': '3.65',\n",
       "  '7+': '50.00'}}"
      ]
     },
     "execution_count": 23,
     "metadata": {},
     "output_type": "execute_result"
    }
   ],
   "source": [
    "odds"
   ]
  }
 ],
 "metadata": {
  "kernelspec": {
   "display_name": "futebol",
   "language": "python",
   "name": "futebol"
  },
  "language_info": {
   "codemirror_mode": {
    "name": "ipython",
    "version": 3
   },
   "file_extension": ".py",
   "mimetype": "text/x-python",
   "name": "python",
   "nbconvert_exporter": "python",
   "pygments_lexer": "ipython3",
   "version": "3.8.12"
  }
 },
 "nbformat": 4,
 "nbformat_minor": 4
}
