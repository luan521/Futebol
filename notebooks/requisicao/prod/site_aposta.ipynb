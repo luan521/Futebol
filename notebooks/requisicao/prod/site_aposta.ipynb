{
 "cells": [
  {
   "cell_type": "code",
   "execution_count": 2,
   "metadata": {},
   "outputs": [],
   "source": [
    "import sys\n",
    "sys.path.append('C:\\\\Users\\\\Luan\\\\futebol\\\\Futebol')"
   ]
  },
  {
   "cell_type": "markdown",
   "metadata": {},
   "source": [
    "## dafabet\n",
    "\n",
    "- https://www.dafabet.com/pt/dfgoal/sports/240-football/22977-brazil"
   ]
  },
  {
   "cell_type": "markdown",
   "metadata": {},
   "source": [
    "## GetOdds"
   ]
  },
  {
   "cell_type": "code",
   "execution_count": 3,
   "metadata": {},
   "outputs": [],
   "source": [
    "from cafu.queries import GetOdds"
   ]
  },
  {
   "cell_type": "code",
   "execution_count": 4,
   "metadata": {},
   "outputs": [],
   "source": [
    "#query = GetOdds()\n",
    "query = GetOdds(headless=False)"
   ]
  },
  {
   "cell_type": "code",
   "execution_count": 5,
   "metadata": {},
   "outputs": [],
   "source": [
    "query.get_campeonato_dafabet('franca')"
   ]
  },
  {
   "cell_type": "code",
   "execution_count": 6,
   "metadata": {},
   "outputs": [],
   "source": [
    "query.login()"
   ]
  },
  {
   "cell_type": "code",
   "execution_count": 10,
   "metadata": {},
   "outputs": [
    {
     "data": {
      "text/plain": [
       "11"
      ]
     },
     "execution_count": 10,
     "metadata": {},
     "output_type": "execute_result"
    }
   ],
   "source": [
    "query.get_quantidade_partidas()"
   ]
  },
  {
   "cell_type": "code",
   "execution_count": 11,
   "metadata": {},
   "outputs": [
    {
     "name": "stderr",
     "output_type": "stream",
     "text": [
      " 10%|█         | 1/10 [00:02<00:23,  2.60s/it]\n"
     ]
    }
   ],
   "source": [
    "query.join_link_odds_partida(3)"
   ]
  },
  {
   "cell_type": "code",
   "execution_count": 12,
   "metadata": {},
   "outputs": [
    {
     "name": "stderr",
     "output_type": "stream",
     "text": [
      "100%|██████████| 57/57 [00:03<00:00, 15.17it/s]\n",
      "100%|██████████| 14/14 [00:00<00:00, 23.44it/s]\n",
      "100%|██████████| 6/6 [00:00<00:00, 24.68it/s]\n",
      "100%|██████████| 1/1 [00:00<00:00, 24.64it/s]\n",
      "100%|██████████| 1/1 [00:00<00:00, 22.72it/s]\n",
      "0it [00:00, ?it/s]\n"
     ]
    },
    {
     "data": {
      "text/plain": [
       "'74'"
      ]
     },
     "execution_count": 12,
     "metadata": {},
     "output_type": "execute_result"
    }
   ],
   "source": [
    "query.open_odds()"
   ]
  },
  {
   "cell_type": "code",
   "execution_count": 13,
   "metadata": {},
   "outputs": [
    {
     "name": "stderr",
     "output_type": "stream",
     "text": [
      "100%|██████████| 292/292 [14:43<00:00,  3.02s/it]\n"
     ]
    }
   ],
   "source": [
    "odds = query.get_odds()"
   ]
  },
  {
   "cell_type": "code",
   "execution_count": 14,
   "metadata": {},
   "outputs": [],
   "source": [
    "query.web.close() # encerra a sessão"
   ]
  },
  {
   "cell_type": "code",
   "execution_count": 15,
   "metadata": {},
   "outputs": [
    {
     "data": {
      "text/plain": [
       "{'Vitória / Empate / Vitória, Tempo Regular': {'AS Mónaco': '1.99',\n",
       "  'Empate': '3.90',\n",
       "  'Lyon': '3.70'},\n",
       " 'Vitória / Empate / Vitória, Primeiro Tempo': {'AS Mónaco': '2.65',\n",
       "  'Empate': '2.32',\n",
       "  'Lyon': '3.90'},\n",
       " 'Vitória / Empate / Vitória, Segundo Tempo': {'AS Mónaco': '2.35',\n",
       "  'Empate': '2.75',\n",
       "  'Lyon': '3.45'},\n",
       " 'Handicap Asiático, Tempo Regular': {'AS Mónaco -0.5': '2.05',\n",
       "  'Lyon +0.5': '1.87',\n",
       "  'AS Mónaco 0,-0.5': '1.84',\n",
       "  'Lyon 0,+0.5': '2.08',\n",
       "  'AS Mónaco 0': '1.58',\n",
       "  'Lyon 0': '2.51'},\n",
       " 'Handicap Asiático, Primeiro Tempo': {'AS Mónaco 0,-0.5': '2.25',\n",
       "  'Lyon 0,+0.5': '1.70',\n",
       "  'AS Mónaco 0': '1.64',\n",
       "  'Lyon 0': '2.35'},\n",
       " 'Mais de / Menos de - Olympique Lyon, Tempo Regular': {'Mais de 1.5': '2.55',\n",
       "  'Menos de 1.5': '1.47'},\n",
       " 'Mais de / Menos de - AS Monaco, Tempo Regular': {'Mais de 1.5': '1.88',\n",
       "  'Menos de 1.5': '1.86'},\n",
       " 'Mais de / Menos de, Tempo Regular': {'Mais de 2.5': '1.75',\n",
       "  'Menos de 2.5': '2.17',\n",
       "  'Mais de 2.5,3': '1.97',\n",
       "  'Menos de 2.5,3': '1.93',\n",
       "  'Mais de 3': '2.29',\n",
       "  'Menos de 3': '1.67'},\n",
       " 'Ambos os tempos acima de 1.5 gols?, Tempo Regular': {'Sim': '4.40',\n",
       "  'Não': '1.17'},\n",
       " 'Ambos os tempos abaixo de 1.5 gols?, Tempo Regular': {'Sim': '2.75',\n",
       "  'Não': '1.40'},\n",
       " 'Mais de / Menos de - Olympique Lyon, Primeiro Tempo': {'Mais de 0.5': '2.21',\n",
       "  'Menos de 0.5': '1.62'},\n",
       " 'Mais de / Menos de - AS Monaco, Primeiro Tempo': {'Mais de 0.5': '1.82',\n",
       "  'Menos de 0.5': '1.92'},\n",
       " 'Mais de / Menos de, Primeiro Tempo': {'Mais de 1': '1.78',\n",
       "  'Menos de 1': '2.13',\n",
       "  'Mais de 1,1.5': '2.25',\n",
       "  'Menos de 1,1.5': '1.70'},\n",
       " 'Mais de / Menos de - Olympique Lyon, Segundo Tempo': {'Mais de 0.5': '1.83',\n",
       "  'Menos de 0.5': '1.91'},\n",
       " 'Mais de / Menos de - AS Monaco, Segundo Tempo': {'Mais de 0.5': '1.54',\n",
       "  'Menos de 0.5': '2.37'},\n",
       " 'Mais de / Menos de, Segundo Tempo': {'Mais de 1,1.5': '1.62',\n",
       "  'Menos de 1,1.5': '2.27',\n",
       "  'Mais de 1.5': '1.90',\n",
       "  'Menos de 1.5': '1.87',\n",
       "  'Mais de 1.5,2': '2.23',\n",
       "  'Menos de 1.5,2': '1.63'},\n",
       " 'Time que marca o 1º Gol, Tempo Regular': {'AS Mónaco': '1.74',\n",
       "  'Sem Gols': '15.00',\n",
       "  'Lyon': '2.27'},\n",
       " 'Time que marca o 1º Gol, Primeiro Tempo': {'AS Mónaco': '2.28',\n",
       "  'Sem Gols': '3.20',\n",
       "  'Lyon': '3.00'},\n",
       " 'Qual time a marcar (sem receber gol), Tempo Regular': {'AS Mónaco': '3.85',\n",
       "  'Lyon': '6.60',\n",
       "  'Ambos': '1.59',\n",
       "  'Nenhum': '15.00'},\n",
       " 'Handicap Europeu, Tempo Regular': {'AS Mónaco -2': '8.40',\n",
       "  'Empate / Lyon +2': '6.20',\n",
       "  'Lyon +2': '1.28',\n",
       "  'AS Mónaco -1': '3.80',\n",
       "  'Empate / Lyon +1': '4.30',\n",
       "  'Lyon +1': '1.78',\n",
       "  'AS Mónaco +1': '1.34',\n",
       "  'Empate / Lyon -1': '5.60',\n",
       "  'Lyon -1': '7.60'},\n",
       " '1X2 Handicap Fixo, Primeiro Tempo': {'AS Mónaco -1': '8.00',\n",
       "  'Empate / Lyon +1': '3.65',\n",
       "  'Lyon +1': '1.47'},\n",
       " 'Dupla Chance, Tempo Regular': {'AS Monaco / Empate': '1.32',\n",
       "  'AS Monaco / Lyon': '1.29',\n",
       "  'Lyon / Empate': '1.71'},\n",
       " 'Dupla Chance, Primeiro Tempo': {'AS Monaco / Empate': '1.24',\n",
       "  'AS Monaco / Lyon': '1.53',\n",
       "  'Lyon / Empate': '1.42'},\n",
       " 'Empate Anula, Tempo Regular': {'AS Mónaco': '1.55', 'Lyon': '2.50'},\n",
       " 'Empate Anula, Primeiro Tempo': {'AS Mónaco': '1.62', 'Lyon': '2.36'},\n",
       " 'Quem marca mais gols nos intervalos de 10 minutos 1-10, Tempo Regular': {'AS Mónaco': '7.20',\n",
       "  'Empate': '1.19',\n",
       "  'Lyon': '9.80'},\n",
       " 'Pontuação Correta, Tempo Regular': {'1-0': '8.80',\n",
       "  '0-0': '13.00',\n",
       "  '0-1': '12.00',\n",
       "  '2-0': '11.00',\n",
       "  '1-1': '6.40',\n",
       "  '0-2': '19.00',\n",
       "  '3-0': '19.00',\n",
       "  '2-2': '12.00',\n",
       "  '1-2': '11.00',\n",
       "  '4-0': '45.00',\n",
       "  '3-3': '50.00',\n",
       "  '0-3': '45.00',\n",
       "  '2-1': '8.40',\n",
       "  '4-4': '101.00',\n",
       "  '1-3': '27.00',\n",
       "  '3-1': '15.00',\n",
       "  '2-3': '30.00',\n",
       "  '4-1': '35.00',\n",
       "  '0-4': '101.00',\n",
       "  '3-2': '24.00',\n",
       "  '1-4': '80.00',\n",
       "  '4-2': '60.00',\n",
       "  '2-4': '100.00',\n",
       "  '4-3': '101.00',\n",
       "  '3-4': '101.00',\n",
       "  'Outro': '21.00'},\n",
       " 'Exato número de Gols, Tempo Regular': {'0': '14.00',\n",
       "  '1': '5.40',\n",
       "  '2': '3.60',\n",
       "  '3': '3.85',\n",
       "  '4': '5.00',\n",
       "  '5': '8.80',\n",
       "  '6': '17.00',\n",
       "  '7': '40.00',\n",
       "  '8': '101.00',\n",
       "  '9+': '101.00'},\n",
       " 'Exato número de Gols - AS Monaco, Tempo Regular': {'0': '4.70',\n",
       "  '1': '2.85',\n",
       "  '2': '3.40',\n",
       "  '3+': '3.80'},\n",
       " 'Exato número de Gols - Olympique Lyon, Tempo Regular': {'0': '3.15',\n",
       "  '1': '2.50',\n",
       "  '2': '3.95',\n",
       "  '3+': '6.60'},\n",
       " 'Exato número de Gols, Primeiro Tempo': {'0': '3.15',\n",
       "  '1': '2.60',\n",
       "  '2': '3.95',\n",
       "  '3+': '6.40'},\n",
       " 'Exato número de Gols, Segundo Tempo': {'0': '4.90',\n",
       "  '1': '2.90',\n",
       "  '2+': '1.90'},\n",
       " 'Intervalo / Final, Tempo Regular': {'AS Monaco - AS Monaco': '3.10',\n",
       "  'Empate - AS Monaco': '5.20',\n",
       "  'Lyon - AS Monaco': '26.00',\n",
       "  'AS Monaco - Empate': '14.00',\n",
       "  'Empate - Empate': '5.60',\n",
       "  'Lyon - Empate': '15.00',\n",
       "  'AS Monaco - Lyon': '35.00',\n",
       "  'Empate - Lyon': '8.00',\n",
       "  'Lyon - Lyon': '5.40'},\n",
       " 'Margem de Lucro, Tempo Regular': {'AS Monaco by 1': '4.00',\n",
       "  'Olympique Lyonnais by 1': '5.40',\n",
       "  'AS Monaco by 2': '6.20',\n",
       "  'Olympique Lyonnais by 2': '11.00',\n",
       "  'AS Monaco by 3+': '8.20',\n",
       "  'Olympique Lyonnais by 3+': '22.00',\n",
       "  'Empate': '3.40'},\n",
       " 'Matchbet e Totais, Tempo Regular': {'AS Mónaco and Over 2.5': '3.05',\n",
       "  'AS Mónaco and Over 3.5': '5.40',\n",
       "  'AS Mónaco and Over 1.5': '2.45',\n",
       "  'AS Mónaco and Under 2.5': '5.60',\n",
       "  'AS Mónaco and Under 3.5': '3.10',\n",
       "  'AS Mónaco and Under 1.5': '10.00',\n",
       "  'Empate e Acima 2.5': '11.00',\n",
       "  'Empate e Acima 3.5': '11.00',\n",
       "  'Empate e Acima 1.5': '4.40',\n",
       "  'Empate e Abaixo 2.5': '5.00',\n",
       "  'Empate e Abaixo 3.5': '5.00',\n",
       "  'Empate e Abaixo 1.5': '15.00',\n",
       "  'Lyon and Over 2.5': '5.20',\n",
       "  'Lyon and Over 3.5': '10.00',\n",
       "  'Lyon and Over 1.5': '4.20',\n",
       "  'Lyon and Under 2.5': '8.40',\n",
       "  'Lyon and Under 3.5': '4.70',\n",
       "  'Lyon and Under 1.5': '14.00'},\n",
       " 'Matchbet e Totais, Primeiro Tempo': {'AS Mónaco and Over 1.5': '5.80',\n",
       "  'AS Mónaco and Under 1.5': '4.40',\n",
       "  'Empate e Acima 1.5': '7.20',\n",
       "  'Empate e Abaixo 1.5': '3.15',\n",
       "  'Lyon and Over 1.5': '10.00',\n",
       "  'Lyon and Under 1.5': '6.00'},\n",
       " 'Ambos os times marcam, Tempo Regular': {'Sim': '1.64', 'Não': '2.28'},\n",
       " 'Ambos os times marcam, Primeiro Tempo': {'Sim': '3.95', 'Não': '1.23'},\n",
       " 'AS Monaco No Bet, Tempo Regular': {'Empate': '1.94', 'Visitante': '1.81'},\n",
       " 'Olympique Lyon No Bet, Tempo Regular': {'Casa': '1.48', 'Empate': '2.55'},\n",
       " 'Ímpar/Par Total de Gols, Tempo Regular': {'Par': '1.87', 'Ímpar': '1.98'},\n",
       " 'Ímpar/Par Total de Gols, Primeiro Tempo': {'Par': '1.74', 'Ímpar': '2.06'},\n",
       " 'Última equipe a marcar, Tempo Regular': {'AS Mónaco': '1.74',\n",
       "  'Sem Gols': '15.00',\n",
       "  'Lyon': '2.27'},\n",
       " 'Intervalo/Final Resultado Exato, Tempo Regular': {'0-0 0-0': '13.00'},\n",
       " 'Para marcar em ambos os 1º / 2º tempos? - AS Monaco, Tempo Regular': {'Sim': '2.85',\n",
       "  'Não': '1.39'},\n",
       " 'Para marcar em ambos os 1º / 2º tempos? - Olympique Lyon, Tempo Regular': {'Sim': '4.00',\n",
       "  'Não': '1.22'},\n",
       " 'Para ganhar nos dois tempos? - AS Monaco, Tempo Regular': {'Sim': '5.60',\n",
       "  'Não': '1.12'},\n",
       " 'Para ganhar nos dois tempos? - Olympique Lyon, Tempo Regular': {'Sim': '9.60',\n",
       "  'Não': '1.04'},\n",
       " 'Para ganhar em um dos tempos? - AS Monaco, Tempo Regular': {'Sim': '1.55',\n",
       "  'Não': '2.36'},\n",
       " 'Para ganhar em um dos tempos? - Olympique Lyon, Tempo Regular': {'Sim': '2.09',\n",
       "  'Não': '1.69'},\n",
       " 'Tempo com mais Gols ou Pontos , Tempo Regular': {'Primeiro Tempo': '3.25',\n",
       "  'Segundo Tempo': '2.01',\n",
       "  'Both Halves The Same': '3.65'},\n",
       " 'Tempo com mais Gols ou Pontos - AS Monaco, Tempo Regular': {'Primeiro Tempo': '3.40',\n",
       "  'Segundo Tempo': '2.36',\n",
       "  'Both Halves The Same': '2.70'},\n",
       " 'Tempo com mais Gols ou Pontos - Olympique Lyon, Tempo Regular': {'Primeiro Tempo': '3.70',\n",
       "  'Segundo Tempo': '2.60',\n",
       "  'Both Halves The Same': '2.29'},\n",
       " 'Sem sofrer gols - AS Monaco, Tempo Regular': {'Sim': '3.20', 'Não': '1.34'},\n",
       " 'Sem sofrer gols - Olympique Lyon, Tempo Regular': {'Sim': '4.60',\n",
       "  'Não': '1.19'},\n",
       " 'Sem sofrer gols - AS Monaco, Primeiro Tempo': {'Sim': '1.62', 'Não': '2.21'},\n",
       " 'Sem sofrer gols - Olympique Lyon, Primeiro Tempo': {'Sim': '1.92',\n",
       "  'Não': '1.82'},\n",
       " 'Sem sofrer gols - AS Monaco, Segundo Tempo': {'Sim': '1.91', 'Não': '1.83'},\n",
       " 'Sem sofrer gols - Olympique Lyon, Segundo Tempo': {'Sim': '2.37',\n",
       "  'Não': '1.54'},\n",
       " 'Quando será marcado o 1º gol?, Tempo Regular': {'1-15': '2.90',\n",
       "  '16-30': '3.70',\n",
       "  '31-45': '4.90',\n",
       "  '46-60': '8.00',\n",
       "  '61-75': '12.00',\n",
       "  'Nada': '15.00',\n",
       "  '76-90': '16.00'},\n",
       " 'Quando será marcado o 1º gol? (Intervalo de 10 min), Tempo Regular': {'1-10': '4.10',\n",
       "  '11-20': '4.50',\n",
       "  '21-30': '5.60',\n",
       "  '31-40': '7.20',\n",
       "  '41-50': '8.40',\n",
       "  '51-60': '12.00',\n",
       "  'Nada': '14.00',\n",
       "  '61-70': '16.00',\n",
       "  '71-80': '23.00',\n",
       "  '81-90': '23.00'},\n",
       " 'Série de Gols, Tempo Regular': {'0-1': '4.20',\n",
       "  '2-3': '2.03',\n",
       "  '4-6': '2.90',\n",
       "  '7+': '29.00'}}"
      ]
     },
     "execution_count": 15,
     "metadata": {},
     "output_type": "execute_result"
    }
   ],
   "source": [
    "odds"
   ]
  }
 ],
 "metadata": {
  "kernelspec": {
   "display_name": "futebol",
   "language": "python",
   "name": "futebol"
  },
  "language_info": {
   "codemirror_mode": {
    "name": "ipython",
    "version": 3
   },
   "file_extension": ".py",
   "mimetype": "text/x-python",
   "name": "python",
   "nbconvert_exporter": "python",
   "pygments_lexer": "ipython3",
   "version": "3.8.12"
  }
 },
 "nbformat": 4,
 "nbformat_minor": 4
}
