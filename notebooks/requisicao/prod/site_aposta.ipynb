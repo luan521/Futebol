{
 "cells": [
  {
   "cell_type": "code",
   "execution_count": 1,
   "metadata": {},
   "outputs": [],
   "source": [
    "import sys\n",
    "sys.path.append('C:\\\\Users\\\\Luan\\\\futebol\\\\Futebol')"
   ]
  },
  {
   "cell_type": "markdown",
   "metadata": {},
   "source": [
    "## dafabet\n",
    "\n",
    "- https://www.dafabet.com/pt/dfgoal/sports/240-football/22977-brazil"
   ]
  },
  {
   "cell_type": "markdown",
   "metadata": {},
   "source": [
    "## GetOdds"
   ]
  },
  {
   "cell_type": "code",
   "execution_count": 2,
   "metadata": {},
   "outputs": [],
   "source": [
    "from cafu.queries import GetOdds"
   ]
  },
  {
   "cell_type": "code",
   "execution_count": 18,
   "metadata": {},
   "outputs": [],
   "source": [
    "#query = GetOdds()\n",
    "query = GetOdds(headless=False)"
   ]
  },
  {
   "cell_type": "code",
   "execution_count": 19,
   "metadata": {},
   "outputs": [],
   "source": [
    "query.get_campeonato_dafabet('franca')"
   ]
  },
  {
   "cell_type": "code",
   "execution_count": 20,
   "metadata": {},
   "outputs": [],
   "source": [
    "query.login()"
   ]
  },
  {
   "cell_type": "code",
   "execution_count": 21,
   "metadata": {},
   "outputs": [
    {
     "data": {
      "text/plain": [
       "10"
      ]
     },
     "execution_count": 21,
     "metadata": {},
     "output_type": "execute_result"
    }
   ],
   "source": [
    "query.get_quantidade_partidas()"
   ]
  },
  {
   "cell_type": "code",
   "execution_count": 15,
   "metadata": {},
   "outputs": [
    {
     "data": {
      "text/plain": [
       "{'horario': '06/02/2022 - 09:00',\n",
       " 'time_casa': 'Lorient',\n",
       " 'time_visitante': 'Lens'}"
      ]
     },
     "execution_count": 15,
     "metadata": {},
     "output_type": "execute_result"
    }
   ],
   "source": [
    "query.join_link_odds_partida(3)"
   ]
  },
  {
   "cell_type": "code",
   "execution_count": 13,
   "metadata": {},
   "outputs": [
    {
     "data": {
      "text/plain": [
       "True"
      ]
     },
     "execution_count": 13,
     "metadata": {},
     "output_type": "execute_result"
    }
   ],
   "source": [
    "query.open_odds()"
   ]
  },
  {
   "cell_type": "code",
   "execution_count": 8,
   "metadata": {},
   "outputs": [],
   "source": [
    "odds = query.get_odds()"
   ]
  },
  {
   "cell_type": "code",
   "execution_count": 22,
   "metadata": {},
   "outputs": [],
   "source": [
    "query.web.close() # encerra a sessão"
   ]
  },
  {
   "cell_type": "code",
   "execution_count": 10,
   "metadata": {},
   "outputs": [
    {
     "data": {
      "text/plain": [
       "{'Vitória / Empate / Vitória, Tempo Regular': {'Lorient': '3.25',\n",
       "  'Empate': '3.45',\n",
       "  'Lens': '2.20'},\n",
       " 'Vitória / Empate / Vitória, Primeiro Tempo': {'Lorient': '3.80',\n",
       "  'Empate': '2.17',\n",
       "  'Lens': '2.80'},\n",
       " 'Vitória / Empate / Vitória, Segundo Tempo': {'Lorient': '3.40',\n",
       "  'Empate': '2.60',\n",
       "  'Lens': '2.49'},\n",
       " 'Handicap Asiático, Tempo Regular': {'Lorient 0,+0.5': '2.04',\n",
       "  'Lens 0,-0.5': '1.88',\n",
       "  'Lorient +0.5': '1.78',\n",
       "  'Lens -0.5': '2.16'},\n",
       " 'Handicap Asiático, Primeiro Tempo': {'Lorient 0,-0.5': '2.95',\n",
       "  'Lens 0,+0.5': '1.38',\n",
       "  'Lorient 0': '2.21',\n",
       "  'Lens 0': '1.64',\n",
       "  'Lorient 0,+0.5': '1.64',\n",
       "  'Lens 0,-0.5': '2.22'},\n",
       " 'Mais de / Menos de - Lens, Tempo Regular': {'Mais de 1.5': '2.09',\n",
       "  'Menos de 1.5': '1.69'},\n",
       " 'Mais de / Menos de - Lorient, Tempo Regular': {'Mais de 1.5': '2.70',\n",
       "  'Menos de 1.5': '1.42'},\n",
       " 'Mais de / Menos de, Tempo Regular': {'Mais de 2,2.5': '1.67',\n",
       "  'Menos de 2,2.5': '2.21',\n",
       "  'Mais de 2.5': '1.90',\n",
       "  'Menos de 2.5': '1.91',\n",
       "  'Mais de 2.5,3': '2.14',\n",
       "  'Menos de 2.5,3': '1.72'},\n",
       " 'Ambos os tempos acima de 1.5 gols?, Tempo Regular': {'Sim': '5.20',\n",
       "  'Não': '1.13'},\n",
       " 'Ambos os tempos abaixo de 1.5 gols?, Tempo Regular': {'Sim': '2.43',\n",
       "  'Não': '1.49'},\n",
       " 'Mais de / Menos de - Lens, Primeiro Tempo': {'Mais de 0.5': '1.95',\n",
       "  'Menos de 0.5': '1.79'},\n",
       " 'Mais de / Menos de - Lorient, Primeiro Tempo': {'Mais de 0.5': '2.30',\n",
       "  'Menos de 0.5': '1.57'},\n",
       " 'Mais de / Menos de, Primeiro Tempo': {'Mais de 0.5,1': '1.55',\n",
       "  'Menos de 0.5,1': '2.40',\n",
       "  'Mais de 1': '1.86',\n",
       "  'Menos de 1': '1.91',\n",
       "  'Mais de 1,1.5': '2.34',\n",
       "  'Menos de 1,1.5': '1.58'},\n",
       " 'Mais de / Menos de - Lens, Segundo Tempo': {'Mais de 0.5': '1.64',\n",
       "  'Menos de 0.5': '2.17'},\n",
       " 'Mais de / Menos de - Lorient, Segundo Tempo': {'Mais de 0.5': '1.90',\n",
       "  'Menos de 0.5': '1.84'},\n",
       " 'Mais de / Menos de, Segundo Tempo': {'Mais de 1': '1.41',\n",
       "  'Menos de 1': '2.85',\n",
       "  'Mais de 1,1.5': '1.74',\n",
       "  'Menos de 1,1.5': '2.06',\n",
       "  'Mais de 1.5': '2.07',\n",
       "  'Menos de 1.5': '1.74'},\n",
       " 'Time que marca o 1º Gol, Tempo Regular': {'Lorient': '2.25',\n",
       "  'Sem Gols': '12.00',\n",
       "  'Lens': '1.80'},\n",
       " 'Time que marca o 1º Gol, Primeiro Tempo': {'Lorient': '3.05',\n",
       "  'Sem Gols': '2.90',\n",
       "  'Lens': '2.43'},\n",
       " 'Qual time a marcar (sem receber gol), Tempo Regular': {'Lorient': '5.80',\n",
       "  'Lens': '3.80',\n",
       "  'Ambos': '1.69',\n",
       "  'Nenhum': '12.00'},\n",
       " 'Handicap Europeu, Tempo Regular': {'Lorient +1': '1.68',\n",
       "  'Empate / Lens -1': '4.10',\n",
       "  'Lens -1': '4.10'},\n",
       " '1X2 Handicap Fixo, Primeiro Tempo': {'Lorient +1': '1.42',\n",
       "  'Empate / Lens -1': '3.75',\n",
       "  'Lens -1': '9.20'},\n",
       " 'Dupla Chance, Tempo Regular': {'Lorient / Empate': '1.64',\n",
       "  'Lorient / Lens': '1.31',\n",
       "  'Lens / Empate': '1.34'},\n",
       " 'Dupla Chance, Primeiro Tempo': {'Lorient / Empate': '1.38',\n",
       "  'Lorient / Lens': '1.58',\n",
       "  'Lens / Empate': '1.24'},\n",
       " 'Empate Anula, Tempo Regular': {'Lorient': '2.38', 'Lens': '1.61'},\n",
       " 'Empate Anula, Primeiro Tempo': {'Lorient': '2.21', 'Lens': '1.64'},\n",
       " 'Quem marca mais gols nos intervalos de 10 minutos 1-10, Tempo Regular': {'Lorient': '10.00',\n",
       "  'Empate': '1.17',\n",
       "  'Lens': '7.80'},\n",
       " 'Pontuação Correta, Tempo Regular': {'1-0': '10.00',\n",
       "  '0-0': '11.00',\n",
       "  '0-1': '7.80',\n",
       "  '2-0': '17.00',\n",
       "  '1-1': '6.00',\n",
       "  '0-2': '10.00',\n",
       "  '3-0': '40.00',\n",
       "  '2-2': '13.00',\n",
       "  '1-2': '8.60',\n",
       "  '4-0': '101.00',\n",
       "  '3-3': '60.00',\n",
       "  '0-3': '20.00',\n",
       "  '2-1': '11.00',\n",
       "  '4-4': '101.00',\n",
       "  '1-3': '17.00',\n",
       "  '3-1': '27.00',\n",
       "  '2-3': '28.00',\n",
       "  '4-1': '90.00',\n",
       "  '0-4': '50.00',\n",
       "  '3-2': '35.00',\n",
       "  '1-4': '45.00',\n",
       "  '4-2': '101.00',\n",
       "  '2-4': '70.00',\n",
       "  '4-3': '101.00',\n",
       "  '3-4': '101.00',\n",
       "  'Outro': '29.00'},\n",
       " 'Exato número de Gols, Tempo Regular': {'0': '11.00',\n",
       "  '1': '4.70',\n",
       "  '2': '3.40',\n",
       "  '3': '3.90',\n",
       "  '4': '5.40',\n",
       "  '5': '10.00',\n",
       "  '6': '22.00',\n",
       "  '7': '60.00',\n",
       "  '8': '101.00',\n",
       "  '9+': '101.00'},\n",
       " 'Exato número de Gols - Lorient, Tempo Regular': {'0': '2.95',\n",
       "  '1': '2.48',\n",
       "  '2': '4.10',\n",
       "  '3+': '7.40'},\n",
       " 'Exato número de Gols - Lens, Tempo Regular': {'0': '4.00',\n",
       "  '1': '2.70',\n",
       "  '2': '3.55',\n",
       "  '3+': '4.60'},\n",
       " 'Exato número de Gols, Primeiro Tempo': {'0': '2.85',\n",
       "  '1': '2.55',\n",
       "  '2': '4.20',\n",
       "  '3+': '7.60'},\n",
       " 'Exato número de Gols, Segundo Tempo': {'0': '4.30',\n",
       "  '1': '2.75',\n",
       "  '2+': '2.06'},\n",
       " 'Intervalo / Final, Tempo Regular': {'Lorient - Lorient': '5.20',\n",
       "  'Empate - Lorient': '7.40',\n",
       "  'Lens - Lorient': '40.00',\n",
       "  'Lorient - Empate': '15.00',\n",
       "  'Empate - Empate': '5.20',\n",
       "  'Lens - Empate': '15.00',\n",
       "  'Lorient - Lens': '29.00',\n",
       "  'Empate - Lens': '5.40',\n",
       "  'Lens - Lens': '3.40'},\n",
       " 'Margem de Lucro, Tempo Regular': {'FC Lorient by 1': '5.00',\n",
       "  'RC Lens by 1': '4.00',\n",
       "  'FC Lorient by 2': '11.00',\n",
       "  'RC Lens by 2': '6.60',\n",
       "  'FC Lorient by 3+': '22.00',\n",
       "  'RC Lens by 3+': '9.80',\n",
       "  'Empate': '3.25'},\n",
       " 'Matchbet e Totais, Tempo Regular': {'Lorient and Over 1.5': '4.20',\n",
       "  'Lorient and Over 2.5': '5.40',\n",
       "  'Lorient and Over 3.5': '11.00',\n",
       "  'Lorient and Under 1.5': '11.00',\n",
       "  'Lorient and Under 2.5': '7.20',\n",
       "  'Lorient and Under 3.5': '4.30',\n",
       "  'Empate e Acima 1.5': '4.50',\n",
       "  'Empate e Acima 2.5': '12.00',\n",
       "  'Empate e Acima 3.5': '12.00',\n",
       "  'Empate e Abaixo 1.5': '12.00',\n",
       "  'Empate e Abaixo 2.5': '4.50',\n",
       "  'Empate e Abaixo 3.5': '4.50',\n",
       "  'Lens and Over 1.5': '2.70',\n",
       "  'Lens and Over 2.5': '3.45',\n",
       "  'Lens and Over 3.5': '6.60',\n",
       "  'Lens and Under 1.5': '9.00',\n",
       "  'Lens and Under 2.5': '5.20',\n",
       "  'Lens and Under 3.5': '3.05'},\n",
       " 'Matchbet e Totais, Primeiro Tempo': {'Lorient and Over 1.5': '11.00',\n",
       "  'Lorient and Under 1.5': '5.60',\n",
       "  'Empate e Acima 1.5': '7.80',\n",
       "  'Empate e Abaixo 1.5': '2.85',\n",
       "  'Lens and Over 1.5': '6.80',\n",
       "  'Lens and Under 1.5': '4.50'},\n",
       " 'Ambos os times marcam, Tempo Regular': {'Sim': '1.75', 'Não': '2.10'},\n",
       " 'Ambos os times marcam, Primeiro Tempo': {'Sim': '4.30', 'Não': '1.19'},\n",
       " 'FC Lorient No Bet, Tempo Regular': {'Empate': '2.38', 'Visitante': '1.54'},\n",
       " 'RC Lens No Bet, Tempo Regular': {'Casa': '1.82', 'Empate': '1.93'},\n",
       " 'Ímpar/Par Total de Gols, Tempo Regular': {'Par': '1.87', 'Ímpar': '1.98'},\n",
       " 'Ímpar/Par Total de Gols, Primeiro Tempo': {'Par': '1.71', 'Ímpar': '2.10'},\n",
       " 'Última equipe a marcar, Tempo Regular': {'Lorient': '2.25',\n",
       "  'Sem Gols': '12.00',\n",
       "  'Lens': '1.80'},\n",
       " 'Intervalo/Final Resultado Exato, Tempo Regular': {'0-0 0-0': '10.00'},\n",
       " 'Para marcar em ambos os 1º / 2º tempos? - Lorient, Tempo Regular': {'Sim': '4.30',\n",
       "  'Não': '1.19'},\n",
       " 'Para marcar em ambos os 1º / 2º tempos? - Lens, Tempo Regular': {'Sim': '3.25',\n",
       "  'Não': '1.31'},\n",
       " 'Para ganhar nos dois tempos? - Lorient, Tempo Regular': {'Sim': '9.40',\n",
       "  'Não': '1.04'},\n",
       " 'Para ganhar nos dois tempos? - Lens, Tempo Regular': {'Sim': '6.20',\n",
       "  'Não': '1.10'},\n",
       " 'Para ganhar em um dos tempos? - Lorient, Tempo Regular': {'Sim': '2.07',\n",
       "  'Não': '1.71'},\n",
       " 'Para ganhar em um dos tempos? - Lens, Tempo Regular': {'Sim': '1.62',\n",
       "  'Não': '2.21'},\n",
       " 'Tempo com mais Gols ou Pontos , Tempo Regular': {'Primeiro Tempo': '3.25',\n",
       "  'Segundo Tempo': '2.05',\n",
       "  'Both Halves The Same': '3.50'},\n",
       " 'Tempo com mais Gols ou Pontos - Lorient, Tempo Regular': {'Primeiro Tempo': '3.75',\n",
       "  'Segundo Tempo': '2.65',\n",
       "  'Both Halves The Same': '2.22'},\n",
       " 'Tempo com mais Gols ou Pontos - Lens, Tempo Regular': {'Primeiro Tempo': '3.50',\n",
       "  'Segundo Tempo': '2.44',\n",
       "  'Both Halves The Same': '2.55'},\n",
       " 'Sem sofrer gols - Lorient, Tempo Regular': {'Sim': '3.95', 'Não': '1.24'},\n",
       " 'Sem sofrer gols - Lens, Tempo Regular': {'Sim': '3.00', 'Não': '1.38'},\n",
       " 'Sem sofrer gols - Lorient, Primeiro Tempo': {'Sim': '1.79', 'Não': '1.95'},\n",
       " 'Sem sofrer gols - Lens, Primeiro Tempo': {'Sim': '1.57', 'Não': '2.30'},\n",
       " 'Sem sofrer gols - Lorient, Segundo Tempo': {'Sim': '2.17', 'Não': '1.64'},\n",
       " 'Sem sofrer gols - Lens, Segundo Tempo': {'Sim': '1.84', 'Não': '1.90'},\n",
       " 'Quando será marcado o 1º gol?, Tempo Regular': {'1-15': '3.10',\n",
       "  '16-30': '3.85',\n",
       "  '31-45': '5.00',\n",
       "  '46-60': '7.80',\n",
       "  '61-75': '11.00',\n",
       "  'Nada': '12.00',\n",
       "  '76-90': '15.00'},\n",
       " 'Quando será marcado o 1º gol? (Intervalo de 10 min), Tempo Regular': {'1-10': '4.40',\n",
       "  '11-20': '4.70',\n",
       "  '21-30': '5.80',\n",
       "  '31-40': '7.40',\n",
       "  '41-50': '8.40',\n",
       "  '51-60': '11.00',\n",
       "  'Nada': '11.00',\n",
       "  '61-70': '15.00',\n",
       "  '71-80': '21.00',\n",
       "  '81-90': '21.00'},\n",
       " 'Série de Gols, Tempo Regular': {'0-1': '3.60',\n",
       "  '2-3': '1.97',\n",
       "  '4-6': '3.35',\n",
       "  '7+': '40.00'}}"
      ]
     },
     "execution_count": 10,
     "metadata": {},
     "output_type": "execute_result"
    }
   ],
   "source": [
    "odds"
   ]
  }
 ],
 "metadata": {
  "kernelspec": {
   "display_name": "futebol",
   "language": "python",
   "name": "futebol"
  },
  "language_info": {
   "codemirror_mode": {
    "name": "ipython",
    "version": 3
   },
   "file_extension": ".py",
   "mimetype": "text/x-python",
   "name": "python",
   "nbconvert_exporter": "python",
   "pygments_lexer": "ipython3",
   "version": "3.8.12"
  }
 },
 "nbformat": 4,
 "nbformat_minor": 4
}
