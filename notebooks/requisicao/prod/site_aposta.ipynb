{
 "cells": [
  {
   "cell_type": "code",
   "execution_count": 1,
   "metadata": {},
   "outputs": [],
   "source": [
    "import sys\n",
    "sys.path.append('/home/luan/futebol/Futebol')"
   ]
  },
  {
   "cell_type": "markdown",
   "metadata": {},
   "source": [
    "## dafabet\n",
    "\n",
    "- https://www.dafabet.com/pt/dfgoal/sports/240-football/22977-brazil"
   ]
  },
  {
   "cell_type": "markdown",
   "metadata": {},
   "source": [
    "## GetOdds"
   ]
  },
  {
   "cell_type": "code",
   "execution_count": 2,
   "metadata": {},
   "outputs": [],
   "source": [
    "from cafu.queries import GetOdds"
   ]
  },
  {
   "cell_type": "code",
   "execution_count": 12,
   "metadata": {},
   "outputs": [],
   "source": [
    "#query = GetOdds()\n",
    "query = GetOdds(headless=False)"
   ]
  },
  {
   "cell_type": "code",
   "execution_count": 13,
   "metadata": {},
   "outputs": [],
   "source": [
    "query.get_campeonato_dafabet('franca')"
   ]
  },
  {
   "cell_type": "code",
   "execution_count": 5,
   "metadata": {},
   "outputs": [],
   "source": [
    "query.login()"
   ]
  },
  {
   "cell_type": "code",
   "execution_count": 6,
   "metadata": {},
   "outputs": [
    {
     "data": {
      "text/plain": [
       "9"
      ]
     },
     "execution_count": 6,
     "metadata": {},
     "output_type": "execute_result"
    }
   ],
   "source": [
    "query.get_quantidade_partidas()"
   ]
  },
  {
   "cell_type": "code",
   "execution_count": 7,
   "metadata": {},
   "outputs": [
    {
     "name": "stderr",
     "output_type": "stream",
     "text": [
      " 10%|█         | 1/10 [00:04<00:43,  4.86s/it]\n"
     ]
    }
   ],
   "source": [
    "query.join_link_odds_partida(4)"
   ]
  },
  {
   "cell_type": "code",
   "execution_count": 8,
   "metadata": {},
   "outputs": [
    {
     "name": "stderr",
     "output_type": "stream",
     "text": [
      "100%|██████████| 73/73 [00:21<00:00,  3.41it/s]\n",
      "100%|██████████| 15/15 [00:05<00:00,  2.90it/s]\n",
      "100%|██████████| 3/3 [00:00<00:00,  4.35it/s]\n",
      "100%|██████████| 1/1 [00:00<00:00,  6.28it/s]\n",
      "0it [00:00, ?it/s]\n"
     ]
    },
    {
     "data": {
      "text/plain": [
       "'92'"
      ]
     },
     "execution_count": 8,
     "metadata": {},
     "output_type": "execute_result"
    }
   ],
   "source": [
    "query.open_odds()"
   ]
  },
  {
   "cell_type": "code",
   "execution_count": 9,
   "metadata": {
    "tags": []
   },
   "outputs": [
    {
     "name": "stderr",
     "output_type": "stream",
     "text": [
      "100%|██████████| 342/342 [11:53<00:00,  2.09s/it]\n"
     ]
    }
   ],
   "source": [
    "odds = query.get_odds()"
   ]
  },
  {
   "cell_type": "code",
   "execution_count": 14,
   "metadata": {},
   "outputs": [],
   "source": [
    "query.web.close() # encerra a sessão"
   ]
  },
  {
   "cell_type": "code",
   "execution_count": 20,
   "metadata": {},
   "outputs": [
    {
     "data": {
      "text/plain": [
       "{'Vitória / Empate / Vitória, Tempo Regular': {'Nantes': '2.24',\n",
       "  'Empate': '3.20',\n",
       "  'Reims': '3.70'},\n",
       " 'Vitória / Empate / Vitória, Primeiro Tempo': {'Nantes': '3.00',\n",
       "  'Empate': '1.99',\n",
       "  'Reims': '4.50'},\n",
       " 'Vitória / Empate / Vitória, Segundo Tempo': {'Nantes': '2.55',\n",
       "  'Empate': '2.34',\n",
       "  'Reims': '3.80'},\n",
       " 'Handicap Asiático, Tempo Regular': {'Nantes -0.5': '2.21',\n",
       "  'Reims +0.5': '1.74',\n",
       "  'Nantes 0,-0.5': '1.85',\n",
       "  'Reims 0,+0.5': '2.07',\n",
       "  'Nantes 0': '1.58',\n",
       "  'Reims 0': '2.51'},\n",
       " 'Handicap Asiático, Primeiro Tempo': {'Nantes 0,-0.5': '2.25',\n",
       "  'Reims 0,+0.5': '1.70',\n",
       "  'Nantes 0': '1.62',\n",
       "  'Reims 0': '2.38'},\n",
       " 'Mais de / Menos de - Reims, Tempo Regular': {'Mais de 0.5': '1.55',\n",
       "  'Menos de 0.5': '2.35'},\n",
       " 'Mais de / Menos de - Nantes, Tempo Regular': {'Mais de 1.5': '2.49',\n",
       "  'Menos de 1.5': '1.50'},\n",
       " 'Mais de / Menos de, Tempo Regular': {'Mais de 2': '1.85',\n",
       "  'Menos de 2': '2.05',\n",
       "  'Mais de 2,2.5': '2.12',\n",
       "  'Menos de 2,2.5': '1.79',\n",
       "  'Mais de 2.5': '2.38',\n",
       "  'Menos de 2.5': '1.62'},\n",
       " 'Ambos os tempos acima de 1.5 gols?, Tempo Regular': {'Sim': '7.20',\n",
       "  'Não': '1.06'},\n",
       " 'Ambos os tempos abaixo de 1.5 gols?, Tempo Regular': {'Sim': '1.92',\n",
       "  'Não': '1.79'},\n",
       " 'Mais de / Menos de - Reims, Primeiro Tempo': {'Mais de 0.5': '2.75',\n",
       "  'Menos de 0.5': '1.42'},\n",
       " 'Mais de / Menos de - Nantes, Primeiro Tempo': {'Mais de 0.5': '2.18',\n",
       "  'Menos de 0.5': '1.64'},\n",
       " 'Mais de / Menos de, Primeiro Tempo': {'Mais de 0.5,1': '1.83',\n",
       "  'Menos de 0.5,1': '2.07',\n",
       "  'Mais de 1': '2.33',\n",
       "  'Menos de 1': '1.65'},\n",
       " 'Mais de / Menos de - Reims, Segundo Tempo': {'Mais de 0.5': '2.23',\n",
       "  'Menos de 0.5': '1.61'},\n",
       " 'Mais de / Menos de - Nantes, Segundo Tempo': {'Mais de 0.5': '1.81',\n",
       "  'Menos de 0.5': '1.93'},\n",
       " 'Mais de / Menos de, Segundo Tempo': {'Mais de 1': '1.68',\n",
       "  'Menos de 1': '2.15',\n",
       "  'Mais de 1,1.5': '2.13',\n",
       "  'Menos de 1,1.5': '1.70',\n",
       "  'Mais de 1.5': '2.55',\n",
       "  'Menos de 1.5': '1.49'},\n",
       " 'Time que marca o 1º Gol, Tempo Regular': {'Nantes': '1.83',\n",
       "  'Sem Gols': '7.80',\n",
       "  'Reims': '2.47'},\n",
       " 'Time que marca o 1º Gol, Primeiro Tempo': {'Nantes': '2.60',\n",
       "  'Sem Gols': '2.39',\n",
       "  'Reims': '3.55'},\n",
       " 'Qual time a marcar (sem receber gol), Tempo Regular': {'Nantes': '3.25',\n",
       "  'Reims': '5.40',\n",
       "  'Ambos': '2.06',\n",
       "  'Nenhum': '7.60'},\n",
       " 'Handicap Europeu, Tempo Regular': {'Nantes -2': '12.00',\n",
       "  'Empate / Stade De Reims +2': '6.60',\n",
       "  'Reims +2': '1.21',\n",
       "  'Nantes -1': '4.60',\n",
       "  'Empate / Stade De Reims +1': '3.95',\n",
       "  'Reims +1': '1.70',\n",
       "  'Nantes +1': '1.31',\n",
       "  'Empate / Stade De Reims -1': '5.20',\n",
       "  'Reims -1': '9.60'},\n",
       " '1X2 Handicap Fixo, Primeiro Tempo': {'Nantes -1': '11.00',\n",
       "  'Empate / Stade De Reims +1': '3.75',\n",
       "  'Reims +1': '1.38'},\n",
       " 'Dupla Chance, Tempo Regular': {'Nantes / Empate': '1.30',\n",
       "  'Nantes / Stade De Reims': '1.36',\n",
       "  'Stade De Reims / Empate': '1.64'},\n",
       " 'Dupla Chance, Primeiro Tempo': {'Nantes / Empate': '1.20',\n",
       "  'Nantes / Stade De Reims': '1.71',\n",
       "  'Stade De Reims / Empate': '1.35'},\n",
       " 'Empate Anula, Tempo Regular': {'Nantes': '1.55', 'Reims': '2.50'},\n",
       " 'Empate Anula, Primeiro Tempo': {'Nantes': '1.61', 'Reims': '2.38'},\n",
       " 'Quem marca mais gols nos intervalos de 10 minutos 1-10, Tempo Regular': {'Nantes': '8.60',\n",
       "  'Empate': '1.14',\n",
       "  'Reims': '12.00'},\n",
       " 'Pontuação Correta, Tempo Regular': {'1-0': '5.80',\n",
       "  '0-0': '6.80',\n",
       "  '0-1': '7.80',\n",
       "  '2-0': '8.80',\n",
       "  '1-1': '5.60',\n",
       "  '0-2': '17.00',\n",
       "  '3-0': '20.00',\n",
       "  '2-2': '18.00',\n",
       "  '1-2': '13.00',\n",
       "  '4-0': '60.00',\n",
       "  '3-3': '101.00',\n",
       "  '0-3': '50.00',\n",
       "  '2-1': '9.40',\n",
       "  '4-4': '101.00',\n",
       "  '1-3': '40.00',\n",
       "  '3-1': '21.00',\n",
       "  '2-3': '60.00',\n",
       "  '4-1': '70.00',\n",
       "  '0-4': '101.00',\n",
       "  '3-2': '45.00',\n",
       "  '1-4': '101.00',\n",
       "  '4-2': '101.00',\n",
       "  '2-4': '101.00',\n",
       "  '4-3': '101.00',\n",
       "  '3-4': '101.00',\n",
       "  'Outro': '60.00'},\n",
       " 'Exato número de Gols, Tempo Regular': {'0': '7.20',\n",
       "  '1': '3.60',\n",
       "  '2': '3.10',\n",
       "  '3': '4.30',\n",
       "  '4': '7.20',\n",
       "  '5': '17.00',\n",
       "  '6': '45.00',\n",
       "  '7': '101.00',\n",
       "  '8': '101.00',\n",
       "  '9+': '101.00'},\n",
       " 'Exato número de Gols - Nantes, Tempo Regular': {'0': '3.25',\n",
       "  '1': '2.55',\n",
       "  '2': '3.90',\n",
       "  '3+': '6.40'},\n",
       " 'Exato número de Gols - Reims, Tempo Regular': {'0': '2.31',\n",
       "  '1': '2.44',\n",
       "  '2': '5.00',\n",
       "  '3+': '13.00'},\n",
       " 'Exato número de Gols, Primeiro Tempo': {'0': '2.34',\n",
       "  '1': '2.50',\n",
       "  '2': '5.00',\n",
       "  '3+': '12.00'},\n",
       " 'Exato número de Gols, Segundo Tempo': {'0': '3.30',\n",
       "  '1': '2.55',\n",
       "  '2+': '2.60'},\n",
       " 'Intervalo / Final, Tempo Regular': {'Nantes - Nantes': '3.50',\n",
       "  'Empate - Nantes': '5.00',\n",
       "  'Stade De Reims - Nantes': '35.00',\n",
       "  'Nantes - Empate': '16.00',\n",
       "  'Empate - Empate': '4.20',\n",
       "  'Stade De Reims - Empate': '16.00',\n",
       "  'Nantes - Stade De Reims': '50.00',\n",
       "  'Empate - Stade De Reims': '7.40',\n",
       "  'Stade De Reims - Stade De Reims': '6.20'},\n",
       " 'Margem de Lucro, Tempo Regular': {'FC Nantes by 1': '3.70',\n",
       "  'Stade De Reims by 1': '5.00',\n",
       "  'FC Nantes by 2': '6.60',\n",
       "  'Stade De Reims by 2': '13.00',\n",
       "  'FC Nantes by 3+': '12.00',\n",
       "  'Stade De Reims by 3+': '35.00',\n",
       "  'Empate': '2.95'},\n",
       " 'Match-bet and Totals, Tempo Regular': {'Nantes and Over 1.5': '3.05',\n",
       "  'Nantes and Over 2.5': '4.20',\n",
       "  'Nantes and Over 3.5': '9.40',\n",
       "  'Nantes and Under 1.5': '6.60',\n",
       "  'Nantes and Under 2.5': '4.10',\n",
       "  'Nantes and Under 3.5': '2.65',\n",
       "  'Empate e Acima 1.5': '4.80',\n",
       "  'Empate e Acima 2.5': '18.00',\n",
       "  'Empate e Acima 3.5': '18.00',\n",
       "  'Empate e Abaixo 1.5': '7.80',\n",
       "  'Empate e Abaixo 3.5': '3.55',\n",
       "  'Reims and Over 1.5': '5.40',\n",
       "  'Reims and Over 2.5': '7.40',\n",
       "  'Reims and Over 3.5': '19.00',\n",
       "  'Reims and Under 1.5': '9.00',\n",
       "  'Reims and Under 2.5': '6.20',\n",
       "  'Reims and Under 3.5': '4.10'},\n",
       " 'Matchbet e Totais, Tempo Regular': {'Empate e Abaixo 2.5': '3.60'},\n",
       " 'Match-bet and Totals, Primeiro Tempo': {'Nantes and Over 1.5': '8.60',\n",
       "  'Nantes and Under 1.5': '4.30',\n",
       "  'Empate e Acima 1.5': '9.60',\n",
       "  'Empate e Abaixo 1.5': '2.35',\n",
       "  'Reims and Over 1.5': '15.00',\n",
       "  'Reims and Under 1.5': '5.80'},\n",
       " 'Ambos os times marcam, Tempo Regular': {'Sim': '2.12', 'Não': '1.73'},\n",
       " 'Ambos os times marcam, Primeiro Tempo': {'Sim': '5.60', 'Não': '1.12'},\n",
       " 'FC Nantes No Bet, Tempo Regular': {'Empate': '1.76', 'Visitante': '2.00'},\n",
       " 'Stade Reims No Bet, Tempo Regular': {'Casa': '1.60', 'Empate': '2.25'},\n",
       " 'Ímpar/Par Total de Gols, Tempo Regular': {'Par': '1.86', 'Ímpar': '2.00'},\n",
       " 'Ímpar/Par Total de Gols, Primeiro Tempo': {'Par': '1.64', 'Ímpar': '2.22'},\n",
       " 'Última equipe a marcar, Tempo Regular': {'Nantes': '1.83',\n",
       "  'Sem Gols': '7.80',\n",
       "  'Reims': '2.47'},\n",
       " 'Intervalo/Final Resultado Exato, Tempo Regular': {'0-0 0-0': '6.40'},\n",
       " 'Para marcar em ambos os 1º / 2º tempos? - Nantes, Tempo Regular': {'Sim': '3.95',\n",
       "  'Não': '1.23'},\n",
       " 'Para marcar em ambos os 1º / 2º tempos? - Reims, Tempo Regular': {'Sim': '5.80',\n",
       "  'Não': '1.11'},\n",
       " 'Para ganhar nos dois tempos? - Nantes, Tempo Regular': {'Sim': '6.60',\n",
       "  'Não': '1.09'},\n",
       " 'Para ganhar nos dois tempos? - Reims, Tempo Regular': {'Sim': '11.00',\n",
       "  'Não': '1.02'},\n",
       " 'Para ganhar em um dos tempos? - Nantes, Tempo Regular': {'Sim': '1.67',\n",
       "  'Não': '2.12'},\n",
       " 'Para ganhar em um dos tempos? - Reims, Tempo Regular': {'Sim': '2.28',\n",
       "  'Não': '1.58'},\n",
       " 'Tempo com mais Gols ou Pontos , Tempo Regular': {'Primeiro Tempo': '3.40',\n",
       "  'Segundo Tempo': '2.15',\n",
       "  'Both Halves The Same': '3.10'},\n",
       " 'Tempo com mais Gols ou Pontos - Nantes, Tempo Regular': {'Primeiro Tempo': '3.65',\n",
       "  'Segundo Tempo': '2.60',\n",
       "  'Both Halves The Same': '2.32'},\n",
       " 'Tempo com mais Gols ou Pontos - Reims, Tempo Regular': {'Primeiro Tempo': '4.20',\n",
       "  'Segundo Tempo': '2.95',\n",
       "  'Both Halves The Same': '1.95'},\n",
       " 'Sem sofrer gols - Nantes, Tempo Regular': {'Sim': '2.37', 'Não': '1.57'},\n",
       " 'Sem sofrer gols - Reims, Tempo Regular': {'Sim': '3.25', 'Não': '1.33'},\n",
       " 'Sem sofrer gols - Nantes, Primeiro Tempo': {'Sim': '1.42', 'Não': '2.75'},\n",
       " 'Sem sofrer gols - Reims, Primeiro Tempo': {'Sim': '1.64', 'Não': '2.18'},\n",
       " 'Sem sofrer gols - Nantes, Segundo Tempo': {'Sim': '1.61', 'Não': '2.23'},\n",
       " 'Sem sofrer gols - Reims, Segundo Tempo': {'Sim': '1.93', 'Não': '1.81'},\n",
       " 'Quando será marcado o 1º gol?, Tempo Regular': {'1-15': '3.70',\n",
       "  '16-30': '4.30',\n",
       "  '31-45': '5.20',\n",
       "  '46-60': '7.40',\n",
       "  'Nada': '7.60',\n",
       "  '61-75': '10.00',\n",
       "  '76-90': '12.00'},\n",
       " 'Quando será marcado o 1º gol? (Intervalo de 10 min), Tempo Regular': {'1-10': '5.20',\n",
       "  '11-20': '5.40',\n",
       "  '21-30': '6.40',\n",
       "  'Nada': '7.20',\n",
       "  '31-40': '7.80',\n",
       "  '41-50': '8.40',\n",
       "  '51-60': '11.00',\n",
       "  '61-70': '14.00',\n",
       "  '81-90': '16.00',\n",
       "  '71-80': '18.00'},\n",
       " 'Série de Gols, Tempo Regular': {'0-1': '2.60',\n",
       "  '2-3': '1.97',\n",
       "  '4-6': '4.90',\n",
       "  '7+': '101.00'},\n",
       " 'Corner Range , Tempo Regular': {'0-8': '2.42',\n",
       "  '9-11': '2.95',\n",
       "  '12+': '2.95'},\n",
       " 'Corner Range - Nantes, Tempo Regular': {'0-2': '6.80',\n",
       "  '3-4': '3.30',\n",
       "  '5-6': '3.20',\n",
       "  '7+': '2.80'},\n",
       " 'Corner Range - Reims, Tempo Regular': {'0-2': '3.80',\n",
       "  '3-4': '2.75',\n",
       "  '5-6': '3.55',\n",
       "  '7+': '4.80'},\n",
       " 'Corner Range , Primeiro Tempo': {'0-4': '1.75', '5-6': '3.30', '7+': '4.40'},\n",
       " 'Exact Corners - Nantes, Primeiro Tempo': {'0-1': '2.85',\n",
       "  '2': '3.80',\n",
       "  '3': '4.60',\n",
       "  '4+': '3.40'},\n",
       " 'Exact Corners - Reims, Primeiro Tempo': {'0-1': '2.13',\n",
       "  '2': '3.65',\n",
       "  '3': '5.40',\n",
       "  '4+': '5.20'},\n",
       " 'Handicap Asiático - Escanteios, Tempo Regular': {'Nantes -1.5': '2.05',\n",
       "  'Reims +1.5': '1.69'},\n",
       " 'Handicap Asiático - Escanteios, Primeiro Tempo': {'Nantes -0.5': '1.86',\n",
       "  'Reims +0.5': '1.84'},\n",
       " 'Mais Escanteios, Tempo Regular': {'Nantes': '1.67',\n",
       "  'Empate': '8.00',\n",
       "  'Reims': '2.70'},\n",
       " 'Mais Escanteios, Primeiro Tempo': {'Nantes': '1.86',\n",
       "  'Empate': '5.00',\n",
       "  'Reims': '2.75'},\n",
       " 'Escanteios Acima / Abaixo, Tempo Regular': {'Mais de 8.5': '1.53',\n",
       "  'Menos de 8.5': '2.40',\n",
       "  'Mais de 9.5': '1.84',\n",
       "  'Menos de 9.5': '1.90',\n",
       "  'Mais de 10.5': '2.28',\n",
       "  'Menos de 10.5': '1.58'},\n",
       " 'Escanteios Acima / Abaixo, Primeiro Tempo': {'Mais de 4.5': '1.96',\n",
       "  'Menos de 4.5': '1.75'},\n",
       " 'Ímpar/Par Total Escanteios, Tempo Regular': {'Par': '1.87', 'Ímpar': '1.87'},\n",
       " 'Ímpar/Par Total Escanteios, Primeiro Tempo': {'Par': '1.87',\n",
       "  'Ímpar': '1.87'},\n",
       " 'Último Escanteio, Tempo Regular': {'Nantes': '1.68',\n",
       "  'Reims': '2.06',\n",
       "  'Sem Escanteios': '101.00'},\n",
       " 'Último Escanteio, Primeiro Tempo': {'Nantes': '1.69',\n",
       "  'Reims': '2.08',\n",
       "  'Sem Escanteios': '50.00'}}"
      ]
     },
     "execution_count": 20,
     "metadata": {},
     "output_type": "execute_result"
    }
   ],
   "source": [
    "odds"
   ]
  }
 ],
 "metadata": {
  "kernelspec": {
   "display_name": "futebol",
   "language": "python",
   "name": "futebol"
  },
  "language_info": {
   "codemirror_mode": {
    "name": "ipython",
    "version": 3
   },
   "file_extension": ".py",
   "mimetype": "text/x-python",
   "name": "python",
   "nbconvert_exporter": "python",
   "pygments_lexer": "ipython3",
   "version": "3.8.12"
  }
 },
 "nbformat": 4,
 "nbformat_minor": 4
}
