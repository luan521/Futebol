{
 "cells": [
  {
   "cell_type": "code",
   "execution_count": 1,
   "metadata": {},
   "outputs": [],
   "source": [
    "import sys\n",
    "sys.path.append('/home/luan/futebol/Futebol')"
   ]
  },
  {
   "cell_type": "markdown",
   "metadata": {},
   "source": [
    "## dafabet\n",
    "\n",
    "- https://www.dafabet.com/pt/dfgoal/sports/240-football/22977-brazil"
   ]
  },
  {
   "cell_type": "markdown",
   "metadata": {},
   "source": [
    "## GetOdds"
   ]
  },
  {
   "cell_type": "code",
   "execution_count": 2,
   "metadata": {},
   "outputs": [],
   "source": [
    "from cafu.queries import GetOdds"
   ]
  },
  {
   "cell_type": "code",
   "execution_count": 3,
   "metadata": {},
   "outputs": [],
   "source": [
    "#query = GetOdds()\n",
    "query = GetOdds(headless=False)"
   ]
  },
  {
   "cell_type": "code",
   "execution_count": 4,
   "metadata": {},
   "outputs": [],
   "source": [
    "query.get_campeonato_dafabet('franca')"
   ]
  },
  {
   "cell_type": "code",
   "execution_count": 5,
   "metadata": {},
   "outputs": [],
   "source": [
    "query.login()"
   ]
  },
  {
   "cell_type": "code",
   "execution_count": 5,
   "metadata": {},
   "outputs": [
    {
     "data": {
      "text/plain": [
       "10"
      ]
     },
     "execution_count": 5,
     "metadata": {},
     "output_type": "execute_result"
    }
   ],
   "source": [
    "query.get_quantidade_partidas()"
   ]
  },
  {
   "cell_type": "code",
   "execution_count": 6,
   "metadata": {},
   "outputs": [
    {
     "name": "stderr",
     "output_type": "stream",
     "text": [
      " 10%|█         | 1/10 [00:03<00:28,  3.19s/it]\n"
     ]
    }
   ],
   "source": [
    "query.join_link_odds_partida(4)"
   ]
  },
  {
   "cell_type": "code",
   "execution_count": 7,
   "metadata": {},
   "outputs": [
    {
     "name": "stderr",
     "output_type": "stream",
     "text": [
      "100%|██████████| 57/57 [00:19<00:00,  2.97it/s]\n",
      "100%|██████████| 8/8 [00:03<00:00,  2.18it/s]\n",
      "100%|██████████| 1/1 [00:00<00:00,  6.96it/s]\n",
      "0it [00:00, ?it/s]\n"
     ]
    },
    {
     "data": {
      "text/plain": [
       "'71'"
      ]
     },
     "execution_count": 7,
     "metadata": {},
     "output_type": "execute_result"
    }
   ],
   "source": [
    "query.open_odds()"
   ]
  },
  {
   "cell_type": "code",
   "execution_count": 8,
   "metadata": {
    "tags": []
   },
   "outputs": [
    {
     "name": "stderr",
     "output_type": "stream",
     "text": [
      "100%|██████████| 284/284 [08:56<00:00,  1.89s/it]\n"
     ]
    }
   ],
   "source": [
    "odds = query.get_odds()"
   ]
  },
  {
   "cell_type": "code",
   "execution_count": 9,
   "metadata": {},
   "outputs": [],
   "source": [
    "query.web.close() # encerra a sessão"
   ]
  },
  {
   "cell_type": "code",
   "execution_count": 10,
   "metadata": {
    "tags": []
   },
   "outputs": [
    {
     "data": {
      "text/plain": [
       "{'Vitória / Empate / Vitória, Tempo Regular': {'Clermont': '2.29',\n",
       "  'Empate': '3.40',\n",
       "  'Saint-Étienne': '3.10'},\n",
       " 'Vitória / Empate / Vitória, Primeiro Tempo': {'Clermont': '2.90',\n",
       "  'Empate': '2.15',\n",
       "  'Saint-Étienne': '3.70'},\n",
       " 'Vitória / Empate / Vitória, Segundo Tempo': {'Clermont': '2.60',\n",
       "  'Empate': '2.60',\n",
       "  'Saint-Étienne': '3.30'},\n",
       " 'Handicap Asiático, Tempo Regular': {'Clermont -0.5': '2.28',\n",
       "  'Saint-Étienne +0.5': '1.70',\n",
       "  'Clermont 0,-0.5': '1.96',\n",
       "  'Saint-Étienne 0,+0.5': '1.96',\n",
       "  'Clermont 0': '1.66',\n",
       "  'Saint-Étienne 0': '2.35'},\n",
       " 'Handicap Asiático, Primeiro Tempo': {'Clermont 0,-0.5': '2.31',\n",
       "  'Saint-Étienne 0,+0.5': '1.66',\n",
       "  'Clermont 0': '1.68',\n",
       "  'Saint-Étienne 0': '2.28'},\n",
       " 'Mais de / Menos de - Saint-Étienne, Tempo Regular': {'Mais de 1.5': '2.70',\n",
       "  'Menos de 1.5': '1.44'},\n",
       " 'Mais de / Menos de - Clermont Foot, Tempo Regular': {'Mais de 1.5': '2.18',\n",
       "  'Menos de 1.5': '1.63'},\n",
       " 'Mais de / Menos de, Tempo Regular': {'Mais de 2,2.5': '1.75',\n",
       "  'Menos de 2,2.5': '2.17',\n",
       "  'Mais de 2.5': '1.98',\n",
       "  'Menos de 2.5': '1.92',\n",
       "  'Mais de 2.5,3': '2.25',\n",
       "  'Menos de 2.5,3': '1.70'},\n",
       " 'Ambos os tempos acima de 1.5 gols?, Tempo Regular': {'Sim': '5.40',\n",
       "  'Não': '1.12'},\n",
       " 'Ambos os tempos abaixo de 1.5 gols?, Tempo Regular': {'Sim': '2.38',\n",
       "  'Não': '1.52'},\n",
       " 'Mais de / Menos de - Saint-Étienne, Primeiro Tempo': {'Mais de 0.5': '2.28',\n",
       "  'Menos de 0.5': '1.58'},\n",
       " 'Mais de / Menos de - Clermont Foot, Primeiro Tempo': {'Mais de 0.5': '2.01',\n",
       "  'Menos de 0.5': '1.75'},\n",
       " 'Mais de / Menos de, Primeiro Tempo': {'Mais de 1': '1.98',\n",
       "  'Menos de 1': '1.92'},\n",
       " 'Mais de / Menos de - Saint-Étienne, Segundo Tempo': {'Mais de 0.5': '1.88',\n",
       "  'Menos de 0.5': '1.86'},\n",
       " 'Mais de / Menos de - Clermont Foot, Segundo Tempo': {'Mais de 0.5': '1.68',\n",
       "  'Menos de 0.5': '2.10'},\n",
       " 'Mais de / Menos de, Segundo Tempo': {'Mais de 1': '1.43',\n",
       "  'Menos de 1': '2.80',\n",
       "  'Mais de 1,1.5': '1.77',\n",
       "  'Menos de 1,1.5': '2.02',\n",
       "  'Mais de 1.5': '2.10',\n",
       "  'Menos de 1.5': '1.71'},\n",
       " 'Time que marca o 1º Gol, Tempo Regular': {'Clermont': '1.85',\n",
       "  'Sem Gols': '12.00',\n",
       "  'Saint-Étienne': '2.20'},\n",
       " 'Time que marca o 1º Gol, Primeiro Tempo': {'Clermont': '2.50',\n",
       "  'Sem Gols': '2.85',\n",
       "  'Saint-Étienne': '3.00'},\n",
       " 'Qual time a marcar (sem receber gol), Tempo Regular': {'Clermont': '3.95',\n",
       "  'Saint-Étienne': '5.40',\n",
       "  'Ambos': '1.71',\n",
       "  'Nenhum': '11.00'},\n",
       " 'Handicap Europeu, Tempo Regular': {'Clermont -1': '4.40',\n",
       "  'Empate / AS Saint Etienne +1': '4.20',\n",
       "  'Saint-Étienne +1': '1.62'},\n",
       " '1X2 Handicap Fixo, Primeiro Tempo': {'Clermont -1': '10.00',\n",
       "  'Empate / AS Saint Etienne +1': '3.85',\n",
       "  'Saint-Étienne +1': '1.39'},\n",
       " 'Dupla Chance, Tempo Regular': {'Clermont Foot / Empate': '1.36',\n",
       "  'Clermont Foot / AS Saint Etienne': '1.32',\n",
       "  'AS Saint Etienne / Empate': '1.59'},\n",
       " 'Dupla Chance, Primeiro Tempo': {'Clermont Foot / Empate': '1.26',\n",
       "  'Clermont Foot / AS Saint Etienne': '1.60',\n",
       "  'AS Saint Etienne / Empate': '1.36'},\n",
       " 'Empate Anula, Tempo Regular': {'Clermont': '1.67', 'Saint-Étienne': '2.26'},\n",
       " 'Empate Anula, Primeiro Tempo': {'Clermont': '1.69', 'Saint-Étienne': '2.13'},\n",
       " 'Quem marca mais gols nos intervalos de 10 minutos 1-10, Tempo Regular': {'Clermont': '8.20',\n",
       "  'Empate': '1.17',\n",
       "  'Saint-Étienne': '9.80'},\n",
       " 'Pontuação Correta, Tempo Regular': {'1-0': '7.80',\n",
       "  '0-0': '10.00',\n",
       "  '0-1': '9.40',\n",
       "  '2-0': '11.00',\n",
       "  '1-1': '6.00',\n",
       "  '0-2': '15.00',\n",
       "  '3-0': '22.00',\n",
       "  '2-2': '13.00',\n",
       "  '1-2': '11.00',\n",
       "  '4-0': '60.00',\n",
       "  '3-3': '70.00',\n",
       "  '0-3': '40.00',\n",
       "  '2-1': '8.80',\n",
       "  '4-4': '101.00',\n",
       "  '1-3': '26.00',\n",
       "  '3-1': '18.00',\n",
       "  '2-3': '35.00',\n",
       "  '4-1': '50.00',\n",
       "  '0-4': '101.00',\n",
       "  '3-2': '30.00',\n",
       "  '1-4': '90.00',\n",
       "  '4-2': '80.00',\n",
       "  '2-4': '101.00',\n",
       "  '4-3': '101.00',\n",
       "  '3-4': '101.00',\n",
       "  'Outro': '30.00'},\n",
       " 'Exato número de Gols, Tempo Regular': {'0': '11.00',\n",
       "  '1': '4.60',\n",
       "  '2': '3.35',\n",
       "  '3': '3.95',\n",
       "  '4': '5.60',\n",
       "  '5': '11.00',\n",
       "  '6': '23.00',\n",
       "  '7': '60.00',\n",
       "  '8': '101.00',\n",
       "  '9+': '101.00'},\n",
       " 'Exato número de Gols - Clermont Foot, Tempo Regular': {'0': '3.80',\n",
       "  '1': '2.65',\n",
       "  '2': '3.60',\n",
       "  '3+': '5.00'},\n",
       " 'Exato número de Gols - Saint-Étienne, Tempo Regular': {'0': '3.00',\n",
       "  '1': '2.49',\n",
       "  '2': '4.10',\n",
       "  '3+': '7.20'},\n",
       " 'Exato número de Gols, Primeiro Tempo': {'0': '2.80',\n",
       "  '1': '2.55',\n",
       "  '2': '4.30',\n",
       "  '3+': '8.00'},\n",
       " 'Exato número de Gols, Segundo Tempo': {'0': '4.20',\n",
       "  '1': '2.75',\n",
       "  '2+': '2.10'},\n",
       " 'Intervalo / Final, Tempo Regular': {'Clermont Foot - Clermont Foot': '3.55',\n",
       "  'Empate - Clermont Foot': '5.40',\n",
       "  'AS Saint Etienne - Clermont Foot': '30.00',\n",
       "  'Clermont Foot - Empate': '15.00',\n",
       "  'Empate - Empate': '5.00',\n",
       "  'AS Saint Etienne - Empate': '15.00',\n",
       "  'Clermont Foot - AS Saint Etienne': '35.00',\n",
       "  'Empate - AS Saint Etienne': '7.00',\n",
       "  'AS Saint Etienne - AS Saint Etienne': '5.00'},\n",
       " 'Margem de Lucro, Tempo Regular': {'Clermont Foot by 1': '4.10',\n",
       "  'AS Saint Etienne by 1': '4.90',\n",
       "  'Clermont Foot by 2': '7.00',\n",
       "  'AS Saint Etienne by 2': '10.00',\n",
       "  'Clermont Foot by 3+': '11.00',\n",
       "  'AS Saint Etienne by 3+': '21.00',\n",
       "  'Empate': '3.20'},\n",
       " 'Matchbet e Totais, Tempo Regular': {'Clermont and Over 2.5': '3.70',\n",
       "  'Clermont and Under 3.5': '3.10',\n",
       "  'Empate e Abaixo 3.5': '4.40'},\n",
       " 'Match-bet and Totals, Tempo Regular': {'Clermont and Over 3.5': '7.20',\n",
       "  'Clermont and Over 4.5': '13.00',\n",
       "  'Clermont and Under 2.5': '5.20',\n",
       "  'Clermont and Under 4.5': '2.60',\n",
       "  'Empate e Acima 2.5': '13.00',\n",
       "  'Empate e Acima 3.5': '13.00',\n",
       "  'Empate e Acima 4.5': '70.00',\n",
       "  'Empate e Abaixo 2.5': '4.40',\n",
       "  'Empate e Abaixo 4.5': '3.40',\n",
       "  'Saint-Étienne and Over 2.5': '5.20',\n",
       "  'Saint-Étienne and Over 3.5': '11.00',\n",
       "  'Saint-Étienne and Over 4.5': '19.00',\n",
       "  'Saint-Étienne and Under 2.5': '6.80',\n",
       "  'Saint-Étienne and Under 3.5': '4.00',\n",
       "  'Saint-Étienne and Under 4.5': '3.50'},\n",
       " 'Matchbet e Totais, Primeiro Tempo': {'Clermont and Over 1.5': '7.20'},\n",
       " 'Match-bet and Totals, Primeiro Tempo': {'Clermont and Under 1.5': '4.60',\n",
       "  'Empate e Acima 1.5': '7.80',\n",
       "  'Empate e Abaixo 1.5': '2.80',\n",
       "  'Saint-Étienne and Over 1.5': '10.00',\n",
       "  'Saint-Étienne and Under 1.5': '5.40'},\n",
       " 'Ambos os times marcam, Tempo Regular': {'Sim': '1.76', 'Não': '2.07'},\n",
       " 'Ambos os times marcam, Primeiro Tempo': {'Sim': '4.40', 'Não': '1.19'},\n",
       " 'Clermont Foot No Bet, Tempo Regular': {'Empate': '1.96',\n",
       "  'Visitante': '1.79'},\n",
       " 'AS Saint-Etienne No Bet, Tempo Regular': {'Casa': '1.57', 'Empate': '2.30'},\n",
       " 'Ímpar/Par Total de Gols, Tempo Regular': {'Par': '1.87', 'Ímpar': '1.98'},\n",
       " 'Ímpar/Par Total de Gols, Primeiro Tempo': {'Par': '1.71', 'Ímpar': '2.11'},\n",
       " 'Última equipe a marcar, Tempo Regular': {'Clermont': '1.85',\n",
       "  'Sem Gols': '12.00',\n",
       "  'Saint-Étienne': '2.20'},\n",
       " 'Intervalo/Final Resultado Exato, Tempo Regular': {'0-0 0-0': '9.60'},\n",
       " 'Para marcar em ambos os 1º / 2º tempos? - Clermont Foot, Tempo Regular': {'Sim': '3.40',\n",
       "  'Não': '1.29'},\n",
       " 'Para marcar em ambos os 1º / 2º tempos? - Saint-Étienne, Tempo Regular': {'Sim': '4.20',\n",
       "  'Não': '1.20'},\n",
       " 'Para ganhar nos dois tempos? - Clermont Foot, Tempo Regular': {'Sim': '6.60',\n",
       "  'Não': '1.09'},\n",
       " 'Para ganhar nos dois tempos? - Saint-Étienne, Tempo Regular': {'Sim': '9.00',\n",
       "  'Não': '1.04'},\n",
       " 'Para ganhar em um dos tempos? - Clermont Foot, Tempo Regular': {'Sim': '1.67',\n",
       "  'Não': '2.12'},\n",
       " 'Para ganhar em um dos tempos? - Saint-Étienne, Tempo Regular': {'Sim': '2.01',\n",
       "  'Não': '1.74'},\n",
       " 'Tempo com mais Gols ou Pontos , Tempo Regular': {'Primeiro Tempo': '3.30',\n",
       "  'Segundo Tempo': '2.05',\n",
       "  'Both Halves The Same': '3.45'},\n",
       " 'Tempo com mais Gols ou Pontos - Clermont Foot, Tempo Regular': {'Primeiro Tempo': '3.55',\n",
       "  'Segundo Tempo': '2.48',\n",
       "  'Both Halves The Same': '2.49'},\n",
       " 'Tempo com mais Gols ou Pontos - Saint-Étienne, Tempo Regular': {'Primeiro Tempo': '3.75',\n",
       "  'Segundo Tempo': '2.65',\n",
       "  'Both Halves The Same': '2.24'},\n",
       " 'Sem sofrer gols - Clermont Foot, Tempo Regular': {'Sim': '3.05',\n",
       "  'Não': '1.37'},\n",
       " 'Sem sofrer gols - Saint-Étienne, Tempo Regular': {'Sim': '3.75',\n",
       "  'Não': '1.26'},\n",
       " 'Sem sofrer gols - Clermont Foot, Primeiro Tempo': {'Sim': '1.58',\n",
       "  'Não': '2.28'},\n",
       " 'Sem sofrer gols - Saint-Étienne, Primeiro Tempo': {'Sim': '1.75',\n",
       "  'Não': '2.01'},\n",
       " 'Sem sofrer gols - Clermont Foot, Segundo Tempo': {'Sim': '1.86',\n",
       "  'Não': '1.88'},\n",
       " 'Sem sofrer gols - Saint-Étienne, Segundo Tempo': {'Sim': '2.10',\n",
       "  'Não': '1.68'},\n",
       " 'Quando será marcado o 1º gol?, Tempo Regular': {'1-15': '3.15',\n",
       "  '16-30': '3.90',\n",
       "  '31-45': '5.00',\n",
       "  '46-60': '7.80',\n",
       "  '61-75': '11.00',\n",
       "  'Nada': '11.00',\n",
       "  '76-90': '14.00'},\n",
       " 'Quando será marcado o 1º gol? (Intervalo de 10 min), Tempo Regular': {'1-10': '4.50',\n",
       "  '11-20': '4.80',\n",
       "  '21-30': '6.00',\n",
       "  '31-40': '7.40',\n",
       "  '41-50': '8.40',\n",
       "  '51-60': '11.00',\n",
       "  'Nada': '11.00',\n",
       "  '61-70': '15.00',\n",
       "  '71-80': '20.00',\n",
       "  '81-90': '20.00'},\n",
       " 'Série de Gols, Tempo Regular': {'0-1': '3.45',\n",
       "  '2-3': '1.97',\n",
       "  '4-6': '3.45',\n",
       "  '7+': '45.00'}}"
      ]
     },
     "execution_count": 10,
     "metadata": {},
     "output_type": "execute_result"
    }
   ],
   "source": [
    "odds"
   ]
  }
 ],
 "metadata": {
  "kernelspec": {
   "display_name": "futebol",
   "language": "python",
   "name": "futebol"
  },
  "language_info": {
   "codemirror_mode": {
    "name": "ipython",
    "version": 3
   },
   "file_extension": ".py",
   "mimetype": "text/x-python",
   "name": "python",
   "nbconvert_exporter": "python",
   "pygments_lexer": "ipython3",
   "version": "3.8.12"
  }
 },
 "nbformat": 4,
 "nbformat_minor": 4
}
