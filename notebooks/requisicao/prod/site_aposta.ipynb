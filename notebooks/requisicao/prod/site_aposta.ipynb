{
 "cells": [
  {
   "cell_type": "code",
   "execution_count": 2,
   "metadata": {},
   "outputs": [],
   "source": [
    "path_driver = 'C:\\\\Users\\\\Luan\\\\futebol\\\\Futebol\\\\chromedriver.exe'"
   ]
  },
  {
   "cell_type": "markdown",
   "metadata": {},
   "source": [
    "## dafabet\n",
    "\n",
    "- https://www.dafabet.com/pt/dfgoal/sports/240-football/22977-brazil"
   ]
  },
  {
   "cell_type": "markdown",
   "metadata": {},
   "source": [
    "## Login"
   ]
  },
  {
   "cell_type": "code",
   "execution_count": 3,
   "metadata": {},
   "outputs": [],
   "source": [
    "from cafu.utils import Login"
   ]
  },
  {
   "cell_type": "code",
   "execution_count": 4,
   "metadata": {},
   "outputs": [],
   "source": [
    "login = Login(path_driver)"
   ]
  },
  {
   "cell_type": "code",
   "execution_count": 7,
   "metadata": {},
   "outputs": [],
   "source": [
    "login.get_campeonato_dafabet('franca')"
   ]
  },
  {
   "cell_type": "code",
   "execution_count": 6,
   "metadata": {},
   "outputs": [],
   "source": [
    "login.login()"
   ]
  },
  {
   "cell_type": "markdown",
   "metadata": {},
   "source": [
    "## TrafficOddsPartida"
   ]
  },
  {
   "cell_type": "code",
   "execution_count": 8,
   "metadata": {},
   "outputs": [],
   "source": [
    "from cafu.utils import TrafficOddsPartida"
   ]
  },
  {
   "cell_type": "code",
   "execution_count": 10,
   "metadata": {},
   "outputs": [],
   "source": [
    "#tr = TrafficOddsPartida(path_driver) # pode passar o path_driver, ou utilizar a api ja em aberta da classe login\n",
    "tr.web = login.web"
   ]
  },
  {
   "cell_type": "code",
   "execution_count": 12,
   "metadata": {},
   "outputs": [],
   "source": [
    "tr.get_campeonato_dafabet('franca')"
   ]
  },
  {
   "cell_type": "code",
   "execution_count": 13,
   "metadata": {},
   "outputs": [
    {
     "data": {
      "text/plain": [
       "10"
      ]
     },
     "execution_count": 13,
     "metadata": {},
     "output_type": "execute_result"
    }
   ],
   "source": [
    "tr.get_quantidade_partidas() # Quantidade de partidas"
   ]
  },
  {
   "cell_type": "code",
   "execution_count": 14,
   "metadata": {},
   "outputs": [
    {
     "data": {
      "text/plain": [
       "{'horario': '05/02/2022 - 13:00',\n",
       " 'time_casa': 'Saint-Étienne',\n",
       " 'time_visitante': 'HSC Montpellier'}"
      ]
     },
     "execution_count": 14,
     "metadata": {},
     "output_type": "execute_result"
    }
   ],
   "source": [
    "tr.join_link_odds_partida(1)"
   ]
  },
  {
   "cell_type": "markdown",
   "metadata": {},
   "source": [
    "## GetOdds"
   ]
  },
  {
   "cell_type": "code",
   "execution_count": 15,
   "metadata": {},
   "outputs": [],
   "source": [
    "from cafu.queries import GetOdds"
   ]
  },
  {
   "cell_type": "code",
   "execution_count": 16,
   "metadata": {},
   "outputs": [],
   "source": [
    "query = GetOdds(path_driver)"
   ]
  },
  {
   "cell_type": "code",
   "execution_count": 20,
   "metadata": {},
   "outputs": [],
   "source": [
    "query.get_campeonato_dafabet('franca')"
   ]
  },
  {
   "cell_type": "code",
   "execution_count": 18,
   "metadata": {},
   "outputs": [
    {
     "data": {
      "text/plain": [
       "10"
      ]
     },
     "execution_count": 18,
     "metadata": {},
     "output_type": "execute_result"
    }
   ],
   "source": [
    "query.get_quantidade_partidas()"
   ]
  },
  {
   "cell_type": "code",
   "execution_count": 21,
   "metadata": {},
   "outputs": [
    {
     "data": {
      "text/plain": [
       "{'horario': '06/02/2022 - 09:00',\n",
       " 'time_casa': 'Lorient',\n",
       " 'time_visitante': 'Lens'}"
      ]
     },
     "execution_count": 21,
     "metadata": {},
     "output_type": "execute_result"
    }
   ],
   "source": [
    "query.join_link_odds_partida(3)"
   ]
  },
  {
   "cell_type": "code",
   "execution_count": 22,
   "metadata": {},
   "outputs": [
    {
     "data": {
      "text/plain": [
       "True"
      ]
     },
     "execution_count": 22,
     "metadata": {},
     "output_type": "execute_result"
    }
   ],
   "source": [
    "query.open_odds()"
   ]
  },
  {
   "cell_type": "code",
   "execution_count": null,
   "metadata": {},
   "outputs": [],
   "source": [
    "odds = query.get_odds()"
   ]
  },
  {
   "cell_type": "code",
   "execution_count": 13,
   "metadata": {},
   "outputs": [
    {
     "data": {
      "text/plain": [
       "{'Vitória / Empate / Vitória, Tempo Regular': {'Corinthians SP': '1.96',\n",
       "  'Empate': '3.40',\n",
       "  'Athletico-PR': '4.50'},\n",
       " 'Vitória / Empate / Vitória, Primeiro Tempo': {'Corinthians SP': '2.70',\n",
       "  'Empate': '2.01',\n",
       "  'Athletico-PR': '5.20'},\n",
       " 'Vitória / Empate / Vitória, Segundo Tempo': {'Corinthians SP': '2.31',\n",
       "  'Empate': '2.38',\n",
       "  'Athletico-PR': '4.40'},\n",
       " 'Handicap Asiático, Tempo Regular': {'Corinthians SP -0.5,-1': '2.19',\n",
       "  'Athletico-PR +0.5,+1': '1.76',\n",
       "  'Corinthians SP -0.5': '1.88',\n",
       "  'Athletico-PR +0.5': '2.04'},\n",
       " 'Handicap Asiático, Primeiro Tempo': {'Corinthians SP -0.5': '2.61',\n",
       "  'Athletico-PR +0.5': '1.50',\n",
       "  'Corinthians SP 0,-0.5': '2.06',\n",
       "  'Athletico-PR 0,+0.5': '1.82'},\n",
       " 'Mais de / Menos de - Atletico Paranaense, Tempo Regular': {'Mais de 0.5': '1.68',\n",
       "  'Menos de 0.5': '2.10'},\n",
       " 'Mais de / Menos de - Corinthians SP, Tempo Regular': {'Mais de 1.5': '2.28',\n",
       "  'Menos de 1.5': '1.59'},\n",
       " 'Mais de / Menos de, Tempo Regular': {'Mais de 2': '1.87',\n",
       "  'Menos de 2': '2.03',\n",
       "  'Mais de 2,2.5': '2.13',\n",
       "  'Menos de 2,2.5': '1.78'},\n",
       " 'Ambos os tempos acima de 1.5 gols?, Tempo Regular': {'Sim': '7.20',\n",
       "  'Não': '1.06'},\n",
       " 'Ambos os tempos abaixo de 1.5 gols?, Tempo Regular': {'Sim': '1.91',\n",
       "  'Não': '1.80'},\n",
       " 'Mais de / Menos de - Atletico Paranaense, Primeiro Tempo': {'Mais de 0.5': '3.00',\n",
       "  'Menos de 0.5': '1.36'},\n",
       " 'Mais de / Menos de - Corinthians SP, Primeiro Tempo': {'Mais de 0.5': '2.06',\n",
       "  'Menos de 0.5': '1.71'},\n",
       " 'Mais de / Menos de, Primeiro Tempo': {'Mais de 0.5,1': '1.80',\n",
       "  'Menos de 0.5,1': '2.08',\n",
       "  'Mais de 1': '2.44',\n",
       "  'Menos de 1': '1.57'},\n",
       " 'Mais de / Menos de - Atletico Paranaense, Segundo Tempo': {'Mais de 0.5': '2.46',\n",
       "  'Menos de 0.5': '1.51'},\n",
       " 'Mais de / Menos de - Corinthians SP, Segundo Tempo': {'Mais de 0.5': '1.72',\n",
       "  'Menos de 0.5': '2.04'},\n",
       " 'Mais de / Menos de, Segundo Tempo': {'Mais de 0.5,1': '1.45',\n",
       "  'Menos de 0.5,1': '2.70',\n",
       "  'Mais de 1': '1.69',\n",
       "  'Menos de 1': '2.13',\n",
       "  'Mais de 1,1.5': '2.14',\n",
       "  'Menos de 1,1.5': '1.68'},\n",
       " 'Time que marca o 1º Gol, Tempo Regular': {'Corinthians SP': '1.69',\n",
       "  'Sem Gols': '7.80',\n",
       "  'Athletico-PR': '2.80'},\n",
       " 'Time que marca o 1º Gol, Primeiro Tempo': {'Corinthians SP': '2.41',\n",
       "  'Sem Gols': '2.39',\n",
       "  'Athletico-PR': '4.00'},\n",
       " 'Qual time a marcar (sem receber gol), Tempo Regular': {'Corinthians SP': '2.75',\n",
       "  'Athletico-PR': '6.40',\n",
       "  'Ambos': '2.17',\n",
       "  'Nenhum': '7.60'},\n",
       " 'Handicap Europeu, Tempo Regular': {'Corinthians SP -2': '9.40',\n",
       "  'Empate / Athletico-PR +2': '5.80',\n",
       "  'Athletico-PR +2': '1.28',\n",
       "  'Corinthians SP -1': '3.80',\n",
       "  'Empate / Athletico-PR +1': '3.65',\n",
       "  'Athletico-PR +1': '1.91',\n",
       "  'Corinthians SP +1': '1.23',\n",
       "  'Empate / Athletico-PR -1': '5.80',\n",
       "  'Athletico-PR -1': '13.00'},\n",
       " '1X2 Handicap Fixo, Primeiro Tempo': {'Corinthians SP -1': '9.40',\n",
       "  'Empate / Athletico-PR +1': '3.50',\n",
       "  'Athletico-PR +1': '1.45'},\n",
       " 'Dupla Chance, Tempo Regular': {'Corinthians SP / Empate': '1.23',\n",
       "  'Corinthians SP / Athletico-PR': '1.33',\n",
       "  'Athletico-PR / Empate': '1.82'},\n",
       " 'Dupla Chance, Primeiro Tempo': {'Corinthians SP / Empate': '1.16',\n",
       "  'Corinthians SP / Athletico-PR': '1.69',\n",
       "  'Athletico-PR / Empate': '1.41'},\n",
       " 'Empate Anula, Tempo Regular': {'Corinthians SP': '1.39',\n",
       "  'Athletico-PR': '3.10'},\n",
       " 'Empate Anula, Primeiro Tempo': {'Corinthians SP': '1.47',\n",
       "  'Athletico-PR': '2.80'},\n",
       " 'Quem marca mais gols nos intervalos de 10 minutos 1-10, Tempo Regular': {'Corinthians SP': '8.00',\n",
       "  'Empate': '1.14',\n",
       "  'Athletico-PR': '14.00'},\n",
       " 'Pontuação Correta, Tempo Regular': {'1-0': '5.20',\n",
       "  '0-0': '6.80',\n",
       "  '0-1': '8.80',\n",
       "  '2-0': '7.40',\n",
       "  '1-1': '6.00',\n",
       "  '0-2': '21.00',\n",
       "  '3-0': '15.00',\n",
       "  '2-2': '20.00',\n",
       "  '1-2': '15.00',\n",
       "  '4-0': '45.00',\n",
       "  '3-3': '101.00',\n",
       "  '0-3': '80.00',\n",
       "  '2-1': '9.00',\n",
       "  '4-4': '101.00',\n",
       "  '1-3': '50.00',\n",
       "  '3-1': '19.00',\n",
       "  '2-3': '80.00',\n",
       "  '4-1': '50.00',\n",
       "  '0-4': '101.00',\n",
       "  '3-2': '45.00',\n",
       "  '1-4': '101.00',\n",
       "  '4-2': '101.00',\n",
       "  '2-4': '101.00',\n",
       "  '4-3': '101.00',\n",
       "  '3-4': '101.00',\n",
       "  'Outro': '50.00'},\n",
       " 'Exato número de Gols, Tempo Regular': {'0': '7.20',\n",
       "  '1': '3.55',\n",
       "  '2': '3.15',\n",
       "  '3': '4.30',\n",
       "  '4': '7.40',\n",
       "  '5': '17.00',\n",
       "  '6': '45.00',\n",
       "  '7': '101.00',\n",
       "  '8': '101.00',\n",
       "  '9+': '101.00'},\n",
       " 'Exato número de Gols - Corinthians SP, Tempo Regular': {'0': '3.60',\n",
       "  '1': '2.60',\n",
       "  '2': '3.70',\n",
       "  '3+': '5.40'},\n",
       " 'Exato número de Gols - Atletico Paranaense, Tempo Regular': {'0': '2.06',\n",
       "  '1': '2.47',\n",
       "  '2': '5.80',\n",
       "  '3+': '17.00'},\n",
       " 'Exato número de Gols, Primeiro Tempo': {'0': '2.34',\n",
       "  '1': '2.50',\n",
       "  '2': '5.00',\n",
       "  '3+': '12.00'},\n",
       " 'Exato número de Gols, Segundo Tempo': {'0': '3.30',\n",
       "  '1': '2.55',\n",
       "  '2+': '2.60'},\n",
       " 'Intervalo / Final, Tempo Regular': {'Corinthians SP - Corinthians SP': '3.00',\n",
       "  'Empate - Corinthians SP': '4.40',\n",
       "  'Athletico-PR - Corinthians SP': '35.00',\n",
       "  'Corinthians SP - Empate': '17.00',\n",
       "  'Empate - Empate': '4.40',\n",
       "  'Athletico-PR - Empate': '18.00',\n",
       "  'Corinthians SP - Athletico-PR': '60.00',\n",
       "  'Empate - Athletico-PR': '8.60',\n",
       "  'Athletico-PR - Athletico-PR': '7.60'},\n",
       " 'Margem de Lucro, Tempo Regular': {'Corinthians SP by 1': '3.45',\n",
       "  'Atletico PR by 1': '5.80',\n",
       "  'Corinthians SP by 2': '5.60',\n",
       "  'Atletico PR by 2': '16.00',\n",
       "  'Corinthians SP by 3+': '9.00',\n",
       "  'Atletico PR by 3+': '50.00',\n",
       "  'Empate': '3.10'},\n",
       " 'Matchbet e Totais, Tempo Regular': {'Corinthians SP and Over 1.5': '2.65',\n",
       "  'Corinthians SP and Over 2.5': '3.70',\n",
       "  'Corinthians SP and Over 3.5': '8.00',\n",
       "  'Corinthians SP and Under 1.5': '6.00',\n",
       "  'Corinthians SP and Under 2.5': '3.55',\n",
       "  'Corinthians SP and Under 3.5': '2.35',\n",
       "  'Empate e Acima 1.5': '5.20',\n",
       "  'Empate e Acima 2.5': '21.00',\n",
       "  'Empate e Acima 3.5': '21.00',\n",
       "  'Empate e Abaixo 1.5': '7.80',\n",
       "  'Empate e Abaixo 2.5': '3.75',\n",
       "  'Empate e Abaixo 3.5': '3.70',\n",
       "  'Athletico-PR and Over 1.5': '7.00',\n",
       "  'Athletico-PR and Over 2.5': '9.60',\n",
       "  'Athletico-PR and Over 3.5': '27.00',\n",
       "  'Athletico-PR and Under 1.5': '10.00',\n",
       "  'Athletico-PR and Under 2.5': '7.20',\n",
       "  'Athletico-PR and Under 3.5': '4.90'},\n",
       " 'Matchbet e Totais, Primeiro Tempo': {'Corinthians SP and Over 1.5': '7.40',\n",
       "  'Corinthians SP and Under 1.5': '3.90',\n",
       "  'Empate e Acima 1.5': '10.00',\n",
       "  'Empate e Abaixo 1.5': '2.35',\n",
       "  'Athletico-PR and Over 1.5': '20.00',\n",
       "  'Athletico-PR and Under 1.5': '6.60'},\n",
       " 'Ambos os times marcam, Tempo Regular': {'Sim': '2.23', 'Não': '1.66'},\n",
       " 'Ambos os times marcam, Primeiro Tempo': {'Sim': '5.80', 'Não': '1.12'},\n",
       " 'Corinthians SP No Bet, Tempo Regular': {'Empate': '1.66',\n",
       "  'Visitante': '2.14'},\n",
       " 'Atletico Paranaense No Bet, Tempo Regular': {'Casa': '1.49',\n",
       "  'Empate': '2.50'},\n",
       " 'Ímpar/Par Total de Gols, Tempo Regular': {'Par': '1.88', 'Ímpar': '1.97'},\n",
       " 'Ímpar/Par Total de Gols, Primeiro Tempo': {'Par': '1.64', 'Ímpar': '2.21'},\n",
       " 'Última equipe a marcar, Tempo Regular': {'Corinthians SP': '1.69',\n",
       "  'Sem Gols': '7.80',\n",
       "  'Athletico-PR': '2.80'},\n",
       " 'Intervalo/Final Resultado Exato, Tempo Regular': {'0-0 0-0': '6.40'},\n",
       " 'Para marcar em ambos os 1º / 2º tempos? - Corinthians SP, Tempo Regular': {'Sim': '3.55',\n",
       "  'Não': '1.27'},\n",
       " 'Para marcar em ambos os 1º / 2º tempos? - Atletico Paranaense, Tempo Regular': {'Sim': '6.80',\n",
       "  'Não': '1.08'},\n",
       " 'Para ganhar nos dois tempos? - Corinthians SP, Tempo Regular': {'Sim': '5.60',\n",
       "  'Não': '1.12'},\n",
       " 'Para ganhar nos dois tempos? - Atletico Paranaense, Tempo Regular': {'Sim': '12.00',\n",
       "  'Não': '1.01'},\n",
       " 'Para ganhar em um dos tempos? - Corinthians SP, Tempo Regular': {'Sim': '1.54',\n",
       "  'Não': '2.37'},\n",
       " 'Para ganhar em um dos tempos? - Atletico Paranaense, Tempo Regular': {'Sim': '2.60',\n",
       "  'Não': '1.46'},\n",
       " 'Tempo com mais Gols ou Pontos , Tempo Regular': {'Primeiro Tempo': '3.35',\n",
       "  'Segundo Tempo': '2.15',\n",
       "  'Both Halves The Same': '3.15'},\n",
       " 'Tempo com mais Gols ou Pontos - Corinthians SP, Tempo Regular': {'Primeiro Tempo': '3.55',\n",
       "  'Segundo Tempo': '2.50',\n",
       "  'Both Halves The Same': '2.42'},\n",
       " 'Tempo com mais Gols ou Pontos - Atletico Paranaense, Tempo Regular': {'Primeiro Tempo': '4.40',\n",
       "  'Segundo Tempo': '3.20',\n",
       "  'Both Halves The Same': '1.82'},\n",
       " 'Sem sofrer gols - Corinthians SP, Tempo Regular': {'Sim': '2.12',\n",
       "  'Não': '1.70'},\n",
       " 'Sem sofrer gols - Atletico Paranaense, Tempo Regular': {'Sim': '3.55',\n",
       "  'Não': '1.28'},\n",
       " 'Sem sofrer gols - Corinthians SP, Primeiro Tempo': {'Sim': '1.36',\n",
       "  'Não': '3.00'},\n",
       " 'Sem sofrer gols - Atletico Paranaense, Primeiro Tempo': {'Sim': '1.71',\n",
       "  'Não': '2.06'},\n",
       " 'Sem sofrer gols - Corinthians SP, Segundo Tempo': {'Sim': '1.51',\n",
       "  'Não': '2.46'},\n",
       " 'Sem sofrer gols - Atletico Paranaense, Segundo Tempo': {'Sim': '2.04',\n",
       "  'Não': '1.73'},\n",
       " 'Quando será marcado o 1º gol?, Tempo Regular': {'1-15': '3.70',\n",
       "  '16-30': '4.30',\n",
       "  '31-45': '5.20',\n",
       "  '46-60': '7.40',\n",
       "  'Nada': '7.60',\n",
       "  '61-75': '10.00',\n",
       "  '76-90': '12.00'},\n",
       " 'Quando será marcado o 1º gol? (Intervalo de 10 min), Tempo Regular': {'1-10': '5.40',\n",
       "  '11-20': '5.40',\n",
       "  '21-30': '6.40',\n",
       "  'Nada': '7.40',\n",
       "  '31-40': '7.80',\n",
       "  '41-50': '8.40',\n",
       "  '51-60': '11.00',\n",
       "  '61-70': '14.00',\n",
       "  '81-90': '16.00',\n",
       "  '71-80': '17.00'},\n",
       " 'Série de Gols, Tempo Regular': {'0-1': '2.55',\n",
       "  '2-3': '1.97',\n",
       "  '4-6': '5.00',\n",
       "  '7+': '101.00'}}"
      ]
     },
     "execution_count": 13,
     "metadata": {},
     "output_type": "execute_result"
    }
   ],
   "source": [
    "odds"
   ]
  }
 ],
 "metadata": {
  "kernelspec": {
   "display_name": "Python [conda env:futebol]",
   "language": "python",
   "name": "conda-env-futebol-py"
  },
  "language_info": {
   "codemirror_mode": {
    "name": "ipython",
    "version": 3
   },
   "file_extension": ".py",
   "mimetype": "text/x-python",
   "name": "python",
   "nbconvert_exporter": "python",
   "pygments_lexer": "ipython3",
   "version": "3.9.4"
  }
 },
 "nbformat": 4,
 "nbformat_minor": 4
}
