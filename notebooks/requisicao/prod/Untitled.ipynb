{
 "cells": [
  {
   "cell_type": "code",
   "execution_count": 1,
   "metadata": {},
   "outputs": [],
   "source": [
    "import sys\n",
    "sys.path.append('C:\\\\Users\\\\Luan\\\\futebol\\\\projeto\\\\Futebol')"
   ]
  },
  {
   "cell_type": "code",
   "execution_count": 2,
   "metadata": {},
   "outputs": [],
   "source": [
    "from modulos.requisicao import RequisicaoPartida"
   ]
  },
  {
   "cell_type": "markdown",
   "metadata": {},
   "source": [
    "link do jogo: https://www.espn.com.br/futebol/partida-estatisticas?jogoId=588117"
   ]
  },
  {
   "cell_type": "code",
   "execution_count": 4,
   "metadata": {},
   "outputs": [],
   "source": [
    "req = RequisicaoPartida('588117')\n",
    "\n",
    "req.req_teste_jogo_finalizado() # Retorna se o jogo ja foi finalizado.\n",
    "req.req_campeonato() # Retorna o campeonato.\n",
    "req.req_data() # Retorna a data.\n",
    "req.req_nomes_times() # Retorna o nome dos times.\n",
    "req.req_formacao() # Retorna as formações dos times.\n",
    "req.req_jogadores() # Retorna as escalações, e substituições.\n",
    "req.req_gols() # Retorna os gols que ocorreram, autor do gol e tempo. \n",
    "req.req_placar() # Retorna o placar. \n",
    "req.req_posse() # Retorna a posse de bola.\n",
    "req.req_chutes_fora_nogol() # Retorna a quantidade de chutes, no gol e fora do gol.\n",
    "req.req_faltas() # Retorna a quantidade de faltas cometidas.\n",
    "req.req_cartoes_amarelos() # Retorna a quantidade de cartões amarelos.\n",
    "req.req_cartoes_vermelhos() # Retorna a quantidade de cartões vermelhos.\n",
    "req.req_impedimentos() # Retorna a quantidade de impedimentos.\n",
    "req.req_escanteios() # Retorna a quantidade de escanteios.\n",
    "req.req_defesas() \n",
    "req.req_minuto_a_minuto() # Retorna a descrição do jogo, minuto a minuto."
   ]
  },
  {
   "cell_type": "markdown",
   "metadata": {},
   "source": [
    "## Visualizando informações"
   ]
  },
  {
   "cell_type": "code",
   "execution_count": 5,
   "metadata": {},
   "outputs": [
    {
     "data": {
      "text/plain": [
       "'True'"
      ]
     },
     "execution_count": 5,
     "metadata": {},
     "output_type": "execute_result"
    }
   ],
   "source": [
    "req.jogo_finalizado"
   ]
  },
  {
   "cell_type": "code",
   "execution_count": 6,
   "metadata": {},
   "outputs": [
    {
     "data": {
      "text/plain": [
       "'2020-21 Copa Do Brasil, Quartas de Final'"
      ]
     },
     "execution_count": 6,
     "metadata": {},
     "output_type": "execute_result"
    }
   ],
   "source": [
    "req.campeonato"
   ]
  },
  {
   "cell_type": "code",
   "execution_count": 7,
   "metadata": {},
   "outputs": [
    {
     "data": {
      "text/plain": [
       "[18, 11, 2020]"
      ]
     },
     "execution_count": 7,
     "metadata": {},
     "output_type": "execute_result"
    }
   ],
   "source": [
    "req.data"
   ]
  },
  {
   "cell_type": "code",
   "execution_count": 8,
   "metadata": {},
   "outputs": [
    {
     "data": {
      "text/plain": [
       "('Grêmio', 'Cuiabá')"
      ]
     },
     "execution_count": 8,
     "metadata": {},
     "output_type": "execute_result"
    }
   ],
   "source": [
    "req.nomes_times"
   ]
  },
  {
   "cell_type": "code",
   "execution_count": 9,
   "metadata": {},
   "outputs": [
    {
     "data": {
      "text/plain": [
       "('4-3-3', '4-2-3-1')"
      ]
     },
     "execution_count": 9,
     "metadata": {},
     "output_type": "execute_result"
    }
   ],
   "source": [
    "req.formacao"
   ]
  },
  {
   "cell_type": "code",
   "execution_count": 10,
   "metadata": {},
   "outputs": [
    {
     "data": {
      "text/plain": [
       "([{'nome': 'Vanderlei',\n",
       "   'camisa': 27,\n",
       "   'inicio_jogando': 0,\n",
       "   'final_jogando': 90},\n",
       "  {'nome': 'David Braz',\n",
       "   'camisa': 14,\n",
       "   'inicio_jogando': 0,\n",
       "   'final_jogando': 90},\n",
       "  {'nome': 'Pedro Geromel',\n",
       "   'camisa': 3,\n",
       "   'inicio_jogando': 0,\n",
       "   'final_jogando': 90},\n",
       "  {'nome': 'Diogo Barbosa',\n",
       "   'camisa': 32,\n",
       "   'inicio_jogando': 0,\n",
       "   'final_jogando': 90},\n",
       "  {'nome': 'Victor Ferraz',\n",
       "   'camisa': 2,\n",
       "   'inicio_jogando': 0,\n",
       "   'final_jogando': 90},\n",
       "  {'nome': 'Darlan Mendes',\n",
       "   'camisa': 15,\n",
       "   'inicio_jogando': 0,\n",
       "   'final_jogando': 63},\n",
       "  {'nome': 'Ferreira',\n",
       "   'camisa': 47,\n",
       "   'inicio_jogando': 63,\n",
       "   'final_jogando': 90},\n",
       "  {'nome': 'Jean Pyerre',\n",
       "   'camisa': 10,\n",
       "   'inicio_jogando': 0,\n",
       "   'final_jogando': 84},\n",
       "  {'nome': 'Thaciano',\n",
       "   'camisa': 20,\n",
       "   'inicio_jogando': 84,\n",
       "   'final_jogando': 90},\n",
       "  {'nome': 'Matheus Henrique',\n",
       "   'camisa': 7,\n",
       "   'inicio_jogando': 0,\n",
       "   'final_jogando': 75},\n",
       "  {'nome': 'Lucas Silva',\n",
       "   'camisa': 16,\n",
       "   'inicio_jogando': 75,\n",
       "   'final_jogando': 90},\n",
       "  {'nome': 'Diego Souza',\n",
       "   'camisa': 29,\n",
       "   'inicio_jogando': 0,\n",
       "   'final_jogando': 63},\n",
       "  {'nome': 'Diego Churín',\n",
       "   'camisa': 19,\n",
       "   'inicio_jogando': 63,\n",
       "   'final_jogando': 90},\n",
       "  {'nome': 'Pepê', 'camisa': 25, 'inicio_jogando': 0, 'final_jogando': 90},\n",
       "  {'nome': 'Éverton', 'camisa': 11, 'inicio_jogando': 0, 'final_jogando': 75},\n",
       "  {'nome': 'Isaque Elias Brito',\n",
       "   'camisa': 46,\n",
       "   'inicio_jogando': 75,\n",
       "   'final_jogando': 90}],\n",
       " [{'nome': 'João Carlos',\n",
       "   'camisa': 1,\n",
       "   'inicio_jogando': 0,\n",
       "   'final_jogando': 90},\n",
       "  {'nome': 'Anderson', 'camisa': 4, 'inicio_jogando': 0, 'final_jogando': 90},\n",
       "  {'nome': 'Ednei', 'camisa': 3, 'inicio_jogando': 0, 'final_jogando': 90},\n",
       "  {'nome': 'Romario', 'camisa': 6, 'inicio_jogando': 0, 'final_jogando': 90},\n",
       "  {'nome': 'Hayner', 'camisa': 2, 'inicio_jogando': 0, 'final_jogando': 69},\n",
       "  {'nome': 'Diego Jardel',\n",
       "   'camisa': 20,\n",
       "   'inicio_jogando': 69,\n",
       "   'final_jogando': 90},\n",
       "  {'nome': 'Élvis', 'camisa': 10, 'inicio_jogando': 0, 'final_jogando': 90},\n",
       "  {'nome': 'Nenê Bonilha',\n",
       "   'camisa': 5,\n",
       "   'inicio_jogando': 0,\n",
       "   'final_jogando': 80},\n",
       "  {'nome': 'Auremir', 'camisa': 17, 'inicio_jogando': 80, 'final_jogando': 90},\n",
       "  {'nome': 'Matheus Barbosa',\n",
       "   'camisa': 8,\n",
       "   'inicio_jogando': 0,\n",
       "   'final_jogando': 90},\n",
       "  {'nome': 'Willians', 'camisa': 9, 'inicio_jogando': 0, 'final_jogando': 35},\n",
       "  {'nome': 'Perdigão',\n",
       "   'camisa': 18,\n",
       "   'inicio_jogando': 35,\n",
       "   'final_jogando': 90},\n",
       "  {'nome': 'Maxwell', 'camisa': 11, 'inicio_jogando': 0, 'final_jogando': 81},\n",
       "  {'nome': 'Gabriel Pierini',\n",
       "   'camisa': 15,\n",
       "   'inicio_jogando': 81,\n",
       "   'final_jogando': 90},\n",
       "  {'nome': 'Yago', 'camisa': 7, 'inicio_jogando': 0, 'final_jogando': 45},\n",
       "  {'nome': 'Lenon', 'camisa': 13, 'inicio_jogando': 45, 'final_jogando': 90}])"
      ]
     },
     "execution_count": 10,
     "metadata": {},
     "output_type": "execute_result"
    }
   ],
   "source": [
    "req.jogadores"
   ]
  },
  {
   "cell_type": "code",
   "execution_count": 11,
   "metadata": {},
   "outputs": [
    {
     "data": {
      "text/plain": [
       "([{'jogador': 'Diego Souza', 'minutos_gols': [10, 42]}], None)"
      ]
     },
     "execution_count": 11,
     "metadata": {},
     "output_type": "execute_result"
    }
   ],
   "source": [
    "req.gols"
   ]
  },
  {
   "cell_type": "code",
   "execution_count": 12,
   "metadata": {},
   "outputs": [
    {
     "data": {
      "text/plain": [
       "(2, 0)"
      ]
     },
     "execution_count": 12,
     "metadata": {},
     "output_type": "execute_result"
    }
   ],
   "source": [
    "req.placar"
   ]
  },
  {
   "cell_type": "code",
   "execution_count": 13,
   "metadata": {},
   "outputs": [
    {
     "data": {
      "text/plain": [
       "(0.62, 0.38)"
      ]
     },
     "execution_count": 13,
     "metadata": {},
     "output_type": "execute_result"
    }
   ],
   "source": [
    "req.posse"
   ]
  },
  {
   "cell_type": "code",
   "execution_count": 14,
   "metadata": {},
   "outputs": [
    {
     "data": {
      "text/plain": [
       "([8, 9], [11, 0])"
      ]
     },
     "execution_count": 14,
     "metadata": {},
     "output_type": "execute_result"
    }
   ],
   "source": [
    "req.chutes_fora_nogol"
   ]
  },
  {
   "cell_type": "code",
   "execution_count": 15,
   "metadata": {},
   "outputs": [
    {
     "data": {
      "text/plain": [
       "(15, 11)"
      ]
     },
     "execution_count": 15,
     "metadata": {},
     "output_type": "execute_result"
    }
   ],
   "source": [
    "req.faltas"
   ]
  },
  {
   "cell_type": "code",
   "execution_count": 16,
   "metadata": {},
   "outputs": [
    {
     "data": {
      "text/plain": [
       "(0, 1)"
      ]
     },
     "execution_count": 16,
     "metadata": {},
     "output_type": "execute_result"
    }
   ],
   "source": [
    "req.cartoes_amarelos"
   ]
  },
  {
   "cell_type": "code",
   "execution_count": 17,
   "metadata": {},
   "outputs": [
    {
     "data": {
      "text/plain": [
       "(0, 0)"
      ]
     },
     "execution_count": 17,
     "metadata": {},
     "output_type": "execute_result"
    }
   ],
   "source": [
    "req.cartoes_vermelhos"
   ]
  },
  {
   "cell_type": "code",
   "execution_count": 18,
   "metadata": {},
   "outputs": [
    {
     "data": {
      "text/plain": [
       "(3, 1)"
      ]
     },
     "execution_count": 18,
     "metadata": {},
     "output_type": "execute_result"
    }
   ],
   "source": [
    "req.impedimentos"
   ]
  },
  {
   "cell_type": "code",
   "execution_count": 19,
   "metadata": {},
   "outputs": [
    {
     "data": {
      "text/plain": [
       "(4, 5)"
      ]
     },
     "execution_count": 19,
     "metadata": {},
     "output_type": "execute_result"
    }
   ],
   "source": [
    "req.escanteios"
   ]
  },
  {
   "cell_type": "code",
   "execution_count": 20,
   "metadata": {},
   "outputs": [
    {
     "data": {
      "text/plain": [
       "(0, 7)"
      ]
     },
     "execution_count": 20,
     "metadata": {},
     "output_type": "execute_result"
    }
   ],
   "source": [
    "req.defesas"
   ]
  },
  {
   "cell_type": "code",
   "execution_count": 21,
   "metadata": {},
   "outputs": [
    {
     "data": {
      "text/plain": [
       "[{'tempo': 90, 'descrição': 'Fim do Jogo, Grêmio 2, Cuiabá 0.'},\n",
       " {'tempo': 90, 'descrição': 'Fim do segundo tempo, Grêmio 2, Cuiabá 0.'},\n",
       " {'tempo': 90, 'descrição': 'Escanteio, Grêmio. Cedido por Ednei.'},\n",
       " {'tempo': 90,\n",
       "  'descrição': 'Finalização bloqueada, Isaque (Grêmio) finalização com o pé esquerdo de fora da área.'},\n",
       " {'tempo': 90,\n",
       "  'descrição': 'Finalização defendida em direção ao centro do gol. Lucas Silva (Grêmio) finalização com o pé direito de mais de 30 metros. Assistência de Diogo Barbosa.'},\n",
       " {'tempo': 90, 'descrição': 'Mão de Diego Jardel (Cuiabá).'},\n",
       " {'tempo': 90,\n",
       "  'descrição': 'Finalização defendida ao ângulo superior direito. Ferreira (Grêmio) finalização com o pé direito de fora da área. Assistência de Pepê.'},\n",
       " {'tempo': 88,\n",
       "  'descrição': 'Oportunidade perdida Pepê (Grêmio), finalização com o pé direito do lado direito da área. Assistência de Lucas Silva com um passe em profundidade.'},\n",
       " {'tempo': 87,\n",
       "  'descrição': 'Gabriel Pierini (Cuiabá) sofre uma falta na lateral direita.'},\n",
       " {'tempo': 87, 'descrição': 'Falta cometida por Diogo Barbosa (Grêmio).'},\n",
       " {'tempo': 84,\n",
       "  'descrição': 'Romário (Cuiabá) sofre uma falta na lateral esquerda.'},\n",
       " {'tempo': 84, 'descrição': 'Falta cometida por Ferreira (Grêmio).'},\n",
       " {'tempo': 84,\n",
       "  'descrição': 'Substituição Grêmio, entra em campo Thaciano substituindo Jean Pyerre.'},\n",
       " {'tempo': 82, 'descrição': 'Falta cometida por Gabriel Pierini (Cuiabá).'},\n",
       " {'tempo': 82,\n",
       "  'descrição': 'Diogo Barbosa (Grêmio) sofre uma falta no campo defensivo.'},\n",
       " {'tempo': 82,\n",
       "  'descrição': 'Finalização defendida em direção ao centro do gol. Ferreira (Grêmio) finalização com o pé esquerdo de fora da área. Assistência de Isaque N.'},\n",
       " {'tempo': 81,\n",
       "  'descrição': 'Substituição Cuiabá, entra em campo Gabriel Pierini substituindo Maxwell.'},\n",
       " {'tempo': 80,\n",
       "  'descrição': 'Substituição Cuiabá, entra em campo Auremir substituindo Nenê Bonilha.'},\n",
       " {'tempo': 80,\n",
       "  'descrição': 'Perdigão (Cuiabá) sofre uma falta na lateral direita.'},\n",
       " {'tempo': 80, 'descrição': 'Falta cometida por Diogo Barbosa (Grêmio).'},\n",
       " {'tempo': 79,\n",
       "  'descrição': 'Finalização defendida no lado esquerdo do gol. Ferreira (Grêmio) finalização com o pé direito de um ângulo dificil da direita. Assistência de Victor Ferraz.'},\n",
       " {'tempo': 75,\n",
       "  'descrição': 'Substituição Grêmio, entra em campo Lucas Silva substituindo Matheus Henrique.'},\n",
       " {'tempo': 75,\n",
       "  'descrição': 'Substituição Grêmio, entra em campo Isaque substituindo Éverton.'},\n",
       " {'tempo': 74, 'descrição': 'Escanteio, Cuiabá. Cedido por Geromel.'},\n",
       " {'tempo': 74,\n",
       "  'descrição': 'Finalização bloqueada, Nenê Bonilha (Cuiabá) finalização com o pé direito de mais de 30 metros. Assistência de Matheus Barbosa.'},\n",
       " {'tempo': 73,\n",
       "  'descrição': 'Maxwell (Cuiabá) sofre uma falta no campo defensivo.'},\n",
       " {'tempo': 73, 'descrição': 'Falta cometida por Geromel (Grêmio).'},\n",
       " {'tempo': 72,\n",
       "  'descrição': 'Éverton (Grêmio) sofre uma falta no campo defensivo.'},\n",
       " {'tempo': 72, 'descrição': 'Falta cometida por Elvis (Cuiabá).'},\n",
       " {'tempo': 70, 'descrição': 'Escanteio, Grêmio. Cedido por João Carlos.'},\n",
       " {'tempo': 70,\n",
       "  'descrição': 'Finalização defendida no lado esquerdo do gol. Éverton (Grêmio) finalização com o pé esquerdo de fora da área. Assistência de Ferreira.'},\n",
       " {'tempo': 70, 'descrição': 'Escanteio, Grêmio. Cedido por Ednei.'},\n",
       " {'tempo': 69,\n",
       "  'descrição': 'Substituição Cuiabá, entra em campo Diego Jardel substituindo Hayner.'},\n",
       " {'tempo': 67,\n",
       "  'descrição': 'Finalização bloqueada, Elvis (Cuiabá) finalização com o pé direito do meio da área.'},\n",
       " {'tempo': 66,\n",
       "  'descrição': 'Impedimento, Grêmio. Jean Pyerre tentou um passe em profundidade que encontrou Diogo Barbosa em posição irregular.'},\n",
       " {'tempo': 63,\n",
       "  'descrição': 'Substituição Grêmio, entra em campo Diego Churín substituindo Diego Souza.'},\n",
       " {'tempo': 63,\n",
       "  'descrição': 'Substituição Grêmio, entra em campo Ferreira substituindo Darlan.'},\n",
       " {'tempo': 63,\n",
       "  'descrição': 'Pepê (Grêmio) sofre uma falta no campo defensivo.'},\n",
       " {'tempo': 63, 'descrição': 'Falta cometida por Nenê Bonilha (Cuiabá).'},\n",
       " {'tempo': 62,\n",
       "  'descrição': 'Oportunidade perdida Ednei (Cuiabá), de cabeça do meio da área. Assistência de Elvis com um cruzamento após escanteio.'},\n",
       " {'tempo': 60, 'descrição': 'Escanteio, Cuiabá. Cedido por Darlan.'},\n",
       " {'tempo': 60,\n",
       "  'descrição': 'Finalização bloqueada, Perdigão (Cuiabá) finalização com o pé direito com muita distância vindo do lado esquerdo. Assistência de Romário.'},\n",
       " {'tempo': 59,\n",
       "  'descrição': 'Perdigão (Cuiabá) sofre uma falta no campo defensivo.'},\n",
       " {'tempo': 59, 'descrição': 'Falta cometida por Matheus Henrique (Grêmio).'},\n",
       " {'tempo': 58,\n",
       "  'descrição': 'Finalização defendida junto ao lado inferior direito do gol. Jean Pyerre (Grêmio) finalização com o pé direito de fora da área. Assistência de Diego Souza.'},\n",
       " {'tempo': 54,\n",
       "  'descrição': 'Finalização bloqueada, Elvis (Cuiabá) finalização com o pé direito de fora da área.'},\n",
       " {'tempo': 53,\n",
       "  'descrição': 'Maxwell (Cuiabá) sofre uma falta no campo adversário.'},\n",
       " {'tempo': 53, 'descrição': 'Falta cometida por Geromel (Grêmio).'},\n",
       " {'tempo': 52,\n",
       "  'descrição': 'Matheus Henrique (Grêmio) sofre uma falta no campo defensivo.'},\n",
       " {'tempo': 52, 'descrição': 'Falta cometida por Hayner (Cuiabá).'},\n",
       " {'tempo': 52, 'descrição': 'Escanteio, Cuiabá. Cedido por Diogo Barbosa.'},\n",
       " {'tempo': 51,\n",
       "  'descrição': 'Finalização bloqueada, Elvis (Cuiabá) finalização com o pé direito de fora da área.'},\n",
       " {'tempo': 51,\n",
       "  'descrição': 'Hayner (Cuiabá) sofre uma falta no campo adversário.'},\n",
       " {'tempo': 51, 'descrição': 'Falta cometida por Diogo Barbosa (Grêmio).'},\n",
       " {'tempo': 50,\n",
       "  'descrição': 'Maxwell (Cuiabá) sofre uma falta no campo defensivo.'},\n",
       " {'tempo': 50, 'descrição': 'Falta cometida por Éverton (Grêmio).'},\n",
       " {'tempo': 49,\n",
       "  'descrição': 'Oportunidade perdida Pepê (Grêmio), de cabeça do meio da área. Assistência de Éverton com um cruzamento depois de um contra-ataque.'},\n",
       " {'tempo': 49,\n",
       "  'descrição': 'Oportunidade perdida Perdigão (Cuiabá), de cabeça do meio da área. Assistência de Elvis com um cruzamento de bola parada.'},\n",
       " {'tempo': 48,\n",
       "  'descrição': 'Hayner (Cuiabá) sofre uma falta na lateral direita.'},\n",
       " {'tempo': 48, 'descrição': 'Falta cometida por Diogo Barbosa (Grêmio).'},\n",
       " {'tempo': 47,\n",
       "  'descrição': 'Matheus Barbosa (Cuiabá) sofre uma falta no campo defensivo.'},\n",
       " {'tempo': 47, 'descrição': 'Falta cometida por Diogo Barbosa (Grêmio).'},\n",
       " {'tempo': 45,\n",
       "  'descrição': 'Substituição Cuiabá, entra em campo Lenon substituindo Yago César.'},\n",
       " {'tempo': 45, 'descrição': 'Início do segundo tempo Grêmio 2, Cuiabá 0.'},\n",
       " {'tempo': 0, 'descrição': 'Fim do primeiro tempo, Grêmio 2, Cuiabá 0.'},\n",
       " {'tempo': 0,\n",
       "  'descrição': 'Oportunidade perdida Éverton (Grêmio), finalização com o pé esquerdo do meio da área depois de um contra-ataque.'},\n",
       " {'tempo': 0,\n",
       "  'descrição': 'Finalização defendida em direção ao centro do gol. Pepê (Grêmio) finalização com o pé esquerdo do lado esquerdo da área. Assistência de Jean Pyerre.'},\n",
       " {'tempo': 0,\n",
       "  'descrição': 'Finalização bloqueada, Hayner (Cuiabá) finalização com o pé direito de fora da área. Assistência de Nenê Bonilha.'},\n",
       " {'tempo': 45,\n",
       "  'descrição': 'Perdigão (Cuiabá) sofre uma falta na lateral esquerda.'},\n",
       " {'tempo': 45, 'descrição': 'Falta cometida por Victor Ferraz (Grêmio).'},\n",
       " {'tempo': 44,\n",
       "  'descrição': 'Perdigão (Cuiabá) sofre uma falta na lateral esquerda.'},\n",
       " {'tempo': 44, 'descrição': 'Falta cometida por Victor Ferraz (Grêmio).'},\n",
       " {'tempo': 44,\n",
       "  'descrição': 'Finalização bloqueada, Pepê (Grêmio) finalização com o pé direito do lado esquerdo da área. Assistência de Jean Pyerre N.'},\n",
       " {'tempo': 42,\n",
       "  'descrição': 'Gol! Grêmio 2, Cuiabá 0. Diego Souza (Grêmio) finalização com o pé direito do lado direito da área no canto inferior esquerdo. Assistência de Pepê depois de um contra-ataque.'},\n",
       " {'tempo': 38, 'descrição': 'Falta cometida por Darlan (Grêmio).'},\n",
       " {'tempo': 38,\n",
       "  'descrição': 'Elvis (Cuiabá) sofre uma falta no campo defensivo.'},\n",
       " {'tempo': 36,\n",
       "  'descrição': 'Pepê (Grêmio) sofre uma falta no campo defensivo.'},\n",
       " {'tempo': 36, 'descrição': 'Falta cometida por Matheus Barbosa (Cuiabá).'},\n",
       " {'tempo': 35,\n",
       "  'descrição': 'Substituição Cuiabá, entra em campo Perdigão substituindo Willians Santana.'},\n",
       " {'tempo': 30, 'descrição': 'Escanteio, Cuiabá. Cedido por Victor Ferraz.'},\n",
       " {'tempo': 27,\n",
       "  'descrição': 'Willians Santana (Cuiabá) recebe cartão amarelo por uma entrada perigosa.'},\n",
       " {'tempo': 27, 'descrição': 'Falta cometida por Willians Santana (Cuiabá).'},\n",
       " {'tempo': 27,\n",
       "  'descrição': 'Darlan (Grêmio) sofre uma falta no campo adversário.'},\n",
       " {'tempo': 24,\n",
       "  'descrição': 'Impedimento, Grêmio. Jean Pyerre tentou um passe em profundidade que encontrou David Braz em posição irregular.'},\n",
       " {'tempo': 24, 'descrição': 'Falta cometida por Matheus Barbosa (Cuiabá).'},\n",
       " {'tempo': 24,\n",
       "  'descrição': 'Diogo Barbosa (Grêmio) sofre uma falta na lateral esquerda.'},\n",
       " {'tempo': 23,\n",
       "  'descrição': 'Pepê (Grêmio) sofre uma falta no campo defensivo.'},\n",
       " {'tempo': 23, 'descrição': 'Falta cometida por Hayner (Cuiabá).'},\n",
       " {'tempo': 22,\n",
       "  'descrição': 'Oportunidade perdida Yago César (Cuiabá), finalização com o pé esquerdo com muita distância vindo do lado direito. Assistência de Hayner.'},\n",
       " {'tempo': 21,\n",
       "  'descrição': 'Impedimento, Grêmio. Diego Souza tentou um passe em profundidade que encontrou Matheus Henrique em posição irregular.'},\n",
       " {'tempo': 21,\n",
       "  'descrição': 'Finalização bloqueada, Diogo Barbosa (Grêmio) finalização com o pé direito de fora da área. Assistência de Diego Souza.'},\n",
       " {'tempo': 19,\n",
       "  'descrição': 'Jean Pyerre (Grêmio) sofre uma falta no campo defensivo.'},\n",
       " {'tempo': 19, 'descrição': 'Falta cometida por Nenê Bonilha (Cuiabá).'},\n",
       " {'tempo': 18, 'descrição': 'Escanteio, Cuiabá. Cedido por Victor Ferraz.'},\n",
       " {'tempo': 18,\n",
       "  'descrição': 'Oportunidade perdida Maxwell (Cuiabá), finalização com o pé direito do lado esquerdo da área. Assistência de Willians Santana com um passe de cabeça.'},\n",
       " {'tempo': 17,\n",
       "  'descrição': 'Maxwell (Cuiabá) sofre uma falta no campo defensivo.'},\n",
       " {'tempo': 17, 'descrição': 'Falta cometida por Éverton (Grêmio).'},\n",
       " {'tempo': 15,\n",
       "  'descrição': 'Finalização bloqueada, Maxwell (Cuiabá) finalização com o pé direito do lado esquerdo da área. Assistência de Willians Santana.'},\n",
       " {'tempo': 14,\n",
       "  'descrição': 'Hayner (Cuiabá) sofre uma falta no campo defensivo.'},\n",
       " {'tempo': 14, 'descrição': 'Falta cometida por Darlan (Grêmio).'},\n",
       " {'tempo': 13,\n",
       "  'descrição': 'Oportunidade perdida Diego Souza (Grêmio), finalização com o pé direito do meio da área.'},\n",
       " {'tempo': 11,\n",
       "  'descrição': 'Impedimento, Cuiabá. Anderson Conceicão tentou um passe em profundidade que encontrou Willians Santana em posição irregular.'},\n",
       " {'tempo': 10,\n",
       "  'descrição': 'Gol! Grêmio 1, Cuiabá 0. Diego Souza (Grêmio) de cabeça do meio da área no lado direito do gol. Assistência de Pepê com um cruzamento.'},\n",
       " {'tempo': 6,\n",
       "  'descrição': 'Oportunidade perdida Matheus Henrique (Grêmio), finalização com o pé direito de fora da área.'},\n",
       " {'tempo': 2, 'descrição': 'Escanteio, Grêmio. Cedido por Hayner.'},\n",
       " {'tempo': 1,\n",
       "  'descrição': 'Éverton (Grêmio) sofre uma falta no campo adversário.'},\n",
       " {'tempo': 1, 'descrição': 'Falta cometida por Romário (Cuiabá).'},\n",
       " {'tempo': 0, 'descrição': 'Início do primeiro tempo.'},\n",
       " {'tempo': 0,\n",
       "  'descrição': 'Escalações são anunciadas e os jogadores já estão se aquecendo'}]"
      ]
     },
     "execution_count": 21,
     "metadata": {},
     "output_type": "execute_result"
    }
   ],
   "source": [
    "req.minuto_a_minuto"
   ]
  },
  {
   "cell_type": "code",
   "execution_count": null,
   "metadata": {},
   "outputs": [],
   "source": []
  }
 ],
 "metadata": {
  "kernelspec": {
   "display_name": "Python [conda env:py3-TF2.0]",
   "language": "python",
   "name": "conda-env-py3-TF2.0-py"
  },
  "language_info": {
   "codemirror_mode": {
    "name": "ipython",
    "version": 3
   },
   "file_extension": ".py",
   "mimetype": "text/x-python",
   "name": "python",
   "nbconvert_exporter": "python",
   "pygments_lexer": "ipython3",
   "version": "3.7.7"
  }
 },
 "nbformat": 4,
 "nbformat_minor": 4
}
