{
 "cells": [
  {
   "cell_type": "code",
   "execution_count": 6,
   "metadata": {},
   "outputs": [],
   "source": [
    "import sys\n",
    "sys.path.append('C:\\\\Users\\\\Luan\\\\futebol\\\\projeto\\\\Futebol')"
   ]
  },
  {
   "cell_type": "code",
   "execution_count": 5,
   "metadata": {},
   "outputs": [],
   "source": [
    "from selenium import webdriver"
   ]
  },
  {
   "cell_type": "code",
   "execution_count": 8,
   "metadata": {},
   "outputs": [],
   "source": [
    "web = webdriver.Chrome('chromedriver.exe')\n",
    "web.get('https://www.espn.com.br/futebol/partida-estatisticas?jogoId=588117')"
   ]
  },
  {
   "cell_type": "code",
   "execution_count": 16,
   "metadata": {},
   "outputs": [
    {
     "data": {
      "text/plain": [
       "'0'"
      ]
     },
     "execution_count": 16,
     "metadata": {},
     "output_type": "execute_result"
    }
   ],
   "source": [
    "web.find_element_by_xpath('//*[@id=\"gamepackage-matchup-wrap--soccer\"]/div[2]/div[3]/div/div[1]/span').text"
   ]
  },
  {
   "cell_type": "code",
   "execution_count": 17,
   "metadata": {},
   "outputs": [
    {
     "data": {
      "text/plain": [
       "'Defensor'"
      ]
     },
     "execution_count": 17,
     "metadata": {},
     "output_type": "execute_result"
    }
   ],
   "source": [
    "web.find_element_by_xpath('//*[@id=\"fittPageContainer\"]/div[2]/div[5]/div/div/section[1]/div/div[2]/div/span[2]').text"
   ]
  },
  {
   "cell_type": "code",
   "execution_count": 33,
   "metadata": {},
   "outputs": [],
   "source": [
    "pos = 1\n",
    "#//*[@id=\"fittPageContainer\"]/div[2]/div[5]/div/div/section[2]/div/a[7]/div/span[1]"
   ]
  },
  {
   "cell_type": "code",
   "execution_count": 34,
   "metadata": {},
   "outputs": [
    {
     "data": {
      "text/plain": [
       "'Coritiba'"
      ]
     },
     "execution_count": 34,
     "metadata": {},
     "output_type": "execute_result"
    }
   ],
   "source": [
    "web.find_element_by_xpath(f'//*[@id=\"fittPageContainer\"]/div[2]/div[5]/div/div/section[2]/div/a[{pos}]/div/span[1]').text"
   ]
  },
  {
   "cell_type": "code",
   "execution_count": 35,
   "metadata": {},
   "outputs": [
    {
     "data": {
      "text/plain": [
       "'1 SEASON'"
      ]
     },
     "execution_count": 35,
     "metadata": {},
     "output_type": "execute_result"
    }
   ],
   "source": [
    "web.find_element_by_xpath(f'//*[@id=\"fittPageContainer\"]/div[2]/div[5]/div/div/section[2]/div/a[{pos}]/div/span[2]').text"
   ]
  },
  {
   "cell_type": "code",
   "execution_count": 36,
   "metadata": {},
   "outputs": [
    {
     "name": "stdout",
     "output_type": "stream",
     "text": [
      "Coritiba 1 SEASON\n",
      "Cuiabá 1 SEASON\n",
      "Mirassol 1 SEASON\n",
      "Guarani 1 SEASON\n",
      "Red Bull Bragantino 1 SEASON\n",
      "Vila Nova-GO 1 SEASON\n",
      "RB Brasil 2 TEMPORADAS\n",
      "Ceará 2 TEMPORADAS\n",
      "Santos 1 SEASON\n",
      "Jodan Boys 1 SEASON\n",
      "Atlético-GO 1 SEASON\n"
     ]
    }
   ],
   "source": [
    "i = 1\n",
    "stop = False\n",
    "while not stop:\n",
    "    try:\n",
    "        time = web.find_element_by_xpath(f'//*[@id=\"fittPageContainer\"]/div[2]/div[5]/div/div/section[2]/div/a[{i}]/div/span[1]').text\n",
    "        temp = web.find_element_by_xpath(f'//*[@id=\"fittPageContainer\"]/div[2]/div[5]/div/div/section[2]/div/a[{i}]/div/span[2]').text\n",
    "        print(time, temp)\n",
    "        i += 1\n",
    "    except:\n",
    "        stop = True"
   ]
  }
 ],
 "metadata": {
  "kernelspec": {
   "display_name": "Python [conda env:futebol]",
   "language": "python",
   "name": "conda-env-futebol-py"
  },
  "language_info": {
   "codemirror_mode": {
    "name": "ipython",
    "version": 3
   },
   "file_extension": ".py",
   "mimetype": "text/x-python",
   "name": "python",
   "nbconvert_exporter": "python",
   "pygments_lexer": "ipython3",
   "version": "3.9.4"
  }
 },
 "nbformat": 4,
 "nbformat_minor": 4
}
