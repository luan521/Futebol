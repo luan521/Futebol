{
 "cells": [
  {
   "cell_type": "code",
   "execution_count": 4,
   "id": "5339f1a0-3fc1-4db5-a20c-41ad039437ec",
   "metadata": {},
   "outputs": [],
   "source": [
    "import json\n",
    "from cafu.metadata import path"
   ]
  },
  {
   "cell_type": "code",
   "execution_count": 5,
   "id": "1476eb29-7fb9-4667-be5e-4f28eea6b783",
   "metadata": {},
   "outputs": [],
   "source": [
    "path_datalake = path('datalake')"
   ]
  },
  {
   "cell_type": "code",
   "execution_count": 13,
   "id": "52210407-74ae-44f6-84d1-af6afbf3ed2d",
   "metadata": {},
   "outputs": [
    {
     "data": {
      "text/plain": [
       "{'jogos_ids': {'brasil': {'2021-2021': 'evaluation',\n",
       "   '2020-2020': 'evaluation'},\n",
       "  'franca': {},\n",
       "  'espanha': {}}}"
      ]
     },
     "execution_count": 13,
     "metadata": {},
     "output_type": "execute_result"
    }
   ],
   "source": [
    "r = open(path_datalake+'/metadata.json')\n",
    "json.load(r)"
   ]
  },
  {
   "cell_type": "code",
   "execution_count": 10,
   "id": "5dba99a9-cd7c-4efd-a6c5-9880ffb990b6",
   "metadata": {},
   "outputs": [
    {
     "data": {
      "text/plain": [
       "<_io.TextIOWrapper name='/home/luan/futebol/datalake/metadata.json' mode='r' encoding='UTF-8'>"
      ]
     },
     "execution_count": 10,
     "metadata": {},
     "output_type": "execute_result"
    }
   ],
   "source": [
    "r"
   ]
  },
  {
   "cell_type": "code",
   "execution_count": 9,
   "id": "f1d09a6a-ddf9-47dd-8f65-84b7d449e620",
   "metadata": {},
   "outputs": [
    {
     "data": {
      "text/plain": [
       "'/home/luan/futebol/datalake/metadata.json'"
      ]
     },
     "execution_count": 9,
     "metadata": {},
     "output_type": "execute_result"
    }
   ],
   "source": [
    "path_datalake+'/metadata.json'"
   ]
  },
  {
   "cell_type": "code",
   "execution_count": 14,
   "id": "ee39abdb-03b9-4fa8-bb46-7940484da14f",
   "metadata": {},
   "outputs": [],
   "source": [
    "from cafu import Partida"
   ]
  },
  {
   "cell_type": "code",
   "execution_count": null,
   "id": "1b0a9350-5dbe-401c-a605-95558194a3c8",
   "metadata": {},
   "outputs": [],
   "source": [
    "partida = Partida('631545')"
   ]
  }
 ],
 "metadata": {
  "kernelspec": {
   "display_name": "futebol",
   "language": "python",
   "name": "futebol"
  },
  "language_info": {
   "codemirror_mode": {
    "name": "ipython",
    "version": 3
   },
   "file_extension": ".py",
   "mimetype": "text/x-python",
   "name": "python",
   "nbconvert_exporter": "python",
   "pygments_lexer": "ipython3",
   "version": "3.8.12"
  }
 },
 "nbformat": 4,
 "nbformat_minor": 5
}
