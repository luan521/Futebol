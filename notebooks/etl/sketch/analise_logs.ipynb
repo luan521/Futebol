{
 "cells": [
  {
   "cell_type": "code",
   "execution_count": 1,
   "id": "5915a8a3",
   "metadata": {},
   "outputs": [],
   "source": [
    "from cafu.utils import ValidateExecution\n",
    "import pandas as pd"
   ]
  },
  {
   "cell_type": "code",
   "execution_count": 2,
   "id": "19d37188",
   "metadata": {},
   "outputs": [],
   "source": [
    "days = ['2022-03-21', '2022-03-22', '2022-03-23', '2022-03-24', '2022-03-25']\n",
    "val = ValidateExecution(days)\n",
    "val.error_types()\n",
    "val.warning_types()"
   ]
  },
  {
   "cell_type": "code",
   "execution_count": 3,
   "id": "a9850bfb",
   "metadata": {},
   "outputs": [
    {
     "data": {
      "text/html": [
       "<div>\n",
       "<style scoped>\n",
       "    .dataframe tbody tr th:only-of-type {\n",
       "        vertical-align: middle;\n",
       "    }\n",
       "\n",
       "    .dataframe tbody tr th {\n",
       "        vertical-align: top;\n",
       "    }\n",
       "\n",
       "    .dataframe thead th {\n",
       "        text-align: right;\n",
       "    }\n",
       "</style>\n",
       "<table border=\"1\" class=\"dataframe\">\n",
       "  <thead>\n",
       "    <tr style=\"text-align: right;\">\n",
       "      <th></th>\n",
       "      <th>campeonato</th>\n",
       "      <th>temporada</th>\n",
       "      <th>jogo_id</th>\n",
       "      <th>failed</th>\n",
       "    </tr>\n",
       "  </thead>\n",
       "  <tbody>\n",
       "    <tr>\n",
       "      <th>0</th>\n",
       "      <td>brasil</td>\n",
       "      <td>2020-2020</td>\n",
       "      <td>569662</td>\n",
       "      <td>[df_jogadores]</td>\n",
       "    </tr>\n",
       "    <tr>\n",
       "      <th>1</th>\n",
       "      <td>brasil</td>\n",
       "      <td>2020-2020</td>\n",
       "      <td>569974</td>\n",
       "      <td>[df_resumo]</td>\n",
       "    </tr>\n",
       "    <tr>\n",
       "      <th>2</th>\n",
       "      <td>brasil</td>\n",
       "      <td>2017-2017</td>\n",
       "      <td>476183</td>\n",
       "      <td>[df_minuto_a_minuto]</td>\n",
       "    </tr>\n",
       "    <tr>\n",
       "      <th>3</th>\n",
       "      <td>brasil</td>\n",
       "      <td>2017-2017</td>\n",
       "      <td>476229</td>\n",
       "      <td>[df_minuto_a_minuto]</td>\n",
       "    </tr>\n",
       "    <tr>\n",
       "      <th>4</th>\n",
       "      <td>brasil</td>\n",
       "      <td>2017-2017</td>\n",
       "      <td>476046</td>\n",
       "      <td>[df_jogadores]</td>\n",
       "    </tr>\n",
       "    <tr>\n",
       "      <th>...</th>\n",
       "      <td>...</td>\n",
       "      <td>...</td>\n",
       "      <td>...</td>\n",
       "      <td>...</td>\n",
       "    </tr>\n",
       "    <tr>\n",
       "      <th>400</th>\n",
       "      <td>franca</td>\n",
       "      <td>2019-2020</td>\n",
       "      <td>541953</td>\n",
       "      <td>[df_resumo, df_jogadores, df_minuto_a_minuto]</td>\n",
       "    </tr>\n",
       "    <tr>\n",
       "      <th>401</th>\n",
       "      <td>franca</td>\n",
       "      <td>2019-2020</td>\n",
       "      <td>541954</td>\n",
       "      <td>[df_resumo, df_jogadores, df_minuto_a_minuto]</td>\n",
       "    </tr>\n",
       "    <tr>\n",
       "      <th>402</th>\n",
       "      <td>franca</td>\n",
       "      <td>2019-2020</td>\n",
       "      <td>541962</td>\n",
       "      <td>[df_resumo, df_jogadores, df_minuto_a_minuto]</td>\n",
       "    </tr>\n",
       "    <tr>\n",
       "      <th>403</th>\n",
       "      <td>franca</td>\n",
       "      <td>2019-2020</td>\n",
       "      <td>542012</td>\n",
       "      <td>[df_resumo]</td>\n",
       "    </tr>\n",
       "    <tr>\n",
       "      <th>404</th>\n",
       "      <td>franca</td>\n",
       "      <td>2019-2020</td>\n",
       "      <td>542032</td>\n",
       "      <td>[df_resumo]</td>\n",
       "    </tr>\n",
       "  </tbody>\n",
       "</table>\n",
       "<p>405 rows × 4 columns</p>\n",
       "</div>"
      ],
      "text/plain": [
       "    campeonato  temporada jogo_id  \\\n",
       "0       brasil  2020-2020  569662   \n",
       "1       brasil  2020-2020  569974   \n",
       "2       brasil  2017-2017  476183   \n",
       "3       brasil  2017-2017  476229   \n",
       "4       brasil  2017-2017  476046   \n",
       "..         ...        ...     ...   \n",
       "400     franca  2019-2020  541953   \n",
       "401     franca  2019-2020  541954   \n",
       "402     franca  2019-2020  541962   \n",
       "403     franca  2019-2020  542012   \n",
       "404     franca  2019-2020  542032   \n",
       "\n",
       "                                            failed  \n",
       "0                                   [df_jogadores]  \n",
       "1                                      [df_resumo]  \n",
       "2                             [df_minuto_a_minuto]  \n",
       "3                             [df_minuto_a_minuto]  \n",
       "4                                   [df_jogadores]  \n",
       "..                                             ...  \n",
       "400  [df_resumo, df_jogadores, df_minuto_a_minuto]  \n",
       "401  [df_resumo, df_jogadores, df_minuto_a_minuto]  \n",
       "402  [df_resumo, df_jogadores, df_minuto_a_minuto]  \n",
       "403                                    [df_resumo]  \n",
       "404                                    [df_resumo]  \n",
       "\n",
       "[405 rows x 4 columns]"
      ]
     },
     "execution_count": 3,
     "metadata": {},
     "output_type": "execute_result"
    }
   ],
   "source": [
    "val.df_partidas_failed"
   ]
  },
  {
   "cell_type": "code",
   "execution_count": 13,
   "id": "7374aa62",
   "metadata": {},
   "outputs": [
    {
     "data": {
      "text/html": [
       "<div>\n",
       "<style scoped>\n",
       "    .dataframe tbody tr th:only-of-type {\n",
       "        vertical-align: middle;\n",
       "    }\n",
       "\n",
       "    .dataframe tbody tr th {\n",
       "        vertical-align: top;\n",
       "    }\n",
       "\n",
       "    .dataframe thead th {\n",
       "        text-align: right;\n",
       "    }\n",
       "</style>\n",
       "<table border=\"1\" class=\"dataframe\">\n",
       "  <thead>\n",
       "    <tr style=\"text-align: right;\">\n",
       "      <th></th>\n",
       "      <th>campeonato</th>\n",
       "      <th>temporada</th>\n",
       "      <th>jogo_id</th>\n",
       "      <th>failed</th>\n",
       "    </tr>\n",
       "  </thead>\n",
       "  <tbody>\n",
       "    <tr>\n",
       "      <th>0</th>\n",
       "      <td>brasil</td>\n",
       "      <td>2020-2020</td>\n",
       "      <td>569662</td>\n",
       "      <td>df_jogadores</td>\n",
       "    </tr>\n",
       "    <tr>\n",
       "      <th>1</th>\n",
       "      <td>brasil</td>\n",
       "      <td>2020-2020</td>\n",
       "      <td>569974</td>\n",
       "      <td>df_resumo</td>\n",
       "    </tr>\n",
       "    <tr>\n",
       "      <th>2</th>\n",
       "      <td>brasil</td>\n",
       "      <td>2017-2017</td>\n",
       "      <td>476183</td>\n",
       "      <td>df_minuto_a_minuto</td>\n",
       "    </tr>\n",
       "    <tr>\n",
       "      <th>3</th>\n",
       "      <td>brasil</td>\n",
       "      <td>2017-2017</td>\n",
       "      <td>476229</td>\n",
       "      <td>df_minuto_a_minuto</td>\n",
       "    </tr>\n",
       "    <tr>\n",
       "      <th>4</th>\n",
       "      <td>brasil</td>\n",
       "      <td>2017-2017</td>\n",
       "      <td>476046</td>\n",
       "      <td>df_jogadores</td>\n",
       "    </tr>\n",
       "    <tr>\n",
       "      <th>...</th>\n",
       "      <td>...</td>\n",
       "      <td>...</td>\n",
       "      <td>...</td>\n",
       "      <td>...</td>\n",
       "    </tr>\n",
       "    <tr>\n",
       "      <th>402</th>\n",
       "      <td>franca</td>\n",
       "      <td>2019-2020</td>\n",
       "      <td>541962</td>\n",
       "      <td>df_resumo</td>\n",
       "    </tr>\n",
       "    <tr>\n",
       "      <th>402</th>\n",
       "      <td>franca</td>\n",
       "      <td>2019-2020</td>\n",
       "      <td>541962</td>\n",
       "      <td>df_jogadores</td>\n",
       "    </tr>\n",
       "    <tr>\n",
       "      <th>402</th>\n",
       "      <td>franca</td>\n",
       "      <td>2019-2020</td>\n",
       "      <td>541962</td>\n",
       "      <td>df_minuto_a_minuto</td>\n",
       "    </tr>\n",
       "    <tr>\n",
       "      <th>403</th>\n",
       "      <td>franca</td>\n",
       "      <td>2019-2020</td>\n",
       "      <td>542012</td>\n",
       "      <td>df_resumo</td>\n",
       "    </tr>\n",
       "    <tr>\n",
       "      <th>404</th>\n",
       "      <td>franca</td>\n",
       "      <td>2019-2020</td>\n",
       "      <td>542032</td>\n",
       "      <td>df_resumo</td>\n",
       "    </tr>\n",
       "  </tbody>\n",
       "</table>\n",
       "<p>609 rows × 4 columns</p>\n",
       "</div>"
      ],
      "text/plain": [
       "    campeonato  temporada jogo_id              failed\n",
       "0       brasil  2020-2020  569662        df_jogadores\n",
       "1       brasil  2020-2020  569974           df_resumo\n",
       "2       brasil  2017-2017  476183  df_minuto_a_minuto\n",
       "3       brasil  2017-2017  476229  df_minuto_a_minuto\n",
       "4       brasil  2017-2017  476046        df_jogadores\n",
       "..         ...        ...     ...                 ...\n",
       "402     franca  2019-2020  541962           df_resumo\n",
       "402     franca  2019-2020  541962        df_jogadores\n",
       "402     franca  2019-2020  541962  df_minuto_a_minuto\n",
       "403     franca  2019-2020  542012           df_resumo\n",
       "404     franca  2019-2020  542032           df_resumo\n",
       "\n",
       "[609 rows x 4 columns]"
      ]
     },
     "execution_count": 13,
     "metadata": {},
     "output_type": "execute_result"
    }
   ],
   "source": [
    "val.df_partidas_failed.explode('failed')"
   ]
  },
  {
   "cell_type": "code",
   "execution_count": 12,
   "id": "14e1b935",
   "metadata": {},
   "outputs": [
    {
     "data": {
      "text/plain": [
       "campeonato  temporada\n",
       "brasil      2014-2014     66\n",
       "            2015-2015      1\n",
       "            2016-2016     38\n",
       "            2017-2017      3\n",
       "            2020-2020      2\n",
       "espanha     2011-2012    155\n",
       "            2012-2013      5\n",
       "            2013-2014     10\n",
       "            2014-2015      3\n",
       "            2015-2016      1\n",
       "            2016-2017     10\n",
       "            2017-2018      1\n",
       "            2018-2019      1\n",
       "            2019-2020      1\n",
       "            2020-2021      4\n",
       "franca      2019-2020    103\n",
       "            2020-2021      1\n",
       "Name: campeonato, dtype: int64"
      ]
     },
     "execution_count": 12,
     "metadata": {},
     "output_type": "execute_result"
    }
   ],
   "source": [
    "val.df_partidas_failed.groupby(['campeonato','temporada'])['campeonato'].count()"
   ]
  },
  {
   "cell_type": "code",
   "execution_count": null,
   "id": "8c2391c1",
   "metadata": {},
   "outputs": [],
   "source": []
  },
  {
   "cell_type": "code",
   "execution_count": 13,
   "id": "d1a961ff",
   "metadata": {},
   "outputs": [
    {
     "data": {
      "text/plain": [
       "'Could not create dataframe df_jogadores. <campeonato>=brasil, <temporada>=2020-2020, <jogo_id>=569662'"
      ]
     },
     "execution_count": 13,
     "metadata": {},
     "output_type": "execute_result"
    }
   ],
   "source": [
    "index_filter = ((val.df_log['type'] == 'ERROR') & \n",
    "(val.df_log['function']=='etl.data_lake.partidas_campeonato.update_partidas'))\n",
    "val.df_log[index_filter]['description1'].drop_duplicates()[6928]"
   ]
  },
  {
   "cell_type": "code",
   "execution_count": null,
   "id": "93ba422c",
   "metadata": {},
   "outputs": [],
   "source": []
  },
  {
   "cell_type": "code",
   "execution_count": 37,
   "id": "0f83c353",
   "metadata": {},
   "outputs": [
    {
     "data": {
      "text/plain": [
       "30487    status da partida: Cancelado.\n",
       "Name: description1, dtype: object"
      ]
     },
     "execution_count": 37,
     "metadata": {},
     "output_type": "execute_result"
    }
   ],
   "source": [
    "def f(x):\n",
    "    return x[:29]\n",
    "\n",
    "def \n",
    "\n",
    "index_filter = ((val.df_log['type'] == 'WARNING') & \n",
    "(val.df_log['function']=='queries.Partida.__init__'))\n",
    "val.df_log[index_filter]['description1'].apply(f).drop_duplicates()"
   ]
  },
  {
   "cell_type": "code",
   "execution_count": 35,
   "id": "3c0aaab4",
   "metadata": {},
   "outputs": [
    {
     "data": {
      "text/plain": [
       "'status da partida: Cancelado.'"
      ]
     },
     "execution_count": 35,
     "metadata": {},
     "output_type": "execute_result"
    }
   ],
   "source": [
    "x = 'status da partida: Cancelado. <jogo_id>=445952'\n",
    "x[:29]"
   ]
  },
  {
   "cell_type": "code",
   "execution_count": 51,
   "id": "75ec58a2",
   "metadata": {},
   "outputs": [
    {
     "data": {
      "text/plain": [
       "'445952'"
      ]
     },
     "execution_count": 51,
     "metadata": {},
     "output_type": "execute_result"
    }
   ],
   "source": [
    "val.df_log[index_filter]['description1'][30487][40:46]"
   ]
  },
  {
   "cell_type": "code",
   "execution_count": 5,
   "id": "d5d00c81",
   "metadata": {},
   "outputs": [
    {
     "data": {
      "text/plain": [
       "function\n",
       "etl.data_lake.partidas_campeonato.update_partidas    621\n",
       "queries.Partida.formacao                             248\n",
       "queries.Partida.placar                               156\n",
       "queries.Partida.posse                                143\n",
       "queries.Partida.chutes_fora_nogol                    140\n",
       "queries.Partida.faltas                               139\n",
       "queries.Partida.cartoes_amarelos                     135\n",
       "queries.Partida.cartoes_vermelhos                    131\n",
       "queries.Partida.impedimentos                         125\n",
       "queries.Partida.escanteios                           119\n",
       "queries.Partida.defesas                              116\n",
       "queries.Partida.jogadores                            115\n",
       "queries.Partida.campeonato                            89\n",
       "queries.Partida.day                                   85\n",
       "queries.Partida.nomes_times                           85\n",
       "queries.Partida.__init__                               9\n",
       "queries.Partida.minuto_a_minuto                        4\n",
       "Name: function, dtype: int64"
      ]
     },
     "execution_count": 5,
     "metadata": {},
     "output_type": "execute_result"
    }
   ],
   "source": [
    "val.df_error"
   ]
  },
  {
   "cell_type": "code",
   "execution_count": 6,
   "id": "deb0e253",
   "metadata": {},
   "outputs": [
    {
     "data": {
      "text/plain": [
       "function\n",
       "queries.Partida.__init__    102\n",
       "Name: function, dtype: int64"
      ]
     },
     "execution_count": 6,
     "metadata": {},
     "output_type": "execute_result"
    }
   ],
   "source": [
    "val.df_warning"
   ]
  },
  {
   "cell_type": "code",
   "execution_count": null,
   "id": "e0da56e8",
   "metadata": {},
   "outputs": [],
   "source": []
  },
  {
   "cell_type": "code",
   "execution_count": 52,
   "id": "4bb3d4bf",
   "metadata": {},
   "outputs": [],
   "source": [
    "from cafu.metadata import path\n",
    "import json\n",
    "r = open(path('datalake')+'/metadata.json')\n",
    "metadata = json.load(r)"
   ]
  },
  {
   "cell_type": "code",
   "execution_count": 53,
   "id": "a82a41ce",
   "metadata": {},
   "outputs": [],
   "source": [
    "failed = []\n",
    "for c in metadata['partidas']:\n",
    "    for t in metadata['partidas'][c]:\n",
    "        for j in metadata['partidas'][c][t]:\n",
    "            f = metadata['partidas'][c][t][j]['failed']\n",
    "            if len(f)>0:\n",
    "                failed.append([c, t, j, f])"
   ]
  },
  {
   "cell_type": "code",
   "execution_count": 26,
   "id": "89b3ffb3",
   "metadata": {},
   "outputs": [
    {
     "data": {
      "text/html": [
       "<div>\n",
       "<style scoped>\n",
       "    .dataframe tbody tr th:only-of-type {\n",
       "        vertical-align: middle;\n",
       "    }\n",
       "\n",
       "    .dataframe tbody tr th {\n",
       "        vertical-align: top;\n",
       "    }\n",
       "\n",
       "    .dataframe thead th {\n",
       "        text-align: right;\n",
       "    }\n",
       "</style>\n",
       "<table border=\"1\" class=\"dataframe\">\n",
       "  <thead>\n",
       "    <tr style=\"text-align: right;\">\n",
       "      <th></th>\n",
       "      <th>campeonato</th>\n",
       "      <th>temporada</th>\n",
       "      <th>jogo_id</th>\n",
       "      <th>failed</th>\n",
       "    </tr>\n",
       "  </thead>\n",
       "  <tbody>\n",
       "    <tr>\n",
       "      <th>0</th>\n",
       "      <td>brasil</td>\n",
       "      <td>2020-2020</td>\n",
       "      <td>569662</td>\n",
       "      <td>[df_jogadores]</td>\n",
       "    </tr>\n",
       "    <tr>\n",
       "      <th>1</th>\n",
       "      <td>brasil</td>\n",
       "      <td>2020-2020</td>\n",
       "      <td>569974</td>\n",
       "      <td>[df_resumo]</td>\n",
       "    </tr>\n",
       "    <tr>\n",
       "      <th>2</th>\n",
       "      <td>brasil</td>\n",
       "      <td>2017-2017</td>\n",
       "      <td>476183</td>\n",
       "      <td>[df_minuto_a_minuto]</td>\n",
       "    </tr>\n",
       "    <tr>\n",
       "      <th>3</th>\n",
       "      <td>brasil</td>\n",
       "      <td>2017-2017</td>\n",
       "      <td>476229</td>\n",
       "      <td>[df_minuto_a_minuto]</td>\n",
       "    </tr>\n",
       "    <tr>\n",
       "      <th>4</th>\n",
       "      <td>brasil</td>\n",
       "      <td>2017-2017</td>\n",
       "      <td>476046</td>\n",
       "      <td>[df_jogadores]</td>\n",
       "    </tr>\n",
       "    <tr>\n",
       "      <th>...</th>\n",
       "      <td>...</td>\n",
       "      <td>...</td>\n",
       "      <td>...</td>\n",
       "      <td>...</td>\n",
       "    </tr>\n",
       "    <tr>\n",
       "      <th>400</th>\n",
       "      <td>franca</td>\n",
       "      <td>2019-2020</td>\n",
       "      <td>541953</td>\n",
       "      <td>[df_resumo, df_jogadores, df_minuto_a_minuto]</td>\n",
       "    </tr>\n",
       "    <tr>\n",
       "      <th>401</th>\n",
       "      <td>franca</td>\n",
       "      <td>2019-2020</td>\n",
       "      <td>541954</td>\n",
       "      <td>[df_resumo, df_jogadores, df_minuto_a_minuto]</td>\n",
       "    </tr>\n",
       "    <tr>\n",
       "      <th>402</th>\n",
       "      <td>franca</td>\n",
       "      <td>2019-2020</td>\n",
       "      <td>541962</td>\n",
       "      <td>[df_resumo, df_jogadores, df_minuto_a_minuto]</td>\n",
       "    </tr>\n",
       "    <tr>\n",
       "      <th>403</th>\n",
       "      <td>franca</td>\n",
       "      <td>2019-2020</td>\n",
       "      <td>542012</td>\n",
       "      <td>[df_resumo]</td>\n",
       "    </tr>\n",
       "    <tr>\n",
       "      <th>404</th>\n",
       "      <td>franca</td>\n",
       "      <td>2019-2020</td>\n",
       "      <td>542032</td>\n",
       "      <td>[df_resumo]</td>\n",
       "    </tr>\n",
       "  </tbody>\n",
       "</table>\n",
       "<p>405 rows × 4 columns</p>\n",
       "</div>"
      ],
      "text/plain": [
       "    campeonato  temporada jogo_id  \\\n",
       "0       brasil  2020-2020  569662   \n",
       "1       brasil  2020-2020  569974   \n",
       "2       brasil  2017-2017  476183   \n",
       "3       brasil  2017-2017  476229   \n",
       "4       brasil  2017-2017  476046   \n",
       "..         ...        ...     ...   \n",
       "400     franca  2019-2020  541953   \n",
       "401     franca  2019-2020  541954   \n",
       "402     franca  2019-2020  541962   \n",
       "403     franca  2019-2020  542012   \n",
       "404     franca  2019-2020  542032   \n",
       "\n",
       "                                            failed  \n",
       "0                                   [df_jogadores]  \n",
       "1                                      [df_resumo]  \n",
       "2                             [df_minuto_a_minuto]  \n",
       "3                             [df_minuto_a_minuto]  \n",
       "4                                   [df_jogadores]  \n",
       "..                                             ...  \n",
       "400  [df_resumo, df_jogadores, df_minuto_a_minuto]  \n",
       "401  [df_resumo, df_jogadores, df_minuto_a_minuto]  \n",
       "402  [df_resumo, df_jogadores, df_minuto_a_minuto]  \n",
       "403                                    [df_resumo]  \n",
       "404                                    [df_resumo]  \n",
       "\n",
       "[405 rows x 4 columns]"
      ]
     },
     "execution_count": 26,
     "metadata": {},
     "output_type": "execute_result"
    }
   ],
   "source": [
    "pd.DataFrame(failed, columns=['campeonato', 'temporada', 'jogo_id', 'failed'])"
   ]
  }
 ],
 "metadata": {
  "kernelspec": {
   "display_name": "futebol",
   "language": "python",
   "name": "futebol"
  },
  "language_info": {
   "codemirror_mode": {
    "name": "ipython",
    "version": 3
   },
   "file_extension": ".py",
   "mimetype": "text/x-python",
   "name": "python",
   "nbconvert_exporter": "python",
   "pygments_lexer": "ipython3",
   "version": "3.8.12"
  }
 },
 "nbformat": 4,
 "nbformat_minor": 5
}
