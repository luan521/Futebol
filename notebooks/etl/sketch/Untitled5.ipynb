{
 "cells": [
  {
   "cell_type": "code",
   "execution_count": 1,
   "id": "768e1344",
   "metadata": {},
   "outputs": [],
   "source": [
    "from cafu.metadata import path"
   ]
  },
  {
   "cell_type": "code",
   "execution_count": 3,
   "id": "f5fda048",
   "metadata": {},
   "outputs": [],
   "source": [
    "path_metadata = path('datalake')+'/metadata.json'"
   ]
  },
  {
   "cell_type": "code",
   "execution_count": 4,
   "id": "fa2084b1",
   "metadata": {},
   "outputs": [],
   "source": [
    "import json\n",
    "o = open(path_metadata, 'r')\n",
    "metadata = json.load(o)"
   ]
  },
  {
   "cell_type": "code",
   "execution_count": 7,
   "id": "bc5369b8",
   "metadata": {},
   "outputs": [
    {
     "data": {
      "text/plain": [
       "True"
      ]
     },
     "execution_count": 7,
     "metadata": {},
     "output_type": "execute_result"
    }
   ],
   "source": [
    "'2021-2021' in metadata['partidas']['brasil']"
   ]
  },
  {
   "cell_type": "code",
   "execution_count": 11,
   "id": "65b76b19",
   "metadata": {},
   "outputs": [
    {
     "data": {
      "text/plain": [
       "True"
      ]
     },
     "execution_count": 11,
     "metadata": {},
     "output_type": "execute_result"
    }
   ],
   "source": [
    "None is None"
   ]
  },
  {
   "cell_type": "code",
   "execution_count": 13,
   "id": "776921c8",
   "metadata": {},
   "outputs": [
    {
     "data": {
      "text/plain": [
       "False"
      ]
     },
     "execution_count": 13,
     "metadata": {},
     "output_type": "execute_result"
    }
   ],
   "source": [
    "import numpy as np\n",
    "np.nan is None"
   ]
  },
  {
   "cell_type": "code",
   "execution_count": null,
   "id": "36799cef",
   "metadata": {},
   "outputs": [],
   "source": []
  }
 ],
 "metadata": {
  "kernelspec": {
   "display_name": "futebol",
   "language": "python",
   "name": "futebol"
  },
  "language_info": {
   "codemirror_mode": {
    "name": "ipython",
    "version": 3
   },
   "file_extension": ".py",
   "mimetype": "text/x-python",
   "name": "python",
   "nbconvert_exporter": "python",
   "pygments_lexer": "ipython3",
   "version": "3.8.12"
  }
 },
 "nbformat": 4,
 "nbformat_minor": 5
}
