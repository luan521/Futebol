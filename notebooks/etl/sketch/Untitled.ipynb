{
 "cells": [
  {
   "cell_type": "code",
   "execution_count": 22,
   "id": "faeb36fa-b68b-4d1d-ba42-f2804f4cc47e",
   "metadata": {},
   "outputs": [],
   "source": [
    "metadata = {\n",
    "            'brasil': {\n",
    "                       '2020-2020': 'success'\n",
    "                      },\n",
    "               'espanha': {\n",
    "                           '2021-2022': 'evaluation',\n",
    "                           '2020-2021': 'failed'\n",
    "                          }\n",
    "           }\n",
    "\n",
    "metadata = {'jogos_ids':{\n",
    "               'brasil': {\n",
    "                          '2020-2020': 'success'\n",
    "                         },\n",
    "               'espanha': {\n",
    "                           '2021-2022': 'success',\n",
    "                           '2020-2021': 'failed',\n",
    "                           '2019-2020': 'success',\n",
    "                          }\n",
    "              }}"
   ]
  },
  {
   "cell_type": "code",
   "execution_count": 23,
   "id": "06306c2a-fb12-47b0-a13a-387850194cd5",
   "metadata": {},
   "outputs": [],
   "source": [
    "import json\n",
    "with open('metadata.json', 'w') as fp:\n",
    "    json.dump(metadata, fp)"
   ]
  },
  {
   "cell_type": "code",
   "execution_count": 9,
   "id": "b5584e99-d3c1-4c7c-a4b8-f47bf934537b",
   "metadata": {},
   "outputs": [],
   "source": [
    "from cafu.metadata import campeonato_espn"
   ]
  },
  {
   "cell_type": "code",
   "execution_count": 10,
   "id": "b59aa08b-ab88-4908-be4a-f3a2c8345fd6",
   "metadata": {},
   "outputs": [],
   "source": [
    "campeonatos0 = campeonato_espn()"
   ]
  },
  {
   "cell_type": "code",
   "execution_count": 11,
   "id": "776451d8-4a05-4510-9a54-679266a3c2a6",
   "metadata": {},
   "outputs": [],
   "source": [
    "campeonatos = [\n",
    "               [k1, k2] for k1 in list(campeonatos0.keys()) \n",
    "                        for k2 in list(campeonatos0[k1].keys())\n",
    "              ]"
   ]
  },
  {
   "cell_type": "code",
   "execution_count": 12,
   "id": "a62b1062-5fca-43d6-ab2f-fa64a8248522",
   "metadata": {},
   "outputs": [],
   "source": [
    "campeonatos_atualizados = [\n",
    "                           [k1, k2] for k1 in list(metadata.keys()) \n",
    "                                    for k2 in list(metadata[k1].keys())\n",
    "                                    if metadata[k1][k2] != 'failed'\n",
    "                          ]"
   ]
  },
  {
   "cell_type": "code",
   "execution_count": 13,
   "id": "ba407417-02cb-415e-ac6a-1a1e4bc93f44",
   "metadata": {},
   "outputs": [],
   "source": [
    "for c in campeonatos_atualizados: campeonatos.remove(c)"
   ]
  },
  {
   "cell_type": "code",
   "execution_count": 15,
   "id": "fdba6e0d-2139-41f9-a4fe-c14781d98063",
   "metadata": {},
   "outputs": [
    {
     "data": {
      "text/plain": [
       "[]"
      ]
     },
     "execution_count": 15,
     "metadata": {},
     "output_type": "execute_result"
    }
   ],
   "source": [
    "campeonatos_atualizados"
   ]
  },
  {
   "cell_type": "code",
   "execution_count": 55,
   "id": "a7079643-3423-4966-b606-e627cf2501af",
   "metadata": {},
   "outputs": [],
   "source": [
    "for c in campeonatos:\n",
    "    pais_divisao, temporada = c[0], c[1]\n",
    "    try:\n",
    "        df = partidas_campeonato(pais_divisao, temporada)\n",
    "        df.to_csv(path_save+'/jogos_id_campeonato.csv', index=False)\n",
    "        metadata[pais_divisao][temporada] = 'evaluation'\n",
    "    except:\n",
    "        pass"
   ]
  },
  {
   "cell_type": "code",
   "execution_count": 56,
   "id": "42d053ae-cf29-4fdb-aebc-b4e4dee10eae",
   "metadata": {},
   "outputs": [
    {
     "data": {
      "text/plain": [
       "{'brasil': {'2020-2020': 'success'},\n",
       " 'espanha': {'2021-2022': 'evaluation',\n",
       "  '2020-2021': 'evaluation',\n",
       "  '2019-2020': 'evaluation',\n",
       "  '2018-2019': 'evaluation'}}"
      ]
     },
     "execution_count": 56,
     "metadata": {},
     "output_type": "execute_result"
    }
   ],
   "source": [
    "metadata"
   ]
  },
  {
   "cell_type": "code",
   "execution_count": 3,
   "id": "8a04b68f-4aa5-4508-94c1-774b0df504d1",
   "metadata": {},
   "outputs": [],
   "source": [
    "import os\n",
    "import json\n",
    "from cafu.metadata.paths import path\n",
    "path_datalake = path('datalake')\n",
    "\n",
    "import logging\n",
    "filename = path('logs_cafu')+'/logs.txt'\n",
    "logging.basicConfig(filename=filename, \n",
    "                    format='%(asctime)s %(message)s', \n",
    "                    datefmt='%d/%m/%Y %I:%M:%S %p',\n",
    "                    level=logging.INFO)\n",
    "\n",
    "def initialize_datalake():\n",
    "    \"\"\"\n",
    "    Prepara o diretório do datalake\n",
    "    \n",
    "    .. figure:: ../../../imagens_doc/atuacoes_jogador.png\n",
    "    \"\"\"\n",
    "    \n",
    "    # criando arquivo metadata\n",
    "    metadata = {}\n",
    "    with open(path_datalake+'/metadata2.json', 'w') as fp:\n",
    "        json.dump(metadata, fp)\n",
    "        \n",
    "    os.mkdir(path_datalake+'/teste')"
   ]
  },
  {
   "cell_type": "code",
   "execution_count": 4,
   "id": "bf44e5a4-d8bd-4b41-b0f5-6f83dba17cd1",
   "metadata": {},
   "outputs": [],
   "source": [
    "initialize_datalake()"
   ]
  },
  {
   "cell_type": "markdown",
   "id": "3d9a990a-9d2a-4c44-b12c-bfe16ddde217",
   "metadata": {},
   "source": [
    "```\n",
    "├── jogadores\n",
    "├── jogos_ids\n",
    "├── metadata.json\n",
    "├── odds\n",
    "└── partidas\n",
    "```"
   ]
  },
  {
   "cell_type": "code",
   "execution_count": null,
   "id": "12fb3297-5d22-4961-8844-3779ec25ce97",
   "metadata": {},
   "outputs": [],
   "source": []
  }
 ],
 "metadata": {
  "kernelspec": {
   "display_name": "futebol",
   "language": "python",
   "name": "futebol"
  },
  "language_info": {
   "codemirror_mode": {
    "name": "ipython",
    "version": 3
   },
   "file_extension": ".py",
   "mimetype": "text/x-python",
   "name": "python",
   "nbconvert_exporter": "python",
   "pygments_lexer": "ipython3",
   "version": "3.8.12"
  }
 },
 "nbformat": 4,
 "nbformat_minor": 5
}
