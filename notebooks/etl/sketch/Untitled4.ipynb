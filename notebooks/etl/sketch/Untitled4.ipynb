{
 "cells": [
  {
   "cell_type": "code",
   "execution_count": 1,
   "id": "d6224d4f",
   "metadata": {
    "scrolled": true
   },
   "outputs": [
    {
     "name": "stderr",
     "output_type": "stream",
     "text": [
      "22/03/20 11:09:57 WARN Utils: Your hostname, luan-VirtualBox resolves to a loopback address: 127.0.1.1; using 10.0.2.15 instead (on interface enp0s3)\n",
      "22/03/20 11:09:57 WARN Utils: Set SPARK_LOCAL_IP if you need to bind to another address\n",
      "WARNING: An illegal reflective access operation has occurred\n",
      "WARNING: Illegal reflective access by org.apache.spark.unsafe.Platform (file:/usr/local/spark/spark-3.0.3-bin-hadoop2.7/jars/spark-unsafe_2.12-3.0.3.jar) to constructor java.nio.DirectByteBuffer(long,int)\n",
      "WARNING: Please consider reporting this to the maintainers of org.apache.spark.unsafe.Platform\n",
      "WARNING: Use --illegal-access=warn to enable warnings of further illegal reflective access operations\n",
      "WARNING: All illegal access operations will be denied in a future release\n",
      "Ivy Default Cache set to: /home/luan/.ivy2/cache\n",
      "The jars for the packages stored in: /home/luan/.ivy2/jars\n",
      ":: loading settings :: url = jar:file:/usr/local/spark/spark-3.0.3-bin-hadoop2.7/jars/ivy-2.4.0.jar!/org/apache/ivy/core/settings/ivysettings.xml\n",
      "io.delta#delta-core_2.12 added as a dependency\n",
      ":: resolving dependencies :: org.apache.spark#spark-submit-parent-9de49140-55ce-4334-98d1-a2304d62b766;1.0\n",
      "\tconfs: [default]\n",
      "\tfound io.delta#delta-core_2.12;1.0.0 in central\n",
      "\tfound org.antlr#antlr4;4.7 in central\n",
      "\tfound org.antlr#antlr4-runtime;4.7 in central\n",
      "\tfound org.antlr#antlr-runtime;3.5.2 in central\n",
      "\tfound org.antlr#ST4;4.0.8 in central\n",
      "\tfound org.abego.treelayout#org.abego.treelayout.core;1.0.3 in central\n",
      "\tfound org.glassfish#javax.json;1.0.4 in central\n",
      "\tfound com.ibm.icu#icu4j;58.2 in central\n",
      ":: resolution report :: resolve 895ms :: artifacts dl 30ms\n",
      "\t:: modules in use:\n",
      "\tcom.ibm.icu#icu4j;58.2 from central in [default]\n",
      "\tio.delta#delta-core_2.12;1.0.0 from central in [default]\n",
      "\torg.abego.treelayout#org.abego.treelayout.core;1.0.3 from central in [default]\n",
      "\torg.antlr#ST4;4.0.8 from central in [default]\n",
      "\torg.antlr#antlr-runtime;3.5.2 from central in [default]\n",
      "\torg.antlr#antlr4;4.7 from central in [default]\n",
      "\torg.antlr#antlr4-runtime;4.7 from central in [default]\n",
      "\torg.glassfish#javax.json;1.0.4 from central in [default]\n",
      "\t---------------------------------------------------------------------\n",
      "\t|                  |            modules            ||   artifacts   |\n",
      "\t|       conf       | number| search|dwnlded|evicted|| number|dwnlded|\n",
      "\t---------------------------------------------------------------------\n",
      "\t|      default     |   8   |   0   |   0   |   0   ||   8   |   0   |\n",
      "\t---------------------------------------------------------------------\n",
      ":: retrieving :: org.apache.spark#spark-submit-parent-9de49140-55ce-4334-98d1-a2304d62b766\n",
      "\tconfs: [default]\n",
      "\t0 artifacts copied, 8 already retrieved (0kB/25ms)\n",
      "22/03/20 11:09:59 WARN NativeCodeLoader: Unable to load native-hadoop library for your platform... using builtin-java classes where applicable\n",
      "Using Spark's default log4j profile: org/apache/spark/log4j-defaults.properties\n",
      "Setting default log level to \"WARN\".\n",
      "To adjust logging level use sc.setLogLevel(newLevel). For SparkR, use setLogLevel(newLevel).\n",
      "22/03/20 11:10:05 WARN SparkSession: Cannot use io.delta.sql.DeltaSparkSessionExtension to configure session extensions.\n",
      "java.lang.NoClassDefFoundError: org/apache/spark/sql/catalyst/SQLConfHelper\n",
      "\tat java.base/java.lang.ClassLoader.defineClass1(Native Method)\n",
      "\tat java.base/java.lang.ClassLoader.defineClass(ClassLoader.java:1017)\n",
      "\tat java.base/java.security.SecureClassLoader.defineClass(SecureClassLoader.java:174)\n",
      "\tat java.base/java.net.URLClassLoader.defineClass(URLClassLoader.java:555)\n",
      "\tat java.base/java.net.URLClassLoader$1.run(URLClassLoader.java:458)\n",
      "\tat java.base/java.net.URLClassLoader$1.run(URLClassLoader.java:452)\n",
      "\tat java.base/java.security.AccessController.doPrivileged(Native Method)\n",
      "\tat java.base/java.net.URLClassLoader.findClass(URLClassLoader.java:451)\n",
      "\tat java.base/java.lang.ClassLoader.loadClass(ClassLoader.java:589)\n",
      "\tat java.base/java.lang.ClassLoader.loadClass(ClassLoader.java:522)\n",
      "\tat java.base/java.lang.ClassLoader.defineClass1(Native Method)\n",
      "\tat java.base/java.lang.ClassLoader.defineClass(ClassLoader.java:1017)\n",
      "\tat java.base/java.security.SecureClassLoader.defineClass(SecureClassLoader.java:174)\n",
      "\tat java.base/java.net.URLClassLoader.defineClass(URLClassLoader.java:555)\n",
      "\tat java.base/java.net.URLClassLoader$1.run(URLClassLoader.java:458)\n",
      "\tat java.base/java.net.URLClassLoader$1.run(URLClassLoader.java:452)\n",
      "\tat java.base/java.security.AccessController.doPrivileged(Native Method)\n",
      "\tat java.base/java.net.URLClassLoader.findClass(URLClassLoader.java:451)\n",
      "\tat java.base/java.lang.ClassLoader.loadClass(ClassLoader.java:589)\n",
      "\tat java.base/java.lang.ClassLoader.loadClass(ClassLoader.java:522)\n",
      "\tat io.delta.sql.DeltaSparkSessionExtension.apply(DeltaSparkSessionExtension.scala:84)\n",
      "\tat io.delta.sql.DeltaSparkSessionExtension.apply(DeltaSparkSessionExtension.scala:73)\n",
      "\tat org.apache.spark.sql.SparkSession$.$anonfun$applyExtensions$1(SparkSession.scala:1163)\n",
      "\tat org.apache.spark.sql.SparkSession$.$anonfun$applyExtensions$1$adapted(SparkSession.scala:1158)\n",
      "\tat scala.collection.mutable.ResizableArray.foreach(ResizableArray.scala:62)\n",
      "\tat scala.collection.mutable.ResizableArray.foreach$(ResizableArray.scala:55)\n",
      "\tat scala.collection.mutable.ArrayBuffer.foreach(ArrayBuffer.scala:49)\n",
      "\tat org.apache.spark.sql.SparkSession$.org$apache$spark$sql$SparkSession$$applyExtensions(SparkSession.scala:1158)\n",
      "\tat org.apache.spark.sql.SparkSession.<init>(SparkSession.scala:101)\n",
      "\tat java.base/jdk.internal.reflect.NativeConstructorAccessorImpl.newInstance0(Native Method)\n",
      "\tat java.base/jdk.internal.reflect.NativeConstructorAccessorImpl.newInstance(NativeConstructorAccessorImpl.java:62)\n",
      "\tat java.base/jdk.internal.reflect.DelegatingConstructorAccessorImpl.newInstance(DelegatingConstructorAccessorImpl.java:45)\n",
      "\tat java.base/java.lang.reflect.Constructor.newInstance(Constructor.java:490)\n",
      "\tat py4j.reflection.MethodInvoker.invoke(MethodInvoker.java:247)\n",
      "\tat py4j.reflection.ReflectionEngine.invoke(ReflectionEngine.java:357)\n",
      "\tat py4j.Gateway.invoke(Gateway.java:238)\n",
      "\tat py4j.commands.ConstructorCommand.invokeConstructor(ConstructorCommand.java:80)\n",
      "\tat py4j.commands.ConstructorCommand.execute(ConstructorCommand.java:69)\n",
      "\tat py4j.GatewayConnection.run(GatewayConnection.java:238)\n",
      "\tat java.base/java.lang.Thread.run(Thread.java:829)\n",
      "Caused by: java.lang.ClassNotFoundException: org.apache.spark.sql.catalyst.SQLConfHelper\n",
      "\tat java.base/java.net.URLClassLoader.findClass(URLClassLoader.java:476)\n",
      "\tat java.base/java.lang.ClassLoader.loadClass(ClassLoader.java:589)\n",
      "\tat java.base/java.lang.ClassLoader.loadClass(ClassLoader.java:522)\n",
      "\t... 40 more\n"
     ]
    }
   ],
   "source": [
    "from cafu.utils import path\n",
    "path_datalake = path('datalake')\n",
    "from cafu.utils import get_spark\n",
    "spark = get_spark(1)"
   ]
  },
  {
   "cell_type": "code",
   "execution_count": 13,
   "id": "7af99299",
   "metadata": {},
   "outputs": [],
   "source": [
    "import json\n",
    "r = open(path_datalake+'/metadata.json', 'r')\n",
    "metadata = json.load(r)"
   ]
  },
  {
   "cell_type": "code",
   "execution_count": 2,
   "id": "babc308c",
   "metadata": {},
   "outputs": [
    {
     "name": "stderr",
     "output_type": "stream",
     "text": [
      "                                                                                \r"
     ]
    }
   ],
   "source": [
    "df = spark.read.parquet(path_datalake+'/jogadores/df_jogador')"
   ]
  },
  {
   "cell_type": "code",
   "execution_count": 3,
   "id": "28714557",
   "metadata": {},
   "outputs": [
    {
     "name": "stderr",
     "output_type": "stream",
     "text": [
      "                                                                                \r"
     ]
    },
    {
     "data": {
      "text/plain": [
       "112"
      ]
     },
     "execution_count": 3,
     "metadata": {},
     "output_type": "execute_result"
    }
   ],
   "source": [
    "df.cache()\n",
    "df.count()"
   ]
  },
  {
   "cell_type": "code",
   "execution_count": 4,
   "id": "2e2d2c7d",
   "metadata": {},
   "outputs": [
    {
     "data": {
      "text/plain": [
       "18"
      ]
     },
     "execution_count": 4,
     "metadata": {},
     "output_type": "execute_result"
    }
   ],
   "source": [
    "df.dropna().count()"
   ]
  },
  {
   "cell_type": "code",
   "execution_count": 5,
   "id": "f44abdeb",
   "metadata": {},
   "outputs": [
    {
     "data": {
      "text/plain": [
       "['jogo_id',\n",
       " 'jogador_id',\n",
       " 'time',\n",
       " 'qt_temporadas',\n",
       " 'posicao',\n",
       " 'altura',\n",
       " 'massa',\n",
       " 'data_nascimento',\n",
       " 'nacionalidade',\n",
       " 'date_update']"
      ]
     },
     "execution_count": 5,
     "metadata": {},
     "output_type": "execute_result"
    }
   ],
   "source": [
    "df.columns"
   ]
  },
  {
   "cell_type": "code",
   "execution_count": 7,
   "id": "ef3b2c67",
   "metadata": {},
   "outputs": [
    {
     "name": "stdout",
     "output_type": "stream",
     "text": [
      "jogo_id 112\n",
      "jogador_id 112\n",
      "time 37\n",
      "qt_temporadas 37\n",
      "posicao 112\n",
      "altura 96\n",
      "massa 88\n",
      "data_nascimento 96\n",
      "nacionalidade 43\n",
      "date_update 112\n"
     ]
    }
   ],
   "source": [
    "for c in df.columns:\n",
    "    print(c, df.dropna(subset=c).count())"
   ]
  },
  {
   "cell_type": "code",
   "execution_count": 9,
   "id": "529abcd5",
   "metadata": {},
   "outputs": [
    {
     "name": "stdout",
     "output_type": "stream",
     "text": [
      "root\n",
      " |-- jogo_id: integer (nullable = true)\n",
      " |-- jogador_id: string (nullable = true)\n",
      " |-- time: string (nullable = true)\n",
      " |-- qt_temporadas: integer (nullable = true)\n",
      " |-- posicao: string (nullable = true)\n",
      " |-- altura: float (nullable = true)\n",
      " |-- massa: float (nullable = true)\n",
      " |-- data_nascimento: date (nullable = true)\n",
      " |-- nacionalidade: string (nullable = true)\n",
      " |-- date_update: timestamp (nullable = true)\n",
      "\n"
     ]
    }
   ],
   "source": [
    "df.printSchema()"
   ]
  },
  {
   "cell_type": "code",
   "execution_count": 8,
   "id": "ad82ed91",
   "metadata": {},
   "outputs": [
    {
     "data": {
      "text/html": [
       "<div>\n",
       "<style scoped>\n",
       "    .dataframe tbody tr th:only-of-type {\n",
       "        vertical-align: middle;\n",
       "    }\n",
       "\n",
       "    .dataframe tbody tr th {\n",
       "        vertical-align: top;\n",
       "    }\n",
       "\n",
       "    .dataframe thead th {\n",
       "        text-align: right;\n",
       "    }\n",
       "</style>\n",
       "<table border=\"1\" class=\"dataframe\">\n",
       "  <thead>\n",
       "    <tr style=\"text-align: right;\">\n",
       "      <th></th>\n",
       "      <th>jogo_id</th>\n",
       "      <th>jogador_id</th>\n",
       "      <th>time</th>\n",
       "      <th>qt_temporadas</th>\n",
       "      <th>posicao</th>\n",
       "      <th>altura</th>\n",
       "      <th>massa</th>\n",
       "      <th>data_nascimento</th>\n",
       "      <th>nacionalidade</th>\n",
       "      <th>date_update</th>\n",
       "    </tr>\n",
       "  </thead>\n",
       "  <tbody>\n",
       "    <tr>\n",
       "      <th>0</th>\n",
       "      <td>598225</td>\n",
       "      <td>202201/hyoran</td>\n",
       "      <td>Red Bull Bragantino</td>\n",
       "      <td>1.0</td>\n",
       "      <td>Meio campista</td>\n",
       "      <td>1.75</td>\n",
       "      <td>63.0</td>\n",
       "      <td>1993-05-25</td>\n",
       "      <td>Brasil</td>\n",
       "      <td>2022-03-19 15:31:32.378389</td>\n",
       "    </tr>\n",
       "    <tr>\n",
       "      <th>1</th>\n",
       "      <td>598225</td>\n",
       "      <td>202201/hyoran</td>\n",
       "      <td>Red Bull Bragantino</td>\n",
       "      <td>1.0</td>\n",
       "      <td>Meio campista</td>\n",
       "      <td>1.75</td>\n",
       "      <td>63.0</td>\n",
       "      <td>1993-05-25</td>\n",
       "      <td>Brasil</td>\n",
       "      <td>2022-03-19 15:37:50.373194</td>\n",
       "    </tr>\n",
       "    <tr>\n",
       "      <th>2</th>\n",
       "      <td>598225</td>\n",
       "      <td>262111/alan-franco</td>\n",
       "      <td>Charlotte FC</td>\n",
       "      <td>1.0</td>\n",
       "      <td>Meio campista</td>\n",
       "      <td>1.75</td>\n",
       "      <td>73.0</td>\n",
       "      <td>1998-08-21</td>\n",
       "      <td>Equador</td>\n",
       "      <td>2022-03-19 15:30:59.479622</td>\n",
       "    </tr>\n",
       "    <tr>\n",
       "      <th>3</th>\n",
       "      <td>598225</td>\n",
       "      <td>262111/alan-franco</td>\n",
       "      <td>Charlotte FC</td>\n",
       "      <td>1.0</td>\n",
       "      <td>Meio campista</td>\n",
       "      <td>1.75</td>\n",
       "      <td>73.0</td>\n",
       "      <td>1998-08-21</td>\n",
       "      <td>Equador</td>\n",
       "      <td>2022-03-19 15:37:20.326509</td>\n",
       "    </tr>\n",
       "    <tr>\n",
       "      <th>4</th>\n",
       "      <td>598225</td>\n",
       "      <td>285162/darlan-mendes</td>\n",
       "      <td>Juventude</td>\n",
       "      <td>1.0</td>\n",
       "      <td>Meio campista</td>\n",
       "      <td>1.70</td>\n",
       "      <td>66.0</td>\n",
       "      <td>1998-04-16</td>\n",
       "      <td>Brasil</td>\n",
       "      <td>2022-03-19 15:29:19.339025</td>\n",
       "    </tr>\n",
       "    <tr>\n",
       "      <th>...</th>\n",
       "      <td>...</td>\n",
       "      <td>...</td>\n",
       "      <td>...</td>\n",
       "      <td>...</td>\n",
       "      <td>...</td>\n",
       "      <td>...</td>\n",
       "      <td>...</td>\n",
       "      <td>...</td>\n",
       "      <td>...</td>\n",
       "      <td>...</td>\n",
       "    </tr>\n",
       "    <tr>\n",
       "      <th>107</th>\n",
       "      <td>598226</td>\n",
       "      <td>257325/mailson</td>\n",
       "      <td>None</td>\n",
       "      <td>NaN</td>\n",
       "      <td>Goleiro</td>\n",
       "      <td>1.98</td>\n",
       "      <td>NaN</td>\n",
       "      <td>1996-08-20</td>\n",
       "      <td>None</td>\n",
       "      <td>2022-03-19 15:40:14.569302</td>\n",
       "    </tr>\n",
       "    <tr>\n",
       "      <th>108</th>\n",
       "      <td>598225</td>\n",
       "      <td>317014/gabriel-chapeco</td>\n",
       "      <td>None</td>\n",
       "      <td>NaN</td>\n",
       "      <td>Goleiro</td>\n",
       "      <td>NaN</td>\n",
       "      <td>NaN</td>\n",
       "      <td>None</td>\n",
       "      <td>None</td>\n",
       "      <td>2022-03-19 15:27:56.373290</td>\n",
       "    </tr>\n",
       "    <tr>\n",
       "      <th>109</th>\n",
       "      <td>598225</td>\n",
       "      <td>317014/gabriel-chapeco</td>\n",
       "      <td>None</td>\n",
       "      <td>NaN</td>\n",
       "      <td>Goleiro</td>\n",
       "      <td>NaN</td>\n",
       "      <td>NaN</td>\n",
       "      <td>None</td>\n",
       "      <td>None</td>\n",
       "      <td>2022-03-19 15:34:25.853422</td>\n",
       "    </tr>\n",
       "    <tr>\n",
       "      <th>110</th>\n",
       "      <td>598226</td>\n",
       "      <td>304755/italo</td>\n",
       "      <td>None</td>\n",
       "      <td>NaN</td>\n",
       "      <td>Meio campista</td>\n",
       "      <td>NaN</td>\n",
       "      <td>NaN</td>\n",
       "      <td>None</td>\n",
       "      <td>None</td>\n",
       "      <td>2022-03-19 15:39:08.263935</td>\n",
       "    </tr>\n",
       "    <tr>\n",
       "      <th>111</th>\n",
       "      <td>598226</td>\n",
       "      <td>291224/chico</td>\n",
       "      <td>None</td>\n",
       "      <td>NaN</td>\n",
       "      <td>Defensor</td>\n",
       "      <td>NaN</td>\n",
       "      <td>NaN</td>\n",
       "      <td>None</td>\n",
       "      <td>None</td>\n",
       "      <td>2022-03-19 15:38:36.388615</td>\n",
       "    </tr>\n",
       "  </tbody>\n",
       "</table>\n",
       "<p>112 rows × 10 columns</p>\n",
       "</div>"
      ],
      "text/plain": [
       "     jogo_id              jogador_id                 time  qt_temporadas  \\\n",
       "0     598225           202201/hyoran  Red Bull Bragantino            1.0   \n",
       "1     598225           202201/hyoran  Red Bull Bragantino            1.0   \n",
       "2     598225      262111/alan-franco         Charlotte FC            1.0   \n",
       "3     598225      262111/alan-franco         Charlotte FC            1.0   \n",
       "4     598225    285162/darlan-mendes            Juventude            1.0   \n",
       "..       ...                     ...                  ...            ...   \n",
       "107   598226          257325/mailson                 None            NaN   \n",
       "108   598225  317014/gabriel-chapeco                 None            NaN   \n",
       "109   598225  317014/gabriel-chapeco                 None            NaN   \n",
       "110   598226            304755/italo                 None            NaN   \n",
       "111   598226            291224/chico                 None            NaN   \n",
       "\n",
       "           posicao  altura  massa data_nascimento nacionalidade  \\\n",
       "0    Meio campista    1.75   63.0      1993-05-25        Brasil   \n",
       "1    Meio campista    1.75   63.0      1993-05-25        Brasil   \n",
       "2    Meio campista    1.75   73.0      1998-08-21       Equador   \n",
       "3    Meio campista    1.75   73.0      1998-08-21       Equador   \n",
       "4    Meio campista    1.70   66.0      1998-04-16        Brasil   \n",
       "..             ...     ...    ...             ...           ...   \n",
       "107        Goleiro    1.98    NaN      1996-08-20          None   \n",
       "108        Goleiro     NaN    NaN            None          None   \n",
       "109        Goleiro     NaN    NaN            None          None   \n",
       "110  Meio campista     NaN    NaN            None          None   \n",
       "111       Defensor     NaN    NaN            None          None   \n",
       "\n",
       "                   date_update  \n",
       "0   2022-03-19 15:31:32.378389  \n",
       "1   2022-03-19 15:37:50.373194  \n",
       "2   2022-03-19 15:30:59.479622  \n",
       "3   2022-03-19 15:37:20.326509  \n",
       "4   2022-03-19 15:29:19.339025  \n",
       "..                         ...  \n",
       "107 2022-03-19 15:40:14.569302  \n",
       "108 2022-03-19 15:27:56.373290  \n",
       "109 2022-03-19 15:34:25.853422  \n",
       "110 2022-03-19 15:39:08.263935  \n",
       "111 2022-03-19 15:38:36.388615  \n",
       "\n",
       "[112 rows x 10 columns]"
      ]
     },
     "execution_count": 8,
     "metadata": {},
     "output_type": "execute_result"
    }
   ],
   "source": [
    "df.toPandas()"
   ]
  },
  {
   "cell_type": "code",
   "execution_count": 14,
   "id": "b8c2095c",
   "metadata": {},
   "outputs": [
    {
     "data": {
      "text/plain": [
       "{'brasil': {'2021-2021': {'598225': 'failed'}}, 'espanha': {}, 'franca': {}}"
      ]
     },
     "execution_count": 14,
     "metadata": {},
     "output_type": "execute_result"
    }
   ],
   "source": [
    "metadata['jogadores']"
   ]
  }
 ],
 "metadata": {
  "kernelspec": {
   "display_name": "futebol",
   "language": "python",
   "name": "futebol"
  },
  "language_info": {
   "codemirror_mode": {
    "name": "ipython",
    "version": 3
   },
   "file_extension": ".py",
   "mimetype": "text/x-python",
   "name": "python",
   "nbconvert_exporter": "python",
   "pygments_lexer": "ipython3",
   "version": "3.8.12"
  }
 },
 "nbformat": 4,
 "nbformat_minor": 5
}
