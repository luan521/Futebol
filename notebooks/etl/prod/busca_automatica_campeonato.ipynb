{
 "cells": [
  {
   "cell_type": "code",
   "execution_count": 1,
   "metadata": {},
   "outputs": [],
   "source": [
    "import sys\n",
    "sys.path.append('/home/luan/futebol/Futebol')"
   ]
  },
  {
   "cell_type": "code",
   "execution_count": 2,
   "metadata": {},
   "outputs": [],
   "source": [
    "from cafu.etl import partidas_campeonato"
   ]
  },
  {
   "cell_type": "code",
   "execution_count": 3,
   "metadata": {
    "tags": []
   },
   "outputs": [
    {
     "name": "stderr",
     "output_type": "stream",
     "text": [
      " 98%|█████████▊| 373/380 [28:55<00:32,  4.65s/it]\n",
      "7it [00:28,  4.04s/it]                       \n"
     ]
    }
   ],
   "source": [
    "pais_divisao, temporada = 'brasil', '2020-2020'\n",
    "df = partidas_campeonato(pais_divisao, temporada)"
   ]
  },
  {
   "cell_type": "code",
   "execution_count": 4,
   "metadata": {
    "tags": []
   },
   "outputs": [
    {
     "data": {
      "text/html": [
       "<div>\n",
       "<style scoped>\n",
       "    .dataframe tbody tr th:only-of-type {\n",
       "        vertical-align: middle;\n",
       "    }\n",
       "\n",
       "    .dataframe tbody tr th {\n",
       "        vertical-align: top;\n",
       "    }\n",
       "\n",
       "    .dataframe thead th {\n",
       "        text-align: right;\n",
       "    }\n",
       "</style>\n",
       "<table border=\"1\" class=\"dataframe\">\n",
       "  <thead>\n",
       "    <tr style=\"text-align: right;\">\n",
       "      <th></th>\n",
       "      <th>jogo_id</th>\n",
       "      <th>dates</th>\n",
       "      <th>rodada</th>\n",
       "      <th>time_casa</th>\n",
       "      <th>time_visitante</th>\n",
       "    </tr>\n",
       "  </thead>\n",
       "  <tbody>\n",
       "    <tr>\n",
       "      <th>0</th>\n",
       "      <td>569610</td>\n",
       "      <td>2021-02-25</td>\n",
       "      <td>38</td>\n",
       "      <td>Ceará</td>\n",
       "      <td>Botafogo</td>\n",
       "    </tr>\n",
       "    <tr>\n",
       "      <th>1</th>\n",
       "      <td>569611</td>\n",
       "      <td>2021-02-25</td>\n",
       "      <td>38</td>\n",
       "      <td>Internacional</td>\n",
       "      <td>Corinthians</td>\n",
       "    </tr>\n",
       "    <tr>\n",
       "      <th>2</th>\n",
       "      <td>569612</td>\n",
       "      <td>2021-02-25</td>\n",
       "      <td>38</td>\n",
       "      <td>Atlético-GO</td>\n",
       "      <td>Coritiba</td>\n",
       "    </tr>\n",
       "    <tr>\n",
       "      <th>3</th>\n",
       "      <td>569613</td>\n",
       "      <td>2021-02-25</td>\n",
       "      <td>38</td>\n",
       "      <td>São Paulo</td>\n",
       "      <td>Flamengo</td>\n",
       "    </tr>\n",
       "    <tr>\n",
       "      <th>4</th>\n",
       "      <td>569614</td>\n",
       "      <td>2021-02-25</td>\n",
       "      <td>38</td>\n",
       "      <td>Fluminense</td>\n",
       "      <td>Fortaleza</td>\n",
       "    </tr>\n",
       "    <tr>\n",
       "      <th>...</th>\n",
       "      <td>...</td>\n",
       "      <td>...</td>\n",
       "      <td>...</td>\n",
       "      <td>...</td>\n",
       "      <td>...</td>\n",
       "    </tr>\n",
       "    <tr>\n",
       "      <th>375</th>\n",
       "      <td>569985</td>\n",
       "      <td>2020-08-08</td>\n",
       "      <td>1</td>\n",
       "      <td>Sport</td>\n",
       "      <td>Ceará</td>\n",
       "    </tr>\n",
       "    <tr>\n",
       "      <th>376</th>\n",
       "      <td>569986</td>\n",
       "      <td>2020-08-09</td>\n",
       "      <td>1</td>\n",
       "      <td>Grêmio</td>\n",
       "      <td>Fluminense</td>\n",
       "    </tr>\n",
       "    <tr>\n",
       "      <th>377</th>\n",
       "      <td>569987</td>\n",
       "      <td>2020-08-08</td>\n",
       "      <td>1</td>\n",
       "      <td>Coritiba</td>\n",
       "      <td>Internacional</td>\n",
       "    </tr>\n",
       "    <tr>\n",
       "      <th>378</th>\n",
       "      <td>569988</td>\n",
       "      <td>2020-12-03</td>\n",
       "      <td>1</td>\n",
       "      <td>Goiás</td>\n",
       "      <td>São Paulo</td>\n",
       "    </tr>\n",
       "    <tr>\n",
       "      <th>379</th>\n",
       "      <td>569989</td>\n",
       "      <td>2021-01-26</td>\n",
       "      <td>1</td>\n",
       "      <td>Palmeiras</td>\n",
       "      <td>Vasco da Gama</td>\n",
       "    </tr>\n",
       "  </tbody>\n",
       "</table>\n",
       "<p>380 rows × 5 columns</p>\n",
       "</div>"
      ],
      "text/plain": [
       "     jogo_id      dates  rodada      time_casa time_visitante\n",
       "0     569610 2021-02-25      38          Ceará       Botafogo\n",
       "1     569611 2021-02-25      38  Internacional    Corinthians\n",
       "2     569612 2021-02-25      38    Atlético-GO       Coritiba\n",
       "3     569613 2021-02-25      38      São Paulo       Flamengo\n",
       "4     569614 2021-02-25      38     Fluminense      Fortaleza\n",
       "..       ...        ...     ...            ...            ...\n",
       "375   569985 2020-08-08       1          Sport          Ceará\n",
       "376   569986 2020-08-09       1         Grêmio     Fluminense\n",
       "377   569987 2020-08-08       1       Coritiba  Internacional\n",
       "378   569988 2020-12-03       1          Goiás      São Paulo\n",
       "379   569989 2021-01-26       1      Palmeiras  Vasco da Gama\n",
       "\n",
       "[380 rows x 5 columns]"
      ]
     },
     "execution_count": 4,
     "metadata": {},
     "output_type": "execute_result"
    }
   ],
   "source": [
    "df"
   ]
  }
 ],
 "metadata": {
  "kernelspec": {
   "display_name": "futebol",
   "language": "python",
   "name": "futebol"
  },
  "language_info": {
   "codemirror_mode": {
    "name": "ipython",
    "version": 3
   },
   "file_extension": ".py",
   "mimetype": "text/x-python",
   "name": "python",
   "nbconvert_exporter": "python",
   "pygments_lexer": "ipython3",
   "version": "3.8.12"
  }
 },
 "nbformat": 4,
 "nbformat_minor": 4
}
