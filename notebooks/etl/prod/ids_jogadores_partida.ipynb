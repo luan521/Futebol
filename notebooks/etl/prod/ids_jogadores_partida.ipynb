{
 "cells": [
  {
   "cell_type": "code",
   "execution_count": 1,
   "id": "a9f9661e-d79e-43fe-a126-33f3aa27f09a",
   "metadata": {},
   "outputs": [],
   "source": [
    "import sys\n",
    "sys.path.append('/home/luan/futebol/Futebol')"
   ]
  },
  {
   "cell_type": "code",
   "execution_count": 2,
   "id": "ce504f2d-5520-4ae3-a1d4-4108b752b86e",
   "metadata": {},
   "outputs": [],
   "source": [
    "from cafu.etl import find_id_jogadores"
   ]
  },
  {
   "cell_type": "markdown",
   "id": "ea6646f7-964e-45fd-b2f7-ff0bed946b8e",
   "metadata": {},
   "source": [
    "link do jogo: https://www.espn.com.br/futebol/partida-estatisticas?jogoId=614698"
   ]
  },
  {
   "cell_type": "code",
   "execution_count": 3,
   "id": "7798b7a8-fe3f-4c64-b4ba-9d3fb770a97e",
   "metadata": {},
   "outputs": [],
   "source": [
    "jogo_id = 614698\n",
    "ids = find_id_jogadores(jogo_id)"
   ]
  },
  {
   "cell_type": "code",
   "execution_count": 4,
   "id": "d2ffbef5-2dfb-43cc-bd9d-232eae6b001d",
   "metadata": {
    "collapsed": true,
    "jupyter": {
     "outputs_hidden": true
    },
    "tags": []
   },
   "outputs": [
    {
     "data": {
      "text/plain": [
       "[{'part1': '224187', 'id_part2': 'boris-radunovic'},\n",
       " {'part1': '181060', 'id_part2': 'edoardo-goldaniga'},\n",
       " {'part1': '134542', 'id_part2': 'luca-ceppitelli'},\n",
       " {'part1': '322913', 'id_part2': 'adam-obert'},\n",
       " {'part1': '256763', 'id_part2': 'giorgio-altare'},\n",
       " {'part1': '287986', 'id_part2': 'matteo-lovato'},\n",
       " {'part1': '221849', 'id_part2': 'dalbert'},\n",
       " {'part1': '267623', 'id_part2': 'luca-gagliano'},\n",
       " {'part1': '239738', 'id_part2': 'razvan-marin'},\n",
       " {'part1': '209869', 'id_part2': 'alberto-grassi'},\n",
       " {'part1': '332655', 'id_part2': 'christos-kourfalidis'},\n",
       " {'part1': '268452', 'id_part2': 'raoul-bellanova'},\n",
       " {'part1': '275943', 'id_part2': 'gabriele-zappa'},\n",
       " {'part1': '183507', 'id_part2': 'gaston-pereiro'},\n",
       " {'part1': '152014', 'id_part2': 'joao-pedro'},\n",
       " {'part1': '109470', 'id_part2': 'simone-aresti'},\n",
       " {'part1': '333979', 'id_part2': 'eldin-lolic'},\n",
       " {'part1': '332653', 'id_part2': 'luigi-palomba'},\n",
       " {'part1': '326717', 'id_part2': 'iurie-iovu'},\n",
       " {'part1': '299399', 'id_part2': 'lisandru-tramoni'},\n",
       " {'part1': '267622', 'id_part2': 'riccardo-ladinetti'},\n",
       " {'part1': '143100', 'id_part2': 'pietro-terracciano'},\n",
       " {'part1': '234143', 'id_part2': 'igor-julio'},\n",
       " {'part1': '238990', 'id_part2': 'nikola-milenkovic'},\n",
       " {'part1': '152044', 'id_part2': 'cristiano-biraghi'},\n",
       " {'part1': '236156', 'id_part2': 'alvaro-odriozola'},\n",
       " {'part1': '212973', 'id_part2': 'lucas-torreira'},\n",
       " {'part1': '210230', 'id_part2': 'gaetano-castrovilli'},\n",
       " {'part1': '241405', 'id_part2': 'youssef-maleh'},\n",
       " {'part1': '113667', 'id_part2': 'giacomo-bonaventura'},\n",
       " {'part1': '237666', 'id_part2': 'krzysztof-piatek'},\n",
       " {'part1': '199726', 'id_part2': 'lorenzo-venuti'},\n",
       " {'part1': '76017', 'id_part2': 'nicolas-gonzalez'},\n",
       " {'part1': '225559', 'id_part2': 'jonathan-ikone'},\n",
       " {'part1': '262480', 'id_part2': 'riccardo-sottil'},\n",
       " {'part1': '151765', 'id_part2': 'matija-nastasic'},\n",
       " {'part1': '168653', 'id_part2': 'aleksandr-kokorin'},\n",
       " {'part1': '202533', 'id_part2': 'erick-pulgar'},\n",
       " {'part1': '286999', 'id_part2': 'louis-munteanu'},\n",
       " {'part1': '11987', 'id_part2': 'antonio-rosati'},\n",
       " {'part1': '260005', 'id_part2': 'aleksa-terzic'},\n",
       " {'part1': '220853', 'id_part2': 'bartlomiej-dragowski'},\n",
       " {'part1': '121600', 'id_part2': 'jose-callejon'},\n",
       " {'part1': '173282', 'id_part2': 'alfred-duncan'}]"
      ]
     },
     "execution_count": 4,
     "metadata": {},
     "output_type": "execute_result"
    }
   ],
   "source": [
    "ids"
   ]
  },
  {
   "cell_type": "markdown",
   "id": "86b66bd3-6387-40db-8dd5-d65bb9a10b86",
   "metadata": {},
   "source": [
    "## --------"
   ]
  },
  {
   "cell_type": "code",
   "execution_count": 5,
   "id": "88116e42-32a1-40b8-942a-9aee0d7a6afa",
   "metadata": {},
   "outputs": [],
   "source": [
    "from cafu.queries import Partida\n",
    "from cafu.utils import identify_string_in_list"
   ]
  },
  {
   "cell_type": "code",
   "execution_count": 6,
   "id": "1b7e98b4-00db-4f86-853a-eaf6560efa21",
   "metadata": {},
   "outputs": [],
   "source": [
    "req = Partida(jogo_id)\n",
    "jogadores = req.jogadores()"
   ]
  },
  {
   "cell_type": "code",
   "execution_count": 7,
   "id": "aa931618-3ba1-44ba-950b-93a360772f05",
   "metadata": {},
   "outputs": [],
   "source": [
    "jogadores_casa = [j['nome'] for j in jogadores[0]]\n",
    "jogadores_visitante = [j['nome'] for j in jogadores[1]]\n",
    "\n",
    "nomes_ids = [c['id_part2'] for c in ids]\n",
    "\n",
    "ids_jogadores_casa = {}\n",
    "for j in jogadores_casa:\n",
    "    index = identify_string_in_list(j, nomes_ids)\n",
    "    ids_jogadores_casa[j] = ids[index]\n",
    "ids_jogadores_visitante = {}\n",
    "for j in jogadores_visitante:\n",
    "    index = identify_string_in_list(j, nomes_ids)\n",
    "    ids_jogadores_visitante[j] = ids[index]"
   ]
  },
  {
   "cell_type": "code",
   "execution_count": 8,
   "id": "7f696e62-6219-4bff-9fe1-7eeb2b35c247",
   "metadata": {},
   "outputs": [
    {
     "data": {
      "text/plain": [
       "{'Boris Radunovic': {'part1': '224187', 'id_part2': 'boris-radunovic'},\n",
       " 'Edoardo Goldaniga': {'part1': '181060', 'id_part2': 'edoardo-goldaniga'},\n",
       " 'Luca Ceppitelli': {'part1': '134542', 'id_part2': 'luca-ceppitelli'},\n",
       " 'Adam Obert': {'part1': '322913', 'id_part2': 'adam-obert'},\n",
       " 'Giorgio Altare': {'part1': '256763', 'id_part2': 'giorgio-altare'},\n",
       " 'Matteo Lovato': {'part1': '287986', 'id_part2': 'matteo-lovato'},\n",
       " 'Dalbert': {'part1': '221849', 'id_part2': 'dalbert'},\n",
       " 'Luca Gagliano': {'part1': '267623', 'id_part2': 'luca-gagliano'},\n",
       " 'Razvan Marin': {'part1': '239738', 'id_part2': 'razvan-marin'},\n",
       " 'Alberto Grassi': {'part1': '209869', 'id_part2': 'alberto-grassi'},\n",
       " 'Christos Kourfalidis': {'part1': '332655',\n",
       "  'id_part2': 'christos-kourfalidis'},\n",
       " 'Raoul Bellanova': {'part1': '268452', 'id_part2': 'raoul-bellanova'},\n",
       " 'Gabriele Zappa': {'part1': '275943', 'id_part2': 'gabriele-zappa'},\n",
       " 'Gastón Pereiro': {'part1': '183507', 'id_part2': 'gaston-pereiro'},\n",
       " 'João Pedro': {'part1': '152014', 'id_part2': 'joao-pedro'}}"
      ]
     },
     "execution_count": 8,
     "metadata": {},
     "output_type": "execute_result"
    }
   ],
   "source": [
    "ids_jogadores_casa"
   ]
  },
  {
   "cell_type": "code",
   "execution_count": 9,
   "id": "c29a9b62-d138-4f35-b511-b564c11aab02",
   "metadata": {},
   "outputs": [
    {
     "data": {
      "text/plain": [
       "{'Pietro Terracciano': {'part1': '143100', 'id_part2': 'pietro-terracciano'},\n",
       " 'Igor Julio': {'part1': '234143', 'id_part2': 'igor-julio'},\n",
       " 'Nikola Milenkovic': {'part1': '238990', 'id_part2': 'nikola-milenkovic'},\n",
       " 'Cristiano Biraghi': {'part1': '152044', 'id_part2': 'cristiano-biraghi'},\n",
       " 'Álvaro Odriozola': {'part1': '236156', 'id_part2': 'alvaro-odriozola'},\n",
       " 'Lucas Torreira': {'part1': '212973', 'id_part2': 'lucas-torreira'},\n",
       " 'Gaetano Castrovilli': {'part1': '210230', 'id_part2': 'gaetano-castrovilli'},\n",
       " 'Youssef Maleh': {'part1': '241405', 'id_part2': 'youssef-maleh'},\n",
       " 'Giacomo Bonaventura': {'part1': '113667', 'id_part2': 'giacomo-bonaventura'},\n",
       " 'Krzysztof Piatek': {'part1': '237666', 'id_part2': 'krzysztof-piatek'},\n",
       " 'Lorenzo Venuti': {'part1': '199726', 'id_part2': 'lorenzo-venuti'},\n",
       " 'Nicolás González': {'part1': '76017', 'id_part2': 'nicolas-gonzalez'},\n",
       " 'Jonathan Ikoné': {'part1': '225559', 'id_part2': 'jonathan-ikone'},\n",
       " 'Riccardo Sottil': {'part1': '262480', 'id_part2': 'riccardo-sottil'},\n",
       " 'Matija Nastasic': {'part1': '151765', 'id_part2': 'matija-nastasic'}}"
      ]
     },
     "execution_count": 9,
     "metadata": {},
     "output_type": "execute_result"
    }
   ],
   "source": [
    "ids_jogadores_visitante"
   ]
  }
 ],
 "metadata": {
  "kernelspec": {
   "display_name": "futebol",
   "language": "python",
   "name": "futebol"
  },
  "language_info": {
   "codemirror_mode": {
    "name": "ipython",
    "version": 3
   },
   "file_extension": ".py",
   "mimetype": "text/x-python",
   "name": "python",
   "nbconvert_exporter": "python",
   "pygments_lexer": "ipython3",
   "version": "3.8.12"
  }
 },
 "nbformat": 4,
 "nbformat_minor": 5
}
