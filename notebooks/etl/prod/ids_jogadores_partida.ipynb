{
 "cells": [
  {
   "cell_type": "code",
   "execution_count": 1,
   "metadata": {},
   "outputs": [],
   "source": [
    "import sys\n",
    "sys.path.append('C:\\\\Users\\\\Luan\\\\futebol\\\\Futebol')"
   ]
  },
  {
   "cell_type": "code",
   "execution_count": 2,
   "metadata": {},
   "outputs": [],
   "source": [
    "from cafu.etl import find_id_jogadores"
   ]
  },
  {
   "cell_type": "markdown",
   "metadata": {},
   "source": [
    "link do jogo: https://www.espn.com.br/futebol/partida-estatisticas?jogoId=614698"
   ]
  },
  {
   "cell_type": "code",
   "execution_count": 3,
   "metadata": {},
   "outputs": [],
   "source": [
    "jogo_id = 614698\n",
    "ids = find_id_jogadores(jogo_id)"
   ]
  },
  {
   "cell_type": "code",
   "execution_count": 4,
   "metadata": {
    "tags": []
   },
   "outputs": [
    {
     "data": {
      "text/plain": [
       "[{'id_part1': '224187', 'id_part2': 'boris-radunovic'},\n",
       " {'id_part1': '181060', 'id_part2': 'edoardo-goldaniga'},\n",
       " {'id_part1': '134542', 'id_part2': 'luca-ceppitelli'},\n",
       " {'id_part1': '322913', 'id_part2': 'adam-obert'},\n",
       " {'id_part1': '256763', 'id_part2': 'giorgio-altare'},\n",
       " {'id_part1': '287986', 'id_part2': 'matteo-lovato'},\n",
       " {'id_part1': '221849', 'id_part2': 'dalbert'},\n",
       " {'id_part1': '267623', 'id_part2': 'luca-gagliano'},\n",
       " {'id_part1': '239738', 'id_part2': 'razvan-marin'},\n",
       " {'id_part1': '209869', 'id_part2': 'alberto-grassi'},\n",
       " {'id_part1': '332655', 'id_part2': 'christos-kourfalidis'},\n",
       " {'id_part1': '268452', 'id_part2': 'raoul-bellanova'},\n",
       " {'id_part1': '275943', 'id_part2': 'gabriele-zappa'},\n",
       " {'id_part1': '183507', 'id_part2': 'gaston-pereiro'},\n",
       " {'id_part1': '152014', 'id_part2': 'joao-pedro'},\n",
       " {'id_part1': '109470', 'id_part2': 'simone-aresti'},\n",
       " {'id_part1': '333979', 'id_part2': 'eldin-lolic'},\n",
       " {'id_part1': '332653', 'id_part2': 'luigi-palomba'},\n",
       " {'id_part1': '326717', 'id_part2': 'iurie-iovu'},\n",
       " {'id_part1': '299399', 'id_part2': 'lisandru-tramoni'},\n",
       " {'id_part1': '267622', 'id_part2': 'riccardo-ladinetti'},\n",
       " {'id_part1': '143100', 'id_part2': 'pietro-terracciano'},\n",
       " {'id_part1': '234143', 'id_part2': 'igor-julio'},\n",
       " {'id_part1': '238990', 'id_part2': 'nikola-milenkovic'},\n",
       " {'id_part1': '152044', 'id_part2': 'cristiano-biraghi'},\n",
       " {'id_part1': '236156', 'id_part2': 'alvaro-odriozola'},\n",
       " {'id_part1': '212973', 'id_part2': 'lucas-torreira'},\n",
       " {'id_part1': '210230', 'id_part2': 'gaetano-castrovilli'},\n",
       " {'id_part1': '241405', 'id_part2': 'youssef-maleh'},\n",
       " {'id_part1': '113667', 'id_part2': 'giacomo-bonaventura'},\n",
       " {'id_part1': '237666', 'id_part2': 'krzysztof-piatek'},\n",
       " {'id_part1': '199726', 'id_part2': 'lorenzo-venuti'},\n",
       " {'id_part1': '76017', 'id_part2': 'nicolas-gonzalez'},\n",
       " {'id_part1': '225559', 'id_part2': 'jonathan-ikone'},\n",
       " {'id_part1': '262480', 'id_part2': 'riccardo-sottil'},\n",
       " {'id_part1': '151765', 'id_part2': 'matija-nastasic'},\n",
       " {'id_part1': '168653', 'id_part2': 'aleksandr-kokorin'},\n",
       " {'id_part1': '202533', 'id_part2': 'erick-pulgar'},\n",
       " {'id_part1': '286999', 'id_part2': 'louis-munteanu'},\n",
       " {'id_part1': '11987', 'id_part2': 'antonio-rosati'},\n",
       " {'id_part1': '260005', 'id_part2': 'aleksa-terzic'},\n",
       " {'id_part1': '220853', 'id_part2': 'bartlomiej-dragowski'},\n",
       " {'id_part1': '121600', 'id_part2': 'jose-callejon'},\n",
       " {'id_part1': '173282', 'id_part2': 'alfred-duncan'}]"
      ]
     },
     "execution_count": 4,
     "metadata": {},
     "output_type": "execute_result"
    }
   ],
   "source": [
    "ids"
   ]
  },
  {
   "cell_type": "markdown",
   "metadata": {},
   "source": [
    "## --------"
   ]
  },
  {
   "cell_type": "code",
   "execution_count": 5,
   "metadata": {},
   "outputs": [],
   "source": [
    "from cafu.queries import Partida\n",
    "from cafu.utils import identify_string_in_list"
   ]
  },
  {
   "cell_type": "code",
   "execution_count": 6,
   "metadata": {},
   "outputs": [],
   "source": [
    "req = Partida(jogo_id)\n",
    "jogadores = req.jogadores()"
   ]
  },
  {
   "cell_type": "code",
   "execution_count": 7,
   "metadata": {},
   "outputs": [],
   "source": [
    "jogadores_casa = [j['nome'] for j in jogadores[0]]\n",
    "jogadores_visitante = [j['nome'] for j in jogadores[1]]\n",
    "\n",
    "nomes_ids = [c['id_part2'] for c in ids]\n",
    "\n",
    "ids_jogadores_casa = {}\n",
    "for j in jogadores_casa:\n",
    "    index = identify_string_in_list(j, nomes_ids)\n",
    "    ids_jogadores_casa[j] = ids[index]\n",
    "ids_jogadores_visitante = {}\n",
    "for j in jogadores_visitante:\n",
    "    index = identify_string_in_list(j, nomes_ids)\n",
    "    ids_jogadores_visitante[j] = ids[index]"
   ]
  },
  {
   "cell_type": "code",
   "execution_count": 9,
   "metadata": {},
   "outputs": [
    {
     "data": {
      "text/plain": [
       "{'Boris Radunovic': {'id_part1': '224187', 'id_part2': 'boris-radunovic'},\n",
       " 'Edoardo Goldaniga': {'id_part1': '181060', 'id_part2': 'edoardo-goldaniga'},\n",
       " 'Luca Ceppitelli': {'id_part1': '134542', 'id_part2': 'luca-ceppitelli'},\n",
       " 'Adam Obert': {'id_part1': '322913', 'id_part2': 'adam-obert'},\n",
       " 'Giorgio Altare': {'id_part1': '256763', 'id_part2': 'giorgio-altare'},\n",
       " 'Matteo Lovato': {'id_part1': '287986', 'id_part2': 'matteo-lovato'},\n",
       " 'Dalbert': {'id_part1': '221849', 'id_part2': 'dalbert'},\n",
       " 'Luca Gagliano': {'id_part1': '267623', 'id_part2': 'luca-gagliano'},\n",
       " 'Razvan Marin': {'id_part1': '239738', 'id_part2': 'razvan-marin'},\n",
       " 'Alberto Grassi': {'id_part1': '209869', 'id_part2': 'alberto-grassi'},\n",
       " 'Christos Kourfalidis': {'id_part1': '332655',\n",
       "  'id_part2': 'christos-kourfalidis'},\n",
       " 'Raoul Bellanova': {'id_part1': '268452', 'id_part2': 'raoul-bellanova'},\n",
       " 'Gabriele Zappa': {'id_part1': '275943', 'id_part2': 'gabriele-zappa'},\n",
       " 'Gastón Pereiro': {'id_part1': '183507', 'id_part2': 'gaston-pereiro'},\n",
       " 'João Pedro': {'id_part1': '152014', 'id_part2': 'joao-pedro'}}"
      ]
     },
     "execution_count": 9,
     "metadata": {},
     "output_type": "execute_result"
    }
   ],
   "source": [
    "ids_jogadores_casa"
   ]
  },
  {
   "cell_type": "code",
   "execution_count": 10,
   "metadata": {},
   "outputs": [
    {
     "data": {
      "text/plain": [
       "{'Pietro Terracciano': {'id_part1': '143100',\n",
       "  'id_part2': 'pietro-terracciano'},\n",
       " 'Igor Julio': {'id_part1': '234143', 'id_part2': 'igor-julio'},\n",
       " 'Nikola Milenkovic': {'id_part1': '238990', 'id_part2': 'nikola-milenkovic'},\n",
       " 'Cristiano Biraghi': {'id_part1': '152044', 'id_part2': 'cristiano-biraghi'},\n",
       " 'Álvaro Odriozola': {'id_part1': '236156', 'id_part2': 'alvaro-odriozola'},\n",
       " 'Lucas Torreira': {'id_part1': '212973', 'id_part2': 'lucas-torreira'},\n",
       " 'Gaetano Castrovilli': {'id_part1': '210230',\n",
       "  'id_part2': 'gaetano-castrovilli'},\n",
       " 'Youssef Maleh': {'id_part1': '241405', 'id_part2': 'youssef-maleh'},\n",
       " 'Giacomo Bonaventura': {'id_part1': '113667',\n",
       "  'id_part2': 'giacomo-bonaventura'},\n",
       " 'Krzysztof Piatek': {'id_part1': '237666', 'id_part2': 'krzysztof-piatek'},\n",
       " 'Lorenzo Venuti': {'id_part1': '199726', 'id_part2': 'lorenzo-venuti'},\n",
       " 'Nicolás González': {'id_part1': '76017', 'id_part2': 'nicolas-gonzalez'},\n",
       " 'Jonathan Ikoné': {'id_part1': '225559', 'id_part2': 'jonathan-ikone'},\n",
       " 'Riccardo Sottil': {'id_part1': '262480', 'id_part2': 'riccardo-sottil'},\n",
       " 'Matija Nastasic': {'id_part1': '151765', 'id_part2': 'matija-nastasic'}}"
      ]
     },
     "execution_count": 10,
     "metadata": {},
     "output_type": "execute_result"
    }
   ],
   "source": [
    "ids_jogadores_visitante"
   ]
  }
 ],
 "metadata": {
  "kernelspec": {
   "display_name": "futebol",
   "language": "python",
   "name": "futebol"
  },
  "language_info": {
   "codemirror_mode": {
    "name": "ipython",
    "version": 3
   },
   "file_extension": ".py",
   "mimetype": "text/x-python",
   "name": "python",
   "nbconvert_exporter": "python",
   "pygments_lexer": "ipython3",
   "version": "3.8.12"
  }
 },
 "nbformat": 4,
 "nbformat_minor": 5
}
