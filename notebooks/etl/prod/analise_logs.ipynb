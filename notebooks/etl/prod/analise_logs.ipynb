{
 "cells": [
  {
   "cell_type": "code",
   "execution_count": 1,
   "id": "5915a8a3",
   "metadata": {},
   "outputs": [],
   "source": [
    "from cafu.utils import ValidateExecution"
   ]
  },
  {
   "cell_type": "code",
   "execution_count": null,
   "id": "49d39f84",
   "metadata": {},
   "outputs": [],
   "source": [
    "days = ['2022-03-21', '2022-03-22', '2022-03-23', '2022-03-24', '2022-03-25']"
   ]
  },
  {
   "cell_type": "code",
   "execution_count": 2,
   "id": "19d37188",
   "metadata": {},
   "outputs": [],
   "source": [
    "val = ValidateExecution(days)\n",
    "val.error_types()\n",
    "val.warning_types()"
   ]
  },
  {
   "cell_type": "code",
   "execution_count": 3,
   "id": "d1a961ff",
   "metadata": {},
   "outputs": [
    {
     "data": {
      "text/html": [
       "<div>\n",
       "<style scoped>\n",
       "    .dataframe tbody tr th:only-of-type {\n",
       "        vertical-align: middle;\n",
       "    }\n",
       "\n",
       "    .dataframe tbody tr th {\n",
       "        vertical-align: top;\n",
       "    }\n",
       "\n",
       "    .dataframe thead th {\n",
       "        text-align: right;\n",
       "    }\n",
       "</style>\n",
       "<table border=\"1\" class=\"dataframe\">\n",
       "  <thead>\n",
       "    <tr style=\"text-align: right;\">\n",
       "      <th></th>\n",
       "      <th>date</th>\n",
       "      <th>type</th>\n",
       "      <th>function</th>\n",
       "      <th>description1</th>\n",
       "      <th>description2</th>\n",
       "    </tr>\n",
       "  </thead>\n",
       "  <tbody>\n",
       "    <tr>\n",
       "      <th>0</th>\n",
       "      <td>21/03/2022 07:04:33 PM</td>\n",
       "      <td>INFO</td>\n",
       "      <td>etl.data_lake.partidas_campeonato.update_partidas</td>\n",
       "      <td>Function started</td>\n",
       "      <td>[]</td>\n",
       "    </tr>\n",
       "    <tr>\n",
       "      <th>1</th>\n",
       "      <td>21/03/2022 07:04:35 PM</td>\n",
       "      <td>SUCCESS</td>\n",
       "      <td>queries.Partida.campeonato</td>\n",
       "      <td>Function executed successfully. &lt;jogo_id&gt;=5982...</td>\n",
       "      <td>[]</td>\n",
       "    </tr>\n",
       "    <tr>\n",
       "      <th>2</th>\n",
       "      <td>21/03/2022 07:04:36 PM</td>\n",
       "      <td>SUCCESS</td>\n",
       "      <td>queries.Partida.day</td>\n",
       "      <td>Function executed successfully. &lt;jogo_id&gt;=5982...</td>\n",
       "      <td>[]</td>\n",
       "    </tr>\n",
       "    <tr>\n",
       "      <th>3</th>\n",
       "      <td>21/03/2022 07:04:38 PM</td>\n",
       "      <td>SUCCESS</td>\n",
       "      <td>queries.Partida.nomes_times</td>\n",
       "      <td>Function executed successfully. &lt;jogo_id&gt;=5982...</td>\n",
       "      <td>[]</td>\n",
       "    </tr>\n",
       "    <tr>\n",
       "      <th>4</th>\n",
       "      <td>21/03/2022 07:04:39 PM</td>\n",
       "      <td>SUCCESS</td>\n",
       "      <td>queries.Partida.formacao</td>\n",
       "      <td>Function executed successfully. &lt;jogo_id&gt;=5982...</td>\n",
       "      <td>[]</td>\n",
       "    </tr>\n",
       "    <tr>\n",
       "      <th>...</th>\n",
       "      <td>...</td>\n",
       "      <td>...</td>\n",
       "      <td>...</td>\n",
       "      <td>...</td>\n",
       "      <td>...</td>\n",
       "    </tr>\n",
       "    <tr>\n",
       "      <th>131627</th>\n",
       "      <td>25/03/2022 03:08:39 AM</td>\n",
       "      <td>SUCCESS</td>\n",
       "      <td>queries.Partida.gols</td>\n",
       "      <td>Function executed successfully. &lt;jogo_id&gt;=5422...</td>\n",
       "      <td>[]</td>\n",
       "    </tr>\n",
       "    <tr>\n",
       "      <th>131628</th>\n",
       "      <td>25/03/2022 03:08:40 AM</td>\n",
       "      <td>SUCCESS</td>\n",
       "      <td>queries.Partida.minuto_a_minuto</td>\n",
       "      <td>Function executed successfully. &lt;jogo_id&gt;=5422...</td>\n",
       "      <td>[]</td>\n",
       "    </tr>\n",
       "    <tr>\n",
       "      <th>131629</th>\n",
       "      <td>25/03/2022 03:08:41 AM</td>\n",
       "      <td>INFO</td>\n",
       "      <td>etl.data_lake.partidas_campeonato.update_partidas</td>\n",
       "      <td>Update league franca | 2019-2020. runtime = 13...</td>\n",
       "      <td>[]</td>\n",
       "    </tr>\n",
       "    <tr>\n",
       "      <th>131630</th>\n",
       "      <td>25/03/2022 12:34:46 PM</td>\n",
       "      <td>INFO</td>\n",
       "      <td>etl.data_lake.partidas_campeonato.update_partidas</td>\n",
       "      <td>Function started</td>\n",
       "      <td>[]</td>\n",
       "    </tr>\n",
       "    <tr>\n",
       "      <th>131631</th>\n",
       "      <td>25/03/2022 12:34:46 PM</td>\n",
       "      <td>INFO</td>\n",
       "      <td>etl.data_lake.partidas_campeonato.update_partidas</td>\n",
       "      <td>Already up to date</td>\n",
       "      <td>[]</td>\n",
       "    </tr>\n",
       "  </tbody>\n",
       "</table>\n",
       "<p>131632 rows × 5 columns</p>\n",
       "</div>"
      ],
      "text/plain": [
       "                          date     type  \\\n",
       "0       21/03/2022 07:04:33 PM     INFO   \n",
       "1       21/03/2022 07:04:35 PM  SUCCESS   \n",
       "2       21/03/2022 07:04:36 PM  SUCCESS   \n",
       "3       21/03/2022 07:04:38 PM  SUCCESS   \n",
       "4       21/03/2022 07:04:39 PM  SUCCESS   \n",
       "...                        ...      ...   \n",
       "131627  25/03/2022 03:08:39 AM  SUCCESS   \n",
       "131628  25/03/2022 03:08:40 AM  SUCCESS   \n",
       "131629  25/03/2022 03:08:41 AM     INFO   \n",
       "131630  25/03/2022 12:34:46 PM     INFO   \n",
       "131631  25/03/2022 12:34:46 PM     INFO   \n",
       "\n",
       "                                                 function  \\\n",
       "0       etl.data_lake.partidas_campeonato.update_partidas   \n",
       "1                              queries.Partida.campeonato   \n",
       "2                                     queries.Partida.day   \n",
       "3                             queries.Partida.nomes_times   \n",
       "4                                queries.Partida.formacao   \n",
       "...                                                   ...   \n",
       "131627                               queries.Partida.gols   \n",
       "131628                    queries.Partida.minuto_a_minuto   \n",
       "131629  etl.data_lake.partidas_campeonato.update_partidas   \n",
       "131630  etl.data_lake.partidas_campeonato.update_partidas   \n",
       "131631  etl.data_lake.partidas_campeonato.update_partidas   \n",
       "\n",
       "                                             description1 description2  \n",
       "0                                        Function started           []  \n",
       "1       Function executed successfully. <jogo_id>=5982...           []  \n",
       "2       Function executed successfully. <jogo_id>=5982...           []  \n",
       "3       Function executed successfully. <jogo_id>=5982...           []  \n",
       "4       Function executed successfully. <jogo_id>=5982...           []  \n",
       "...                                                   ...          ...  \n",
       "131627  Function executed successfully. <jogo_id>=5422...           []  \n",
       "131628  Function executed successfully. <jogo_id>=5422...           []  \n",
       "131629  Update league franca | 2019-2020. runtime = 13...           []  \n",
       "131630                                   Function started           []  \n",
       "131631                                 Already up to date           []  \n",
       "\n",
       "[131632 rows x 5 columns]"
      ]
     },
     "execution_count": 3,
     "metadata": {},
     "output_type": "execute_result"
    }
   ],
   "source": [
    "val.df_log"
   ]
  },
  {
   "cell_type": "code",
   "execution_count": 4,
   "id": "d5d00c81",
   "metadata": {},
   "outputs": [
    {
     "data": {
      "text/plain": [
       "function\n",
       "etl.data_lake.partidas_campeonato.update_partidas    621\n",
       "queries.Partida.formacao                             248\n",
       "queries.Partida.placar                               156\n",
       "queries.Partida.posse                                143\n",
       "queries.Partida.chutes_fora_nogol                    140\n",
       "queries.Partida.faltas                               139\n",
       "queries.Partida.cartoes_amarelos                     135\n",
       "queries.Partida.cartoes_vermelhos                    131\n",
       "queries.Partida.impedimentos                         125\n",
       "queries.Partida.escanteios                           119\n",
       "queries.Partida.defesas                              116\n",
       "queries.Partida.jogadores                            115\n",
       "queries.Partida.campeonato                            89\n",
       "queries.Partida.day                                   85\n",
       "queries.Partida.nomes_times                           85\n",
       "queries.Partida.__init__                               9\n",
       "queries.Partida.minuto_a_minuto                        4\n",
       "Name: function, dtype: int64"
      ]
     },
     "execution_count": 4,
     "metadata": {},
     "output_type": "execute_result"
    }
   ],
   "source": [
    "val.df_error"
   ]
  },
  {
   "cell_type": "code",
   "execution_count": 5,
   "id": "deb0e253",
   "metadata": {},
   "outputs": [
    {
     "data": {
      "text/plain": [
       "function\n",
       "queries.Partida.__init__    102\n",
       "Name: function, dtype: int64"
      ]
     },
     "execution_count": 5,
     "metadata": {},
     "output_type": "execute_result"
    }
   ],
   "source": [
    "val.df_warning"
   ]
  },
  {
   "cell_type": "code",
   "execution_count": 6,
   "id": "5e64d338",
   "metadata": {},
   "outputs": [
    {
     "name": "stdout",
     "output_type": "stream",
     "text": [
      "ETL.DATA_LAKE.PARTIDAS_CAMPEONATO.PARTIDAS_CAMPEONATO\n",
      "---------------------------\n",
      "UTILS.LOOP_TRY.LOOP_TRY\n",
      "---------------------------\n",
      "QUERIES.PARTIDA.__INIT__\n",
      "---------------------------\n",
      "Unexpected error: Could find date by method find_element_by_xpath of selenium. <jogo_id>=507266. runtime = 4.0 seconds\n",
      "\n",
      "Unexpected error: Could not find status by method find_element_by_xpath of selenium. <jogo_id>=507266. runtime = 4.0 seconds\n",
      "\n",
      "Unexpected error: Could find date by method find_element_by_xpath of selenium. <jogo_id>=581978. runtime = 5.0 seconds\n",
      "\n",
      "Unexpected error: Could not find status by method find_element_by_xpath of selenium. <jogo_id>=581978. runtime = 5.0 seconds\n",
      "\n",
      "Unexpected error: Could find date by method find_element_by_xpath of selenium. <jogo_id>=433941. runtime = 4.0 seconds\n",
      "\n",
      "Unexpected error: Could not find status by method find_element_by_xpath of selenium. <jogo_id>=433941. runtime = 4.0 seconds\n",
      "\n",
      "Unexpected error: Could find date by method find_element_by_xpath of selenium. <jogo_id>=402528. runtime = 3.0 seconds\n",
      "\n",
      "Unexpected error: Could not find status by method find_element_by_xpath of selenium. <jogo_id>=402528. runtime = 4.0 seconds\n",
      "\n",
      "Unexpected error: Could find date by method find_element_by_xpath of selenium. <jogo_id>=572901. runtime = 8.0 seconds\n",
      "\n"
     ]
    }
   ],
   "source": [
    "for f in val.important_functions:\n",
    "    print(f.upper())\n",
    "    print('---------------------------')\n",
    "    val.print_description_error(f)"
   ]
  },
  {
   "cell_type": "code",
   "execution_count": 12,
   "id": "e7d3a8c7",
   "metadata": {},
   "outputs": [
    {
     "name": "stdout",
     "output_type": "stream",
     "text": [
      "ETL.DATA_LAKE.PARTIDAS_CAMPEONATO.PARTIDAS_CAMPEONATO\n",
      "---------------------------\n",
      "UTILS.LOOP_TRY.LOOP_TRY\n",
      "---------------------------\n"
     ]
    }
   ],
   "source": [
    "for f in val.important_functions:\n",
    "    if f not in ('queries.Partida.__init__'):\n",
    "        print(f.upper())\n",
    "        print('---------------------------')\n",
    "        val.print_description_warning(f)"
   ]
  },
  {
   "cell_type": "markdown",
   "id": "d478dea5",
   "metadata": {},
   "source": [
    "## update_partidas"
   ]
  },
  {
   "cell_type": "code",
   "execution_count": 3,
   "id": "26571847",
   "metadata": {},
   "outputs": [
    {
     "data": {
      "text/html": [
       "<div>\n",
       "<style scoped>\n",
       "    .dataframe tbody tr th:only-of-type {\n",
       "        vertical-align: middle;\n",
       "    }\n",
       "\n",
       "    .dataframe tbody tr th {\n",
       "        vertical-align: top;\n",
       "    }\n",
       "\n",
       "    .dataframe thead th {\n",
       "        text-align: right;\n",
       "    }\n",
       "</style>\n",
       "<table border=\"1\" class=\"dataframe\">\n",
       "  <thead>\n",
       "    <tr style=\"text-align: right;\">\n",
       "      <th></th>\n",
       "      <th>campeonato</th>\n",
       "      <th>temporada</th>\n",
       "      <th>jogo_id</th>\n",
       "      <th>failed</th>\n",
       "    </tr>\n",
       "  </thead>\n",
       "  <tbody>\n",
       "    <tr>\n",
       "      <th>0</th>\n",
       "      <td>brasil</td>\n",
       "      <td>2020-2020</td>\n",
       "      <td>569662</td>\n",
       "      <td>[df_jogadores]</td>\n",
       "    </tr>\n",
       "    <tr>\n",
       "      <th>1</th>\n",
       "      <td>brasil</td>\n",
       "      <td>2017-2017</td>\n",
       "      <td>476183</td>\n",
       "      <td>[df_minuto_a_minuto]</td>\n",
       "    </tr>\n",
       "    <tr>\n",
       "      <th>2</th>\n",
       "      <td>brasil</td>\n",
       "      <td>2017-2017</td>\n",
       "      <td>476229</td>\n",
       "      <td>[df_minuto_a_minuto]</td>\n",
       "    </tr>\n",
       "    <tr>\n",
       "      <th>3</th>\n",
       "      <td>brasil</td>\n",
       "      <td>2017-2017</td>\n",
       "      <td>476046</td>\n",
       "      <td>[df_jogadores]</td>\n",
       "    </tr>\n",
       "    <tr>\n",
       "      <th>4</th>\n",
       "      <td>brasil</td>\n",
       "      <td>2016-2016</td>\n",
       "      <td>445952</td>\n",
       "      <td>[df_resumo, df_jogadores, df_minuto_a_minuto]</td>\n",
       "    </tr>\n",
       "    <tr>\n",
       "      <th>...</th>\n",
       "      <td>...</td>\n",
       "      <td>...</td>\n",
       "      <td>...</td>\n",
       "      <td>...</td>\n",
       "    </tr>\n",
       "    <tr>\n",
       "      <th>370</th>\n",
       "      <td>franca</td>\n",
       "      <td>2019-2020</td>\n",
       "      <td>541951</td>\n",
       "      <td>[df_resumo, df_jogadores, df_minuto_a_minuto]</td>\n",
       "    </tr>\n",
       "    <tr>\n",
       "      <th>371</th>\n",
       "      <td>franca</td>\n",
       "      <td>2019-2020</td>\n",
       "      <td>541952</td>\n",
       "      <td>[df_resumo, df_jogadores, df_minuto_a_minuto]</td>\n",
       "    </tr>\n",
       "    <tr>\n",
       "      <th>372</th>\n",
       "      <td>franca</td>\n",
       "      <td>2019-2020</td>\n",
       "      <td>541953</td>\n",
       "      <td>[df_resumo, df_jogadores, df_minuto_a_minuto]</td>\n",
       "    </tr>\n",
       "    <tr>\n",
       "      <th>373</th>\n",
       "      <td>franca</td>\n",
       "      <td>2019-2020</td>\n",
       "      <td>541954</td>\n",
       "      <td>[df_resumo, df_jogadores, df_minuto_a_minuto]</td>\n",
       "    </tr>\n",
       "    <tr>\n",
       "      <th>374</th>\n",
       "      <td>franca</td>\n",
       "      <td>2019-2020</td>\n",
       "      <td>541962</td>\n",
       "      <td>[df_resumo, df_jogadores, df_minuto_a_minuto]</td>\n",
       "    </tr>\n",
       "  </tbody>\n",
       "</table>\n",
       "<p>375 rows × 4 columns</p>\n",
       "</div>"
      ],
      "text/plain": [
       "    campeonato  temporada jogo_id  \\\n",
       "0       brasil  2020-2020  569662   \n",
       "1       brasil  2017-2017  476183   \n",
       "2       brasil  2017-2017  476229   \n",
       "3       brasil  2017-2017  476046   \n",
       "4       brasil  2016-2016  445952   \n",
       "..         ...        ...     ...   \n",
       "370     franca  2019-2020  541951   \n",
       "371     franca  2019-2020  541952   \n",
       "372     franca  2019-2020  541953   \n",
       "373     franca  2019-2020  541954   \n",
       "374     franca  2019-2020  541962   \n",
       "\n",
       "                                            failed  \n",
       "0                                   [df_jogadores]  \n",
       "1                             [df_minuto_a_minuto]  \n",
       "2                             [df_minuto_a_minuto]  \n",
       "3                                   [df_jogadores]  \n",
       "4    [df_resumo, df_jogadores, df_minuto_a_minuto]  \n",
       "..                                             ...  \n",
       "370  [df_resumo, df_jogadores, df_minuto_a_minuto]  \n",
       "371  [df_resumo, df_jogadores, df_minuto_a_minuto]  \n",
       "372  [df_resumo, df_jogadores, df_minuto_a_minuto]  \n",
       "373  [df_resumo, df_jogadores, df_minuto_a_minuto]  \n",
       "374  [df_resumo, df_jogadores, df_minuto_a_minuto]  \n",
       "\n",
       "[375 rows x 4 columns]"
      ]
     },
     "execution_count": 3,
     "metadata": {},
     "output_type": "execute_result"
    }
   ],
   "source": [
    "val.df_partidas_failed"
   ]
  },
  {
   "cell_type": "code",
   "execution_count": 4,
   "id": "40c4c2bf",
   "metadata": {},
   "outputs": [
    {
     "data": {
      "text/plain": [
       "campeonato  temporada\n",
       "brasil      2014-2014     66\n",
       "            2016-2016     36\n",
       "            2017-2017      3\n",
       "            2020-2020      1\n",
       "espanha     2011-2012    153\n",
       "            2014-2015      1\n",
       "            2015-2016      1\n",
       "            2016-2017     10\n",
       "            2017-2018      1\n",
       "            2019-2020      1\n",
       "franca      2019-2020    101\n",
       "            2020-2021      1\n",
       "Name: campeonato, dtype: int64"
      ]
     },
     "execution_count": 4,
     "metadata": {},
     "output_type": "execute_result"
    }
   ],
   "source": [
    "# quantidades de erros avisados em \n",
    "# metadata.partidas.<campeonato>.<temporada>.<jogo_id>.failed (datalake)\n",
    "(\n",
    "    val.df_partidas_failed\n",
    "    .groupby(['campeonato','temporada'])['campeonato']\n",
    "    .count()\n",
    ")"
   ]
  },
  {
   "cell_type": "code",
   "execution_count": 10,
   "id": "6387500f",
   "metadata": {},
   "outputs": [
    {
     "data": {
      "text/plain": [
       "30487     445952\n",
       "124863    541855\n",
       "124886    541856\n",
       "124909    541857\n",
       "124931    541858\n",
       "           ...  \n",
       "127063    541951\n",
       "127086    541952\n",
       "127109    541953\n",
       "127132    541954\n",
       "127267    541962\n",
       "Name: description1, Length: 102, dtype: object"
      ]
     },
     "execution_count": 10,
     "metadata": {},
     "output_type": "execute_result"
    }
   ],
   "source": [
    "# partidas canceladas\n",
    "def filter_jogo_id(string):\n",
    "    return string[40:].split('.')[0]\n",
    "\n",
    "index_filter = (\n",
    "                (val.df_log['type'] == 'WARNING') & \n",
    "                (val.df_log['function']=='queries.Partida.__init__')\n",
    "               )\n",
    "(\n",
    "    val.df_log[index_filter]['description1']\n",
    "    .apply(filter_jogo_id)\n",
    "    .drop_duplicates()\n",
    ")"
   ]
  },
  {
   "cell_type": "code",
   "execution_count": 26,
   "id": "db40df1d",
   "metadata": {},
   "outputs": [
    {
     "data": {
      "text/plain": [
       "6928    Could not create dataframe\n",
       "Name: description1, dtype: object"
      ]
     },
     "execution_count": 26,
     "metadata": {},
     "output_type": "execute_result"
    }
   ],
   "source": [
    "# geralmente, todos os erros gerados na função etl.data_lake.partidas_campeonato.update_partidas,\n",
    "# são do tipo Could not create dataframe.\n",
    "# Estes erros estão todos contidos em\n",
    "# metadata.partidas.<campeonato>.<temporada>.<jogo_id>.failed (datalake)\n",
    "def select_(string):\n",
    "    return string[:26]\n",
    "\n",
    "index_filter = (\n",
    "                (val.df_log['type'] == 'ERROR') & \n",
    "                (val.df_log['function']=='etl.data_lake.partidas_campeonato.update_partidas')\n",
    "               )\n",
    "(\n",
    "    val.df_log[index_filter]\n",
    "    ['description1']\n",
    "    .apply(select_)\n",
    "    .drop_duplicates()\n",
    ")"
   ]
  }
 ],
 "metadata": {
  "kernelspec": {
   "display_name": "futebol",
   "language": "python",
   "name": "futebol"
  },
  "language_info": {
   "codemirror_mode": {
    "name": "ipython",
    "version": 3
   },
   "file_extension": ".py",
   "mimetype": "text/x-python",
   "name": "python",
   "nbconvert_exporter": "python",
   "pygments_lexer": "ipython3",
   "version": "3.8.12"
  }
 },
 "nbformat": 4,
 "nbformat_minor": 5
}
