{
 "cells": [
  {
   "cell_type": "code",
   "execution_count": 1,
   "id": "5915a8a3",
   "metadata": {},
   "outputs": [],
   "source": [
    "from cafu.utils import ValidateExecution"
   ]
  },
  {
   "cell_type": "code",
   "execution_count": 2,
   "id": "19d37188",
   "metadata": {},
   "outputs": [],
   "source": [
    "dia = '2022-03-20'\n",
    "val = ValidateExecution(dia)\n",
    "val.error_types()\n",
    "val.warning_types()"
   ]
  },
  {
   "cell_type": "code",
   "execution_count": 3,
   "id": "d1a961ff",
   "metadata": {},
   "outputs": [
    {
     "data": {
      "text/html": [
       "<div>\n",
       "<style scoped>\n",
       "    .dataframe tbody tr th:only-of-type {\n",
       "        vertical-align: middle;\n",
       "    }\n",
       "\n",
       "    .dataframe tbody tr th {\n",
       "        vertical-align: top;\n",
       "    }\n",
       "\n",
       "    .dataframe thead th {\n",
       "        text-align: right;\n",
       "    }\n",
       "</style>\n",
       "<table border=\"1\" class=\"dataframe\">\n",
       "  <thead>\n",
       "    <tr style=\"text-align: right;\">\n",
       "      <th></th>\n",
       "      <th>date</th>\n",
       "      <th>type</th>\n",
       "      <th>function</th>\n",
       "      <th>description1</th>\n",
       "      <th>description2</th>\n",
       "    </tr>\n",
       "  </thead>\n",
       "  <tbody>\n",
       "    <tr>\n",
       "      <th>0</th>\n",
       "      <td>20/03/2022 03:52:00 PM</td>\n",
       "      <td>SUCCESS</td>\n",
       "      <td>utils.etl.datalake.initialize_datalake</td>\n",
       "      <td>Function executed successfully</td>\n",
       "      <td>[]</td>\n",
       "    </tr>\n",
       "    <tr>\n",
       "      <th>1</th>\n",
       "      <td>20/03/2022 03:52:49 PM</td>\n",
       "      <td>INFO</td>\n",
       "      <td>etl.data_lake.partidas_campeonato.update_jogos...</td>\n",
       "      <td>Function started</td>\n",
       "      <td>[]</td>\n",
       "    </tr>\n",
       "    <tr>\n",
       "      <th>2</th>\n",
       "      <td>20/03/2022 03:52:49 PM</td>\n",
       "      <td>INFO</td>\n",
       "      <td>etl.data_lake.partidas_campeonato.partidas_cam...</td>\n",
       "      <td>Function started. &lt;campeonato&gt;=brasil, &lt;tempor...</td>\n",
       "      <td>[]</td>\n",
       "    </tr>\n",
       "    <tr>\n",
       "      <th>3</th>\n",
       "      <td>20/03/2022 03:52:51 PM</td>\n",
       "      <td>SUCCESS</td>\n",
       "      <td>queries.Partida.campeonato</td>\n",
       "      <td>Function executed successfully. &lt;jogo_id&gt;=5982...</td>\n",
       "      <td>[]</td>\n",
       "    </tr>\n",
       "    <tr>\n",
       "      <th>4</th>\n",
       "      <td>20/03/2022 03:52:52 PM</td>\n",
       "      <td>SUCCESS</td>\n",
       "      <td>queries.Partida.nomes_times</td>\n",
       "      <td>Function executed successfully. &lt;jogo_id&gt;=5982...</td>\n",
       "      <td>[]</td>\n",
       "    </tr>\n",
       "    <tr>\n",
       "      <th>...</th>\n",
       "      <td>...</td>\n",
       "      <td>...</td>\n",
       "      <td>...</td>\n",
       "      <td>...</td>\n",
       "      <td>...</td>\n",
       "    </tr>\n",
       "    <tr>\n",
       "      <th>33771</th>\n",
       "      <td>21/03/2022 02:28:54 AM</td>\n",
       "      <td>SUCCESS</td>\n",
       "      <td>queries.Partida.day</td>\n",
       "      <td>Function executed successfully. &lt;jogo_id&gt;=5422...</td>\n",
       "      <td>[]</td>\n",
       "    </tr>\n",
       "    <tr>\n",
       "      <th>33772</th>\n",
       "      <td>21/03/2022 02:28:54 AM</td>\n",
       "      <td>SUCCESS</td>\n",
       "      <td>utils.loop_try.loop_try</td>\n",
       "      <td>Function executed successfully. &lt;f&gt;=&lt;function ...</td>\n",
       "      <td>[]</td>\n",
       "    </tr>\n",
       "    <tr>\n",
       "      <th>33773</th>\n",
       "      <td>21/03/2022 02:28:54 AM</td>\n",
       "      <td>SUCCESS</td>\n",
       "      <td>utils.etl.partidas_campeonato.id_left_right</td>\n",
       "      <td>Function executed successfully. &lt;id_inicial&gt;=5...</td>\n",
       "      <td>[]</td>\n",
       "    </tr>\n",
       "    <tr>\n",
       "      <th>33774</th>\n",
       "      <td>21/03/2022 02:28:54 AM</td>\n",
       "      <td>SUCCESS</td>\n",
       "      <td>etl.data_lake.partidas_campeonato.partidas_cam...</td>\n",
       "      <td>Function executed successfully. Return &lt;min_id...</td>\n",
       "      <td>[]</td>\n",
       "    </tr>\n",
       "    <tr>\n",
       "      <th>33775</th>\n",
       "      <td>21/03/2022 02:28:54 AM</td>\n",
       "      <td>INFO</td>\n",
       "      <td>etl.data_lake.partidas_campeonato.update_parti...</td>\n",
       "      <td>Update league franca | 2019-2020.</td>\n",
       "      <td>[]</td>\n",
       "    </tr>\n",
       "  </tbody>\n",
       "</table>\n",
       "<p>33776 rows × 5 columns</p>\n",
       "</div>"
      ],
      "text/plain": [
       "                         date     type  \\\n",
       "0      20/03/2022 03:52:00 PM  SUCCESS   \n",
       "1      20/03/2022 03:52:49 PM     INFO   \n",
       "2      20/03/2022 03:52:49 PM     INFO   \n",
       "3      20/03/2022 03:52:51 PM  SUCCESS   \n",
       "4      20/03/2022 03:52:52 PM  SUCCESS   \n",
       "...                       ...      ...   \n",
       "33771  21/03/2022 02:28:54 AM  SUCCESS   \n",
       "33772  21/03/2022 02:28:54 AM  SUCCESS   \n",
       "33773  21/03/2022 02:28:54 AM  SUCCESS   \n",
       "33774  21/03/2022 02:28:54 AM  SUCCESS   \n",
       "33775  21/03/2022 02:28:54 AM     INFO   \n",
       "\n",
       "                                                function  \\\n",
       "0                 utils.etl.datalake.initialize_datalake   \n",
       "1      etl.data_lake.partidas_campeonato.update_jogos...   \n",
       "2      etl.data_lake.partidas_campeonato.partidas_cam...   \n",
       "3                             queries.Partida.campeonato   \n",
       "4                            queries.Partida.nomes_times   \n",
       "...                                                  ...   \n",
       "33771                                queries.Partida.day   \n",
       "33772                            utils.loop_try.loop_try   \n",
       "33773        utils.etl.partidas_campeonato.id_left_right   \n",
       "33774  etl.data_lake.partidas_campeonato.partidas_cam...   \n",
       "33775  etl.data_lake.partidas_campeonato.update_parti...   \n",
       "\n",
       "                                            description1 description2  \n",
       "0                         Function executed successfully           []  \n",
       "1                                       Function started           []  \n",
       "2      Function started. <campeonato>=brasil, <tempor...           []  \n",
       "3      Function executed successfully. <jogo_id>=5982...           []  \n",
       "4      Function executed successfully. <jogo_id>=5982...           []  \n",
       "...                                                  ...          ...  \n",
       "33771  Function executed successfully. <jogo_id>=5422...           []  \n",
       "33772  Function executed successfully. <f>=<function ...           []  \n",
       "33773  Function executed successfully. <id_inicial>=5...           []  \n",
       "33774  Function executed successfully. Return <min_id...           []  \n",
       "33775                  Update league franca | 2019-2020.           []  \n",
       "\n",
       "[33776 rows x 5 columns]"
      ]
     },
     "execution_count": 3,
     "metadata": {},
     "output_type": "execute_result"
    }
   ],
   "source": [
    "val.df_log"
   ]
  },
  {
   "cell_type": "code",
   "execution_count": 4,
   "id": "d5d00c81",
   "metadata": {},
   "outputs": [
    {
     "data": {
      "text/plain": [
       "function\n",
       "queries.Partida.campeonato                               117\n",
       "queries.Partida.nomes_times                              103\n",
       "queries.Partida.day                                       97\n",
       "etl.data_lake.partidas_campeonato.partidas_campeonato      6\n",
       "utils.loop_try.loop_try                                    1\n",
       "Name: function, dtype: int64"
      ]
     },
     "execution_count": 4,
     "metadata": {},
     "output_type": "execute_result"
    }
   ],
   "source": [
    "val.df_error"
   ]
  },
  {
   "cell_type": "code",
   "execution_count": 5,
   "id": "deb0e253",
   "metadata": {},
   "outputs": [
    {
     "data": {
      "text/plain": [
       "Series([], Name: function, dtype: int64)"
      ]
     },
     "execution_count": 5,
     "metadata": {},
     "output_type": "execute_result"
    }
   ],
   "source": [
    "val.df_warning"
   ]
  },
  {
   "cell_type": "code",
   "execution_count": 6,
   "id": "5e64d338",
   "metadata": {},
   "outputs": [
    {
     "name": "stdout",
     "output_type": "stream",
     "text": [
      "ETL.DATA_LAKE.PARTIDAS_CAMPEONATO.PARTIDAS_CAMPEONATO\n",
      "---------------------------\n",
      "Unexpected number of lines in returned dataframe (expected amount of league matches): <returned>=340, <expected>=380. Return <min_id_campeonato>=348163, <max_id_campeonato>=348504, <excedentes>=2. <campeonato>=2012/2013 Spanish Primera División, <temporada>=2012-2013, <qt_jogos_rodada>=10. runtime = 25 minutes and 18.0 seconds\n",
      "\n",
      "Unexpected number of teams: <returned>=19 <expected>=20. Return <min_id_campeonato>=348163, <max_id_campeonato>=348504, <excedentes>=2. <campeonato>=2012/2013 Spanish Primera División, <temporada>=2012-2013, <qt_jogos_rodada>=10. runtime = 25 minutes and 18.0 seconds\n",
      "\n",
      "Not all returned teams faced each other: <jogos_faltantes>={'Barcelona': ['Real Sociedad'], 'Real Madrid': ['Valencia']}. Return <min_id_campeonato>=348163, <max_id_campeonato>=348504, <excedentes>=2. <campeonato>=2012/2013 Spanish Primera División, <temporada>=2012-2013, <qt_jogos_rodada>=10. runtime = 25 minutes and 18.0 seconds\n",
      "\n",
      "Unexpected number of lines in returned dataframe (expected amount of league matches): <returned>=340, <expected>=380. Return <min_id_campeonato>=323688, <max_id_campeonato>=324029, <excedentes>=2. <campeonato>=Primeira Divisão Espanhola - 2011/12, <temporada>=2011-2012, <qt_jogos_rodada>=10. runtime = 25 minutes and 23.0 seconds\n",
      "\n",
      "Unexpected number of teams: <returned>=19 <expected>=20. Return <min_id_campeonato>=323688, <max_id_campeonato>=324029, <excedentes>=2. <campeonato>=Primeira Divisão Espanhola - 2011/12, <temporada>=2011-2012, <qt_jogos_rodada>=10. runtime = 25 minutes and 23.0 seconds\n",
      "\n",
      "Not all returned teams faced each other: <jogos_faltantes>={'Osasuna': ['Valencia'], 'Villareal': ['Sporting Gijón']}. Return <min_id_campeonato>=323688, <max_id_campeonato>=324029, <excedentes>=2. <campeonato>=Primeira Divisão Espanhola - 2011/12, <temporada>=2011-2012, <qt_jogos_rodada>=10. runtime = 25 minutes and 23.0 seconds\n",
      "\n",
      "UTILS.LOOP_TRY.LOOP_TRY\n",
      "---------------------------\n",
      "Unexpected error: Could not execute function with default max_iterate. <f>=<function dados_partida.<locals>._try_dados_partida at 0x7f4a6dcfc3a0>,<max_iterate>=50, <time_sleep>=1, <barra_progresso>=False\n",
      "\n"
     ]
    }
   ],
   "source": [
    "for f in val.important_functions:\n",
    "    print(f.upper())\n",
    "    print('---------------------------')\n",
    "    val.print_description_error(f)"
   ]
  },
  {
   "cell_type": "code",
   "execution_count": 7,
   "id": "e7d3a8c7",
   "metadata": {},
   "outputs": [
    {
     "name": "stdout",
     "output_type": "stream",
     "text": [
      "ETL.DATA_LAKE.PARTIDAS_CAMPEONATO.PARTIDAS_CAMPEONATO\n",
      "---------------------------\n",
      "UTILS.LOOP_TRY.LOOP_TRY\n",
      "---------------------------\n"
     ]
    }
   ],
   "source": [
    "for f in val.important_functions:\n",
    "    print(f.upper())\n",
    "    print('---------------------------')\n",
    "    val.print_description_warning(f)"
   ]
  }
 ],
 "metadata": {
  "kernelspec": {
   "display_name": "futebol",
   "language": "python",
   "name": "futebol"
  },
  "language_info": {
   "codemirror_mode": {
    "name": "ipython",
    "version": 3
   },
   "file_extension": ".py",
   "mimetype": "text/x-python",
   "name": "python",
   "nbconvert_exporter": "python",
   "pygments_lexer": "ipython3",
   "version": "3.8.12"
  }
 },
 "nbformat": 4,
 "nbformat_minor": 5
}
