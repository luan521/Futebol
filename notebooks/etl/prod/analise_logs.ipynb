{
 "cells": [
  {
   "cell_type": "code",
   "execution_count": 1,
   "id": "5915a8a3",
   "metadata": {},
   "outputs": [],
   "source": [
    "from cafu.utils import ValidateExecution"
   ]
  },
  {
   "cell_type": "code",
   "execution_count": 8,
   "id": "19d37188",
   "metadata": {},
   "outputs": [],
   "source": [
    "days = ['2022-03-20', '2022-03-21']\n",
    "val = ValidateExecution(days)\n",
    "val.error_types()\n",
    "val.warning_types()"
   ]
  },
  {
   "cell_type": "code",
   "execution_count": 9,
   "id": "d1a961ff",
   "metadata": {},
   "outputs": [
    {
     "data": {
      "text/html": [
       "<div>\n",
       "<style scoped>\n",
       "    .dataframe tbody tr th:only-of-type {\n",
       "        vertical-align: middle;\n",
       "    }\n",
       "\n",
       "    .dataframe tbody tr th {\n",
       "        vertical-align: top;\n",
       "    }\n",
       "\n",
       "    .dataframe thead th {\n",
       "        text-align: right;\n",
       "    }\n",
       "</style>\n",
       "<table border=\"1\" class=\"dataframe\">\n",
       "  <thead>\n",
       "    <tr style=\"text-align: right;\">\n",
       "      <th></th>\n",
       "      <th>date</th>\n",
       "      <th>type</th>\n",
       "      <th>function</th>\n",
       "      <th>description1</th>\n",
       "      <th>description2</th>\n",
       "    </tr>\n",
       "  </thead>\n",
       "  <tbody>\n",
       "    <tr>\n",
       "      <th>0</th>\n",
       "      <td>20/03/2022 03:52:00 PM</td>\n",
       "      <td>SUCCESS</td>\n",
       "      <td>utils.etl.datalake.initialize_datalake</td>\n",
       "      <td>Function executed successfully</td>\n",
       "      <td>[]</td>\n",
       "    </tr>\n",
       "    <tr>\n",
       "      <th>1</th>\n",
       "      <td>20/03/2022 03:52:49 PM</td>\n",
       "      <td>INFO</td>\n",
       "      <td>etl.data_lake.partidas_campeonato.update_jogos...</td>\n",
       "      <td>Function started</td>\n",
       "      <td>[]</td>\n",
       "    </tr>\n",
       "    <tr>\n",
       "      <th>2</th>\n",
       "      <td>20/03/2022 03:52:49 PM</td>\n",
       "      <td>INFO</td>\n",
       "      <td>etl.data_lake.partidas_campeonato.partidas_cam...</td>\n",
       "      <td>Function started. &lt;campeonato&gt;=brasil, &lt;tempor...</td>\n",
       "      <td>[]</td>\n",
       "    </tr>\n",
       "    <tr>\n",
       "      <th>3</th>\n",
       "      <td>20/03/2022 03:52:51 PM</td>\n",
       "      <td>SUCCESS</td>\n",
       "      <td>queries.Partida.campeonato</td>\n",
       "      <td>Function executed successfully. &lt;jogo_id&gt;=5982...</td>\n",
       "      <td>[]</td>\n",
       "    </tr>\n",
       "    <tr>\n",
       "      <th>4</th>\n",
       "      <td>20/03/2022 03:52:52 PM</td>\n",
       "      <td>SUCCESS</td>\n",
       "      <td>queries.Partida.nomes_times</td>\n",
       "      <td>Function executed successfully. &lt;jogo_id&gt;=5982...</td>\n",
       "      <td>[]</td>\n",
       "    </tr>\n",
       "    <tr>\n",
       "      <th>...</th>\n",
       "      <td>...</td>\n",
       "      <td>...</td>\n",
       "      <td>...</td>\n",
       "      <td>...</td>\n",
       "      <td>...</td>\n",
       "    </tr>\n",
       "    <tr>\n",
       "      <th>57774</th>\n",
       "      <td>22/03/2022 04:07:04 AM</td>\n",
       "      <td>ERROR</td>\n",
       "      <td>etl.data_lake.partidas_campeonato.update_partidas</td>\n",
       "      <td>Could not create dataframe df_minuto_a_minuto....</td>\n",
       "      <td>[22/03/2022 04:07:04 AM 'NoneType' object is n...</td>\n",
       "    </tr>\n",
       "    <tr>\n",
       "      <th>57775</th>\n",
       "      <td>22/03/2022 04:07:05 AM</td>\n",
       "      <td>SUCCESS</td>\n",
       "      <td>utils.queries.webdriver_chrome.WebdriverChrome</td>\n",
       "      <td>Chromedriver started successfully. &lt;start_webd...</td>\n",
       "      <td>[]</td>\n",
       "    </tr>\n",
       "    <tr>\n",
       "      <th>57776</th>\n",
       "      <td>22/03/2022 04:07:08 AM</td>\n",
       "      <td>SUCCESS</td>\n",
       "      <td>utils.queries.webdriver_chrome.WebdriverChrome...</td>\n",
       "      <td>Function executed successfully. &lt;jogo_id&gt;=5072...</td>\n",
       "      <td>[]</td>\n",
       "    </tr>\n",
       "    <tr>\n",
       "      <th>57777</th>\n",
       "      <td>22/03/2022 04:07:08 AM</td>\n",
       "      <td>ERROR</td>\n",
       "      <td>queries.Partida.__init__</td>\n",
       "      <td>Unexpected error: Could find date by method fi...</td>\n",
       "      <td>[22/03/2022 04:07:08 AM Message: no such eleme...</td>\n",
       "    </tr>\n",
       "    <tr>\n",
       "      <th>57778</th>\n",
       "      <td>22/03/2022 04:07:08 AM</td>\n",
       "      <td>ERROR</td>\n",
       "      <td>queries.Partida.__init__</td>\n",
       "      <td>Unexpected error: Could not find status by met...</td>\n",
       "      <td>[22/03/2022 04:07:08 AM Message: no such eleme...</td>\n",
       "    </tr>\n",
       "  </tbody>\n",
       "</table>\n",
       "<p>57779 rows × 5 columns</p>\n",
       "</div>"
      ],
      "text/plain": [
       "                         date     type  \\\n",
       "0      20/03/2022 03:52:00 PM  SUCCESS   \n",
       "1      20/03/2022 03:52:49 PM     INFO   \n",
       "2      20/03/2022 03:52:49 PM     INFO   \n",
       "3      20/03/2022 03:52:51 PM  SUCCESS   \n",
       "4      20/03/2022 03:52:52 PM  SUCCESS   \n",
       "...                       ...      ...   \n",
       "57774  22/03/2022 04:07:04 AM    ERROR   \n",
       "57775  22/03/2022 04:07:05 AM  SUCCESS   \n",
       "57776  22/03/2022 04:07:08 AM  SUCCESS   \n",
       "57777  22/03/2022 04:07:08 AM    ERROR   \n",
       "57778  22/03/2022 04:07:08 AM    ERROR   \n",
       "\n",
       "                                                function  \\\n",
       "0                 utils.etl.datalake.initialize_datalake   \n",
       "1      etl.data_lake.partidas_campeonato.update_jogos...   \n",
       "2      etl.data_lake.partidas_campeonato.partidas_cam...   \n",
       "3                             queries.Partida.campeonato   \n",
       "4                            queries.Partida.nomes_times   \n",
       "...                                                  ...   \n",
       "57774  etl.data_lake.partidas_campeonato.update_partidas   \n",
       "57775     utils.queries.webdriver_chrome.WebdriverChrome   \n",
       "57776  utils.queries.webdriver_chrome.WebdriverChrome...   \n",
       "57777                           queries.Partida.__init__   \n",
       "57778                           queries.Partida.__init__   \n",
       "\n",
       "                                            description1  \\\n",
       "0                         Function executed successfully   \n",
       "1                                       Function started   \n",
       "2      Function started. <campeonato>=brasil, <tempor...   \n",
       "3      Function executed successfully. <jogo_id>=5982...   \n",
       "4      Function executed successfully. <jogo_id>=5982...   \n",
       "...                                                  ...   \n",
       "57774  Could not create dataframe df_minuto_a_minuto....   \n",
       "57775  Chromedriver started successfully. <start_webd...   \n",
       "57776  Function executed successfully. <jogo_id>=5072...   \n",
       "57777  Unexpected error: Could find date by method fi...   \n",
       "57778  Unexpected error: Could not find status by met...   \n",
       "\n",
       "                                            description2  \n",
       "0                                                     []  \n",
       "1                                                     []  \n",
       "2                                                     []  \n",
       "3                                                     []  \n",
       "4                                                     []  \n",
       "...                                                  ...  \n",
       "57774  [22/03/2022 04:07:04 AM 'NoneType' object is n...  \n",
       "57775                                                 []  \n",
       "57776                                                 []  \n",
       "57777  [22/03/2022 04:07:08 AM Message: no such eleme...  \n",
       "57778  [22/03/2022 04:07:08 AM Message: no such eleme...  \n",
       "\n",
       "[57779 rows x 5 columns]"
      ]
     },
     "execution_count": 9,
     "metadata": {},
     "output_type": "execute_result"
    }
   ],
   "source": [
    "val.df_log"
   ]
  },
  {
   "cell_type": "code",
   "execution_count": 4,
   "id": "d5d00c81",
   "metadata": {},
   "outputs": [
    {
     "data": {
      "text/plain": [
       "function\n",
       "queries.Partida.campeonato                               117\n",
       "queries.Partida.nomes_times                              103\n",
       "queries.Partida.day                                       97\n",
       "etl.data_lake.partidas_campeonato.partidas_campeonato      6\n",
       "utils.loop_try.loop_try                                    1\n",
       "Name: function, dtype: int64"
      ]
     },
     "execution_count": 4,
     "metadata": {},
     "output_type": "execute_result"
    }
   ],
   "source": [
    "val.df_error"
   ]
  },
  {
   "cell_type": "code",
   "execution_count": 5,
   "id": "deb0e253",
   "metadata": {},
   "outputs": [
    {
     "data": {
      "text/plain": [
       "Series([], Name: function, dtype: int64)"
      ]
     },
     "execution_count": 5,
     "metadata": {},
     "output_type": "execute_result"
    }
   ],
   "source": [
    "val.df_warning"
   ]
  },
  {
   "cell_type": "code",
   "execution_count": 6,
   "id": "5e64d338",
   "metadata": {},
   "outputs": [
    {
     "name": "stdout",
     "output_type": "stream",
     "text": [
      "ETL.DATA_LAKE.PARTIDAS_CAMPEONATO.PARTIDAS_CAMPEONATO\n",
      "---------------------------\n",
      "Unexpected number of lines in returned dataframe (expected amount of league matches): <returned>=340, <expected>=380. Return <min_id_campeonato>=348163, <max_id_campeonato>=348504, <excedentes>=2. <campeonato>=2012/2013 Spanish Primera División, <temporada>=2012-2013, <qt_jogos_rodada>=10. runtime = 25 minutes and 18.0 seconds\n",
      "\n",
      "Unexpected number of teams: <returned>=19 <expected>=20. Return <min_id_campeonato>=348163, <max_id_campeonato>=348504, <excedentes>=2. <campeonato>=2012/2013 Spanish Primera División, <temporada>=2012-2013, <qt_jogos_rodada>=10. runtime = 25 minutes and 18.0 seconds\n",
      "\n",
      "Not all returned teams faced each other: <jogos_faltantes>={'Barcelona': ['Real Sociedad'], 'Real Madrid': ['Valencia']}. Return <min_id_campeonato>=348163, <max_id_campeonato>=348504, <excedentes>=2. <campeonato>=2012/2013 Spanish Primera División, <temporada>=2012-2013, <qt_jogos_rodada>=10. runtime = 25 minutes and 18.0 seconds\n",
      "\n",
      "Unexpected number of lines in returned dataframe (expected amount of league matches): <returned>=340, <expected>=380. Return <min_id_campeonato>=323688, <max_id_campeonato>=324029, <excedentes>=2. <campeonato>=Primeira Divisão Espanhola - 2011/12, <temporada>=2011-2012, <qt_jogos_rodada>=10. runtime = 25 minutes and 23.0 seconds\n",
      "\n",
      "Unexpected number of teams: <returned>=19 <expected>=20. Return <min_id_campeonato>=323688, <max_id_campeonato>=324029, <excedentes>=2. <campeonato>=Primeira Divisão Espanhola - 2011/12, <temporada>=2011-2012, <qt_jogos_rodada>=10. runtime = 25 minutes and 23.0 seconds\n",
      "\n",
      "Not all returned teams faced each other: <jogos_faltantes>={'Osasuna': ['Valencia'], 'Villareal': ['Sporting Gijón']}. Return <min_id_campeonato>=323688, <max_id_campeonato>=324029, <excedentes>=2. <campeonato>=Primeira Divisão Espanhola - 2011/12, <temporada>=2011-2012, <qt_jogos_rodada>=10. runtime = 25 minutes and 23.0 seconds\n",
      "\n",
      "UTILS.LOOP_TRY.LOOP_TRY\n",
      "---------------------------\n",
      "Unexpected error: Could not execute function with default max_iterate. <f>=<function dados_partida.<locals>._try_dados_partida at 0x7f4a6dcfc3a0>,<max_iterate>=50, <time_sleep>=1, <barra_progresso>=False\n",
      "\n"
     ]
    }
   ],
   "source": [
    "for f in val.important_functions:\n",
    "    print(f.upper())\n",
    "    print('---------------------------')\n",
    "    val.print_description_error(f)"
   ]
  },
  {
   "cell_type": "code",
   "execution_count": 7,
   "id": "e7d3a8c7",
   "metadata": {},
   "outputs": [
    {
     "name": "stdout",
     "output_type": "stream",
     "text": [
      "ETL.DATA_LAKE.PARTIDAS_CAMPEONATO.PARTIDAS_CAMPEONATO\n",
      "---------------------------\n",
      "UTILS.LOOP_TRY.LOOP_TRY\n",
      "---------------------------\n"
     ]
    }
   ],
   "source": [
    "for f in val.important_functions:\n",
    "    print(f.upper())\n",
    "    print('---------------------------')\n",
    "    val.print_description_warning(f)"
   ]
  }
 ],
 "metadata": {
  "kernelspec": {
   "display_name": "futebol",
   "language": "python",
   "name": "futebol"
  },
  "language_info": {
   "codemirror_mode": {
    "name": "ipython",
    "version": 3
   },
   "file_extension": ".py",
   "mimetype": "text/x-python",
   "name": "python",
   "nbconvert_exporter": "python",
   "pygments_lexer": "ipython3",
   "version": "3.8.12"
  }
 },
 "nbformat": 4,
 "nbformat_minor": 5
}
